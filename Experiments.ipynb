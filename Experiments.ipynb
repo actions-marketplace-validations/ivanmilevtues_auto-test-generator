{
 "cells": [
  {
   "cell_type": "code",
   "execution_count": 1,
   "outputs": [],
   "source": [
    "import ast\n",
    "\n",
    "import openai\n",
    "import os\n",
    "\n",
    "from model.message_preparation import MessageBuilder\n",
    "from history_scanner.GitHistoryDataSetParser import GitHistoryDataSetParser\n",
    "\n",
    "openai.api_key = os.getenv(\"OPENAI_API_KEY\")"
   ],
   "metadata": {
    "collapsed": false,
    "pycharm": {
     "name": "#%%\n"
    }
   }
  },
  {
   "cell_type": "code",
   "execution_count": 2,
   "outputs": [],
   "source": [
    "parser = GitHistoryDataSetParser(\"./\")\n",
    "data = parser.load_data(\"history_scanner/test_save.dat\")\n",
    "message_builder = MessageBuilder(data[-3:], train=1)"
   ],
   "metadata": {
    "collapsed": false,
    "pycharm": {
     "name": "#%%\n"
    }
   }
  },
  {
   "cell_type": "code",
   "execution_count": 63,
   "outputs": [],
   "source": [
    "messages = list(message_builder.get_train_messages())"
   ],
   "metadata": {
    "collapsed": false,
    "pycharm": {
     "name": "#%%\n"
    }
   }
  },
  {
   "cell_type": "code",
   "execution_count": 64,
   "outputs": [
    {
     "data": {
      "text/plain": "'\\n### Python3\\n#\\n# Module(body=[Import(names=[alias(name=\\'errno\\')]), Import(names=[alias(name=\\'json\\')]), Import(names=[alias(name=\\'os\\')]), Import(names=[alias(name=\\'types\\')]), Import(names=[alias(name=\\'typing\\', asname=\\'t\\')]), ImportFrom(module=\\'werkzeug.utils\\', names=[alias(name=\\'import_string\\')], level=0), FunctionDef(name=\\'_json_loads\\', args=arguments(posonlyargs=[], args=[arg(arg=\\'raw\\', annotation=Subscript(value=Attribute(value=Name(id=\\'t\\', ctx=Load()), attr=\\'Union\\', ctx=Load()), slice=Tuple(elts=[Name(id=\\'str\\', ctx=Load()), Name(id=\\'bytes\\', ctx=Load())], ctx=Load()), ctx=Load()))], kwonlyargs=[], kw_defaults=[], defaults=[]), body=[Try(body=[Return(value=Call(func=Attribute(value=Name(id=\\'json\\', ctx=Load()), attr=\\'loads\\', ctx=Load()), args=[Name(id=\\'raw\\', ctx=Load())], keywords=[]))], handlers=[ExceptHandler(type=Attribute(value=Name(id=\\'json\\', ctx=Load()), attr=\\'JSONDecodeError\\', ctx=Load()), body=[Return(value=Name(id=\\'raw\\', ctx=Load()))])], orelse=[], finalbody=[])], decorator_list=[], returns=Attribute(value=Name(id=\\'t\\', ctx=Load()), attr=\\'Any\\', ctx=Load())), ClassDef(name=\\'ConfigAttribute\\', bases=[], keywords=[], body=[Expr(value=Constant(value=\\'Makes an attribute forward to the config\\')), FunctionDef(name=\\'__init__\\', args=arguments(posonlyargs=[], args=[arg(arg=\\'self\\'), arg(arg=\\'name\\', annotation=Name(id=\\'str\\', ctx=Load())), arg(arg=\\'get_converter\\', annotation=Subscript(value=Attribute(value=Name(id=\\'t\\', ctx=Load()), attr=\\'Optional\\', ctx=Load()), slice=Attribute(value=Name(id=\\'t\\', ctx=Load()), attr=\\'Callable\\', ctx=Load()), ctx=Load()))], kwonlyargs=[], kw_defaults=[], defaults=[Constant(value=None)]), body=[Assign(targets=[Attribute(value=Name(id=\\'self\\', ctx=Load()), attr=\\'__name__\\', ctx=Store())], value=Name(id=\\'name\\', ctx=Load())), Assign(targets=[Attribute(value=Name(id=\\'self\\', ctx=Load()), attr=\\'get_converter\\', ctx=Store())], value=Name(id=\\'get_converter\\', ctx=Load()))], decorator_list=[], returns=Constant(value=None)), FunctionDef(name=\\'__get__\\', args=arguments(posonlyargs=[], args=[arg(arg=\\'self\\'), arg(arg=\\'obj\\', annotation=Attribute(value=Name(id=\\'t\\', ctx=Load()), attr=\\'Any\\', ctx=Load())), arg(arg=\\'owner\\', annotation=Attribute(value=Name(id=\\'t\\', ctx=Load()), attr=\\'Any\\', ctx=Load()))], kwonlyargs=[], kw_defaults=[], defaults=[Constant(value=None)]), body=[If(test=Compare(left=Name(id=\\'obj\\', ctx=Load()), ops=[Is()], comparators=[Constant(value=None)]), body=[Return(value=Name(id=\\'self\\', ctx=Load()))], orelse=[]), Assign(targets=[Name(id=\\'rv\\', ctx=Store())], value=Subscript(value=Attribute(value=Name(id=\\'obj\\', ctx=Load()), attr=\\'config\\', ctx=Load()), slice=Attribute(value=Name(id=\\'self\\', ctx=Load()), attr=\\'__name__\\', ctx=Load()), ctx=Load())), If(test=Compare(left=Attribute(value=Name(id=\\'self\\', ctx=Load()), attr=\\'get_converter\\', ctx=Load()), ops=[IsNot()], comparators=[Constant(value=None)]), body=[Assign(targets=[Name(id=\\'rv\\', ctx=Store())], value=Call(func=Attribute(value=Name(id=\\'self\\', ctx=Load()), attr=\\'get_converter\\', ctx=Load()), args=[Name(id=\\'rv\\', ctx=Load())], keywords=[]))], orelse=[]), Return(value=Name(id=\\'rv\\', ctx=Load()))], decorator_list=[], returns=Attribute(value=Name(id=\\'t\\', ctx=Load()), attr=\\'Any\\', ctx=Load())), FunctionDef(name=\\'__set__\\', args=arguments(posonlyargs=[], args=[arg(arg=\\'self\\'), arg(arg=\\'obj\\', annotation=Attribute(value=Name(id=\\'t\\', ctx=Load()), attr=\\'Any\\', ctx=Load())), arg(arg=\\'value\\', annotation=Attribute(value=Name(id=\\'t\\', ctx=Load()), attr=\\'Any\\', ctx=Load()))], kwonlyargs=[], kw_defaults=[], defaults=[]), body=[Assign(targets=[Subscript(value=Attribute(value=Name(id=\\'obj\\', ctx=Load()), attr=\\'config\\', ctx=Load()), slice=Attribute(value=Name(id=\\'self\\', ctx=Load()), attr=\\'__name__\\', ctx=Load()), ctx=Store())], value=Name(id=\\'value\\', ctx=Load()))], decorator_list=[], returns=Constant(value=None))], decorator_list=[]), ClassDef(name=\\'Config\\', bases=[Name(id=\\'dict\\', ctx=Load())], keywords=[], body=[Expr(value=Constant(value=\"Works exactly like a dict but provides ways to fill it from files\\\\n    or\\n#\\n### Generate tests for more from_prefixed_env features\\n\\n* support nested dict access with \"__\" separator\\n* don\\'t specify separator in prefix\\n* catch exceptions for any loads function\\nclass Test\\n        '"
     },
     "execution_count": 64,
     "metadata": {},
     "output_type": "execute_result"
    }
   ],
   "source": [
    "messages[1]"
   ],
   "metadata": {
    "collapsed": false,
    "pycharm": {
     "name": "#%%\n"
    }
   }
  },
  {
   "cell_type": "code",
   "execution_count": 65,
   "outputs": [
    {
     "data": {
      "text/plain": "<OpenAIObject text_completion id=cmpl-5BMKPM4yJy3qOhBSAqElpQxrQJSx5 at 0x1ba36f55310> JSON: {\n  \"choices\": [\n    {\n      \"finish_reason\": \"length\",\n      \"index\": 0,\n      \"logprobs\": null,\n      \"text\": \"def test_from_prefixed_env(self):\\n            config\"\n    }\n  ],\n  \"created\": 1653389121,\n  \"id\": \"cmpl-5BMKPM4yJy3qOhBSAqElpQxrQJSx5\",\n  \"model\": \"code-davinci-002\",\n  \"object\": \"text_completion\"\n}"
     },
     "execution_count": 65,
     "metadata": {},
     "output_type": "execute_result"
    }
   ],
   "source": [
    "openai.Completion.create(\n",
    "            engine=\"code-davinci-002\",\n",
    "            prompt=f\"{messages[1]}\",\n",
    "            temperature=0,\n",
    "            top_p=1.0,\n",
    "            frequency_penalty=0.0,\n",
    "            presence_penalty=0.0,\n",
    "            stop=[\"#\", \"\\\"\\\"\\\"\"]\n",
    "        )\n"
   ],
   "metadata": {
    "collapsed": false,
    "pycharm": {
     "name": "#%%\n"
    }
   }
  },
  {
   "cell_type": "code",
   "execution_count": 67,
   "outputs": [
    {
     "name": "stdout",
     "output_type": "stream",
     "text": [
      "\n",
      "### Python3\n",
      "#\n",
      "# Module(body=[Import(names=[alias(name='errno')]), Import(names=[alias(name='json')]), Import(names=[alias(name='os')]), Import(names=[alias(name='types')]), Import(names=[alias(name='typing', asname='t')]), ImportFrom(module='werkzeug.utils', names=[alias(name='import_string')], level=0), FunctionDef(name='_json_loads', args=arguments(posonlyargs=[], args=[arg(arg='raw', annotation=Subscript(value=Attribute(value=Name(id='t', ctx=Load()), attr='Union', ctx=Load()), slice=Tuple(elts=[Name(id='str', ctx=Load()), Name(id='bytes', ctx=Load())], ctx=Load()), ctx=Load()))], kwonlyargs=[], kw_defaults=[], defaults=[]), body=[Try(body=[Return(value=Call(func=Attribute(value=Name(id='json', ctx=Load()), attr='loads', ctx=Load()), args=[Name(id='raw', ctx=Load())], keywords=[]))], handlers=[ExceptHandler(type=Attribute(value=Name(id='json', ctx=Load()), attr='JSONDecodeError', ctx=Load()), body=[Return(value=Name(id='raw', ctx=Load()))])], orelse=[], finalbody=[])], decorator_list=[], returns=Attribute(value=Name(id='t', ctx=Load()), attr='Any', ctx=Load())), ClassDef(name='ConfigAttribute', bases=[], keywords=[], body=[Expr(value=Constant(value='Makes an attribute forward to the config')), FunctionDef(name='__init__', args=arguments(posonlyargs=[], args=[arg(arg='self'), arg(arg='name', annotation=Name(id='str', ctx=Load())), arg(arg='get_converter', annotation=Subscript(value=Attribute(value=Name(id='t', ctx=Load()), attr='Optional', ctx=Load()), slice=Attribute(value=Name(id='t', ctx=Load()), attr='Callable', ctx=Load()), ctx=Load()))], kwonlyargs=[], kw_defaults=[], defaults=[Constant(value=None)]), body=[Assign(targets=[Attribute(value=Name(id='self', ctx=Load()), attr='__name__', ctx=Store())], value=Name(id='name', ctx=Load())), Assign(targets=[Attribute(value=Name(id='self', ctx=Load()), attr='get_converter', ctx=Store())], value=Name(id='get_converter', ctx=Load()))], decorator_list=[], returns=Constant(value=None)), FunctionDef(name='__get__', args=arguments(posonlyargs=[], args=[arg(arg='self'), arg(arg='obj', annotation=Attribute(value=Name(id='t', ctx=Load()), attr='Any', ctx=Load())), arg(arg='owner', annotation=Attribute(value=Name(id='t', ctx=Load()), attr='Any', ctx=Load()))], kwonlyargs=[], kw_defaults=[], defaults=[Constant(value=None)]), body=[If(test=Compare(left=Name(id='obj', ctx=Load()), ops=[Is()], comparators=[Constant(value=None)]), body=[Return(value=Name(id='self', ctx=Load()))], orelse=[]), Assign(targets=[Name(id='rv', ctx=Store())], value=Subscript(value=Attribute(value=Name(id='obj', ctx=Load()), attr='config', ctx=Load()), slice=Attribute(value=Name(id='self', ctx=Load()), attr='__name__', ctx=Load()), ctx=Load())), If(test=Compare(left=Attribute(value=Name(id='self', ctx=Load()), attr='get_converter', ctx=Load()), ops=[IsNot()], comparators=[Constant(value=None)]), body=[Assign(targets=[Name(id='rv', ctx=Store())], value=Call(func=Attribute(value=Name(id='self', ctx=Load()), attr='get_converter', ctx=Load()), args=[Name(id='rv', ctx=Load())], keywords=[]))], orelse=[]), Return(value=Name(id='rv', ctx=Load()))], decorator_list=[], returns=Attribute(value=Name(id='t', ctx=Load()), attr='Any', ctx=Load())), FunctionDef(name='__set__', args=arguments(posonlyargs=[], args=[arg(arg='self'), arg(arg='obj', annotation=Attribute(value=Name(id='t', ctx=Load()), attr='Any', ctx=Load())), arg(arg='value', annotation=Attribute(value=Name(id='t', ctx=Load()), attr='Any', ctx=Load()))], kwonlyargs=[], kw_defaults=[], defaults=[]), body=[Assign(targets=[Subscript(value=Attribute(value=Name(id='obj', ctx=Load()), attr='config', ctx=Load()), slice=Attribute(value=Name(id='self', ctx=Load()), attr='__name__', ctx=Load()), ctx=Store())], value=Name(id='value', ctx=Load()))], decorator_list=[], returns=Constant(value=None))], decorator_list=[]), ClassDef(name='Config', bases=[Name(id='dict', ctx=Load())], keywords=[], body=[Expr(value=Constant(value=\"Works exactly like a dict but provides ways to fill it from files\\n    or\n",
      "#\n",
      "### Generate tests for more from_prefixed_env features\n",
      "\n",
      "* support nested dict access with \"__\" separator\n",
      "* don't specify separator in prefix\n",
      "* catch exceptions for any loads function\n",
      "class Test\n",
      "        \n"
     ]
    }
   ],
   "source": [
    "print(messages[1])"
   ],
   "metadata": {
    "collapsed": false,
    "pycharm": {
     "name": "#%%\n"
    }
   }
  },
  {
   "cell_type": "code",
   "execution_count": 68,
   "outputs": [],
   "source": [
    "message = \"\"\"\n",
    "### Python3\n",
    "#\n",
    "# Module(body=[Import(names=[alias(name='errno')]), Import(names=[alias(name='json')]), Import(names=[alias(name='os')]), Import(names=[alias(name='types')]), Import(names=[alias(name='typing', asname='t')]), ImportFrom(module='werkzeug.utils', names=[alias(name='import_string')], level=0), FunctionDef(name='_json_loads', args=arguments(posonlyargs=[], args=[arg(arg='raw', annotation=Subscript(value=Attribute(value=Name(id='t', ctx=Load()), attr='Union', ctx=Load()), slice=Tuple(elts=[Name(id='str', ctx=Load()), Name(id='bytes', ctx=Load())], ctx=Load()), ctx=Load()))], kwonlyargs=[], kw_defaults=[], defaults=[]), body=[Try(body=[Return(value=Call(func=Attribute(value=Name(id='json', ctx=Load()), attr='loads', ctx=Load()), args=[Name(id='raw', ctx=Load())], keywords=[]))], handlers=[ExceptHandler(type=Attribute(value=Name(id='json', ctx=Load()), attr='JSONDecodeError', ctx=Load()), body=[Return(value=Name(id='raw', ctx=Load()))])], orelse=[], finalbody=[])], decorator_list=[], returns=Attribute(value=Name(id='t', ctx=Load()), attr='Any', ctx=Load())), ClassDef(name='ConfigAttribute', bases=[], keywords=[], body=[Expr(value=Constant(value='Makes an attribute forward to the config')), FunctionDef(name='__init__', args=arguments(posonlyargs=[], args=[arg(arg='self'), arg(arg='name', annotation=Name(id='str', ctx=Load())), arg(arg='get_converter', annotation=Subscript(value=Attribute(value=Name(id='t', ctx=Load()), attr='Optional', ctx=Load()), slice=Attribute(value=Name(id='t', ctx=Load()), attr='Callable', ctx=Load()), ctx=Load()))], kwonlyargs=[], kw_defaults=[], defaults=[Constant(value=None)]), body=[Assign(targets=[Attribute(value=Name(id='self', ctx=Load()), attr='__name__', ctx=Store())], value=Name(id='name', ctx=Load())), Assign(targets=[Attribute(value=Name(id='self', ctx=Load()), attr='get_converter', ctx=Store())], value=Name(id='get_converter', ctx=Load()))], decorator_list=[], returns=Constant(value=None)), FunctionDef(name='__get__', args=arguments(posonlyargs=[], args=[arg(arg='self'), arg(arg='obj', annotation=Attribute(value=Name(id='t', ctx=Load()), attr='Any', ctx=Load())), arg(arg='owner', annotation=Attribute(value=Name(id='t', ctx=Load()), attr='Any', ctx=Load()))], kwonlyargs=[], kw_defaults=[], defaults=[Constant(value=None)]), body=[If(test=Compare(left=Name(id='obj', ctx=Load()), ops=[Is()], comparators=[Constant(value=None)]), body=[Return(value=Name(id='self', ctx=Load()))], orelse=[]), Assign(targets=[Name(id='rv', ctx=Store())], value=Subscript(value=Attribute(value=Name(id='obj', ctx=Load()), attr='config', ctx=Load()), slice=Attribute(value=Name(id='self', ctx=Load()), attr='__name__', ctx=Load()), ctx=Load())), If(test=Compare(left=Attribute(value=Name(id='self', ctx=Load()), attr='get_converter', ctx=Load()), ops=[IsNot()], comparators=[Constant(value=None)]), body=[Assign(targets=[Name(id='rv', ctx=Store())], value=Call(func=Attribute(value=Name(id='self', ctx=Load()), attr='get_converter', ctx=Load()), args=[Name(id='rv', ctx=Load())], keywords=[]))], orelse=[]), Return(value=Name(id='rv', ctx=Load()))], decorator_list=[], returns=Attribute(value=Name(id='t', ctx=Load()), attr='Any', ctx=Load())), FunctionDef(name='__set__', args=arguments(posonlyargs=[], args=[arg(arg='self'), arg(arg='obj', annotation=Attribute(value=Name(id='t', ctx=Load()), attr='Any', ctx=Load())), arg(arg='value', annotation=Attribute(value=Name(id='t', ctx=Load()), attr='Any', ctx=Load()))], kwonlyargs=[], kw_defaults=[], defaults=[]), body=[Assign(targets=[Subscript(value=Attribute(value=Name(id='obj', ctx=Load()), attr='config', ctx=Load()), slice=Attribute(value=Name(id='self', ctx=Load()), attr='__name__', ctx=Load()), ctx=Store())], value=Name(id='value', ctx=Load()))], decorator_list=[], returns=Constant(value=None))], decorator_list=[]), ClassDef(name='Config', bases=[Name(id='dict', ctx=Load())], keywords=[], body=[Expr(value=Constant(value=\"Works exactly like a dict but provides ways to fill it from files\\n    or\n",
    "### Generate tests for class ConfigAttributes public methods.\n",
    "def\n",
    "\"\"\""
   ],
   "metadata": {
    "collapsed": false,
    "pycharm": {
     "name": "#%%\n"
    }
   }
  },
  {
   "cell_type": "markdown",
   "source": [
    "# Results by running the code above:\n",
    "\\#\\#\\# Generate tests for class ConfigAttributes public methods.\\ndef\\n###\""
   ],
   "metadata": {
    "collapsed": false,
    "pycharm": {
     "name": "#%% md\n"
    }
   }
  },
  {
   "cell_type": "code",
   "execution_count": 86,
   "outputs": [],
   "source": [
    "test_msg = '''\n",
    "import errno\n",
    "import json\n",
    "import os\n",
    "import types\n",
    "import typing as t\n",
    "\n",
    "from werkzeug.utils import import_string\n",
    "\n",
    "\n",
    "def _json_loads(raw: t.Union[str, bytes]) -> t.Any:\n",
    "    try:\n",
    "        return json.loads(raw)\n",
    "    except json.JSONDecodeError:\n",
    "        return raw\n",
    "\n",
    "\n",
    "class ConfigAttribute:\n",
    "    def __init__(self, name: str, get_converter: t.Optional[t.Callable] = None) -> None:\n",
    "        self.__name__ = name\n",
    "        self.get_converter = get_converter\n",
    "\n",
    "    def __get__(self, obj: t.Any, owner: t.Any = None) -> t.Any:\n",
    "        if obj is None:\n",
    "            return self\n",
    "        rv = obj.config[self.__name__]\n",
    "        if self.get_converter is not None:\n",
    "            rv = self.get_converter(rv)\n",
    "        return rv\n",
    "\n",
    "    def __set__(self, obj: t.Any, value: t.Any) -> None:\n",
    "        obj.config[self.__name__] = value\n",
    "\n",
    "\n",
    "class Config(dict):\n",
    "    def __init__(self, root_path: str, defaults: t.Optional[dict] = None) -> None:\n",
    "        super().__init__(defaults or {})\n",
    "        self.root_path = root_path\n",
    "\n",
    "    def from_envvar(self, variable_name: str, silent: bool = False) -> bool:\n",
    "        rv = os.environ.get(variable_name)\n",
    "        if not rv:\n",
    "            if silent:\n",
    "                return False\n",
    "            raise RuntimeError(\n",
    "                f\"The environment variable {variable_name!r} is not set\"\n",
    "                \" and as such configuration could not be loaded. Set\"\n",
    "                \" this variable and make it point to a configuration\"\n",
    "                \" file\"\n",
    "            )\n",
    "        return self.from_pyfile(rv, silent=silent)\n",
    "\n",
    "    def from_prefixed_env(\n",
    "        self, prefix: str = \"FLASK\", *, loads: t.Callable[[str], t.Any] = json.loads\n",
    "    ) -> bool:\n",
    "        prefix = f\"{prefix}_\"\n",
    "        len_prefix = len(prefix)\n",
    "\n",
    "        for key in sorted(os.environ):\n",
    "            if not key.startswith(prefix):\n",
    "                continue\n",
    "\n",
    "            value = os.environ[key]\n",
    "\n",
    "            try:\n",
    "                value = loads(value)\n",
    "            except Exception:\n",
    "                # Keep the value as a string if loading failed.\n",
    "                pass\n",
    "\n",
    "            # Change to key.removeprefix(prefix) on Python >= 3.9.\n",
    "            key = key[len_prefix:]\n",
    "\n",
    "            if \"__\" not in key:\n",
    "                # A non-nested key, set directly.\n",
    "                self[key] = value\n",
    "                continue\n",
    "\n",
    "            # Traverse nested dictionaries with keys separated by \"__\".\n",
    "            current = self\n",
    "            *parts, tail = key.split(\"__\")\n",
    "\n",
    "            for part in parts:\n",
    "                # If an intermediate dict does not exist, create it.\n",
    "                if part not in current:\n",
    "                    current[part] = {}\n",
    "\n",
    "                current = current[part]\n",
    "\n",
    "            current[tail] = value\n",
    "\n",
    "        return True\n",
    "\n",
    "    def from_pyfile(self, filename: str, silent: bool = False) -> bool:\n",
    "        filename = os.path.join(self.root_path, filename)\n",
    "        d = types.ModuleType(\"config\")\n",
    "        d.__file__ = filename\n",
    "        try:\n",
    "            with open(filename, mode=\"rb\") as config_file:\n",
    "                exec(compile(config_file.read(), filename, \"exec\"), d.__dict__)\n",
    "        except OSError as e:\n",
    "            if silent and e.errno in (errno.ENOENT, errno.EISDIR, errno.ENOTDIR):\n",
    "                return False\n",
    "            e.strerror = f\"Unable to load configuration file ({e.strerror})\"\n",
    "            raise\n",
    "        self.from_object(d)\n",
    "        return True\n",
    "\n",
    "    def from_object(self, obj: t.Union[object, str]) -> None:\n",
    "        if isinstance(obj, str):\n",
    "            obj = import_string(obj)\n",
    "        for key in dir(obj):\n",
    "            if key.isupper():\n",
    "                self[key] = getattr(obj, key)\n",
    "\n",
    "    def from_file(\n",
    "        self,\n",
    "        filename: str,\n",
    "        load: t.Callable[[t.IO[t.Any]], t.Mapping],\n",
    "        silent: bool = False,\n",
    "    ) -> bool:\n",
    "        filename = os.path.join(self.root_path, filename)\n",
    "\n",
    "        try:\n",
    "            with open(filename) as f:\n",
    "                obj = load(f)\n",
    "        except OSError as e:\n",
    "            if silent and e.errno in (errno.ENOENT, errno.EISDIR):\n",
    "                return False\n",
    "\n",
    "            e.strerror = f\"Unable to load configuration file ({e.strerror})\"\n",
    "            raise\n",
    "\n",
    "        return self.from_mapping(obj)\n",
    "\n",
    "    def from_mapping(\n",
    "        self, mapping: t.Optional[t.Mapping[str, t.Any]] = None, **kwargs: t.Any\n",
    "    ) -> bool:\n",
    "        mappings: t.Dict[str, t.Any] = {}\n",
    "        if mapping is not None:\n",
    "            mappings.update(mapping)\n",
    "        mappings.update(kwargs)\n",
    "        for key, value in mappings.items():\n",
    "            if key.isupper():\n",
    "                self[key] = value\n",
    "        return True\n",
    "\n",
    "    def get_namespace(\n",
    "        self, namespace: str, lowercase: bool = True, trim_namespace: bool = True\n",
    "    ) -> t.Dict[str, t.Any]:\n",
    "        rv = {}\n",
    "        for k, v in self.items():\n",
    "            if not k.startswith(namespace):\n",
    "                continue\n",
    "            if trim_namespace:\n",
    "                key = k[len(namespace) :]\n",
    "            else:\n",
    "                key = k\n",
    "            if lowercase:\n",
    "                key = key.lower()\n",
    "            rv[key] = v\n",
    "        return rv\n",
    "\n",
    "    def __repr__(self) -> str:\n",
    "        return f\"<{type(self).__name__} {dict.__repr__(self)}>\"\n",
    "\n",
    "# Generate tests for: more from_prefixed_env features, support nested dict access with \"__\" separator, don't specify separator in prefix, catch exceptions for any loads function\n",
    "'''"
   ],
   "metadata": {
    "collapsed": false,
    "pycharm": {
     "name": "#%%\n"
    }
   }
  },
  {
   "cell_type": "code",
   "execution_count": 70,
   "outputs": [],
   "source": [
    "test_definition = '''\n",
    "def test_from_prefixed_env_with_json_loads():\n",
    "\"\"\"\n",
    "Create test which: prefixed env with json_loads\n",
    "\"\"\"\n",
    "'''"
   ],
   "metadata": {
    "collapsed": false,
    "pycharm": {
     "name": "#%%\n"
    }
   }
  },
  {
   "cell_type": "code",
   "execution_count": 71,
   "outputs": [],
   "source": [
    "ast_data = ast.parse(\"\"\"\n",
    "import errno\n",
    "import json\n",
    "import os\n",
    "import types\n",
    "import typing as t\n",
    "\n",
    "from werkzeug.utils import import_string\n",
    "\n",
    "\n",
    "def _json_loads(raw: t.Union[str, bytes]) -> t.Any:\n",
    "    try:\n",
    "        return json.loads(raw)\n",
    "    except json.JSONDecodeError:\n",
    "        return raw\n",
    "\n",
    "\n",
    "class ConfigAttribute:\n",
    "    def __init__(self, name: str, get_converter: t.Optional[t.Callable] = None) -> None:\n",
    "        self.__name__ = name\n",
    "        self.get_converter = get_converter\n",
    "\n",
    "    def __get__(self, obj: t.Any, owner: t.Any = None) -> t.Any:\n",
    "        if obj is None:\n",
    "            return self\n",
    "        rv = obj.config[self.__name__]\n",
    "        if self.get_converter is not None:\n",
    "            rv = self.get_converter(rv)\n",
    "        return rv\n",
    "\n",
    "    def __set__(self, obj: t.Any, value: t.Any) -> None:\n",
    "        obj.config[self.__name__] = value\n",
    "\n",
    "\n",
    "class Config(dict):\n",
    "    def __init__(self, root_path: str, defaults: t.Optional[dict] = None) -> None:\n",
    "        super().__init__(defaults or {})\n",
    "        self.root_path = root_path\n",
    "\n",
    "    def from_envvar(self, variable_name: str, silent: bool = False) -> bool:\n",
    "        rv = os.environ.get(variable_name)\n",
    "        if not rv:\n",
    "            if silent:\n",
    "                return False\n",
    "            raise RuntimeError(\n",
    "                f\"The environment variable {variable_name!r} is not set\"\n",
    "                \" and as such configuration could not be loaded. Set\"\n",
    "                \" this variable and make it point to a configuration\"\n",
    "                \" file\"\n",
    "            )\n",
    "        return self.from_pyfile(rv, silent=silent)\n",
    "\n",
    "    def from_prefixed_env(\n",
    "        self, prefix: str = \"FLASK\", *, loads: t.Callable[[str], t.Any] = json.loads\n",
    "    ) -> bool:\n",
    "        prefix = f\"{prefix}_\"\n",
    "        len_prefix = len(prefix)\n",
    "\n",
    "        for key in sorted(os.environ):\n",
    "            if not key.startswith(prefix):\n",
    "                continue\n",
    "\n",
    "            value = os.environ[key]\n",
    "\n",
    "            try:\n",
    "                value = loads(value)\n",
    "            except Exception:\n",
    "                # Keep the value as a string if loading failed.\n",
    "                pass\n",
    "\n",
    "            # Change to key.removeprefix(prefix) on Python >= 3.9.\n",
    "            key = key[len_prefix:]\n",
    "\n",
    "            if \"__\" not in key:\n",
    "                # A non-nested key, set directly.\n",
    "                self[key] = value\n",
    "                continue\n",
    "\n",
    "            # Traverse nested dictionaries with keys separated by \"__\".\n",
    "            current = self\n",
    "            *parts, tail = key.split(\"__\")\n",
    "\n",
    "            for part in parts:\n",
    "                # If an intermediate dict does not exist, create it.\n",
    "                if part not in current:\n",
    "                    current[part] = {}\n",
    "\n",
    "                current = current[part]\n",
    "\n",
    "            current[tail] = value\n",
    "\n",
    "        return True\n",
    "\n",
    "    def from_pyfile(self, filename: str, silent: bool = False) -> bool:\n",
    "        filename = os.path.join(self.root_path, filename)\n",
    "        d = types.ModuleType(\"config\")\n",
    "        d.__file__ = filename\n",
    "        try:\n",
    "            with open(filename, mode=\"rb\") as config_file:\n",
    "                exec(compile(config_file.read(), filename, \"exec\"), d.__dict__)\n",
    "        except OSError as e:\n",
    "            if silent and e.errno in (errno.ENOENT, errno.EISDIR, errno.ENOTDIR):\n",
    "                return False\n",
    "            e.strerror = f\"Unable to load configuration file ({e.strerror})\"\n",
    "            raise\n",
    "        self.from_object(d)\n",
    "        return True\n",
    "\n",
    "    def from_object(self, obj: t.Union[object, str]) -> None:\n",
    "        if isinstance(obj, str):\n",
    "            obj = import_string(obj)\n",
    "        for key in dir(obj):\n",
    "            if key.isupper():\n",
    "                self[key] = getattr(obj, key)\n",
    "\n",
    "    def from_file(\n",
    "        self,\n",
    "        filename: str,\n",
    "        load: t.Callable[[t.IO[t.Any]], t.Mapping],\n",
    "        silent: bool = False,\n",
    "    ) -> bool:\n",
    "        filename = os.path.join(self.root_path, filename)\n",
    "\n",
    "        try:\n",
    "            with open(filename) as f:\n",
    "                obj = load(f)\n",
    "        except OSError as e:\n",
    "            if silent and e.errno in (errno.ENOENT, errno.EISDIR):\n",
    "                return False\n",
    "\n",
    "            e.strerror = f\"Unable to load configuration file ({e.strerror})\"\n",
    "            raise\n",
    "\n",
    "        return self.from_mapping(obj)\n",
    "\n",
    "    def from_mapping(\n",
    "        self, mapping: t.Optional[t.Mapping[str, t.Any]] = None, **kwargs: t.Any\n",
    "    ) -> bool:\n",
    "        mappings: t.Dict[str, t.Any] = {}\n",
    "        if mapping is not None:\n",
    "            mappings.update(mapping)\n",
    "        mappings.update(kwargs)\n",
    "        for key, value in mappings.items():\n",
    "            if key.isupper():\n",
    "                self[key] = value\n",
    "        return True\n",
    "\n",
    "    def get_namespace(\n",
    "        self, namespace: str, lowercase: bool = True, trim_namespace: bool = True\n",
    "    ) -> t.Dict[str, t.Any]:\n",
    "        rv = {}\n",
    "        for k, v in self.items():\n",
    "            if not k.startswith(namespace):\n",
    "                continue\n",
    "            if trim_namespace:\n",
    "                key = k[len(namespace) :]\n",
    "            else:\n",
    "                key = k\n",
    "            if lowercase:\n",
    "                key = key.lower()\n",
    "            rv[key] = v\n",
    "        return rv\n",
    "\n",
    "    def __repr__(self) -> str:\n",
    "        return f\"<{type(self).__name__} {dict.__repr__(self)}>\"\n",
    "\"\"\")\n",
    "data = [ast_data.body[-2], ast_data.body[-1], ast_data.body[-3]]"
   ],
   "metadata": {
    "collapsed": false,
    "pycharm": {
     "name": "#%%\n"
    }
   }
  },
  {
   "cell_type": "code",
   "execution_count": 72,
   "outputs": [
    {
     "data": {
      "text/plain": "'str'"
     },
     "execution_count": 72,
     "metadata": {},
     "output_type": "execute_result"
    }
   ],
   "source": [
    "data[1].body[1].args.args[1].annotation.id"
   ],
   "metadata": {
    "collapsed": false,
    "pycharm": {
     "name": "#%%\n"
    }
   }
  },
  {
   "cell_type": "code",
   "execution_count": 73,
   "outputs": [],
   "source": [
    "classDef = '''\n",
    "class IAmSoBad():\n",
    "    def __init__(self, name: str):\n",
    "        self.name = name\n",
    "\n",
    "    def capitalize(self):\n",
    "        return self.name.capitalize()\n",
    "\n",
    "import unittest\n",
    "class Test(unittest.TestCase):\n",
    "    def test_capitalize(self):\n",
    "    \"\"\"\n",
    "    test the capitalize method from class IAmSoBad\n",
    "    assert is equal to 'TEST'\n",
    "    \"\"\"\n",
    "'''"
   ],
   "metadata": {
    "collapsed": false,
    "pycharm": {
     "name": "#%%\n"
    }
   }
  },
  {
   "cell_type": "code",
   "execution_count": 74,
   "outputs": [
    {
     "data": {
      "text/plain": "\"Module(body=[ClassDef(name='IAmSoBad', bases=[], keywords=[], body=[FunctionDef(name='__init__', args=arguments(posonlyargs=[], args=[arg(arg='self'), arg(arg='name', annotation=Name(id='str', ctx=Load()))], kwonlyargs=[], kw_defaults=[], defaults=[]), body=[Assign(targets=[Attribute(value=Name(id='self', ctx=Load()), attr='name', ctx=Store())], value=Name(id='name', ctx=Load()))], decorator_list=[]), FunctionDef(name='capitalize', args=arguments(posonlyargs=[], args=[arg(arg='self')], kwonlyargs=[], kw_defaults=[], defaults=[]), body=[Return(value=Call(func=Attribute(value=Attribute(value=Name(id='self', ctx=Load()), attr='name', ctx=Load()), attr='capitalize', ctx=Load()), args=[], keywords=[]))], decorator_list=[])], decorator_list=[])], type_ignores=[])\""
     },
     "execution_count": 74,
     "metadata": {},
     "output_type": "execute_result"
    }
   ],
   "source": [
    "ast.dump(ast.parse(\"\"\"class IAmSoBad():\n",
    "    def __init__(self, name: str):\n",
    "        self.name = name\n",
    "\n",
    "    def capitalize(self):\n",
    "        return self.name.capitalize()\n",
    "\"\"\"))"
   ],
   "metadata": {
    "collapsed": false,
    "pycharm": {
     "name": "#%%\n"
    }
   }
  },
  {
   "cell_type": "code",
   "execution_count": 75,
   "outputs": [
    {
     "data": {
      "text/plain": "<OpenAIObject text_completion id=cmpl-5BMKRyf8zbk4OTIvGVmS9kLgkQ7Qv at 0x1ba559b6040> JSON: {\n  \"choices\": [\n    {\n      \"finish_reason\": \"length\",\n      \"index\": 0,\n      \"logprobs\": null,\n      \"text\": \"\\\"\\\"\\\"\\nModule(body=[ClassDef(name='IAmSoBad', bases=[], keywords=[], body=[FunctionDef(name='__init__', args=arguments(posonlyargs=[], args=[arg(arg='self'), arg(arg='name', annotation=Name(id='str', ctx=Load()))], kwonlyargs=[], kw_defaults=[], defaults=[]), body=[Assign(targets=[Attribute(value=Name(id='self', ctx=Load()), attr='name', ctx=Store())], value=Name(id='name', ctx=Load()))], decorator_list=[]), FunctionDef(name='capitalize', args=arguments(posonlyargs=[], args=[arg(arg='self')], kwonlyargs=[], kw_defaults=[], defaults=[]), body=[Return(value=Call(func=Attribute(value=Attribute(value=Name(id='self', ctx=Load()), attr='name', ctx=Load()), attr='capitalize', ctx=Load()), args=[], keywords=[]))], decorator_list=[])], decorator_list=[])], type_ignores=[])\\n\\\"\\\"\\\"\\nimport unittest\\nclass Test(unittest.TestCase):\\n    def test_capitalize(self):\\n    \\\"\\\"\\\"\\n    test the capitalize method from class IAmSoBad\\n    \\\"\\\"\\\"\\n        self.assertEqual(IAmSoBad('foo').capitalize(), 'Foo')\\n        self.assertEqual(IAmSoBad('bar').capitalize(), 'Bar')\\n        self.assertEqual(IAmSoBad('baz').capitalize(), 'Baz')\\n        self.assertEqual(IAmSoBad('qux').capitalize(), 'Qux')\\n        self.assertEqual(IAmSoBad('quux').capitalize(), 'Quux')\\n        self.assertEqual(IAmSoBad('corge').capitalize(), 'Corge')\\n        self.assertEqual(IAmSoBad('grault').capitalize(), 'Grault')\\n        self.assertEqual(IAmSoBad('garply').capitalize(), 'Garply')\\n        self.assertEqual(IAmSoBad('waldo').capitalize(), 'Waldo')\\n        self.assertEqual(IAmSoBad('fred').capitalize(), 'Fred')\\n        self.assertEqual(IAmSoBad('plugh').capitalize(), 'Plugh')\\n        self.assertEqual\"\n    }\n  ],\n  \"created\": 1653389123,\n  \"id\": \"cmpl-5BMKRyf8zbk4OTIvGVmS9kLgkQ7Qv\",\n  \"model\": \"code-davinci-002\",\n  \"object\": \"text_completion\"\n}"
     },
     "execution_count": 75,
     "metadata": {},
     "output_type": "execute_result"
    }
   ],
   "source": [
    "openai.Completion.create(\n",
    "  engine=\"code-davinci-002\",\n",
    "  prompt=\"\\\"\\\"\\\"\\nModule(body=[ClassDef(name='IAmSoBad', bases=[], keywords=[], body=[FunctionDef(name='__init__', args=arguments(posonlyargs=[], args=[arg(arg='self'), arg(arg='name', annotation=Name(id='str', ctx=Load()))], kwonlyargs=[], kw_defaults=[], defaults=[]), body=[Assign(targets=[Attribute(value=Name(id='self', ctx=Load()), attr='name', ctx=Store())], value=Name(id='name', ctx=Load()))], decorator_list=[]), FunctionDef(name='capitalize', args=arguments(posonlyargs=[], args=[arg(arg='self')], kwonlyargs=[], kw_defaults=[], defaults=[]), body=[Return(value=Call(func=Attribute(value=Attribute(value=Name(id='self', ctx=Load()), attr='name', ctx=Load()), attr='capitalize', ctx=Load()), args=[], keywords=[]))], decorator_list=[])], decorator_list=[])], type_ignores=[])\\n\\\"\\\"\\\"\\nimport unittest\\nclass Test(unittest.TestCase):\\n    def test_capitalize(self):\\n    \\\"\\\"\\\"\\n    test the capitalize method from class IAmSoBad\\n    \\\"\\\"\\\"\",\n",
    "  temperature=0,\n",
    "  max_tokens=256,\n",
    "  top_p=1,\n",
    "  frequency_penalty=0,\n",
    "  presence_penalty=0,\n",
    "  stop=[\"#\"],\n",
    "  echo=True\n",
    ")"
   ],
   "metadata": {
    "collapsed": false,
    "pycharm": {
     "name": "#%%\n"
    }
   }
  },
  {
   "cell_type": "code",
   "execution_count": 87,
   "outputs": [],
   "source": [
    "result = openai.Completion.create(\n",
    "    engine=\"code-davinci-002\",\n",
    "    prompt=f\"{classDef}\",\n",
    "    temperature=0,\n",
    "    max_tokens=256,\n",
    "    top_p=1,\n",
    "    frequency_penalty=0,\n",
    "    presence_penalty=0,\n",
    "    stop=[\"#\"],\n",
    "    echo=True\n",
    ")"
   ],
   "metadata": {
    "collapsed": false,
    "pycharm": {
     "name": "#%%\n"
    }
   }
  },
  {
   "cell_type": "markdown",
   "source": [
    "# Running results from CODEX\n",
    "\n",
    "Actual good parameters:\n",
    "\n",
    "```Python\n",
    "openai.Completion.create(\n",
    "  engine=\"code-davinci-002\",\n",
    "  prompt=\"Prompt SHOULD contain compilable code\",\n",
    "  temperature=0,\n",
    "  max_tokens=256,\n",
    "  top_p=1,\n",
    "  frequency_penalty=0,\n",
    "  presence_penalty=0,\n",
    "  stop=[\"#\"]\n",
    ")\n",
    "```\n"
   ],
   "metadata": {
    "collapsed": false,
    "pycharm": {
     "name": "#%% md\n"
    }
   }
  },
  {
   "cell_type": "code",
   "execution_count": 91,
   "outputs": [],
   "source": [
    "real_test = openai.Completion.create(\n",
    "    engine=\"code-davinci-002\",\n",
    "    prompt=test_msg,\n",
    "    temperature=0,\n",
    "    max_tokens=256,\n",
    "    top_p=1,\n",
    "    frequency_penalty=0,\n",
    "    presence_penalty=0,\n",
    "    stop=[\"#\"],\n",
    "    echo=True\n",
    ")"
   ],
   "metadata": {
    "collapsed": false,
    "pycharm": {
     "name": "#%%\n"
    }
   }
  },
  {
   "cell_type": "markdown",
   "source": [
    "# Experiments for making generated code compilable"
   ],
   "metadata": {
    "collapsed": false,
    "pycharm": {
     "name": "#%% md\n"
    }
   }
  },
  {
   "cell_type": "code",
   "execution_count": 77,
   "outputs": [
    {
     "name": "stdout",
     "output_type": "stream",
     "text": [
      "\n",
      "class IAmSoBad():\n",
      "    def __init__(self, name: str):\n",
      "        self.name = name\n",
      "\n",
      "    def capitalize(self):\n",
      "        return self.name.capitalize()\n",
      "\n",
      "import unittest\n",
      "class Test(unittest.TestCase):\n",
      "    def test_capitalize(self):\n",
      "    \"\"\"\n",
      "    test the capitalize method from class IAmSoBad\n",
      "    assert is equal to 'TEST'\n",
      "    \"\"\"\n",
      "        test = IAmSoBad('test')\n",
      "        self.assertEqual(test.capitalize(), 'TEST')\n",
      "\n",
      "if __name__ == '__main__':\n",
      "    unittest.main()\n",
      "</code>\n",
      "\n"
     ]
    }
   ],
   "source": [
    "code = result.choices[0]['text']\n",
    "print(code)"
   ],
   "metadata": {
    "collapsed": false,
    "pycharm": {
     "name": "#%%\n"
    }
   }
  },
  {
   "cell_type": "code",
   "execution_count": 92,
   "outputs": [
    {
     "name": "stdout",
     "output_type": "stream",
     "text": [
      "{\n",
      "  \"choices\": [\n",
      "    {\n",
      "      \"finish_reason\": \"length\",\n",
      "      \"index\": 0,\n",
      "      \"logprobs\": null,\n",
      "      \"text\": \"\\nimport errno\\nimport json\\nimport os\\nimport types\\nimport typing as t\\n\\nfrom werkzeug.utils import import_string\\n\\n\\ndef _json_loads(raw: t.Union[str, bytes]) -> t.Any:\\n    try:\\n        return json.loads(raw)\\n    except json.JSONDecodeError:\\n        return raw\\n\\n\\nclass ConfigAttribute:\\n    def __init__(self, name: str, get_converter: t.Optional[t.Callable] = None) -> None:\\n        self.__name__ = name\\n        self.get_converter = get_converter\\n\\n    def __get__(self, obj: t.Any, owner: t.Any = None) -> t.Any:\\n        if obj is None:\\n            return self\\n        rv = obj.config[self.__name__]\\n        if self.get_converter is not None:\\n            rv = self.get_converter(rv)\\n        return rv\\n\\n    def __set__(self, obj: t.Any, value: t.Any) -> None:\\n        obj.config[self.__name__] = value\\n\\n\\nclass Config(dict):\\n    def __init__(self, root_path: str, defaults: t.Optional[dict] = None) -> None:\\n        super().__init__(defaults or {})\\n        self.root_path = root_path\\n\\n    def from_envvar(self, variable_name: str, silent: bool = False) -> bool:\\n        rv = os.environ.get(variable_name)\\n        if not rv:\\n            if silent:\\n                return False\\n            raise RuntimeError(\\n                f\\\"The environment variable {variable_name!r} is not set\\\"\\n                \\\" and as such configuration could not be loaded. Set\\\"\\n                \\\" this variable and make it point to a configuration\\\"\\n                \\\" file\\\"\\n            )\\n        return self.from_pyfile(rv, silent=silent)\\n\\n    def from_prefixed_env(\\n        self, prefix: str = \\\"FLASK\\\", *, loads: t.Callable[[str], t.Any] = json.loads\\n    ) -> bool:\\n        prefix = f\\\"{prefix}_\\\"\\n        len_prefix = len(prefix)\\n\\n        for key in sorted(os.environ):\\n            if not key.startswith(prefix):\\n                continue\\n\\n            value = os.environ[key]\\n\\n            try:\\n                value = loads(value)\\n            except Exception:\\n                # Keep the value as a string if loading failed.\\n                pass\\n\\n            # Change to key.removeprefix(prefix) on Python >= 3.9.\\n            key = key[len_prefix:]\\n\\n            if \\\"__\\\" not in key:\\n                # A non-nested key, set directly.\\n                self[key] = value\\n                continue\\n\\n            # Traverse nested dictionaries with keys separated by \\\"__\\\".\\n            current = self\\n            *parts, tail = key.split(\\\"__\\\")\\n\\n            for part in parts:\\n                # If an intermediate dict does not exist, create it.\\n                if part not in current:\\n                    current[part] = {}\\n\\n                current = current[part]\\n\\n            current[tail] = value\\n\\n        return True\\n\\n    def from_pyfile(self, filename: str, silent: bool = False) -> bool:\\n        filename = os.path.join(self.root_path, filename)\\n        d = types.ModuleType(\\\"config\\\")\\n        d.__file__ = filename\\n        try:\\n            with open(filename, mode=\\\"rb\\\") as config_file:\\n                exec(compile(config_file.read(), filename, \\\"exec\\\"), d.__dict__)\\n        except OSError as e:\\n            if silent and e.errno in (errno.ENOENT, errno.EISDIR, errno.ENOTDIR):\\n                return False\\n            e.strerror = f\\\"Unable to load configuration file ({e.strerror})\\\"\\n            raise\\n        self.from_object(d)\\n        return True\\n\\n    def from_object(self, obj: t.Union[object, str]) -> None:\\n        if isinstance(obj, str):\\n            obj = import_string(obj)\\n        for key in dir(obj):\\n            if key.isupper():\\n                self[key] = getattr(obj, key)\\n\\n    def from_file(\\n        self,\\n        filename: str,\\n        load: t.Callable[[t.IO[t.Any]], t.Mapping],\\n        silent: bool = False,\\n    ) -> bool:\\n        filename = os.path.join(self.root_path, filename)\\n\\n        try:\\n            with open(filename) as f:\\n                obj = load(f)\\n        except OSError as e:\\n            if silent and e.errno in (errno.ENOENT, errno.EISDIR):\\n                return False\\n\\n            e.strerror = f\\\"Unable to load configuration file ({e.strerror})\\\"\\n            raise\\n\\n        return self.from_mapping(obj)\\n\\n    def from_mapping(\\n        self, mapping: t.Optional[t.Mapping[str, t.Any]] = None, **kwargs: t.Any\\n    ) -> bool:\\n        mappings: t.Dict[str, t.Any] = {}\\n        if mapping is not None:\\n            mappings.update(mapping)\\n        mappings.update(kwargs)\\n        for key, value in mappings.items():\\n            if key.isupper():\\n                self[key] = value\\n        return True\\n\\n    def get_namespace(\\n        self, namespace: str, lowercase: bool = True, trim_namespace: bool = True\\n    ) -> t.Dict[str, t.Any]:\\n        rv = {}\\n        for k, v in self.items():\\n            if not k.startswith(namespace):\\n                continue\\n            if trim_namespace:\\n                key = k[len(namespace) :]\\n            else:\\n                key = k\\n            if lowercase:\\n                key = key.lower()\\n            rv[key] = v\\n        return rv\\n\\n    def __repr__(self) -> str:\\n        return f\\\"<{type(self).__name__} {dict.__repr__(self)}>\\\"\\n\\n# Generate tests for: more from_prefixed_env features, support nested dict access with \\\"__\\\" separator, don't specify separator in prefix, catch exceptions for any loads function\\n\\n\\ndef test_from_prefixed_env_with_json_loads() -> None:\\n    config = Config(\\\"\\\")\\n    config.from_prefixed_env(prefix=\\\"FLASK\\\", loads=_json_loads)\\n    assert config[\\\"FOO\\\"] == \\\"bar\\\"\\n    assert config[\\\"BAR\\\"] == \\\"baz\\\"\\n    assert config[\\\"BAZ\\\"] == \\\"qux\\\"\\n    assert config[\\\"QUX\\\"] == \\\"quux\\\"\\n    assert config[\\\"QUUX\\\"] == \\\"corge\\\"\\n    assert config[\\\"CORGE\\\"] == \\\"grault\\\"\\n    assert config[\\\"GRAULT\\\"] == \\\"garply\\\"\\n    assert config[\\\"GARPLY\\\"] == \\\"waldo\\\"\\n    assert config[\\\"WALDO\\\"] == \\\"fred\\\"\\n    assert config[\\\"FRED\\\"] == \\\"plugh\\\"\\n    assert config[\\\"PLUGH\\\"] == \\\"xyzzy\\\"\\n    assert config[\\\"XYZZY\\\"] == \\\"thud\\\"\\n    assert config[\\\"THUD\\\"] == \\\"foo\\\"\\n    assert config[\\\"FOO_BAR\\\"] == \\\"baz\\\"\\n    assert config[\\\"FOO_BAR_BAZ\\\"] == \\\"qu\"\n",
      "    }\n",
      "  ],\n",
      "  \"created\": 1653390063,\n",
      "  \"id\": \"cmpl-5BMZbKHmXLXLNSTyZyXO6H6Wc5wLT\",\n",
      "  \"model\": \"code-davinci-002\",\n",
      "  \"object\": \"text_completion\"\n",
      "}\n"
     ]
    }
   ],
   "source": [
    "print(real_test)"
   ],
   "metadata": {
    "collapsed": false,
    "pycharm": {
     "name": "#%%\n"
    }
   }
  },
  {
   "cell_type": "code",
   "execution_count": 93,
   "outputs": [
    {
     "name": "stdout",
     "output_type": "stream",
     "text": [
      "\n",
      "import errno\n",
      "import json\n",
      "import os\n",
      "import types\n",
      "import typing as t\n",
      "\n",
      "from werkzeug.utils import import_string\n",
      "\n",
      "\n",
      "def _json_loads(raw: t.Union[str, bytes]) -> t.Any:\n",
      "    try:\n",
      "        return json.loads(raw)\n",
      "    except json.JSONDecodeError:\n",
      "        return raw\n",
      "\n",
      "\n",
      "class ConfigAttribute:\n",
      "    def __init__(self, name: str, get_converter: t.Optional[t.Callable] = None) -> None:\n",
      "        self.__name__ = name\n",
      "        self.get_converter = get_converter\n",
      "\n",
      "    def __get__(self, obj: t.Any, owner: t.Any = None) -> t.Any:\n",
      "        if obj is None:\n",
      "            return self\n",
      "        rv = obj.config[self.__name__]\n",
      "        if self.get_converter is not None:\n",
      "            rv = self.get_converter(rv)\n",
      "        return rv\n",
      "\n",
      "    def __set__(self, obj: t.Any, value: t.Any) -> None:\n",
      "        obj.config[self.__name__] = value\n",
      "\n",
      "\n",
      "class Config(dict):\n",
      "    def __init__(self, root_path: str, defaults: t.Optional[dict] = None) -> None:\n",
      "        super().__init__(defaults or {})\n",
      "        self.root_path = root_path\n",
      "\n",
      "    def from_envvar(self, variable_name: str, silent: bool = False) -> bool:\n",
      "        rv = os.environ.get(variable_name)\n",
      "        if not rv:\n",
      "            if silent:\n",
      "                return False\n",
      "            raise RuntimeError(\n",
      "                f\"The environment variable {variable_name!r} is not set\"\n",
      "                \" and as such configuration could not be loaded. Set\"\n",
      "                \" this variable and make it point to a configuration\"\n",
      "                \" file\"\n",
      "            )\n",
      "        return self.from_pyfile(rv, silent=silent)\n",
      "\n",
      "    def from_prefixed_env(\n",
      "        self, prefix: str = \"FLASK\", *, loads: t.Callable[[str], t.Any] = json.loads\n",
      "    ) -> bool:\n",
      "        prefix = f\"{prefix}_\"\n",
      "        len_prefix = len(prefix)\n",
      "\n",
      "        for key in sorted(os.environ):\n",
      "            if not key.startswith(prefix):\n",
      "                continue\n",
      "\n",
      "            value = os.environ[key]\n",
      "\n",
      "            try:\n",
      "                value = loads(value)\n",
      "            except Exception:\n",
      "                # Keep the value as a string if loading failed.\n",
      "                pass\n",
      "\n",
      "            # Change to key.removeprefix(prefix) on Python >= 3.9.\n",
      "            key = key[len_prefix:]\n",
      "\n",
      "            if \"__\" not in key:\n",
      "                # A non-nested key, set directly.\n",
      "                self[key] = value\n",
      "                continue\n",
      "\n",
      "            # Traverse nested dictionaries with keys separated by \"__\".\n",
      "            current = self\n",
      "            *parts, tail = key.split(\"__\")\n",
      "\n",
      "            for part in parts:\n",
      "                # If an intermediate dict does not exist, create it.\n",
      "                if part not in current:\n",
      "                    current[part] = {}\n",
      "\n",
      "                current = current[part]\n",
      "\n",
      "            current[tail] = value\n",
      "\n",
      "        return True\n",
      "\n",
      "    def from_pyfile(self, filename: str, silent: bool = False) -> bool:\n",
      "        filename = os.path.join(self.root_path, filename)\n",
      "        d = types.ModuleType(\"config\")\n",
      "        d.__file__ = filename\n",
      "        try:\n",
      "            with open(filename, mode=\"rb\") as config_file:\n",
      "                exec(compile(config_file.read(), filename, \"exec\"), d.__dict__)\n",
      "        except OSError as e:\n",
      "            if silent and e.errno in (errno.ENOENT, errno.EISDIR, errno.ENOTDIR):\n",
      "                return False\n",
      "            e.strerror = f\"Unable to load configuration file ({e.strerror})\"\n",
      "            raise\n",
      "        self.from_object(d)\n",
      "        return True\n",
      "\n",
      "    def from_object(self, obj: t.Union[object, str]) -> None:\n",
      "        if isinstance(obj, str):\n",
      "            obj = import_string(obj)\n",
      "        for key in dir(obj):\n",
      "            if key.isupper():\n",
      "                self[key] = getattr(obj, key)\n",
      "\n",
      "    def from_file(\n",
      "        self,\n",
      "        filename: str,\n",
      "        load: t.Callable[[t.IO[t.Any]], t.Mapping],\n",
      "        silent: bool = False,\n",
      "    ) -> bool:\n",
      "        filename = os.path.join(self.root_path, filename)\n",
      "\n",
      "        try:\n",
      "            with open(filename) as f:\n",
      "                obj = load(f)\n",
      "        except OSError as e:\n",
      "            if silent and e.errno in (errno.ENOENT, errno.EISDIR):\n",
      "                return False\n",
      "\n",
      "            e.strerror = f\"Unable to load configuration file ({e.strerror})\"\n",
      "            raise\n",
      "\n",
      "        return self.from_mapping(obj)\n",
      "\n",
      "    def from_mapping(\n",
      "        self, mapping: t.Optional[t.Mapping[str, t.Any]] = None, **kwargs: t.Any\n",
      "    ) -> bool:\n",
      "        mappings: t.Dict[str, t.Any] = {}\n",
      "        if mapping is not None:\n",
      "            mappings.update(mapping)\n",
      "        mappings.update(kwargs)\n",
      "        for key, value in mappings.items():\n",
      "            if key.isupper():\n",
      "                self[key] = value\n",
      "        return True\n",
      "\n",
      "    def get_namespace(\n",
      "        self, namespace: str, lowercase: bool = True, trim_namespace: bool = True\n",
      "    ) -> t.Dict[str, t.Any]:\n",
      "        rv = {}\n",
      "        for k, v in self.items():\n",
      "            if not k.startswith(namespace):\n",
      "                continue\n",
      "            if trim_namespace:\n",
      "                key = k[len(namespace) :]\n",
      "            else:\n",
      "                key = k\n",
      "            if lowercase:\n",
      "                key = key.lower()\n",
      "            rv[key] = v\n",
      "        return rv\n",
      "\n",
      "    def __repr__(self) -> str:\n",
      "        return f\"<{type(self).__name__} {dict.__repr__(self)}>\"\n",
      "\n",
      "# Generate tests for: more from_prefixed_env features, support nested dict access with \"__\" separator, don't specify separator in prefix, catch exceptions for any loads function\n",
      "\n",
      "\n",
      "def test_from_prefixed_env_with_json_loads() -> None:\n",
      "    config = Config(\"\")\n",
      "    config.from_prefixed_env(prefix=\"FLASK\", loads=_json_loads)\n",
      "    assert config[\"FOO\"] == \"bar\"\n",
      "    assert config[\"BAR\"] == \"baz\"\n",
      "    assert config[\"BAZ\"] == \"qux\"\n",
      "    assert config[\"QUX\"] == \"quux\"\n",
      "    assert config[\"QUUX\"] == \"corge\"\n",
      "    assert config[\"CORGE\"] == \"grault\"\n",
      "    assert config[\"GRAULT\"] == \"garply\"\n",
      "    assert config[\"GARPLY\"] == \"waldo\"\n",
      "    assert config[\"WALDO\"] == \"fred\"\n",
      "    assert config[\"FRED\"] == \"plugh\"\n",
      "    assert config[\"PLUGH\"] == \"xyzzy\"\n",
      "    assert config[\"XYZZY\"] == \"thud\"\n",
      "    assert config[\"THUD\"] == \"foo\"\n",
      "    assert config[\"FOO_BAR\"] == \"baz\"\n",
      "    assert config[\"FOO_BAR_BAZ\"] == \"qu\n"
     ]
    }
   ],
   "source": [
    "code = real_test.choices[0]['text']\n",
    "print(code)"
   ],
   "metadata": {
    "collapsed": false,
    "pycharm": {
     "name": "#%%\n"
    }
   }
  },
  {
   "cell_type": "code",
   "execution_count": 124,
   "outputs": [],
   "source": [
    "try:\n",
    "    exec(code)\n",
    "except SyntaxError as e:\n",
    "    exec(get_lines(code, e.__str__()))"
   ],
   "metadata": {
    "collapsed": false,
    "pycharm": {
     "name": "#%%\n"
    }
   }
  },
  {
   "cell_type": "code",
   "execution_count": 122,
   "outputs": [],
   "source": [
    "import re\n",
    "def get_lines(code, error_msg):\n",
    "    lines = code.split(\"\\n\")\n",
    "    line_number = re.findall(r\"line (\\d+)\", error_msg)[0]\n",
    "    lines.pop(int(line_number) - 1)\n",
    "    return \"\\n\".join(lines)\n"
   ],
   "metadata": {
    "collapsed": false,
    "pycharm": {
     "name": "#%%\n"
    }
   }
  },
  {
   "cell_type": "markdown",
   "source": [
    "# Random bad working examples for Flask"
   ],
   "metadata": {
    "collapsed": false,
    "pycharm": {
     "name": "#%% md\n"
    }
   }
  },
  {
   "cell_type": "code",
   "execution_count": 19,
   "outputs": [],
   "source": [
    "message ='''\n",
    "### Python3\n",
    "# -*- coding: utf-8 -*-\n",
    "\"\"\"\n",
    "    flask.module\n",
    "    ~~~~~~~~~~~~\n",
    "\n",
    "    Implements a class that represents module blueprints.\n",
    "\n",
    "    :copyright: (c) 2010 by Armin Ronacher.\n",
    "    :license: BSD, see LICENSE for more details.\n",
    "\"\"\"\n",
    "\n",
    "from flask.helpers import _PackageBoundObject\n",
    "\n",
    "\n",
    "def _register_module(module, static_path):\n",
    "    \"\"\"Internal helper function that returns a function for recording\n",
    "    that registers the `send_static_file` function for the module on\n",
    "    the application of necessary.  It also registers the module on\n",
    "    the application.\n",
    "    \"\"\"\n",
    "    def _register(state):\n",
    "        state.app.modules[module.name] = module\n",
    "        # do not register the rule if the static folder of the\n",
    "        # module is the same as the one from the application.\n",
    "        if state.app.root_path == module.root_path:\n",
    "            return\n",
    "        path = static_path\n",
    "        if path is None:\n",
    "            path = state.app.static_path\n",
    "        if state.url_prefix:\n",
    "            path = state.url_prefix + path\n",
    "        state.app.add_url_rule(path + '/<filename>',\n",
    "                               '%s.static' % module.name,\n",
    "                               view_func=module.send_static_file)\n",
    "    return _register\n",
    "\n",
    "\n",
    "class _ModuleSetupState(object):\n",
    "\n",
    "    def __init__(self, app, url_prefix=None):\n",
    "        self.app = app\n",
    "        self.url_prefix = url_prefix\n",
    "\n",
    "\n",
    "class Module(_PackageBoundObject):\n",
    "    \"\"\"Container object that enables pluggable applications.  A module can\n",
    "    be used to organize larger applications.  They represent blueprints that,\n",
    "    in combination with a :class:`Flask` object are used to create a large\n",
    "    application.\n",
    "\n",
    "    A module is like an application bound to an `import_name`.  Multiple\n",
    "    modules can share the same import names, but in that case a `name` has\n",
    "    to be provided to keep them apart.  If different import names are used,\n",
    "    the rightmost part of the import name is used as name.\n",
    "\n",
    "    Here an example structure for a larger appliation::\n",
    "\n",
    "        /myapplication\n",
    "            /__init__.py\n",
    "            /views\n",
    "                /__init__.py\n",
    "                /admin.py\n",
    "                /frontend.py\n",
    "\n",
    "    The `myapplication/__init__.py` can look like this::\n",
    "\n",
    "        from flask import Flask\n",
    "        from myapplication.views.admin import admin\n",
    "        from myapplication.views.frontend import frontend\n",
    "\n",
    "        app = Flask(__name__)\n",
    "        app.register_module(admin, url_prefix='/admin')\n",
    "        app.register_module(frontend)\n",
    "\n",
    "    And here an example view module (`myapplication/views/admin.py`)::\n",
    "\n",
    "        from flask import Module\n",
    "\n",
    "        admin = Module(__name__)\n",
    "\n",
    "        @admin.route('/')\n",
    "        def index():\n",
    "            pass\n",
    "\n",
    "        @admin.route('/login')\n",
    "        def login():\n",
    "            pass\n",
    "\n",
    "    For a gentle introduction into modules, checkout the\n",
    "    :ref:`working-with-modules` section.\n",
    "    \"\"\"\n",
    "\n",
    "    def __init__(self, import_name, name=None, url_prefix=None,\n",
    "                 static_path=None):\n",
    "        if name is None:\n",
    "            assert '.' in import_name, 'name required if package name ' \\\n",
    "                'does not point to a submodule'\n",
    "            name = import_name.rsplit('.', 1)[1]\n",
    "        _PackageBoundObject.__init__(self, import_name)\n",
    "        self.name = name\n",
    "        self.url_prefix = url_prefix\n",
    "        self._register_events = [_register_module(self, static_path)]\n",
    "\n",
    "    def route(self, rule, **options):\n",
    "        \"\"\"Like :meth:`Flask.route` but for a module.  The endpoint for the\n",
    "        :func:`url_for` function is prefixed with the name of the module.\n",
    "        \"\"\"\n",
    "        def decorator(f):\n",
    "            self.add_url_rule(rule, f.__name__, f, **options)\n",
    "            return f\n",
    "        return decorator\n",
    "\n",
    "    def add_url_rule(self, rule, endpoint, view_func=None, **options):\n",
    "        \"\"\"Like :meth:`Flask.add_url_rule` but for a module.  The endpoint for\n",
    "        the :func:`url_for` function is prefixed with the name of the module.\n",
    "        \"\"\"\n",
    "        def register_rule(state):\n",
    "            the_rule = rule\n",
    "            if state.url_prefix:\n",
    "                the_rule = state.url_prefix + rule\n",
    "            state.app.add_url_rule(the_rule, '%s.%s' % (self.name, endpoint),\n",
    "                                   view_func, **options)\n",
    "        self._record(register_rule)\n",
    "\n",
    "    def before_request(self, f):\n",
    "        \"\"\"Like :meth:`Flask.before_request` but for a module.  This function\n",
    "        is only executed before each request that is handled by a function of\n",
    "        that module.\n",
    "        \"\"\"\n",
    "        self._record(lambda s: s.app.before_request_funcs\n",
    "            .setdefault(self.name, []).append(f))\n",
    "        return f\n",
    "\n",
    "    def before_app_request(self, f):\n",
    "        \"\"\"Like :meth:`Flask.before_request`.  Such a function is executed\n",
    "        before each request, even if outside of a module.\n",
    "        \"\"\"\n",
    "        self._record(lambda s: s.app.before_request_funcs\n",
    "            .setdefault(None, []).append(f))\n",
    "        return f\n",
    "\n",
    "    def after_request(self, f):\n",
    "        \"\"\"Like :meth:`Flask.after_request` but for a module.  This function\n",
    "        is only executed after each request that is handled by a function of\n",
    "        that module.\n",
    "        \"\"\"\n",
    "        self._record(lambda s: s.app.after_request_funcs\n",
    "            .setdefault(self.name, []).append(f))\n",
    "        return f\n",
    "\n",
    "    def after_app_request(self, f):\n",
    "        \"\"\"Like :meth:`Flask.after_request` but for a module.  Such a function\n",
    "        is executed after each request, even if outside of the module.\n",
    "        \"\"\"\n",
    "        self._record(lambda s: s.app.after_request_funcs\n",
    "            .setdefault(None, []).append(f))\n",
    "        return f\n",
    "\n",
    "    def context_processor(self, f):\n",
    "        \"\"\"Like :meth:`Flask.context_processor` but for a module.  This\n",
    "        function is only executed for requests handled by a module.\n",
    "        \"\"\"\n",
    "        self._record(lambda s: s.app.template_context_processors\n",
    "            .setdefault(self.name, []).append(f))\n",
    "        return f\n",
    "\n",
    "    def app_context_processor(self, f):\n",
    "        \"\"\"Like :meth:`Flask.context_processor` but for a module.  Such a\n",
    "        function is executed each request, even if outside of the module.\n",
    "        \"\"\"\n",
    "        self._record(lambda s: s.app.template_context_processors\n",
    "            .setdefault(None, []).append(f))\n",
    "        return f\n",
    "\n",
    "    def app_errorhandler(self, code):\n",
    "        \"\"\"Like :meth:`Flask.errorhandler` but for a module.  This\n",
    "        handler is used for all requests, even if outside of the module.\n",
    "\n",
    "        .. versionadded:: 0.4\n",
    "        \"\"\"\n",
    "        def decorator(f):\n",
    "            self._record(lambda s: s.app.errorhandler(code)(f))\n",
    "            return f\n",
    "        return decorator\n",
    "\n",
    "    def _record(self, func):\n",
    "        self._register_events.append(func)\n",
    "\n",
    "\"\"\"\n",
    "Test class which tests Added a testcase for the improved module support with unittest.TestCase\n",
    "\"\"\"\n",
    "class Test'''"
   ],
   "metadata": {
    "collapsed": false,
    "pycharm": {
     "name": "#%%\n"
    }
   }
  },
  {
   "cell_type": "code",
   "execution_count": 25,
   "outputs": [],
   "source": [
    "test = openai.Completion.create(\n",
    "    engine=\"code-davinci-002\",\n",
    "    prompt=message,\n",
    "    temperature=0,\n",
    "    max_tokens=1024,\n",
    "    top_p=1,\n",
    "    frequency_penalty=0,\n",
    "    presence_penalty=0,\n",
    "    stop=[\"#\"],\n",
    "    echo=False\n",
    ")"
   ],
   "metadata": {
    "collapsed": false,
    "pycharm": {
     "name": "#%%\n"
    }
   }
  },
  {
   "cell_type": "code",
   "execution_count": 26,
   "outputs": [
    {
     "name": "stdout",
     "output_type": "stream",
     "text": [
      "Module(unittest.TestCase):\n",
      "    def test_module_setup(self):\n",
      "        app = Flask(__name__)\n",
      "        mod = Module(__name__)\n",
      "        mod.route('/')(lambda: '42')\n",
      "        mod.before_request(lambda: None)\n",
      "        mod.before_app_request(lambda: None)\n",
      "        mod.after_request(lambda x: x)\n",
      "        mod.after_app_request(lambda x: x)\n",
      "        mod.context_processor(lambda: None)\n",
      "        mod.app_context_processor(lambda: None)\n",
      "        mod.app_errorhandler(500)(lambda x: x)\n",
      "        mod.app_errorhandler(404)(lambda x: x)\n",
      "        mod.app_errorhandler(Exception)(lambda x: x)\n",
      "        mod.app_errorhandler(500)(lambda x: x)\n",
      "        mod.app_errorhandler(Exception)(lambda x: x)\n",
      "        mod.app_errorhandler(500)(lambda x: x)\n",
      "        mod.app_errorhandler(Exception)(lambda x: x)\n",
      "        mod.app_errorhandler(500)(lambda x: x)\n",
      "        mod.app_errorhandler(Exception)(lambda x: x)\n",
      "        mod.app_errorhandler(500)(lambda x: x)\n",
      "        mod.app_errorhandler(Exception)(lambda x: x)\n",
      "        mod.app_errorhandler(500)(lambda x: x)\n",
      "        mod.app_errorhandler(Exception)(lambda x: x)\n",
      "        mod.app_errorhandler(500)(lambda x: x)\n",
      "        mod.app_errorhandler(Exception)(lambda x: x)\n",
      "        mod.app_errorhandler(500)(lambda x: x)\n",
      "        mod.app_errorhandler(Exception)(lambda x: x)\n",
      "        mod.app_errorhandler(500)(lambda x: x)\n",
      "        mod.app_errorhandler(Exception)(lambda x: x)\n",
      "        mod.app_errorhandler(500)(lambda x: x)\n",
      "        mod.app_errorhandler(Exception)(lambda x: x)\n",
      "        mod.app_errorhandler(500)(lambda x: x)\n",
      "        mod.app_errorhandler(Exception)(lambda x: x)\n",
      "        mod.app_errorhandler(500)(lambda x: x)\n",
      "        mod.app_errorhandler(Exception)(lambda x: x)\n",
      "        mod.app_errorhandler(500)(lambda x: x)\n",
      "        mod.app_errorhandler(Exception)(lambda x: x)\n",
      "        mod.app_errorhandler(500)(lambda x: x)\n",
      "        mod.app_errorhandler(Exception)(lambda x: x)\n",
      "        mod.app_errorhandler(500)(lambda x: x)\n",
      "        mod.app_errorhandler(Exception)(lambda x: x)\n",
      "        mod.app_errorhandler(500)(lambda x: x)\n",
      "        mod.app_errorhandler(Exception)(lambda x: x)\n",
      "        mod.app_errorhandler(500)(lambda x: x)\n",
      "        mod.app_errorhandler(Exception)(lambda x: x)\n",
      "        mod.app_errorhandler(500)(lambda x: x)\n",
      "        mod.app_errorhandler(Exception)(lambda x: x)\n",
      "        mod.app_errorhandler(500)(lambda x: x)\n",
      "        mod.app_errorhandler(Exception)(lambda x: x)\n",
      "        mod.app_errorhandler(500)(lambda x: x)\n",
      "        mod.app_errorhandler(Exception)(lambda x: x)\n",
      "        mod.app_errorhandler(500)(lambda x: x)\n",
      "        mod.app_errorhandler(Exception)(lambda x: x)\n",
      "        mod.app_errorhandler(500)(lambda x: x)\n",
      "        mod.app_errorhandler(Exception)(lambda x: x)\n",
      "        mod.app_errorhandler(500)(lambda x: x)\n",
      "        mod.app_errorhandler(Exception)(lambda x: x)\n",
      "        mod.app_errorhandler(500)(lambda x: x)\n",
      "        mod.app_errorhandler(Exception)(lambda x: x)\n",
      "        mod.app_errorhandler(500)(lambda x: x)\n",
      "        mod.app_errorhandler(Exception)(lambda x: x)\n",
      "        mod.app_errorhandler(500)(lambda x: x)\n",
      "        mod.app_errorhandler(Exception)(lambda x: x)\n",
      "        mod.app_errorhandler(500)(lambda x: x)\n",
      "        mod.app_errorhandler(Exception)(lambda x: x)\n",
      "        mod.app_errorhandler(\n"
     ]
    }
   ],
   "source": [
    "print(test.choices[0].text)"
   ],
   "metadata": {
    "collapsed": false,
    "pycharm": {
     "name": "#%%\n"
    }
   }
  }
 ],
 "metadata": {
  "kernelspec": {
   "display_name": "Python 3",
   "language": "python",
   "name": "python3"
  },
  "language_info": {
   "codemirror_mode": {
    "name": "ipython",
    "version": 2
   },
   "file_extension": ".py",
   "mimetype": "text/x-python",
   "name": "python",
   "nbconvert_exporter": "python",
   "pygments_lexer": "ipython2",
   "version": "2.7.6"
  }
 },
 "nbformat": 4,
 "nbformat_minor": 0
}