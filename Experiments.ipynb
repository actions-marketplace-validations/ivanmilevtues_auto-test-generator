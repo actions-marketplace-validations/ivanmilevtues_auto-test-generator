{
 "cells": [
  {
   "cell_type": "code",
   "execution_count": 1,
   "outputs": [],
   "source": [
    "import ast\n",
    "\n",
    "import openai\n",
    "import os\n",
    "\n",
    "from model.message_preparation import MessageBuilder\n",
    "from history_scanner.GitHistoryDataSetParser import GitHistoryDataSetParser\n",
    "\n",
    "openai.api_key = os.getenv(\"OPENAI_API_KEY\")"
   ],
   "metadata": {
    "collapsed": false,
    "pycharm": {
     "name": "#%%\n"
    }
   }
  },
  {
   "cell_type": "code",
   "execution_count": 2,
   "outputs": [],
   "source": [
    "parser = GitHistoryDataSetParser(\"./\")\n",
    "data = parser.load_data(\"history_scanner/test_save.dat\")\n",
    "message_builder = MessageBuilder(data[-3:], train=1)"
   ],
   "metadata": {
    "collapsed": false,
    "pycharm": {
     "name": "#%%\n"
    }
   }
  },
  {
   "cell_type": "code",
   "execution_count": 3,
   "outputs": [],
   "source": [
    "messages = list(message_builder.create_prompt())"
   ],
   "metadata": {
    "collapsed": false,
    "pycharm": {
     "name": "#%%\n"
    }
   }
  },
  {
   "cell_type": "code",
   "execution_count": 4,
   "outputs": [
    {
     "data": {
      "text/plain": "'### Python3\\n\\nimport errno\\nimport json\\nimport os\\nimport types\\nimport typing as t\\n\\nfrom werkzeug.utils import import_string\\n\\n\\ndef _json_loads(raw: t.Union[str, bytes]) -> t.Any:\\n    try:\\n        return json.loads(raw)\\n    except json.JSONDecodeError:\\n        return raw\\n\\n\\nclass ConfigAttribute:\\n    \"\"\"Makes an attribute forward to the config\"\"\"\\n\\n    def __init__(self, name: str, get_converter: t.Optional[t.Callable] = None) -> None:\\n        self.__name__ = name\\n        self.get_converter = get_converter\\n\\n    def __get__(self, obj: t.Any, owner: t.Any = None) -> t.Any:\\n        if obj is None:\\n            return self\\n        rv = obj.config[self.__name__]\\n        if self.get_converter is not None:\\n            rv = self.get_converter(rv)\\n        return rv\\n\\n    def __set__(self, obj: t.Any, value: t.Any) -> None:\\n        obj.config[self.__name__] = value\\n\\n\\nclass Config(dict):\\n    \"\"\"Works exactly like a dict but provides ways to fill it from files\\n    or special dictionaries.  There are two common patterns to populate the\\n    config.\\n\\n    Either you can fill the config from a config file::\\n\\n        app.config.from_pyfile(\\'yourconfig.cfg\\')\\n\\n    Or alternatively you can define the configuration options in the\\n    module that calls :meth:`from_object` or provide an import path to\\n    a module that should be loaded.  It is also possible to tell it to\\n    use the same module and with that provide the configuration values\\n    just before the call::\\n\\n        DEBUG = True\\n        SECRET_KEY = \\'development key\\'\\n        app.config.from_object(__name__)\\n\\n    In both cases (loading from any Python file or loading from modules),\\n    only uppercase keys are added to the config.  This makes it possible to use\\n    lowercase values in the config file for temporary values that are not added\\n    to the config or to define the config keys in the same file that implements\\n    the application.\\n\\n    Probably the most interesting way to load configurations is from an\\n    environment variable pointing to a file::\\n\\n        app.config.from_envvar(\\'YOURAPPLICATION_SETTINGS\\')\\n\\n    In this case before launching the application you have to set this\\n    environment variable to the file you want to use.  On Linux and OS X\\n    use the export statement::\\n\\n        export YOURAPPLICATION_SETTINGS=\\'/path/to/config/file\\'\\n\\n    On windows use `set` instead.\\n\\n    :param root_path: path to which files are read relative from.  When the\\n                      config object is created by the application, this is\\n                      the application\\'s :attr:`~flask.Flask.root_path`.\\n    :param defaults: an optional dictionary of default values\\n    \"\"\"\\n\\n    def __init__(self, root_path: str, defaults: t.Optional[dict] = None) -> None:\\n        super().__init__(defaults or {})\\n        self.root_path = root_path\\n\\n    def from_envvar(self, variable_name: str, silent: bool = False) -> bool:\\n        \"\"\"Loads a configuration from an environment variable pointing to\\n        a configuration file.  This is basically just a shortcut with nicer\\n        error messages for this line of code::\\n\\n            app.config.from_pyfile(os.environ[\\'YOURAPPLICATION_SETTINGS\\'])\\n\\n        :param variable_name: name of the environment variable\\n        :param silent: set to ``True`` if you want silent failure for missing\\n                       files.\\n        :return: ``True`` if the file was loaded successfully.\\n        \"\"\"\\n        rv = os.environ.get(variable_name)\\n        if not rv:\\n            if silent:\\n                return False\\n            raise RuntimeError(\\n                f\"The environment variable {variable_name!r} is not set\"\\n                \" and as such configuration could not be loaded. Set\"\\n                \" this variable and make it point to a configuration\"\\n                \" file\"\\n            )\\n        return self.from_pyfile(rv, silent=silent)\\n\\n    def from_prefixed_env(\\n        self, prefix: str = \"FLASK\", *, loads: t.Callable[[str], t.Any] = json.loads\\n    ) -> bool:\\n        \"\"\"Load any environment variables that start with ``FLASK_``,\\n        dropping the prefix from the env key for the config key. Values\\n        are passed through a loading function to attempt to convert them\\n        to more specific types than strings.\\n\\n        Keys are loaded in :func:`sorted` order.\\n\\n        The default loading function attempts to parse values as any\\n        valid JSON type, including dicts and lists.\\n\\n        Specific items in nested dicts can be set by separating the\\n        keys with double underscores (``__``). If an intermediate key\\n        doesn\\'t exist, it will be initialized to an empty dict.\\n\\n        :param prefix: Load env vars that start with this prefix,\\n            separated with an underscore (``_``).\\n        :param loads: Pass each string value to this function and use\\n            the returned value as the config value. If any error is\\n            raised it is ignored and the value remains a string. The\\n            default is :func:`json.loads`.\\n\\n        .. versionadded:: 2.1\\n        \"\"\"\\n        prefix = f\"{prefix}_\"\\n        len_prefix = len(prefix)\\n\\n        for key in sorted(os.environ):\\n            if not key.startswith(prefix):\\n                continue\\n\\n            value = os.environ[key]\\n\\n            try:\\n                value = loads(value)\\n            except Exception:\\n                # Keep the value as a string if loading failed.\\n                pass\\n\\n            # Change to key.removeprefix(prefix) on Python >= 3.9.\\n            key = key[len_prefix:]\\n\\n            if \"__\" not in key:\\n                # A non-nested key, set directly.\\n                self[key] = value\\n                continue\\n\\n            # Traverse nested dictionaries with keys separated by \"__\".\\n            current = self\\n            *parts, tail = key.split(\"__\")\\n\\n            for part in parts:\\n                # If an intermediate dict does not exist, create it.\\n                if part not in current:\\n                    current[part] = {}\\n\\n                current = current[part]\\n\\n            current[tail] = value\\n\\n        return True\\n\\n    def from_pyfile(self, filename: str, silent: bool = False) -> bool:\\n        \"\"\"Updates the values in the config from a Python file.  This function\\n        behaves as if the file was imported as module with the\\n        :meth:`from_object` function.\\n\\n        :param filename: the filename of the config.  This can either be an\\n                         absolute filename or a filename relative to the\\n                         root path.\\n        :param silent: set to ``True`` if you want silent failure for missing\\n                       files.\\n        :return: ``True`` if the file was loaded successfully.\\n\\n        .. versionadded:: 0.7\\n           `silent` parameter.\\n        \"\"\"\\n        filename = os.path.join(self.root_path, filename)\\n        d = types.ModuleType(\"config\")\\n        d.__file__ = filename\\n        try:\\n            with open(filename, mode=\"rb\") as config_file:\\n                exec(compile(config_file.read(), filename, \"exec\"), d.__dict__)\\n        except OSError as e:\\n            if silent and e.errno in (errno.ENOENT, errno.EISDIR, errno.ENOTDIR):\\n                return False\\n            e.strerror = f\"Unable to load configuration file ({e.strerror})\"\\n            raise\\n        self.from_object(d)\\n        return True\\n\\n    def from_object(self, obj: t.Union[object, str]) -> None:\\n        \"\"\"Updates the values from the given object.  An object can be of one\\n        of the following two types:\\n\\n        -   a string: in this case the object with that name will be imported\\n        -   an actual object reference: that object is used directly\\n\\n        Objects are usually either modules or classes. :meth:`from_object`\\n        loads only the uppercase attributes of the module/class. A ``dict``\\n        object will not work with :meth:`from_object` because the keys of a\\n        ``dict`` are not attributes of the ``dict`` class.\\n\\n        Example of module-based configuration::\\n\\n            app.config.from_object(\\'yourapplication.default_config\\')\\n            from yourapplication import default_config\\n            app.config.from_object(default_config)\\n\\n        Nothing is done to the object before loading. If the object is a\\n        class and has ``@property`` attributes, it needs to be\\n        instantiated before being passed to this method.\\n\\n        You should not use this function to load the actual configuration but\\n        rather configuration defaults.  The actual config should be loaded\\n        with :meth:`from_pyfile` and ideally from a location not within the\\n        package because the package might be installed system wide.\\n\\n        See :ref:`config-dev-prod` for an example of class-based configuration\\n        using :meth:`from_object`.\\n\\n        :param obj: an import name or object\\n        \"\"\"\\n        if isinstance(obj, str):\\n            obj = import_string(obj)\\n        for key in dir(obj):\\n            if key.isupper():\\n                self[key] = getattr(obj, key)\\n\\n    def from_file(\\n        self,\\n        filename: str,\\n        load: t.Callable[[t.IO[t.Any]], t.Mapping],\\n        silent: bool = False,\\n    ) -> bool:\\n        \"\"\"Update the values in the config from a file that is loaded\\n        using the ``load`` parameter. The loaded data is passed to the\\n        :meth:`from_mapping` method.\\n\\n        .. code-block:: python\\n\\n            import json\\n            app.config.from_file(\"config.json\", load=json.load)\\n\\n            import toml\\n            app.config.from_file(\"config.toml\", load=toml.load)\\n\\n        :param filename: The path to the data file. This can be an\\n            absolute path or relative to the config root path.\\n        :param load: A callable that takes a file handle and returns a\\n            mapping of loaded data from the file.\\n        :type load: ``Callable[[Reader], Mapping]`` where ``Reader``\\n            implements a ``read`` method.\\n        :param silent: Ignore the file if it doesn\\'t exist.\\n        :return: ``True`` if the file was loaded successfully.\\n\\n        .. versionadded:: 2.0\\n        \"\"\"\\n        filename = os.path.join(self.root_path, filename)\\n\\n        try:\\n            with open(filename) as f:\\n                obj = load(f)\\n        except OSError as e:\\n            if silent and e.errno in (errno.ENOENT, errno.EISDIR):\\n                return False\\n\\n            e.strerror = f\"Unable to load configuration file ({e.strerror})\"\\n            raise\\n\\n        return self.from_mapping(obj)\\n\\n    def from_mapping(\\n        self, mapping: t.Optional[t.Mapping[str, t.Any]] = None, **kwargs: t.Any\\n    ) -> bool:\\n        \"\"\"Updates the config like :meth:`update` ignoring items with non-upper\\n        keys.\\n        :return: Always returns ``True``.\\n\\n        .. versionadded:: 0.11\\n        \"\"\"\\n        mappings: t.Dict[str, t.Any] = {}\\n        if mapping is not None:\\n            mappings.update(mapping)\\n        mappings.update(kwargs)\\n        for key, value in mappings.items():\\n            if key.isupper():\\n                self[key] = value\\n        return True\\n\\n    def get_namespace(\\n        self, namespace: str, lowercase: bool = True, trim_namespace: bool = True\\n    ) -> t.Dict[str, t.Any]:\\n        \"\"\"Returns a dictionary containing a subset of configuration options\\n        that match the specified namespace/prefix. Example usage::\\n\\n            app.config[\\'IMAGE_STORE_TYPE\\'] = \\'fs\\'\\n            app.config[\\'IMAGE_STORE_PATH\\'] = \\'/var/app/images\\'\\n            app.config[\\'IMAGE_STORE_BASE_URL\\'] = \\'http://img.website.com\\'\\n            image_store_config = app.config.get_namespace(\\'IMAGE_STORE_\\')\\n\\n        The resulting dictionary `image_store_config` would look like::\\n\\n            {\\n                \\'type\\': \\'fs\\',\\n                \\'path\\': \\'/var/app/images\\',\\n                \\'base_url\\': \\'http://img.website.com\\'\\n            }\\n\\n        This is often useful when configuration options map directly to\\n        keyword arguments in functions or class constructors.\\n\\n        :param namespace: a configuration namespace\\n        :param lowercase: a flag indicating if the keys of the resulting\\n                          dictionary should be lowercase\\n        :param trim_namespace: a flag indicating if the keys of the resulting\\n                          dictionary should not include the namespace\\n\\n        .. versionadded:: 0.11\\n        \"\"\"\\n        rv = {}\\n        for k, v in self.items():\\n            if not k.startswith(namespace):\\n                continue\\n            if trim_namespace:\\n                key = k[len(namespace) :]\\n            else:\\n                key = k\\n            if lowercase:\\n                key = key.lower()\\n            rv[key] = v\\n        return rv\\n\\n    def __repr__(self) -> str:\\n        return f\"<{type(self).__name__} {dict.__repr__(self)}>\"\\n\\n\"\"\"\\nTest class which uses unittest.TestCase. \\nThe class tests more from_prefixed_env features\\n\\n* support nested dict access with \"__\" separator\\n* don\\'t specify separator in prefix\\n* catch exceptions for any loads function.\\n\"\"\"\\nclass Test'"
     },
     "execution_count": 4,
     "metadata": {},
     "output_type": "execute_result"
    }
   ],
   "source": [
    "messages[1]"
   ],
   "metadata": {
    "collapsed": false,
    "pycharm": {
     "name": "#%%\n"
    }
   }
  },
  {
   "cell_type": "code",
   "execution_count": 5,
   "outputs": [
    {
     "data": {
      "text/plain": "<OpenAIObject text_completion id=cmpl-5DD5FsmCUA5pG1WHzDMUnik3Hylg2 at 0x2866847bd10> JSON: {\n  \"choices\": [\n    {\n      \"finish_reason\": \"length\",\n      \"index\": 0,\n      \"logprobs\": null,\n      \"text\": \"Config(unittest.TestCase):\\n    def setUp(\"\n    }\n  ],\n  \"created\": 1653830241,\n  \"id\": \"cmpl-5DD5FsmCUA5pG1WHzDMUnik3Hylg2\",\n  \"model\": \"code-davinci-002\",\n  \"object\": \"text_completion\"\n}"
     },
     "execution_count": 5,
     "metadata": {},
     "output_type": "execute_result"
    }
   ],
   "source": [
    "openai.Completion.create(\n",
    "            engine=\"code-davinci-002\",\n",
    "            prompt=f\"{messages[1]}\",\n",
    "            temperature=0,\n",
    "            top_p=1.0,\n",
    "            frequency_penalty=0.0,\n",
    "            presence_penalty=0.0,\n",
    "            stop=[\"#\", \"\\\"\\\"\\\"\"]\n",
    "        )\n"
   ],
   "metadata": {
    "collapsed": false,
    "pycharm": {
     "name": "#%%\n"
    }
   }
  },
  {
   "cell_type": "code",
   "execution_count": 6,
   "outputs": [
    {
     "name": "stdout",
     "output_type": "stream",
     "text": [
      "### Python3\n",
      "\n",
      "import errno\n",
      "import json\n",
      "import os\n",
      "import types\n",
      "import typing as t\n",
      "\n",
      "from werkzeug.utils import import_string\n",
      "\n",
      "\n",
      "def _json_loads(raw: t.Union[str, bytes]) -> t.Any:\n",
      "    try:\n",
      "        return json.loads(raw)\n",
      "    except json.JSONDecodeError:\n",
      "        return raw\n",
      "\n",
      "\n",
      "class ConfigAttribute:\n",
      "    \"\"\"Makes an attribute forward to the config\"\"\"\n",
      "\n",
      "    def __init__(self, name: str, get_converter: t.Optional[t.Callable] = None) -> None:\n",
      "        self.__name__ = name\n",
      "        self.get_converter = get_converter\n",
      "\n",
      "    def __get__(self, obj: t.Any, owner: t.Any = None) -> t.Any:\n",
      "        if obj is None:\n",
      "            return self\n",
      "        rv = obj.config[self.__name__]\n",
      "        if self.get_converter is not None:\n",
      "            rv = self.get_converter(rv)\n",
      "        return rv\n",
      "\n",
      "    def __set__(self, obj: t.Any, value: t.Any) -> None:\n",
      "        obj.config[self.__name__] = value\n",
      "\n",
      "\n",
      "class Config(dict):\n",
      "    \"\"\"Works exactly like a dict but provides ways to fill it from files\n",
      "    or special dictionaries.  There are two common patterns to populate the\n",
      "    config.\n",
      "\n",
      "    Either you can fill the config from a config file::\n",
      "\n",
      "        app.config.from_pyfile('yourconfig.cfg')\n",
      "\n",
      "    Or alternatively you can define the configuration options in the\n",
      "    module that calls :meth:`from_object` or provide an import path to\n",
      "    a module that should be loaded.  It is also possible to tell it to\n",
      "    use the same module and with that provide the configuration values\n",
      "    just before the call::\n",
      "\n",
      "        DEBUG = True\n",
      "        SECRET_KEY = 'development key'\n",
      "        app.config.from_object(__name__)\n",
      "\n",
      "    In both cases (loading from any Python file or loading from modules),\n",
      "    only uppercase keys are added to the config.  This makes it possible to use\n",
      "    lowercase values in the config file for temporary values that are not added\n",
      "    to the config or to define the config keys in the same file that implements\n",
      "    the application.\n",
      "\n",
      "    Probably the most interesting way to load configurations is from an\n",
      "    environment variable pointing to a file::\n",
      "\n",
      "        app.config.from_envvar('YOURAPPLICATION_SETTINGS')\n",
      "\n",
      "    In this case before launching the application you have to set this\n",
      "    environment variable to the file you want to use.  On Linux and OS X\n",
      "    use the export statement::\n",
      "\n",
      "        export YOURAPPLICATION_SETTINGS='/path/to/config/file'\n",
      "\n",
      "    On windows use `set` instead.\n",
      "\n",
      "    :param root_path: path to which files are read relative from.  When the\n",
      "                      config object is created by the application, this is\n",
      "                      the application's :attr:`~flask.Flask.root_path`.\n",
      "    :param defaults: an optional dictionary of default values\n",
      "    \"\"\"\n",
      "\n",
      "    def __init__(self, root_path: str, defaults: t.Optional[dict] = None) -> None:\n",
      "        super().__init__(defaults or {})\n",
      "        self.root_path = root_path\n",
      "\n",
      "    def from_envvar(self, variable_name: str, silent: bool = False) -> bool:\n",
      "        \"\"\"Loads a configuration from an environment variable pointing to\n",
      "        a configuration file.  This is basically just a shortcut with nicer\n",
      "        error messages for this line of code::\n",
      "\n",
      "            app.config.from_pyfile(os.environ['YOURAPPLICATION_SETTINGS'])\n",
      "\n",
      "        :param variable_name: name of the environment variable\n",
      "        :param silent: set to ``True`` if you want silent failure for missing\n",
      "                       files.\n",
      "        :return: ``True`` if the file was loaded successfully.\n",
      "        \"\"\"\n",
      "        rv = os.environ.get(variable_name)\n",
      "        if not rv:\n",
      "            if silent:\n",
      "                return False\n",
      "            raise RuntimeError(\n",
      "                f\"The environment variable {variable_name!r} is not set\"\n",
      "                \" and as such configuration could not be loaded. Set\"\n",
      "                \" this variable and make it point to a configuration\"\n",
      "                \" file\"\n",
      "            )\n",
      "        return self.from_pyfile(rv, silent=silent)\n",
      "\n",
      "    def from_prefixed_env(\n",
      "        self, prefix: str = \"FLASK\", *, loads: t.Callable[[str], t.Any] = json.loads\n",
      "    ) -> bool:\n",
      "        \"\"\"Load any environment variables that start with ``FLASK_``,\n",
      "        dropping the prefix from the env key for the config key. Values\n",
      "        are passed through a loading function to attempt to convert them\n",
      "        to more specific types than strings.\n",
      "\n",
      "        Keys are loaded in :func:`sorted` order.\n",
      "\n",
      "        The default loading function attempts to parse values as any\n",
      "        valid JSON type, including dicts and lists.\n",
      "\n",
      "        Specific items in nested dicts can be set by separating the\n",
      "        keys with double underscores (``__``). If an intermediate key\n",
      "        doesn't exist, it will be initialized to an empty dict.\n",
      "\n",
      "        :param prefix: Load env vars that start with this prefix,\n",
      "            separated with an underscore (``_``).\n",
      "        :param loads: Pass each string value to this function and use\n",
      "            the returned value as the config value. If any error is\n",
      "            raised it is ignored and the value remains a string. The\n",
      "            default is :func:`json.loads`.\n",
      "\n",
      "        .. versionadded:: 2.1\n",
      "        \"\"\"\n",
      "        prefix = f\"{prefix}_\"\n",
      "        len_prefix = len(prefix)\n",
      "\n",
      "        for key in sorted(os.environ):\n",
      "            if not key.startswith(prefix):\n",
      "                continue\n",
      "\n",
      "            value = os.environ[key]\n",
      "\n",
      "            try:\n",
      "                value = loads(value)\n",
      "            except Exception:\n",
      "                # Keep the value as a string if loading failed.\n",
      "                pass\n",
      "\n",
      "            # Change to key.removeprefix(prefix) on Python >= 3.9.\n",
      "            key = key[len_prefix:]\n",
      "\n",
      "            if \"__\" not in key:\n",
      "                # A non-nested key, set directly.\n",
      "                self[key] = value\n",
      "                continue\n",
      "\n",
      "            # Traverse nested dictionaries with keys separated by \"__\".\n",
      "            current = self\n",
      "            *parts, tail = key.split(\"__\")\n",
      "\n",
      "            for part in parts:\n",
      "                # If an intermediate dict does not exist, create it.\n",
      "                if part not in current:\n",
      "                    current[part] = {}\n",
      "\n",
      "                current = current[part]\n",
      "\n",
      "            current[tail] = value\n",
      "\n",
      "        return True\n",
      "\n",
      "    def from_pyfile(self, filename: str, silent: bool = False) -> bool:\n",
      "        \"\"\"Updates the values in the config from a Python file.  This function\n",
      "        behaves as if the file was imported as module with the\n",
      "        :meth:`from_object` function.\n",
      "\n",
      "        :param filename: the filename of the config.  This can either be an\n",
      "                         absolute filename or a filename relative to the\n",
      "                         root path.\n",
      "        :param silent: set to ``True`` if you want silent failure for missing\n",
      "                       files.\n",
      "        :return: ``True`` if the file was loaded successfully.\n",
      "\n",
      "        .. versionadded:: 0.7\n",
      "           `silent` parameter.\n",
      "        \"\"\"\n",
      "        filename = os.path.join(self.root_path, filename)\n",
      "        d = types.ModuleType(\"config\")\n",
      "        d.__file__ = filename\n",
      "        try:\n",
      "            with open(filename, mode=\"rb\") as config_file:\n",
      "                exec(compile(config_file.read(), filename, \"exec\"), d.__dict__)\n",
      "        except OSError as e:\n",
      "            if silent and e.errno in (errno.ENOENT, errno.EISDIR, errno.ENOTDIR):\n",
      "                return False\n",
      "            e.strerror = f\"Unable to load configuration file ({e.strerror})\"\n",
      "            raise\n",
      "        self.from_object(d)\n",
      "        return True\n",
      "\n",
      "    def from_object(self, obj: t.Union[object, str]) -> None:\n",
      "        \"\"\"Updates the values from the given object.  An object can be of one\n",
      "        of the following two types:\n",
      "\n",
      "        -   a string: in this case the object with that name will be imported\n",
      "        -   an actual object reference: that object is used directly\n",
      "\n",
      "        Objects are usually either modules or classes. :meth:`from_object`\n",
      "        loads only the uppercase attributes of the module/class. A ``dict``\n",
      "        object will not work with :meth:`from_object` because the keys of a\n",
      "        ``dict`` are not attributes of the ``dict`` class.\n",
      "\n",
      "        Example of module-based configuration::\n",
      "\n",
      "            app.config.from_object('yourapplication.default_config')\n",
      "            from yourapplication import default_config\n",
      "            app.config.from_object(default_config)\n",
      "\n",
      "        Nothing is done to the object before loading. If the object is a\n",
      "        class and has ``@property`` attributes, it needs to be\n",
      "        instantiated before being passed to this method.\n",
      "\n",
      "        You should not use this function to load the actual configuration but\n",
      "        rather configuration defaults.  The actual config should be loaded\n",
      "        with :meth:`from_pyfile` and ideally from a location not within the\n",
      "        package because the package might be installed system wide.\n",
      "\n",
      "        See :ref:`config-dev-prod` for an example of class-based configuration\n",
      "        using :meth:`from_object`.\n",
      "\n",
      "        :param obj: an import name or object\n",
      "        \"\"\"\n",
      "        if isinstance(obj, str):\n",
      "            obj = import_string(obj)\n",
      "        for key in dir(obj):\n",
      "            if key.isupper():\n",
      "                self[key] = getattr(obj, key)\n",
      "\n",
      "    def from_file(\n",
      "        self,\n",
      "        filename: str,\n",
      "        load: t.Callable[[t.IO[t.Any]], t.Mapping],\n",
      "        silent: bool = False,\n",
      "    ) -> bool:\n",
      "        \"\"\"Update the values in the config from a file that is loaded\n",
      "        using the ``load`` parameter. The loaded data is passed to the\n",
      "        :meth:`from_mapping` method.\n",
      "\n",
      "        .. code-block:: python\n",
      "\n",
      "            import json\n",
      "            app.config.from_file(\"config.json\", load=json.load)\n",
      "\n",
      "            import toml\n",
      "            app.config.from_file(\"config.toml\", load=toml.load)\n",
      "\n",
      "        :param filename: The path to the data file. This can be an\n",
      "            absolute path or relative to the config root path.\n",
      "        :param load: A callable that takes a file handle and returns a\n",
      "            mapping of loaded data from the file.\n",
      "        :type load: ``Callable[[Reader], Mapping]`` where ``Reader``\n",
      "            implements a ``read`` method.\n",
      "        :param silent: Ignore the file if it doesn't exist.\n",
      "        :return: ``True`` if the file was loaded successfully.\n",
      "\n",
      "        .. versionadded:: 2.0\n",
      "        \"\"\"\n",
      "        filename = os.path.join(self.root_path, filename)\n",
      "\n",
      "        try:\n",
      "            with open(filename) as f:\n",
      "                obj = load(f)\n",
      "        except OSError as e:\n",
      "            if silent and e.errno in (errno.ENOENT, errno.EISDIR):\n",
      "                return False\n",
      "\n",
      "            e.strerror = f\"Unable to load configuration file ({e.strerror})\"\n",
      "            raise\n",
      "\n",
      "        return self.from_mapping(obj)\n",
      "\n",
      "    def from_mapping(\n",
      "        self, mapping: t.Optional[t.Mapping[str, t.Any]] = None, **kwargs: t.Any\n",
      "    ) -> bool:\n",
      "        \"\"\"Updates the config like :meth:`update` ignoring items with non-upper\n",
      "        keys.\n",
      "        :return: Always returns ``True``.\n",
      "\n",
      "        .. versionadded:: 0.11\n",
      "        \"\"\"\n",
      "        mappings: t.Dict[str, t.Any] = {}\n",
      "        if mapping is not None:\n",
      "            mappings.update(mapping)\n",
      "        mappings.update(kwargs)\n",
      "        for key, value in mappings.items():\n",
      "            if key.isupper():\n",
      "                self[key] = value\n",
      "        return True\n",
      "\n",
      "    def get_namespace(\n",
      "        self, namespace: str, lowercase: bool = True, trim_namespace: bool = True\n",
      "    ) -> t.Dict[str, t.Any]:\n",
      "        \"\"\"Returns a dictionary containing a subset of configuration options\n",
      "        that match the specified namespace/prefix. Example usage::\n",
      "\n",
      "            app.config['IMAGE_STORE_TYPE'] = 'fs'\n",
      "            app.config['IMAGE_STORE_PATH'] = '/var/app/images'\n",
      "            app.config['IMAGE_STORE_BASE_URL'] = 'http://img.website.com'\n",
      "            image_store_config = app.config.get_namespace('IMAGE_STORE_')\n",
      "\n",
      "        The resulting dictionary `image_store_config` would look like::\n",
      "\n",
      "            {\n",
      "                'type': 'fs',\n",
      "                'path': '/var/app/images',\n",
      "                'base_url': 'http://img.website.com'\n",
      "            }\n",
      "\n",
      "        This is often useful when configuration options map directly to\n",
      "        keyword arguments in functions or class constructors.\n",
      "\n",
      "        :param namespace: a configuration namespace\n",
      "        :param lowercase: a flag indicating if the keys of the resulting\n",
      "                          dictionary should be lowercase\n",
      "        :param trim_namespace: a flag indicating if the keys of the resulting\n",
      "                          dictionary should not include the namespace\n",
      "\n",
      "        .. versionadded:: 0.11\n",
      "        \"\"\"\n",
      "        rv = {}\n",
      "        for k, v in self.items():\n",
      "            if not k.startswith(namespace):\n",
      "                continue\n",
      "            if trim_namespace:\n",
      "                key = k[len(namespace) :]\n",
      "            else:\n",
      "                key = k\n",
      "            if lowercase:\n",
      "                key = key.lower()\n",
      "            rv[key] = v\n",
      "        return rv\n",
      "\n",
      "    def __repr__(self) -> str:\n",
      "        return f\"<{type(self).__name__} {dict.__repr__(self)}>\"\n",
      "\n",
      "\"\"\"\n",
      "Test class which uses unittest.TestCase. \n",
      "The class tests more from_prefixed_env features\n",
      "\n",
      "* support nested dict access with \"__\" separator\n",
      "* don't specify separator in prefix\n",
      "* catch exceptions for any loads function.\n",
      "\"\"\"\n",
      "class Test\n"
     ]
    }
   ],
   "source": [
    "print(messages[1])"
   ],
   "metadata": {
    "collapsed": false,
    "pycharm": {
     "name": "#%%\n"
    }
   }
  },
  {
   "cell_type": "code",
   "execution_count": 7,
   "outputs": [],
   "source": [
    "message = \"\"\"\n",
    "### Python3\n",
    "#\n",
    "# Module(body=[Import(names=[alias(name='errno')]), Import(names=[alias(name='json')]), Import(names=[alias(name='os')]), Import(names=[alias(name='types')]), Import(names=[alias(name='typing', asname='t')]), ImportFrom(module='werkzeug.utils', names=[alias(name='import_string')], level=0), FunctionDef(name='_json_loads', args=arguments(posonlyargs=[], args=[arg(arg='raw', annotation=Subscript(value=Attribute(value=Name(id='t', ctx=Load()), attr='Union', ctx=Load()), slice=Tuple(elts=[Name(id='str', ctx=Load()), Name(id='bytes', ctx=Load())], ctx=Load()), ctx=Load()))], kwonlyargs=[], kw_defaults=[], defaults=[]), body=[Try(body=[Return(value=Call(func=Attribute(value=Name(id='json', ctx=Load()), attr='loads', ctx=Load()), args=[Name(id='raw', ctx=Load())], keywords=[]))], handlers=[ExceptHandler(type=Attribute(value=Name(id='json', ctx=Load()), attr='JSONDecodeError', ctx=Load()), body=[Return(value=Name(id='raw', ctx=Load()))])], orelse=[], finalbody=[])], decorator_list=[], returns=Attribute(value=Name(id='t', ctx=Load()), attr='Any', ctx=Load())), ClassDef(name='ConfigAttribute', bases=[], keywords=[], body=[Expr(value=Constant(value='Makes an attribute forward to the config')), FunctionDef(name='__init__', args=arguments(posonlyargs=[], args=[arg(arg='self'), arg(arg='name', annotation=Name(id='str', ctx=Load())), arg(arg='get_converter', annotation=Subscript(value=Attribute(value=Name(id='t', ctx=Load()), attr='Optional', ctx=Load()), slice=Attribute(value=Name(id='t', ctx=Load()), attr='Callable', ctx=Load()), ctx=Load()))], kwonlyargs=[], kw_defaults=[], defaults=[Constant(value=None)]), body=[Assign(targets=[Attribute(value=Name(id='self', ctx=Load()), attr='__name__', ctx=Store())], value=Name(id='name', ctx=Load())), Assign(targets=[Attribute(value=Name(id='self', ctx=Load()), attr='get_converter', ctx=Store())], value=Name(id='get_converter', ctx=Load()))], decorator_list=[], returns=Constant(value=None)), FunctionDef(name='__get__', args=arguments(posonlyargs=[], args=[arg(arg='self'), arg(arg='obj', annotation=Attribute(value=Name(id='t', ctx=Load()), attr='Any', ctx=Load())), arg(arg='owner', annotation=Attribute(value=Name(id='t', ctx=Load()), attr='Any', ctx=Load()))], kwonlyargs=[], kw_defaults=[], defaults=[Constant(value=None)]), body=[If(test=Compare(left=Name(id='obj', ctx=Load()), ops=[Is()], comparators=[Constant(value=None)]), body=[Return(value=Name(id='self', ctx=Load()))], orelse=[]), Assign(targets=[Name(id='rv', ctx=Store())], value=Subscript(value=Attribute(value=Name(id='obj', ctx=Load()), attr='config', ctx=Load()), slice=Attribute(value=Name(id='self', ctx=Load()), attr='__name__', ctx=Load()), ctx=Load())), If(test=Compare(left=Attribute(value=Name(id='self', ctx=Load()), attr='get_converter', ctx=Load()), ops=[IsNot()], comparators=[Constant(value=None)]), body=[Assign(targets=[Name(id='rv', ctx=Store())], value=Call(func=Attribute(value=Name(id='self', ctx=Load()), attr='get_converter', ctx=Load()), args=[Name(id='rv', ctx=Load())], keywords=[]))], orelse=[]), Return(value=Name(id='rv', ctx=Load()))], decorator_list=[], returns=Attribute(value=Name(id='t', ctx=Load()), attr='Any', ctx=Load())), FunctionDef(name='__set__', args=arguments(posonlyargs=[], args=[arg(arg='self'), arg(arg='obj', annotation=Attribute(value=Name(id='t', ctx=Load()), attr='Any', ctx=Load())), arg(arg='value', annotation=Attribute(value=Name(id='t', ctx=Load()), attr='Any', ctx=Load()))], kwonlyargs=[], kw_defaults=[], defaults=[]), body=[Assign(targets=[Subscript(value=Attribute(value=Name(id='obj', ctx=Load()), attr='config', ctx=Load()), slice=Attribute(value=Name(id='self', ctx=Load()), attr='__name__', ctx=Load()), ctx=Store())], value=Name(id='value', ctx=Load()))], decorator_list=[], returns=Constant(value=None))], decorator_list=[]), ClassDef(name='Config', bases=[Name(id='dict', ctx=Load())], keywords=[], body=[Expr(value=Constant(value=\"Works exactly like a dict but provides ways to fill it from files\\n    or\n",
    "### Generate tests for class ConfigAttributes public methods.\n",
    "def\n",
    "\"\"\""
   ],
   "metadata": {
    "collapsed": false,
    "pycharm": {
     "name": "#%%\n"
    }
   }
  },
  {
   "cell_type": "markdown",
   "source": [
    "# Results by running the code above:\n",
    "\\#\\#\\# Generate tests for class ConfigAttributes public methods.\\ndef\\n###\""
   ],
   "metadata": {
    "collapsed": false,
    "pycharm": {
     "name": "#%% md\n"
    }
   }
  },
  {
   "cell_type": "code",
   "execution_count": 8,
   "outputs": [],
   "source": [
    "test_msg = '''\n",
    "import errno\n",
    "import json\n",
    "import os\n",
    "import types\n",
    "import typing as t\n",
    "\n",
    "from werkzeug.utils import import_string\n",
    "\n",
    "\n",
    "def _json_loads(raw: t.Union[str, bytes]) -> t.Any:\n",
    "    try:\n",
    "        return json.loads(raw)\n",
    "    except json.JSONDecodeError:\n",
    "        return raw\n",
    "\n",
    "\n",
    "class ConfigAttribute:\n",
    "    def __init__(self, name: str, get_converter: t.Optional[t.Callable] = None) -> None:\n",
    "        self.__name__ = name\n",
    "        self.get_converter = get_converter\n",
    "\n",
    "    def __get__(self, obj: t.Any, owner: t.Any = None) -> t.Any:\n",
    "        if obj is None:\n",
    "            return self\n",
    "        rv = obj.config[self.__name__]\n",
    "        if self.get_converter is not None:\n",
    "            rv = self.get_converter(rv)\n",
    "        return rv\n",
    "\n",
    "    def __set__(self, obj: t.Any, value: t.Any) -> None:\n",
    "        obj.config[self.__name__] = value\n",
    "\n",
    "\n",
    "class Config(dict):\n",
    "    def __init__(self, root_path: str, defaults: t.Optional[dict] = None) -> None:\n",
    "        super().__init__(defaults or {})\n",
    "        self.root_path = root_path\n",
    "\n",
    "    def from_envvar(self, variable_name: str, silent: bool = False) -> bool:\n",
    "        rv = os.environ.get(variable_name)\n",
    "        if not rv:\n",
    "            if silent:\n",
    "                return False\n",
    "            raise RuntimeError(\n",
    "                f\"The environment variable {variable_name!r} is not set\"\n",
    "                \" and as such configuration could not be loaded. Set\"\n",
    "                \" this variable and make it point to a configuration\"\n",
    "                \" file\"\n",
    "            )\n",
    "        return self.from_pyfile(rv, silent=silent)\n",
    "\n",
    "    def from_prefixed_env(\n",
    "        self, prefix: str = \"FLASK\", *, loads: t.Callable[[str], t.Any] = json.loads\n",
    "    ) -> bool:\n",
    "        prefix = f\"{prefix}_\"\n",
    "        len_prefix = len(prefix)\n",
    "\n",
    "        for key in sorted(os.environ):\n",
    "            if not key.startswith(prefix):\n",
    "                continue\n",
    "\n",
    "            value = os.environ[key]\n",
    "\n",
    "            try:\n",
    "                value = loads(value)\n",
    "            except Exception:\n",
    "                # Keep the value as a string if loading failed.\n",
    "                pass\n",
    "\n",
    "            # Change to key.removeprefix(prefix) on Python >= 3.9.\n",
    "            key = key[len_prefix:]\n",
    "\n",
    "            if \"__\" not in key:\n",
    "                # A non-nested key, set directly.\n",
    "                self[key] = value\n",
    "                continue\n",
    "\n",
    "            # Traverse nested dictionaries with keys separated by \"__\".\n",
    "            current = self\n",
    "            *parts, tail = key.split(\"__\")\n",
    "\n",
    "            for part in parts:\n",
    "                # If an intermediate dict does not exist, create it.\n",
    "                if part not in current:\n",
    "                    current[part] = {}\n",
    "\n",
    "                current = current[part]\n",
    "\n",
    "            current[tail] = value\n",
    "\n",
    "        return True\n",
    "\n",
    "    def from_pyfile(self, filename: str, silent: bool = False) -> bool:\n",
    "        filename = os.path.join(self.root_path, filename)\n",
    "        d = types.ModuleType(\"config\")\n",
    "        d.__file__ = filename\n",
    "        try:\n",
    "            with open(filename, mode=\"rb\") as config_file:\n",
    "                exec(compile(config_file.read(), filename, \"exec\"), d.__dict__)\n",
    "        except OSError as e:\n",
    "            if silent and e.errno in (errno.ENOENT, errno.EISDIR, errno.ENOTDIR):\n",
    "                return False\n",
    "            e.strerror = f\"Unable to load configuration file ({e.strerror})\"\n",
    "            raise\n",
    "        self.from_object(d)\n",
    "        return True\n",
    "\n",
    "    def from_object(self, obj: t.Union[object, str]) -> None:\n",
    "        if isinstance(obj, str):\n",
    "            obj = import_string(obj)\n",
    "        for key in dir(obj):\n",
    "            if key.isupper():\n",
    "                self[key] = getattr(obj, key)\n",
    "\n",
    "    def from_file(\n",
    "        self,\n",
    "        filename: str,\n",
    "        load: t.Callable[[t.IO[t.Any]], t.Mapping],\n",
    "        silent: bool = False,\n",
    "    ) -> bool:\n",
    "        filename = os.path.join(self.root_path, filename)\n",
    "\n",
    "        try:\n",
    "            with open(filename) as f:\n",
    "                obj = load(f)\n",
    "        except OSError as e:\n",
    "            if silent and e.errno in (errno.ENOENT, errno.EISDIR):\n",
    "                return False\n",
    "\n",
    "            e.strerror = f\"Unable to load configuration file ({e.strerror})\"\n",
    "            raise\n",
    "\n",
    "        return self.from_mapping(obj)\n",
    "\n",
    "    def from_mapping(\n",
    "        self, mapping: t.Optional[t.Mapping[str, t.Any]] = None, **kwargs: t.Any\n",
    "    ) -> bool:\n",
    "        mappings: t.Dict[str, t.Any] = {}\n",
    "        if mapping is not None:\n",
    "            mappings.update(mapping)\n",
    "        mappings.update(kwargs)\n",
    "        for key, value in mappings.items():\n",
    "            if key.isupper():\n",
    "                self[key] = value\n",
    "        return True\n",
    "\n",
    "    def get_namespace(\n",
    "        self, namespace: str, lowercase: bool = True, trim_namespace: bool = True\n",
    "    ) -> t.Dict[str, t.Any]:\n",
    "        rv = {}\n",
    "        for k, v in self.items():\n",
    "            if not k.startswith(namespace):\n",
    "                continue\n",
    "            if trim_namespace:\n",
    "                key = k[len(namespace) :]\n",
    "            else:\n",
    "                key = k\n",
    "            if lowercase:\n",
    "                key = key.lower()\n",
    "            rv[key] = v\n",
    "        return rv\n",
    "\n",
    "    def __repr__(self) -> str:\n",
    "        return f\"<{type(self).__name__} {dict.__repr__(self)}>\"\n",
    "\n",
    "# Generate tests for: more from_prefixed_env features, support nested dict access with \"__\" separator, don't specify separator in prefix, catch exceptions for any loads function\n",
    "'''"
   ],
   "metadata": {
    "collapsed": false,
    "pycharm": {
     "name": "#%%\n"
    }
   }
  },
  {
   "cell_type": "code",
   "execution_count": 9,
   "outputs": [],
   "source": [
    "test_definition = '''\n",
    "def test_from_prefixed_env_with_json_loads():\n",
    "\"\"\"\n",
    "Create test which: prefixed env with json_loads\n",
    "\"\"\"\n",
    "'''"
   ],
   "metadata": {
    "collapsed": false,
    "pycharm": {
     "name": "#%%\n"
    }
   }
  },
  {
   "cell_type": "code",
   "execution_count": 10,
   "outputs": [],
   "source": [
    "ast_data = ast.parse(\"\"\"\n",
    "import errno\n",
    "import json\n",
    "import os\n",
    "import types\n",
    "import typing as t\n",
    "\n",
    "from werkzeug.utils import import_string\n",
    "\n",
    "\n",
    "def _json_loads(raw: t.Union[str, bytes]) -> t.Any:\n",
    "    try:\n",
    "        return json.loads(raw)\n",
    "    except json.JSONDecodeError:\n",
    "        return raw\n",
    "\n",
    "\n",
    "class ConfigAttribute:\n",
    "    def __init__(self, name: str, get_converter: t.Optional[t.Callable] = None) -> None:\n",
    "        self.__name__ = name\n",
    "        self.get_converter = get_converter\n",
    "\n",
    "    def __get__(self, obj: t.Any, owner: t.Any = None) -> t.Any:\n",
    "        if obj is None:\n",
    "            return self\n",
    "        rv = obj.config[self.__name__]\n",
    "        if self.get_converter is not None:\n",
    "            rv = self.get_converter(rv)\n",
    "        return rv\n",
    "\n",
    "    def __set__(self, obj: t.Any, value: t.Any) -> None:\n",
    "        obj.config[self.__name__] = value\n",
    "\n",
    "\n",
    "class Config(dict):\n",
    "    def __init__(self, root_path: str, defaults: t.Optional[dict] = None) -> None:\n",
    "        super().__init__(defaults or {})\n",
    "        self.root_path = root_path\n",
    "\n",
    "    def from_envvar(self, variable_name: str, silent: bool = False) -> bool:\n",
    "        rv = os.environ.get(variable_name)\n",
    "        if not rv:\n",
    "            if silent:\n",
    "                return False\n",
    "            raise RuntimeError(\n",
    "                f\"The environment variable {variable_name!r} is not set\"\n",
    "                \" and as such configuration could not be loaded. Set\"\n",
    "                \" this variable and make it point to a configuration\"\n",
    "                \" file\"\n",
    "            )\n",
    "        return self.from_pyfile(rv, silent=silent)\n",
    "\n",
    "    def from_prefixed_env(\n",
    "        self, prefix: str = \"FLASK\", *, loads: t.Callable[[str], t.Any] = json.loads\n",
    "    ) -> bool:\n",
    "        prefix = f\"{prefix}_\"\n",
    "        len_prefix = len(prefix)\n",
    "\n",
    "        for key in sorted(os.environ):\n",
    "            if not key.startswith(prefix):\n",
    "                continue\n",
    "\n",
    "            value = os.environ[key]\n",
    "\n",
    "            try:\n",
    "                value = loads(value)\n",
    "            except Exception:\n",
    "                # Keep the value as a string if loading failed.\n",
    "                pass\n",
    "\n",
    "            # Change to key.removeprefix(prefix) on Python >= 3.9.\n",
    "            key = key[len_prefix:]\n",
    "\n",
    "            if \"__\" not in key:\n",
    "                # A non-nested key, set directly.\n",
    "                self[key] = value\n",
    "                continue\n",
    "\n",
    "            # Traverse nested dictionaries with keys separated by \"__\".\n",
    "            current = self\n",
    "            *parts, tail = key.split(\"__\")\n",
    "\n",
    "            for part in parts:\n",
    "                # If an intermediate dict does not exist, create it.\n",
    "                if part not in current:\n",
    "                    current[part] = {}\n",
    "\n",
    "                current = current[part]\n",
    "\n",
    "            current[tail] = value\n",
    "\n",
    "        return True\n",
    "\n",
    "    def from_pyfile(self, filename: str, silent: bool = False) -> bool:\n",
    "        filename = os.path.join(self.root_path, filename)\n",
    "        d = types.ModuleType(\"config\")\n",
    "        d.__file__ = filename\n",
    "        try:\n",
    "            with open(filename, mode=\"rb\") as config_file:\n",
    "                exec(compile(config_file.read(), filename, \"exec\"), d.__dict__)\n",
    "        except OSError as e:\n",
    "            if silent and e.errno in (errno.ENOENT, errno.EISDIR, errno.ENOTDIR):\n",
    "                return False\n",
    "            e.strerror = f\"Unable to load configuration file ({e.strerror})\"\n",
    "            raise\n",
    "        self.from_object(d)\n",
    "        return True\n",
    "\n",
    "    def from_object(self, obj: t.Union[object, str]) -> None:\n",
    "        if isinstance(obj, str):\n",
    "            obj = import_string(obj)\n",
    "        for key in dir(obj):\n",
    "            if key.isupper():\n",
    "                self[key] = getattr(obj, key)\n",
    "\n",
    "    def from_file(\n",
    "        self,\n",
    "        filename: str,\n",
    "        load: t.Callable[[t.IO[t.Any]], t.Mapping],\n",
    "        silent: bool = False,\n",
    "    ) -> bool:\n",
    "        filename = os.path.join(self.root_path, filename)\n",
    "\n",
    "        try:\n",
    "            with open(filename) as f:\n",
    "                obj = load(f)\n",
    "        except OSError as e:\n",
    "            if silent and e.errno in (errno.ENOENT, errno.EISDIR):\n",
    "                return False\n",
    "\n",
    "            e.strerror = f\"Unable to load configuration file ({e.strerror})\"\n",
    "            raise\n",
    "\n",
    "        return self.from_mapping(obj)\n",
    "\n",
    "    def from_mapping(\n",
    "        self, mapping: t.Optional[t.Mapping[str, t.Any]] = None, **kwargs: t.Any\n",
    "    ) -> bool:\n",
    "        mappings: t.Dict[str, t.Any] = {}\n",
    "        if mapping is not None:\n",
    "            mappings.update(mapping)\n",
    "        mappings.update(kwargs)\n",
    "        for key, value in mappings.items():\n",
    "            if key.isupper():\n",
    "                self[key] = value\n",
    "        return True\n",
    "\n",
    "    def get_namespace(\n",
    "        self, namespace: str, lowercase: bool = True, trim_namespace: bool = True\n",
    "    ) -> t.Dict[str, t.Any]:\n",
    "        rv = {}\n",
    "        for k, v in self.items():\n",
    "            if not k.startswith(namespace):\n",
    "                continue\n",
    "            if trim_namespace:\n",
    "                key = k[len(namespace) :]\n",
    "            else:\n",
    "                key = k\n",
    "            if lowercase:\n",
    "                key = key.lower()\n",
    "            rv[key] = v\n",
    "        return rv\n",
    "\n",
    "    def __repr__(self) -> str:\n",
    "        return f\"<{type(self).__name__} {dict.__repr__(self)}>\"\n",
    "\"\"\")\n",
    "data = [ast_data.body[-2], ast_data.body[-1], ast_data.body[-3]]"
   ],
   "metadata": {
    "collapsed": false,
    "pycharm": {
     "name": "#%%\n"
    }
   }
  },
  {
   "cell_type": "code",
   "execution_count": 11,
   "outputs": [
    {
     "data": {
      "text/plain": "'str'"
     },
     "execution_count": 11,
     "metadata": {},
     "output_type": "execute_result"
    }
   ],
   "source": [
    "data[1].body[1].args.args[1].annotation.id"
   ],
   "metadata": {
    "collapsed": false,
    "pycharm": {
     "name": "#%%\n"
    }
   }
  },
  {
   "cell_type": "code",
   "execution_count": 12,
   "outputs": [],
   "source": [
    "classDef = '''\n",
    "class IAmSoBad():\n",
    "    def __init__(self, name: str):\n",
    "        self.name = name\n",
    "\n",
    "    def capitalize(self):\n",
    "        return self.name.capitalize()\n",
    "\n",
    "import unittest\n",
    "class Test(unittest.TestCase):\n",
    "    def test_capitalize(self):\n",
    "    \"\"\"\n",
    "    test the capitalize method from class IAmSoBad\n",
    "    assert is equal to 'TEST'\n",
    "    \"\"\"\n",
    "'''"
   ],
   "metadata": {
    "collapsed": false,
    "pycharm": {
     "name": "#%%\n"
    }
   }
  },
  {
   "cell_type": "code",
   "execution_count": 13,
   "outputs": [
    {
     "data": {
      "text/plain": "\"Module(body=[ClassDef(name='IAmSoBad', bases=[], keywords=[], body=[FunctionDef(name='__init__', args=arguments(posonlyargs=[], args=[arg(arg='self'), arg(arg='name', annotation=Name(id='str', ctx=Load()))], kwonlyargs=[], kw_defaults=[], defaults=[]), body=[Assign(targets=[Attribute(value=Name(id='self', ctx=Load()), attr='name', ctx=Store())], value=Name(id='name', ctx=Load()))], decorator_list=[]), FunctionDef(name='capitalize', args=arguments(posonlyargs=[], args=[arg(arg='self')], kwonlyargs=[], kw_defaults=[], defaults=[]), body=[Return(value=Call(func=Attribute(value=Attribute(value=Name(id='self', ctx=Load()), attr='name', ctx=Load()), attr='capitalize', ctx=Load()), args=[], keywords=[]))], decorator_list=[])], decorator_list=[])], type_ignores=[])\""
     },
     "execution_count": 13,
     "metadata": {},
     "output_type": "execute_result"
    }
   ],
   "source": [
    "ast.dump(ast.parse(\"\"\"class IAmSoBad():\n",
    "    def __init__(self, name: str):\n",
    "        self.name = name\n",
    "\n",
    "    def capitalize(self):\n",
    "        return self.name.capitalize()\n",
    "\"\"\"))"
   ],
   "metadata": {
    "collapsed": false,
    "pycharm": {
     "name": "#%%\n"
    }
   }
  },
  {
   "cell_type": "code",
   "execution_count": 14,
   "outputs": [
    {
     "data": {
      "text/plain": "<OpenAIObject text_completion id=cmpl-5DD5H6uNvpTnBky1GubOBYXOJPF9N at 0x2866680ba40> JSON: {\n  \"choices\": [\n    {\n      \"finish_reason\": \"length\",\n      \"index\": 0,\n      \"logprobs\": null,\n      \"text\": \"\\\"\\\"\\\"\\nModule(body=[ClassDef(name='IAmSoBad', bases=[], keywords=[], body=[FunctionDef(name='__init__', args=arguments(posonlyargs=[], args=[arg(arg='self'), arg(arg='name', annotation=Name(id='str', ctx=Load()))], kwonlyargs=[], kw_defaults=[], defaults=[]), body=[Assign(targets=[Attribute(value=Name(id='self', ctx=Load()), attr='name', ctx=Store())], value=Name(id='name', ctx=Load()))], decorator_list=[]), FunctionDef(name='capitalize', args=arguments(posonlyargs=[], args=[arg(arg='self')], kwonlyargs=[], kw_defaults=[], defaults=[]), body=[Return(value=Call(func=Attribute(value=Attribute(value=Name(id='self', ctx=Load()), attr='name', ctx=Load()), attr='capitalize', ctx=Load()), args=[], keywords=[]))], decorator_list=[])], decorator_list=[])], type_ignores=[])\\n\\\"\\\"\\\"\\nimport unittest\\nclass Test(unittest.TestCase):\\n    def test_capitalize(self):\\n    \\\"\\\"\\\"\\n    test the capitalize method from class IAmSoBad\\n    \\\"\\\"\\\"\\n        self.assertEqual(IAmSoBad('foo').capitalize(), 'Foo')\\n        self.assertEqual(IAmSoBad('bar').capitalize(), 'Bar')\\n        self.assertEqual(IAmSoBad('baz').capitalize(), 'Baz')\\n        self.assertEqual(IAmSoBad('qux').capitalize(), 'Qux')\\n        self.assertEqual(IAmSoBad('quux').capitalize(), 'Quux')\\n        self.assertEqual(IAmSoBad('corge').capitalize(), 'Corge')\\n        self.assertEqual(IAmSoBad('grault').capitalize(), 'Grault')\\n        self.assertEqual(IAmSoBad('garply').capitalize(), 'Garply')\\n        self.assertEqual(IAmSoBad('waldo').capitalize(), 'Waldo')\\n        self.assertEqual(IAmSoBad('fred').capitalize(), 'Fred')\\n        self.assertEqual(IAmSoBad('plugh').capitalize(), 'Plugh')\\n        self.assertEqual\"\n    }\n  ],\n  \"created\": 1653830243,\n  \"id\": \"cmpl-5DD5H6uNvpTnBky1GubOBYXOJPF9N\",\n  \"model\": \"code-davinci-002\",\n  \"object\": \"text_completion\"\n}"
     },
     "execution_count": 14,
     "metadata": {},
     "output_type": "execute_result"
    }
   ],
   "source": [
    "openai.Completion.create(\n",
    "  engine=\"code-davinci-002\",\n",
    "  prompt=\"\\\"\\\"\\\"\\nModule(body=[ClassDef(name='IAmSoBad', bases=[], keywords=[], body=[FunctionDef(name='__init__', args=arguments(posonlyargs=[], args=[arg(arg='self'), arg(arg='name', annotation=Name(id='str', ctx=Load()))], kwonlyargs=[], kw_defaults=[], defaults=[]), body=[Assign(targets=[Attribute(value=Name(id='self', ctx=Load()), attr='name', ctx=Store())], value=Name(id='name', ctx=Load()))], decorator_list=[]), FunctionDef(name='capitalize', args=arguments(posonlyargs=[], args=[arg(arg='self')], kwonlyargs=[], kw_defaults=[], defaults=[]), body=[Return(value=Call(func=Attribute(value=Attribute(value=Name(id='self', ctx=Load()), attr='name', ctx=Load()), attr='capitalize', ctx=Load()), args=[], keywords=[]))], decorator_list=[])], decorator_list=[])], type_ignores=[])\\n\\\"\\\"\\\"\\nimport unittest\\nclass Test(unittest.TestCase):\\n    def test_capitalize(self):\\n    \\\"\\\"\\\"\\n    test the capitalize method from class IAmSoBad\\n    \\\"\\\"\\\"\",\n",
    "  temperature=0,\n",
    "  max_tokens=256,\n",
    "  top_p=1,\n",
    "  frequency_penalty=0,\n",
    "  presence_penalty=0,\n",
    "  stop=[\"#\"],\n",
    "  echo=True\n",
    ")"
   ],
   "metadata": {
    "collapsed": false,
    "pycharm": {
     "name": "#%%\n"
    }
   }
  },
  {
   "cell_type": "code",
   "execution_count": 15,
   "outputs": [],
   "source": [
    "result = openai.Completion.create(\n",
    "    engine=\"code-davinci-002\",\n",
    "    prompt=f\"{classDef}\",\n",
    "    temperature=0,\n",
    "    max_tokens=256,\n",
    "    top_p=1,\n",
    "    frequency_penalty=0,\n",
    "    presence_penalty=0,\n",
    "    stop=[\"#\"],\n",
    "    echo=True\n",
    ")"
   ],
   "metadata": {
    "collapsed": false,
    "pycharm": {
     "name": "#%%\n"
    }
   }
  },
  {
   "cell_type": "markdown",
   "source": [
    "# Running results from CODEX\n",
    "\n",
    "Actual good parameters:\n",
    "\n",
    "```Python\n",
    "openai.Completion.create(\n",
    "  engine=\"code-davinci-002\",\n",
    "  prompt=\"Prompt SHOULD contain compilable code\",\n",
    "  temperature=0,\n",
    "  max_tokens=256,\n",
    "  top_p=1,\n",
    "  frequency_penalty=0,\n",
    "  presence_penalty=0,\n",
    "  stop=[\"#\"]\n",
    ")\n",
    "```\n"
   ],
   "metadata": {
    "collapsed": false,
    "pycharm": {
     "name": "#%% md\n"
    }
   }
  },
  {
   "cell_type": "code",
   "execution_count": 16,
   "outputs": [],
   "source": [
    "real_test = openai.Completion.create(\n",
    "    engine=\"code-davinci-002\",\n",
    "    prompt=test_msg,\n",
    "    temperature=0,\n",
    "    max_tokens=256,\n",
    "    top_p=1,\n",
    "    frequency_penalty=0,\n",
    "    presence_penalty=0,\n",
    "    stop=[\"#\"],\n",
    "    echo=True\n",
    ")"
   ],
   "metadata": {
    "collapsed": false,
    "pycharm": {
     "name": "#%%\n"
    }
   }
  },
  {
   "cell_type": "markdown",
   "source": [
    "# Experiments for making generated code compilable"
   ],
   "metadata": {
    "collapsed": false,
    "pycharm": {
     "name": "#%% md\n"
    }
   }
  },
  {
   "cell_type": "code",
   "execution_count": 17,
   "outputs": [
    {
     "name": "stdout",
     "output_type": "stream",
     "text": [
      "\n",
      "class IAmSoBad():\n",
      "    def __init__(self, name: str):\n",
      "        self.name = name\n",
      "\n",
      "    def capitalize(self):\n",
      "        return self.name.capitalize()\n",
      "\n",
      "import unittest\n",
      "class Test(unittest.TestCase):\n",
      "    def test_capitalize(self):\n",
      "    \"\"\"\n",
      "    test the capitalize method from class IAmSoBad\n",
      "    assert is equal to 'TEST'\n",
      "    \"\"\"\n",
      "        test = IAmSoBad('test')\n",
      "        self.assertEqual(test.capitalize(), 'TEST')\n",
      "\n",
      "if __name__ == '__main__':\n",
      "    unittest.main()\n",
      "</code>\n",
      "\n"
     ]
    }
   ],
   "source": [
    "code = result.choices[0]['text']\n",
    "print(code)"
   ],
   "metadata": {
    "collapsed": false,
    "pycharm": {
     "name": "#%%\n"
    }
   }
  },
  {
   "cell_type": "code",
   "execution_count": 18,
   "outputs": [
    {
     "name": "stdout",
     "output_type": "stream",
     "text": [
      "{\n",
      "  \"choices\": [\n",
      "    {\n",
      "      \"finish_reason\": \"length\",\n",
      "      \"index\": 0,\n",
      "      \"logprobs\": null,\n",
      "      \"text\": \"\\nimport errno\\nimport json\\nimport os\\nimport types\\nimport typing as t\\n\\nfrom werkzeug.utils import import_string\\n\\n\\ndef _json_loads(raw: t.Union[str, bytes]) -> t.Any:\\n    try:\\n        return json.loads(raw)\\n    except json.JSONDecodeError:\\n        return raw\\n\\n\\nclass ConfigAttribute:\\n    def __init__(self, name: str, get_converter: t.Optional[t.Callable] = None) -> None:\\n        self.__name__ = name\\n        self.get_converter = get_converter\\n\\n    def __get__(self, obj: t.Any, owner: t.Any = None) -> t.Any:\\n        if obj is None:\\n            return self\\n        rv = obj.config[self.__name__]\\n        if self.get_converter is not None:\\n            rv = self.get_converter(rv)\\n        return rv\\n\\n    def __set__(self, obj: t.Any, value: t.Any) -> None:\\n        obj.config[self.__name__] = value\\n\\n\\nclass Config(dict):\\n    def __init__(self, root_path: str, defaults: t.Optional[dict] = None) -> None:\\n        super().__init__(defaults or {})\\n        self.root_path = root_path\\n\\n    def from_envvar(self, variable_name: str, silent: bool = False) -> bool:\\n        rv = os.environ.get(variable_name)\\n        if not rv:\\n            if silent:\\n                return False\\n            raise RuntimeError(\\n                f\\\"The environment variable {variable_name!r} is not set\\\"\\n                \\\" and as such configuration could not be loaded. Set\\\"\\n                \\\" this variable and make it point to a configuration\\\"\\n                \\\" file\\\"\\n            )\\n        return self.from_pyfile(rv, silent=silent)\\n\\n    def from_prefixed_env(\\n        self, prefix: str = \\\"FLASK\\\", *, loads: t.Callable[[str], t.Any] = json.loads\\n    ) -> bool:\\n        prefix = f\\\"{prefix}_\\\"\\n        len_prefix = len(prefix)\\n\\n        for key in sorted(os.environ):\\n            if not key.startswith(prefix):\\n                continue\\n\\n            value = os.environ[key]\\n\\n            try:\\n                value = loads(value)\\n            except Exception:\\n                # Keep the value as a string if loading failed.\\n                pass\\n\\n            # Change to key.removeprefix(prefix) on Python >= 3.9.\\n            key = key[len_prefix:]\\n\\n            if \\\"__\\\" not in key:\\n                # A non-nested key, set directly.\\n                self[key] = value\\n                continue\\n\\n            # Traverse nested dictionaries with keys separated by \\\"__\\\".\\n            current = self\\n            *parts, tail = key.split(\\\"__\\\")\\n\\n            for part in parts:\\n                # If an intermediate dict does not exist, create it.\\n                if part not in current:\\n                    current[part] = {}\\n\\n                current = current[part]\\n\\n            current[tail] = value\\n\\n        return True\\n\\n    def from_pyfile(self, filename: str, silent: bool = False) -> bool:\\n        filename = os.path.join(self.root_path, filename)\\n        d = types.ModuleType(\\\"config\\\")\\n        d.__file__ = filename\\n        try:\\n            with open(filename, mode=\\\"rb\\\") as config_file:\\n                exec(compile(config_file.read(), filename, \\\"exec\\\"), d.__dict__)\\n        except OSError as e:\\n            if silent and e.errno in (errno.ENOENT, errno.EISDIR, errno.ENOTDIR):\\n                return False\\n            e.strerror = f\\\"Unable to load configuration file ({e.strerror})\\\"\\n            raise\\n        self.from_object(d)\\n        return True\\n\\n    def from_object(self, obj: t.Union[object, str]) -> None:\\n        if isinstance(obj, str):\\n            obj = import_string(obj)\\n        for key in dir(obj):\\n            if key.isupper():\\n                self[key] = getattr(obj, key)\\n\\n    def from_file(\\n        self,\\n        filename: str,\\n        load: t.Callable[[t.IO[t.Any]], t.Mapping],\\n        silent: bool = False,\\n    ) -> bool:\\n        filename = os.path.join(self.root_path, filename)\\n\\n        try:\\n            with open(filename) as f:\\n                obj = load(f)\\n        except OSError as e:\\n            if silent and e.errno in (errno.ENOENT, errno.EISDIR):\\n                return False\\n\\n            e.strerror = f\\\"Unable to load configuration file ({e.strerror})\\\"\\n            raise\\n\\n        return self.from_mapping(obj)\\n\\n    def from_mapping(\\n        self, mapping: t.Optional[t.Mapping[str, t.Any]] = None, **kwargs: t.Any\\n    ) -> bool:\\n        mappings: t.Dict[str, t.Any] = {}\\n        if mapping is not None:\\n            mappings.update(mapping)\\n        mappings.update(kwargs)\\n        for key, value in mappings.items():\\n            if key.isupper():\\n                self[key] = value\\n        return True\\n\\n    def get_namespace(\\n        self, namespace: str, lowercase: bool = True, trim_namespace: bool = True\\n    ) -> t.Dict[str, t.Any]:\\n        rv = {}\\n        for k, v in self.items():\\n            if not k.startswith(namespace):\\n                continue\\n            if trim_namespace:\\n                key = k[len(namespace) :]\\n            else:\\n                key = k\\n            if lowercase:\\n                key = key.lower()\\n            rv[key] = v\\n        return rv\\n\\n    def __repr__(self) -> str:\\n        return f\\\"<{type(self).__name__} {dict.__repr__(self)}>\\\"\\n\\n# Generate tests for: more from_prefixed_env features, support nested dict access with \\\"__\\\" separator, don't specify separator in prefix, catch exceptions for any loads function\\n\\n\\ndef test_from_prefixed_env_with_json_loads() -> None:\\n    config = Config(\\\"\\\")\\n    config.from_prefixed_env(prefix=\\\"FLASK\\\", loads=_json_loads)\\n    assert config[\\\"FOO\\\"] == \\\"bar\\\"\\n    assert config[\\\"BAR\\\"] == \\\"baz\\\"\\n    assert config[\\\"BAZ\\\"] == \\\"qux\\\"\\n    assert config[\\\"QUX\\\"] == \\\"quux\\\"\\n    assert config[\\\"QUUX\\\"] == \\\"corge\\\"\\n    assert config[\\\"CORGE\\\"] == \\\"grault\\\"\\n    assert config[\\\"GRAULT\\\"] == \\\"garply\\\"\\n    assert config[\\\"GARPLY\\\"] == \\\"waldo\\\"\\n    assert config[\\\"WALDO\\\"] == \\\"fred\\\"\\n    assert config[\\\"FRED\\\"] == \\\"plugh\\\"\\n    assert config[\\\"PLUGH\\\"] == \\\"xyzzy\\\"\\n    assert config[\\\"XYZZY\\\"] == \\\"thud\\\"\\n    assert config[\\\"THUD\\\"] == \\\"foo\\\"\\n    assert config[\\\"FOO_BAR\\\"] == \\\"baz\\\"\\n    assert config[\\\"FOO_BAR_BAZ\\\"] == \\\"qu\"\n",
      "    }\n",
      "  ],\n",
      "  \"created\": 1653830254,\n",
      "  \"id\": \"cmpl-5DD5S8qmbVBpwY1DMMPbB20up2V3F\",\n",
      "  \"model\": \"code-davinci-002\",\n",
      "  \"object\": \"text_completion\"\n",
      "}\n"
     ]
    }
   ],
   "source": [
    "print(real_test)"
   ],
   "metadata": {
    "collapsed": false,
    "pycharm": {
     "name": "#%%\n"
    }
   }
  },
  {
   "cell_type": "code",
   "execution_count": 19,
   "outputs": [
    {
     "name": "stdout",
     "output_type": "stream",
     "text": [
      "\n",
      "import errno\n",
      "import json\n",
      "import os\n",
      "import types\n",
      "import typing as t\n",
      "\n",
      "from werkzeug.utils import import_string\n",
      "\n",
      "\n",
      "def _json_loads(raw: t.Union[str, bytes]) -> t.Any:\n",
      "    try:\n",
      "        return json.loads(raw)\n",
      "    except json.JSONDecodeError:\n",
      "        return raw\n",
      "\n",
      "\n",
      "class ConfigAttribute:\n",
      "    def __init__(self, name: str, get_converter: t.Optional[t.Callable] = None) -> None:\n",
      "        self.__name__ = name\n",
      "        self.get_converter = get_converter\n",
      "\n",
      "    def __get__(self, obj: t.Any, owner: t.Any = None) -> t.Any:\n",
      "        if obj is None:\n",
      "            return self\n",
      "        rv = obj.config[self.__name__]\n",
      "        if self.get_converter is not None:\n",
      "            rv = self.get_converter(rv)\n",
      "        return rv\n",
      "\n",
      "    def __set__(self, obj: t.Any, value: t.Any) -> None:\n",
      "        obj.config[self.__name__] = value\n",
      "\n",
      "\n",
      "class Config(dict):\n",
      "    def __init__(self, root_path: str, defaults: t.Optional[dict] = None) -> None:\n",
      "        super().__init__(defaults or {})\n",
      "        self.root_path = root_path\n",
      "\n",
      "    def from_envvar(self, variable_name: str, silent: bool = False) -> bool:\n",
      "        rv = os.environ.get(variable_name)\n",
      "        if not rv:\n",
      "            if silent:\n",
      "                return False\n",
      "            raise RuntimeError(\n",
      "                f\"The environment variable {variable_name!r} is not set\"\n",
      "                \" and as such configuration could not be loaded. Set\"\n",
      "                \" this variable and make it point to a configuration\"\n",
      "                \" file\"\n",
      "            )\n",
      "        return self.from_pyfile(rv, silent=silent)\n",
      "\n",
      "    def from_prefixed_env(\n",
      "        self, prefix: str = \"FLASK\", *, loads: t.Callable[[str], t.Any] = json.loads\n",
      "    ) -> bool:\n",
      "        prefix = f\"{prefix}_\"\n",
      "        len_prefix = len(prefix)\n",
      "\n",
      "        for key in sorted(os.environ):\n",
      "            if not key.startswith(prefix):\n",
      "                continue\n",
      "\n",
      "            value = os.environ[key]\n",
      "\n",
      "            try:\n",
      "                value = loads(value)\n",
      "            except Exception:\n",
      "                # Keep the value as a string if loading failed.\n",
      "                pass\n",
      "\n",
      "            # Change to key.removeprefix(prefix) on Python >= 3.9.\n",
      "            key = key[len_prefix:]\n",
      "\n",
      "            if \"__\" not in key:\n",
      "                # A non-nested key, set directly.\n",
      "                self[key] = value\n",
      "                continue\n",
      "\n",
      "            # Traverse nested dictionaries with keys separated by \"__\".\n",
      "            current = self\n",
      "            *parts, tail = key.split(\"__\")\n",
      "\n",
      "            for part in parts:\n",
      "                # If an intermediate dict does not exist, create it.\n",
      "                if part not in current:\n",
      "                    current[part] = {}\n",
      "\n",
      "                current = current[part]\n",
      "\n",
      "            current[tail] = value\n",
      "\n",
      "        return True\n",
      "\n",
      "    def from_pyfile(self, filename: str, silent: bool = False) -> bool:\n",
      "        filename = os.path.join(self.root_path, filename)\n",
      "        d = types.ModuleType(\"config\")\n",
      "        d.__file__ = filename\n",
      "        try:\n",
      "            with open(filename, mode=\"rb\") as config_file:\n",
      "                exec(compile(config_file.read(), filename, \"exec\"), d.__dict__)\n",
      "        except OSError as e:\n",
      "            if silent and e.errno in (errno.ENOENT, errno.EISDIR, errno.ENOTDIR):\n",
      "                return False\n",
      "            e.strerror = f\"Unable to load configuration file ({e.strerror})\"\n",
      "            raise\n",
      "        self.from_object(d)\n",
      "        return True\n",
      "\n",
      "    def from_object(self, obj: t.Union[object, str]) -> None:\n",
      "        if isinstance(obj, str):\n",
      "            obj = import_string(obj)\n",
      "        for key in dir(obj):\n",
      "            if key.isupper():\n",
      "                self[key] = getattr(obj, key)\n",
      "\n",
      "    def from_file(\n",
      "        self,\n",
      "        filename: str,\n",
      "        load: t.Callable[[t.IO[t.Any]], t.Mapping],\n",
      "        silent: bool = False,\n",
      "    ) -> bool:\n",
      "        filename = os.path.join(self.root_path, filename)\n",
      "\n",
      "        try:\n",
      "            with open(filename) as f:\n",
      "                obj = load(f)\n",
      "        except OSError as e:\n",
      "            if silent and e.errno in (errno.ENOENT, errno.EISDIR):\n",
      "                return False\n",
      "\n",
      "            e.strerror = f\"Unable to load configuration file ({e.strerror})\"\n",
      "            raise\n",
      "\n",
      "        return self.from_mapping(obj)\n",
      "\n",
      "    def from_mapping(\n",
      "        self, mapping: t.Optional[t.Mapping[str, t.Any]] = None, **kwargs: t.Any\n",
      "    ) -> bool:\n",
      "        mappings: t.Dict[str, t.Any] = {}\n",
      "        if mapping is not None:\n",
      "            mappings.update(mapping)\n",
      "        mappings.update(kwargs)\n",
      "        for key, value in mappings.items():\n",
      "            if key.isupper():\n",
      "                self[key] = value\n",
      "        return True\n",
      "\n",
      "    def get_namespace(\n",
      "        self, namespace: str, lowercase: bool = True, trim_namespace: bool = True\n",
      "    ) -> t.Dict[str, t.Any]:\n",
      "        rv = {}\n",
      "        for k, v in self.items():\n",
      "            if not k.startswith(namespace):\n",
      "                continue\n",
      "            if trim_namespace:\n",
      "                key = k[len(namespace) :]\n",
      "            else:\n",
      "                key = k\n",
      "            if lowercase:\n",
      "                key = key.lower()\n",
      "            rv[key] = v\n",
      "        return rv\n",
      "\n",
      "    def __repr__(self) -> str:\n",
      "        return f\"<{type(self).__name__} {dict.__repr__(self)}>\"\n",
      "\n",
      "# Generate tests for: more from_prefixed_env features, support nested dict access with \"__\" separator, don't specify separator in prefix, catch exceptions for any loads function\n",
      "\n",
      "\n",
      "def test_from_prefixed_env_with_json_loads() -> None:\n",
      "    config = Config(\"\")\n",
      "    config.from_prefixed_env(prefix=\"FLASK\", loads=_json_loads)\n",
      "    assert config[\"FOO\"] == \"bar\"\n",
      "    assert config[\"BAR\"] == \"baz\"\n",
      "    assert config[\"BAZ\"] == \"qux\"\n",
      "    assert config[\"QUX\"] == \"quux\"\n",
      "    assert config[\"QUUX\"] == \"corge\"\n",
      "    assert config[\"CORGE\"] == \"grault\"\n",
      "    assert config[\"GRAULT\"] == \"garply\"\n",
      "    assert config[\"GARPLY\"] == \"waldo\"\n",
      "    assert config[\"WALDO\"] == \"fred\"\n",
      "    assert config[\"FRED\"] == \"plugh\"\n",
      "    assert config[\"PLUGH\"] == \"xyzzy\"\n",
      "    assert config[\"XYZZY\"] == \"thud\"\n",
      "    assert config[\"THUD\"] == \"foo\"\n",
      "    assert config[\"FOO_BAR\"] == \"baz\"\n",
      "    assert config[\"FOO_BAR_BAZ\"] == \"qu\n"
     ]
    }
   ],
   "source": [
    "code = real_test.choices[0]['text']\n",
    "print(code)"
   ],
   "metadata": {
    "collapsed": false,
    "pycharm": {
     "name": "#%%\n"
    }
   }
  },
  {
   "cell_type": "code",
   "execution_count": 22,
   "outputs": [],
   "source": [
    "try:\n",
    "    exec(code)\n",
    "except SyntaxError as e:\n",
    "    exec(get_lines(code, e.__str__()))"
   ],
   "metadata": {
    "collapsed": false,
    "pycharm": {
     "name": "#%%\n"
    }
   }
  },
  {
   "cell_type": "code",
   "execution_count": 21,
   "outputs": [],
   "source": [
    "import re\n",
    "def get_lines(code, error_msg):\n",
    "    lines = code.split(\"\\n\")\n",
    "    line_number = re.findall(r\"line (\\d+)\", error_msg)[0]\n",
    "    lines.pop(int(line_number) - 1)\n",
    "    return \"\\n\".join(lines)\n"
   ],
   "metadata": {
    "collapsed": false,
    "pycharm": {
     "name": "#%%\n"
    }
   }
  },
  {
   "cell_type": "markdown",
   "source": [
    "# Random bad working examples for Flask"
   ],
   "metadata": {
    "collapsed": false,
    "pycharm": {
     "name": "#%% md\n"
    }
   }
  },
  {
   "cell_type": "code",
   "execution_count": null,
   "outputs": [],
   "source": [
    "message ='''\n",
    "### Python3\n",
    "# -*- coding: utf-8 -*-\n",
    "\"\"\"\n",
    "    flask.module\n",
    "    ~~~~~~~~~~~~\n",
    "\n",
    "    Implements a class that represents module blueprints.\n",
    "\n",
    "    :copyright: (c) 2010 by Armin Ronacher.\n",
    "    :license: BSD, see LICENSE for more details.\n",
    "\"\"\"\n",
    "\n",
    "from flask.helpers import _PackageBoundObject\n",
    "\n",
    "\n",
    "def _register_module(module, static_path):\n",
    "    \"\"\"Internal helper function that returns a function for recording\n",
    "    that registers the `send_static_file` function for the module on\n",
    "    the application of necessary.  It also registers the module on\n",
    "    the application.\n",
    "    \"\"\"\n",
    "    def _register(state):\n",
    "        state.app.modules[module.name] = module\n",
    "        # do not register the rule if the static folder of the\n",
    "        # module is the same as the one from the application.\n",
    "        if state.app.root_path == module.root_path:\n",
    "            return\n",
    "        path = static_path\n",
    "        if path is None:\n",
    "            path = state.app.static_path\n",
    "        if state.url_prefix:\n",
    "            path = state.url_prefix + path\n",
    "        state.app.add_url_rule(path + '/<filename>',\n",
    "                               '%s.static' % module.name,\n",
    "                               view_func=module.send_static_file)\n",
    "    return _register\n",
    "\n",
    "\n",
    "class _ModuleSetupState(object):\n",
    "\n",
    "    def __init__(self, app, url_prefix=None):\n",
    "        self.app = app\n",
    "        self.url_prefix = url_prefix\n",
    "\n",
    "\n",
    "class Module(_PackageBoundObject):\n",
    "    \"\"\"Container object that enables pluggable applications.  A module can\n",
    "    be used to organize larger applications.  They represent blueprints that,\n",
    "    in combination with a :class:`Flask` object are used to create a large\n",
    "    application.\n",
    "\n",
    "    A module is like an application bound to an `import_name`.  Multiple\n",
    "    modules can share the same import names, but in that case a `name` has\n",
    "    to be provided to keep them apart.  If different import names are used,\n",
    "    the rightmost part of the import name is used as name.\n",
    "\n",
    "    Here an example structure for a larger appliation::\n",
    "\n",
    "        /myapplication\n",
    "            /__init__.py\n",
    "            /views\n",
    "                /__init__.py\n",
    "                /admin.py\n",
    "                /frontend.py\n",
    "\n",
    "    The `myapplication/__init__.py` can look like this::\n",
    "\n",
    "        from flask import Flask\n",
    "        from myapplication.views.admin import admin\n",
    "        from myapplication.views.frontend import frontend\n",
    "\n",
    "        app = Flask(__name__)\n",
    "        app.register_module(admin, url_prefix='/admin')\n",
    "        app.register_module(frontend)\n",
    "\n",
    "    And here an example view module (`myapplication/views/admin.py`)::\n",
    "\n",
    "        from flask import Module\n",
    "\n",
    "        admin = Module(__name__)\n",
    "\n",
    "        @admin.route('/')\n",
    "        def index():\n",
    "            pass\n",
    "\n",
    "        @admin.route('/login')\n",
    "        def login():\n",
    "            pass\n",
    "\n",
    "    For a gentle introduction into modules, checkout the\n",
    "    :ref:`working-with-modules` section.\n",
    "    \"\"\"\n",
    "\n",
    "    def __init__(self, import_name, name=None, url_prefix=None,\n",
    "                 static_path=None):\n",
    "        if name is None:\n",
    "            assert '.' in import_name, 'name required if package name ' \\\n",
    "                'does not point to a submodule'\n",
    "            name = import_name.rsplit('.', 1)[1]\n",
    "        _PackageBoundObject.__init__(self, import_name)\n",
    "        self.name = name\n",
    "        self.url_prefix = url_prefix\n",
    "        self._register_events = [_register_module(self, static_path)]\n",
    "\n",
    "    def route(self, rule, **options):\n",
    "        \"\"\"Like :meth:`Flask.route` but for a module.  The endpoint for the\n",
    "        :func:`url_for` function is prefixed with the name of the module.\n",
    "        \"\"\"\n",
    "        def decorator(f):\n",
    "            self.add_url_rule(rule, f.__name__, f, **options)\n",
    "            return f\n",
    "        return decorator\n",
    "\n",
    "    def add_url_rule(self, rule, endpoint, view_func=None, **options):\n",
    "        \"\"\"Like :meth:`Flask.add_url_rule` but for a module.  The endpoint for\n",
    "        the :func:`url_for` function is prefixed with the name of the module.\n",
    "        \"\"\"\n",
    "        def register_rule(state):\n",
    "            the_rule = rule\n",
    "            if state.url_prefix:\n",
    "                the_rule = state.url_prefix + rule\n",
    "            state.app.add_url_rule(the_rule, '%s.%s' % (self.name, endpoint),\n",
    "                                   view_func, **options)\n",
    "        self._record(register_rule)\n",
    "\n",
    "    def before_request(self, f):\n",
    "        \"\"\"Like :meth:`Flask.before_request` but for a module.  This function\n",
    "        is only executed before each request that is handled by a function of\n",
    "        that module.\n",
    "        \"\"\"\n",
    "        self._record(lambda s: s.app.before_request_funcs\n",
    "            .setdefault(self.name, []).append(f))\n",
    "        return f\n",
    "\n",
    "    def before_app_request(self, f):\n",
    "        \"\"\"Like :meth:`Flask.before_request`.  Such a function is executed\n",
    "        before each request, even if outside of a module.\n",
    "        \"\"\"\n",
    "        self._record(lambda s: s.app.before_request_funcs\n",
    "            .setdefault(None, []).append(f))\n",
    "        return f\n",
    "\n",
    "    def after_request(self, f):\n",
    "        \"\"\"Like :meth:`Flask.after_request` but for a module.  This function\n",
    "        is only executed after each request that is handled by a function of\n",
    "        that module.\n",
    "        \"\"\"\n",
    "        self._record(lambda s: s.app.after_request_funcs\n",
    "            .setdefault(self.name, []).append(f))\n",
    "        return f\n",
    "\n",
    "    def after_app_request(self, f):\n",
    "        \"\"\"Like :meth:`Flask.after_request` but for a module.  Such a function\n",
    "        is executed after each request, even if outside of the module.\n",
    "        \"\"\"\n",
    "        self._record(lambda s: s.app.after_request_funcs\n",
    "            .setdefault(None, []).append(f))\n",
    "        return f\n",
    "\n",
    "    def context_processor(self, f):\n",
    "        \"\"\"Like :meth:`Flask.context_processor` but for a module.  This\n",
    "        function is only executed for requests handled by a module.\n",
    "        \"\"\"\n",
    "        self._record(lambda s: s.app.template_context_processors\n",
    "            .setdefault(self.name, []).append(f))\n",
    "        return f\n",
    "\n",
    "    def app_context_processor(self, f):\n",
    "        \"\"\"Like :meth:`Flask.context_processor` but for a module.  Such a\n",
    "        function is executed each request, even if outside of the module.\n",
    "        \"\"\"\n",
    "        self._record(lambda s: s.app.template_context_processors\n",
    "            .setdefault(None, []).append(f))\n",
    "        return f\n",
    "\n",
    "    def app_errorhandler(self, code):\n",
    "        \"\"\"Like :meth:`Flask.errorhandler` but for a module.  This\n",
    "        handler is used for all requests, even if outside of the module.\n",
    "\n",
    "        .. versionadded:: 0.4\n",
    "        \"\"\"\n",
    "        def decorator(f):\n",
    "            self._record(lambda s: s.app.errorhandler(code)(f))\n",
    "            return f\n",
    "        return decorator\n",
    "\n",
    "    def _record(self, func):\n",
    "        self._register_events.append(func)\n",
    "\n",
    "\"\"\"\n",
    "Test class which tests Added a testcase for the improved module support with unittest.TestCase\n",
    "\"\"\"\n",
    "class Test'''"
   ],
   "metadata": {
    "collapsed": false,
    "pycharm": {
     "name": "#%%\n"
    }
   }
  },
  {
   "cell_type": "code",
   "execution_count": null,
   "outputs": [],
   "source": [
    "test = openai.Completion.create(\n",
    "    engine=\"code-davinci-002\",\n",
    "    prompt=message,\n",
    "    temperature=0,\n",
    "    max_tokens=1024,\n",
    "    top_p=1,\n",
    "    frequency_penalty=0,\n",
    "    presence_penalty=0,\n",
    "    stop=[\"#\"],\n",
    "    echo=False\n",
    ")"
   ],
   "metadata": {
    "collapsed": false,
    "pycharm": {
     "name": "#%%\n"
    }
   }
  },
  {
   "cell_type": "code",
   "execution_count": null,
   "outputs": [],
   "source": [
    "print(test.choices[0].text)"
   ],
   "metadata": {
    "collapsed": false,
    "pycharm": {
     "name": "#%%\n"
    }
   }
  },
  {
   "cell_type": "markdown",
   "source": [
    "# Data generation tryouts"
   ],
   "metadata": {
    "collapsed": false,
    "pycharm": {
     "name": "#%% md\n"
    }
   }
  },
  {
   "cell_type": "code",
   "execution_count": 3,
   "outputs": [],
   "source": [
    "commits = parser.load_data(\"history_scanner/test_save.dat\")"
   ],
   "metadata": {
    "collapsed": false,
    "pycharm": {
     "name": "#%%\n"
    }
   }
  },
  {
   "cell_type": "markdown",
   "source": [],
   "metadata": {
    "collapsed": false,
    "pycharm": {
     "name": "#%% md\n"
    }
   }
  },
  {
   "cell_type": "code",
   "execution_count": 30,
   "outputs": [],
   "source": [
    "commits = sorted(commits, key = lambda x: len(x.source_files))"
   ],
   "metadata": {
    "collapsed": false,
    "pycharm": {
     "name": "#%%\n"
    }
   }
  },
  {
   "cell_type": "code",
   "execution_count": 48,
   "outputs": [],
   "source": [
    "commit_data = commits[-8].source_files"
   ],
   "metadata": {
    "collapsed": false,
    "pycharm": {
     "name": "#%%\n"
    }
   }
  },
  {
   "cell_type": "code",
   "execution_count": 58,
   "outputs": [
    {
     "data": {
      "text/plain": "<ast.ClassDef at 0x28671d3d9a0>"
     },
     "execution_count": 58,
     "metadata": {},
     "output_type": "execute_result"
    }
   ],
   "source": [
    "body_elements = commit_data[0].source_ast.body\n",
    "body_elements[-1]"
   ],
   "metadata": {
    "collapsed": false,
    "pycharm": {
     "name": "#%%\n"
    }
   }
  },
  {
   "cell_type": "markdown",
   "source": [],
   "metadata": {
    "collapsed": false,
    "pycharm": {
     "name": "#%% md\n"
    }
   }
  },
  {
   "cell_type": "code",
   "execution_count": 10,
   "outputs": [
    {
     "data": {
      "text/plain": "['# -*- coding: utf-8 -*-\\n\"\"\"\\n    Flaskr\\n    ~~~~~~\\n\\n    A microblog example application written as Flask tutorial with\\n    Flask and sqlite3.\\n\\n    :copyright: (c) 2010 by Armin Ronacher.\\n    :license: BSD, see LICENSE for more details.\\n\"\"\"\\nfrom __future__ import with_statement\\nimport sqlite3\\nfrom contextlib import closing\\nfrom flask import Flask, request, session, g, redirect, url_for, abort, \\\\\\n     render_template, flash\\n\\n# configuration\\nDATABASE = \\'/tmp/flaskr.db\\'\\nDEBUG = True\\nSECRET_KEY = \\'development key\\'\\nUSERNAME = \\'admin\\'\\nPASSWORD = \\'default\\'\\n\\n# create our little application :)\\napp = Flask(__name__)\\napp.secret_key = SECRET_KEY\\napp.debug = DEBUG\\n\\n\\ndef connect_db():\\n    \"\"\"Returns a new connection to the database.\"\"\"\\n    return sqlite3.connect(DATABASE)\\n\\n\\ndef init_db():\\n    \"\"\"Creates the database tables.\"\"\"\\n    with closing(connect_db()) as db:\\n        with app.open_resource(\\'schema.sql\\') as f:\\n            db.cursor().executescript(f.read())\\n        db.commit()\\n\\n\\n@app.before_request\\ndef before_request():\\n    \"\"\"Make sure we are connected to the database each request.\"\"\"\\n    g.db = connect_db()\\n\\n\\n@app.after_request\\ndef after_request(response):\\n    \"\"\"Closes the database again at the end of the request.\"\"\"\\n    g.db.close()\\n    return response\\n\\n\\n@app.route(\\'/\\')\\ndef show_entries():\\n    cur = g.db.execute(\\'select title, text from entries order by id desc\\')\\n    entries = [dict(title=row[0], text=row[1]) for row in cur.fetchall()]\\n    return render_template(\\'show_entries.html\\', entries=entries)\\n\\n\\n@app.route(\\'/add\\', methods=[\\'POST\\'])\\ndef add_entry():\\n    if not session.get(\\'logged_in\\'):\\n        abort(401)\\n    g.db.execute(\\'insert into entries (title, text) values (?, ?)\\',\\n                 [request.form[\\'title\\'], request.form[\\'text\\']])\\n    g.db.commit()\\n    flash(\\'New entry was successfully posted\\')\\n    return redirect(url_for(\\'show_entries\\'))\\n\\n\\n@app.route(\\'/login\\', methods=[\\'GET\\', \\'POST\\'])\\ndef login():\\n    error = None\\n    if request.method == \\'POST\\':\\n        if request.form[\\'username\\'] != USERNAME:\\n            error = \\'Invalid username\\'\\n        elif request.form[\\'password\\'] != PASSWORD:\\n            error = \\'Invalid password\\'\\n        else:\\n            session[\\'logged_in\\'] = True\\n            flash(\\'You were logged in\\')\\n            return redirect(url_for(\\'show_entries\\'))\\n    return render_template(\\'login.html\\', error=error)\\n\\n\\n@app.route(\\'/logout\\')\\ndef logout():\\n    session.pop(\\'logged_in\\', None)\\n    flash(\\'You were logged out\\')\\n    return redirect(url_for(\\'show_entries\\'))\\n\\n\\nif __name__ == \\'__main__\\':\\n    app.run()\\n',\n '# -*- coding: utf-8 -*-\\n\"\"\"\\n    MiniTwit\\n    ~~~~~~~~\\n\\n    A microblogging application written with Flask and sqlite3.\\n\\n    :copyright: (c) 2010 by Armin Ronacher.\\n    :license: BSD, see LICENSE for more details.\\n\"\"\"\\nfrom __future__ import with_statement\\nimport re\\nimport time\\nimport sqlite3\\nfrom hashlib import md5\\nfrom datetime import datetime\\nfrom contextlib import closing\\nfrom flask import Flask, request, session, url_for, redirect, \\\\\\n     render_template, abort, g, flash\\nfrom werkzeug import check_password_hash, generate_password_hash\\n\\n\\n# configuration\\nDATABASE = \\'/tmp/minitwit.db\\'\\nPER_PAGE = 30\\nDEBUG = True\\nSECRET_KEY = \\'development key\\'\\n\\n# create our little application :)\\napp = Flask(__name__)\\n\\n\\ndef connect_db():\\n    \"\"\"Returns a new connection to the database.\"\"\"\\n    return sqlite3.connect(DATABASE)\\n\\n\\ndef init_db():\\n    \"\"\"Creates the database tables.\"\"\"\\n    with closing(connect_db()) as db:\\n        with app.open_resource(\\'schema.sql\\') as f:\\n            db.cursor().executescript(f.read())\\n        db.commit()\\n\\n\\ndef query_db(query, args=(), one=False):\\n    \"\"\"Queries the database and returns a list of dictionaries.\"\"\"\\n    cur = g.db.execute(query, args)\\n    rv = [dict((cur.description[idx][0], value)\\n               for idx, value in enumerate(row)) for row in cur.fetchall()]\\n    return (rv[0] if rv else None) if one else rv\\n\\n\\ndef get_user_id(username):\\n    \"\"\"Convenience method to look up the id for a username.\"\"\"\\n    rv = g.db.execute(\\'select user_id from user where username = ?\\',\\n                       [username]).fetchone()\\n    return rv[0] if rv else None\\n\\n\\ndef format_datetime(timestamp):\\n    \"\"\"Format a timestamp for display.\"\"\"\\n    return datetime.utcfromtimestamp(timestamp).strftime(\\'%Y-%m-%d @ %H:%M\\')\\n\\n\\ndef gravatar_url(email, size=80):\\n    \"\"\"Return the gravatar image for the given email address.\"\"\"\\n    return \\'http://www.gravatar.com/avatar/%s?d=identicon&s=%d\\' % \\\\\\n        (md5(email.strip().lower().encode(\\'utf-8\\')).hexdigest(), size)\\n\\n\\n@app.before_request\\ndef before_request():\\n    \"\"\"Make sure we are connected to the database each request and look\\n    up the current user so that we know he\\'s there.\\n    \"\"\"\\n    g.db = connect_db()\\n    g.user = None\\n    if \\'user_id\\' in session:\\n        g.user = query_db(\\'select * from user where user_id = ?\\',\\n                          [session[\\'user_id\\']], one=True)\\n\\n\\n@app.after_request\\ndef after_request(response):\\n    \"\"\"Closes the database again at the end of the request.\"\"\"\\n    g.db.close()\\n    return response\\n\\n\\n@app.route(\\'/\\')\\ndef timeline():\\n    \"\"\"Shows a users timeline or if no user is logged in it will\\n    redirect to the public timeline.  This timeline shows the user\\'s\\n    messages as well as all the messages of followed users.\\n    \"\"\"\\n    if not g.user:\\n        return redirect(url_for(\\'public_timeline\\'))\\n    offset = request.args.get(\\'offset\\', type=int)\\n    return render_template(\\'timeline.html\\', messages=query_db(\\'\\'\\'\\n        select message.*, user.* from message, user\\n        where message.author_id = user.user_id and (\\n            user.user_id = ? or\\n            user.user_id in (select whom_id from follower\\n                                    where who_id = ?))\\n        order by message.pub_date desc limit ?\\'\\'\\',\\n        [session[\\'user_id\\'], session[\\'user_id\\'], PER_PAGE]))\\n\\n\\n@app.route(\\'/public\\')\\ndef public_timeline():\\n    \"\"\"Displays the latest messages of all users.\"\"\"\\n    return render_template(\\'timeline.html\\', messages=query_db(\\'\\'\\'\\n        select message.*, user.* from message, user\\n        where message.author_id = user.user_id\\n        order by message.pub_date desc limit ?\\'\\'\\', [PER_PAGE]))\\n\\n\\n@app.route(\\'/<username>\\')\\ndef user_timeline(username):\\n    \"\"\"Display\\'s a users tweets.\"\"\"\\n    profile_user = query_db(\\'select * from user where username = ?\\',\\n                            [username], one=True)\\n    if profile_user is None:\\n        abort(404)\\n    followd = False\\n    if g.user:\\n        followed = query_db(\\'\\'\\'select 1 from follower where\\n            follower.who_id = ? and follower.whom_id = ?\\'\\'\\',\\n            [session[\\'user_id\\'], profile_user[\\'user_id\\']], one=True) is not None\\n    return render_template(\\'timeline.html\\', messages=query_db(\\'\\'\\'\\n            select message.*, user.* from message, user where\\n            user.user_id = message.author_id and user.user_id = ?\\n            order by message.pub_date desc limit ?\\'\\'\\',\\n            [profile_user[\\'user_id\\'], PER_PAGE]), followed=followed,\\n            profile_user=profile_user)\\n\\n\\n@app.route(\\'/<username>/follow\\')\\ndef follow_user(username):\\n    \"\"\"Adds the current user as follower of the given user.\"\"\"\\n    if not g.user:\\n        abort(401)\\n    whom_id = get_user_id(username)\\n    if whom_id is None:\\n        abort(404)\\n    g.db.execute(\\'insert into follower (who_id, whom_id) values (?, ?)\\',\\n                [session[\\'user_id\\'], whom_id])\\n    g.db.commit()\\n    flash(\\'You are now following \"%s\"\\' % username)\\n    return redirect(url_for(\\'user_timeline\\', username=username))\\n\\n\\n@app.route(\\'/<username>/unfollow\\')\\ndef unfollow_user(username):\\n    \"\"\"Removes the current user as follower of the given user.\"\"\"\\n    if not g.user:\\n        abort(401)\\n    whom_id = get_user_id(username)\\n    if whom_id is None:\\n        abort(404)\\n    g.db.execute(\\'delete from follower where who_id=? and whom_id=?\\',\\n                [session[\\'user_id\\'], whom_id])\\n    g.db.commit()\\n    flash(\\'You are no longer following \"%s\"\\' % username)\\n    return redirect(url_for(\\'user_timeline\\', username=username))\\n\\n\\n@app.route(\\'/add_message\\', methods=[\\'POST\\'])\\ndef add_message():\\n    \"\"\"Registers a new message for the user.\"\"\"\\n    if \\'user_id\\' not in session:\\n        abort(401)\\n    if request.form[\\'text\\']:\\n        g.db.execute(\\'\\'\\'insert into message (author_id, text, pub_date)\\n            values (?, ?, ?)\\'\\'\\', (session[\\'user_id\\'], request.form[\\'text\\'],\\n                                  int(time.time())))\\n        g.db.commit()\\n        flash(\\'Your message was recorded\\')\\n    return redirect(url_for(\\'timeline\\'))\\n\\n\\n@app.route(\\'/login\\', methods=[\\'GET\\', \\'POST\\'])\\ndef login():\\n    \"\"\"Logs the user in.\"\"\"\\n    if g.user:\\n        return redirect(url_for(\\'timeline\\'))\\n    error = None\\n    if request.method == \\'POST\\':\\n        user = query_db(\\'\\'\\'select * from user where\\n            username = ?\\'\\'\\', [request.form[\\'username\\']], one=True)\\n        if user is None:\\n            error = \\'Invalid username\\'\\n        elif not check_password_hash(user[\\'pw_hash\\'],\\n                                     request.form[\\'password\\']):\\n            error = \\'Invalid password\\'\\n        else:\\n            flash(\\'You were logged in\\')\\n            session[\\'user_id\\'] = user[\\'user_id\\']\\n            return redirect(url_for(\\'timeline\\'))\\n    return render_template(\\'login.html\\', error=error)\\n\\n\\n@app.route(\\'/register\\', methods=[\\'GET\\', \\'POST\\'])\\ndef register():\\n    \"\"\"Registers the user.\"\"\"\\n    if g.user:\\n        return redirect(url_for(\\'timeline\\'))\\n    error = None\\n    if request.method == \\'POST\\':\\n        if not request.form[\\'username\\']:\\n            error = \\'You have to enter a username\\'\\n        elif not request.form[\\'email\\'] or \\\\\\n                 \\'@\\' not in request.form[\\'email\\']:\\n            error = \\'You have to enter a valid email address\\'\\n        elif not request.form[\\'password\\']:\\n            error = \\'You have to enter a password\\'\\n        elif request.form[\\'password\\'] != request.form[\\'password2\\']:\\n            error = \\'The two passwords do not match\\'\\n        elif get_user_id(request.form[\\'username\\']) is not None:\\n            error = \\'The username is already taken\\'\\n        else:\\n            g.db.execute(\\'\\'\\'insert into user (\\n                username, email, pw_hash) values (?, ?, ?)\\'\\'\\',\\n                [request.form[\\'username\\'], request.form[\\'email\\'],\\n                 generate_password_hash(request.form[\\'password\\'])])\\n            g.db.commit()\\n            flash(\\'You were successfully registered and can login now\\')\\n            return redirect(url_for(\\'login\\'))\\n    return render_template(\\'register.html\\', error=error)\\n\\n\\n@app.route(\\'/logout\\')\\ndef logout():\\n    \"\"\"Logs the user out\"\"\"\\n    flash(\\'You were logged out\\')\\n    session.pop(\\'user_id\\', None)\\n    return redirect(url_for(\\'public_timeline\\'))\\n\\n\\n# add some filters to jinja and set the secret key and debug mode\\n# from the configuration.\\napp.jinja_env.filters[\\'datetimeformat\\'] = format_datetime\\napp.jinja_env.filters[\\'gravatar\\'] = gravatar_url\\napp.secret_key = SECRET_KEY\\napp.debug = DEBUG\\n\\n\\nif __name__ == \\'__main__\\':\\n    app.run()\\n']"
     },
     "execution_count": 10,
     "metadata": {},
     "output_type": "execute_result"
    }
   ],
   "source": [
    "[f.source for f in commits[0].source_files]"
   ],
   "metadata": {
    "collapsed": false,
    "pycharm": {
     "name": "#%%\n"
    }
   }
  },
  {
   "cell_type": "code",
   "execution_count": 11,
   "outputs": [
    {
     "data": {
      "text/plain": "['# -*- coding: utf-8 -*-\\n\"\"\"\\n    Flask Tests\\n    ~~~~~~~~~~~\\n\\n    Tests Flask itself.  The majority of Flask is already tested\\n    as part of Werkzeug.\\n\\n    :copyright: (c) 2010 by Armin Ronacher.\\n    :license: BSD, see LICENSE for more details.\\n\"\"\"\\nfrom __future__ import with_statement\\nimport flask\\nimport unittest\\nimport tempfile\\n\\n\\nclass ContextTestCase(unittest.TestCase):\\n\\n    def test_context_binding(self):\\n        app = flask.Flask(__name__)\\n        @app.route(\\'/\\')\\n        def index():\\n            return \\'Hello %s!\\' % flask.request.args[\\'name\\']\\n        @app.route(\\'/meh\\')\\n        def meh():\\n            return flask.request.url\\n\\n        with app.test_request_context(\\'/?name=World\\'):\\n            assert index() == \\'Hello World!\\'\\n        with app.test_request_context(\\'/meh\\'):\\n            assert meh() == \\'http://localhost/meh\\'\\n\\n\\nclass BasicFunctionality(unittest.TestCase):\\n\\n    def test_request_dispatching(self):\\n        app = flask.Flask(__name__)\\n        @app.route(\\'/\\')\\n        def index():\\n            return flask.request.method\\n        @app.route(\\'/more\\', methods=[\\'GET\\', \\'POST\\'])\\n        def more():\\n            return flask.request.method\\n\\n        c = app.test_client()\\n        assert c.get(\\'/\\').data == \\'GET\\'\\n        rv = c.post(\\'/\\')\\n        assert rv.status_code == 405\\n        assert sorted(rv.allow) == [\\'GET\\', \\'HEAD\\']\\n        rv = c.head(\\'/\\')\\n        assert rv.status_code == 200\\n        assert not rv.data # head truncates\\n        assert c.post(\\'/more\\').data == \\'POST\\'\\n        assert c.get(\\'/more\\').data == \\'GET\\'\\n        rv = c.delete(\\'/more\\')\\n        assert rv.status_code == 405\\n        assert sorted(rv.allow) == [\\'GET\\', \\'HEAD\\', \\'POST\\']\\n\\n    def test_session(self):\\n        app = flask.Flask(__name__)\\n        app.secret_key = \\'testkey\\'\\n        @app.route(\\'/set\\', methods=[\\'POST\\'])\\n        def set():\\n            flask.session[\\'value\\'] = flask.request.form[\\'value\\']\\n            return \\'value set\\'\\n        @app.route(\\'/get\\')\\n        def get():\\n            return flask.session[\\'value\\']\\n\\n        c = app.test_client()\\n        assert c.post(\\'/set\\', data={\\'value\\': \\'42\\'}).data == \\'value set\\'\\n        assert c.get(\\'/get\\').data == \\'42\\'\\n\\n    def test_request_processing(self):\\n        app = flask.Flask(__name__)\\n        evts = []\\n        @app.before_request\\n        def before_request():\\n            evts.append(\\'before\\')\\n        @app.after_request\\n        def after_request(response):\\n            response.data += \\'|after\\'\\n            evts.append(\\'after\\')\\n            return response\\n        @app.route(\\'/\\')\\n        def index():\\n            assert \\'before\\' in evts\\n            assert \\'after\\' not in evts\\n            return \\'request\\'\\n        assert \\'after\\' not in evts\\n        rv = app.test_client().get(\\'/\\').data\\n        assert \\'after\\' in evts\\n        assert rv == \\'request|after\\'\\n\\n    def test_error_handling(self):\\n        app = flask.Flask(__name__)\\n        @app.errorhandler(404)\\n        def not_found(e):\\n            return \\'not found\\', 404\\n        @app.errorhandler(500)\\n        def internal_server_error(e):\\n            return \\'internal server error\\', 500\\n        @app.route(\\'/\\')\\n        def index():\\n            flask.abort(404)\\n        @app.route(\\'/error\\')\\n        def error():\\n            1/0\\n        c = app.test_client()\\n        rv = c.get(\\'/\\')\\n        assert rv.status_code == 404\\n        assert rv.data == \\'not found\\'\\n        rv = c.get(\\'/error\\')\\n        assert rv.status_code == 500\\n        assert \\'internal server error\\' in rv.data\\n\\n    def test_response_creation(self):\\n        app = flask.Flask(__name__)\\n        @app.route(\\'/unicode\\')\\n        def from_unicode():\\n            return u\\'Hällo Wörld\\'\\n        @app.route(\\'/string\\')\\n        def from_string():\\n            return u\\'Hällo Wörld\\'.encode(\\'utf-8\\')\\n        @app.route(\\'/args\\')\\n        def from_tuple():\\n            return \\'Meh\\', 400, {\\'X-Foo\\': \\'Testing\\'}, \\'text/plain\\'\\n        c = app.test_client()\\n        assert c.get(\\'/unicode\\').data == u\\'Hällo Wörld\\'.encode(\\'utf-8\\')\\n        assert c.get(\\'/string\\').data == u\\'Hällo Wörld\\'.encode(\\'utf-8\\')\\n        rv = c.get(\\'/args\\')\\n        assert rv.data == \\'Meh\\'\\n        assert rv.headers[\\'X-Foo\\'] == \\'Testing\\'\\n        assert rv.status_code == 400\\n        assert rv.mimetype == \\'text/plain\\'\\n\\n    def test_url_generation(self):\\n        app = flask.Flask(__name__)\\n        @app.route(\\'/hello/<name>\\', methods=[\\'POST\\'])\\n        def hello():\\n            pass\\n        with app.test_request_context():\\n            assert flask.url_for(\\'hello\\', name=\\'test x\\') == \\'/hello/test%20x\\'\\n\\n    def test_static_files(self):\\n        app = flask.Flask(__name__)\\n        rv = app.test_client().get(\\'/static/index.html\\')\\n        assert rv.status_code == 200\\n        assert rv.data.strip() == \\'<h1>Hello World!</h1>\\'\\n        with app.test_request_context():\\n            assert flask.url_for(\\'static\\', filename=\\'index.html\\') \\\\\\n                == \\'/static/index.html\\'\\n\\n\\nclass Templating(unittest.TestCase):\\n\\n    def test_context_processing(self):\\n        app = flask.Flask(__name__)\\n        @app.context_processor\\n        def context_processor():\\n            return {\\'injected_value\\': 42}\\n        @app.route(\\'/\\')\\n        def index():\\n            return flask.render_template(\\'context_template.html\\', value=23)\\n        rv = app.test_client().get(\\'/\\')\\n        assert rv.data == \\'<p>23|42\\'\\n\\n    def test_escaping(self):\\n        text = \\'<p>Hello World!\\'\\n        app = flask.Flask(__name__)\\n        @app.route(\\'/\\')\\n        def index():\\n            return flask.render_template(\\'escaping_template.html\\', text=text,\\n                                         html=flask.Markup(text))\\n        lines = app.test_client().get(\\'/\\').data.splitlines()\\n        assert lines == [\\n            \\'&lt;p&gt;Hello World!\\',\\n            \\'<p>Hello World!\\',\\n            \\'<p>Hello World!\\',\\n            \\'<p>Hello World!\\',\\n            \\'&lt;p&gt;Hello World!\\',\\n            \\'<p>Hello World!\\'\\n        ]\\n\\n\\nif __name__ == \\'__main__\\':\\n    unittest.main()\\n']"
     },
     "execution_count": 11,
     "metadata": {},
     "output_type": "execute_result"
    }
   ],
   "source": [
    "[f.source for f in commits[0].test_files]"
   ],
   "metadata": {
    "collapsed": false,
    "pycharm": {
     "name": "#%%\n"
    }
   }
  }
 ],
 "metadata": {
  "kernelspec": {
   "display_name": "Python 3",
   "language": "python",
   "name": "python3"
  },
  "language_info": {
   "codemirror_mode": {
    "name": "ipython",
    "version": 2
   },
   "file_extension": ".py",
   "mimetype": "text/x-python",
   "name": "python",
   "nbconvert_exporter": "python",
   "pygments_lexer": "ipython2",
   "version": "2.7.6"
  }
 },
 "nbformat": 4,
 "nbformat_minor": 0
}