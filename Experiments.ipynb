{
 "cells": [
  {
   "cell_type": "code",
   "execution_count": 29,
   "outputs": [],
   "source": [
    "import ast\n",
    "\n",
    "import openai\n",
    "import os\n",
    "\n",
    "from model.message_preparation import MessageBuilder\n",
    "from history_scanner.GitHistoryDataSetParser import GitHistoryDataSetParser\n",
    "\n",
    "openai.api_key = os.getenv(\"OPENAI_API_KEY\")"
   ],
   "metadata": {
    "collapsed": false,
    "pycharm": {
     "name": "#%%\n"
    }
   }
  },
  {
   "cell_type": "code",
   "execution_count": 22,
   "outputs": [],
   "source": [
    "parser = GitHistoryDataSetParser(\"./\")\n",
    "data = parser.load_data(\"history_scanner/test_save.dat\")\n",
    "message_builder = MessageBuilder(data[-3:])"
   ],
   "metadata": {
    "collapsed": false,
    "pycharm": {
     "name": "#%%\n"
    }
   }
  },
  {
   "cell_type": "code",
   "execution_count": 25,
   "outputs": [],
   "source": [
    "messages = list(message_builder.get_train_messages())"
   ],
   "metadata": {
    "collapsed": false,
    "pycharm": {
     "name": "#%%\n"
    }
   }
  },
  {
   "cell_type": "code",
   "execution_count": 6,
   "outputs": [
    {
     "name": "stdout",
     "output_type": "stream",
     "text": [
      "\n",
      "### Python3\n",
      "#\n",
      "# Module(body=[Import(names=[alias(name='errno')]), Import(names=[alias(name='json')]), Import(names=[alias(name='os')]), Import(names=[alias(name='types')]), Import(names=[alias(name='typing', asname='t')]), ImportFrom(module='werkzeug.utils', names=[alias(name='import_string')], level=0), FunctionDef(name='_json_loads', args=arguments(posonlyargs=[], args=[arg(arg='raw', annotation=Subscript(value=Attribute(value=Name(id='t', ctx=Load()), attr='Union', ctx=Load()), slice=Tuple(elts=[Name(id='str', ctx=Load()), Name(id='bytes', ctx=Load())], ctx=Load()), ctx=Load()))], kwonlyargs=[], kw_defaults=[], defaults=[]), body=[Try(body=[Return(value=Call(func=Attribute(value=Name(id='json', ctx=Load()), attr='loads', ctx=Load()), args=[Name(id='raw', ctx=Load())], keywords=[]))], handlers=[ExceptHandler(type=Attribute(value=Name(id='json', ctx=Load()), attr='JSONDecodeError', ctx=Load()), body=[Return(value=Name(id='raw', ctx=Load()))])], orelse=[], finalbody=[])], decorator_list=[], returns=Attribute(value=Name(id='t', ctx=Load()), attr='Any', ctx=Load())), ClassDef(name='ConfigAttribute', bases=[], keywords=[], body=[Expr(value=Constant(value='Makes an attribute forward to the config')), FunctionDef(name='__init__', args=arguments(posonlyargs=[], args=[arg(arg='self'), arg(arg='name', annotation=Name(id='str', ctx=Load())), arg(arg='get_converter', annotation=Subscript(value=Attribute(value=Name(id='t', ctx=Load()), attr='Optional', ctx=Load()), slice=Attribute(value=Name(id='t', ctx=Load()), attr='Callable', ctx=Load()), ctx=Load()))], kwonlyargs=[], kw_defaults=[], defaults=[Constant(value=None)]), body=[Assign(targets=[Attribute(value=Name(id='self', ctx=Load()), attr='__name__', ctx=Store())], value=Name(id='name', ctx=Load())), Assign(targets=[Attribute(value=Name(id='self', ctx=Load()), attr='get_converter', ctx=Store())], value=Name(id='get_converter', ctx=Load()))], decorator_list=[], returns=Constant(value=None)), FunctionDef(name='__get__', args=arguments(posonlyargs=[], args=[arg(arg='self'), arg(arg='obj', annotation=Attribute(value=Name(id='t', ctx=Load()), attr='Any', ctx=Load())), arg(arg='owner', annotation=Attribute(value=Name(id='t', ctx=Load()), attr='Any', ctx=Load()))], kwonlyargs=[], kw_defaults=[], defaults=[Constant(value=None)]), body=[If(test=Compare(left=Name(id='obj', ctx=Load()), ops=[Is()], comparators=[Constant(value=None)]), body=[Return(value=Name(id='self', ctx=Load()))], orelse=[]), Assign(targets=[Name(id='rv', ctx=Store())], value=Subscript(value=Attribute(value=Name(id='obj', ctx=Load()), attr='config', ctx=Load()), slice=Attribute(value=Name(id='self', ctx=Load()), attr='__name__', ctx=Load()), ctx=Load())), If(test=Compare(left=Attribute(value=Name(id='self', ctx=Load()), attr='get_converter', ctx=Load()), ops=[IsNot()], comparators=[Constant(value=None)]), body=[Assign(targets=[Name(id='rv', ctx=Store())], value=Call(func=Attribute(value=Name(id='self', ctx=Load()), attr='get_converter', ctx=Load()), args=[Name(id='rv', ctx=Load())], keywords=[]))], orelse=[]), Return(value=Name(id='rv', ctx=Load()))], decorator_list=[], returns=Attribute(value=Name(id='t', ctx=Load()), attr='Any', ctx=Load())), FunctionDef(name='__set__', args=arguments(posonlyargs=[], args=[arg(arg='self'), arg(arg='obj', annotation=Attribute(value=Name(id='t', ctx=Load()), attr='Any', ctx=Load())), arg(arg='value', annotation=Attribute(value=Name(id='t', ctx=Load()), attr='Any', ctx=Load()))], kwonlyargs=[], kw_defaults=[], defaults=[]), body=[Assign(targets=[Subscript(value=Attribute(value=Name(id='obj', ctx=Load()), attr='config', ctx=Load()), slice=Attribute(value=Name(id='self', ctx=Load()), attr='__name__', ctx=Load()), ctx=Store())], value=Name(id='value', ctx=Load()))], decorator_list=[], returns=Constant(value=None))], decorator_list=[]), ClassDef(name='Config', bases=[Name(id='dict', ctx=Load())], keywords=[], body=[Expr(value=Constant(value=\"Works exactly like a dict but provides ways to fill it from files\\n    or\n",
      "#\n",
      "### Generate tests for more from_prefixed_env features\n",
      "\n",
      "* support nested dict access with \"__\" separator\n",
      "* don't specify separator in prefix\n",
      "* catch exceptions for any loads function\n",
      "class Test\n",
      "        \n"
     ]
    }
   ],
   "source": [
    "messages[1]"
   ],
   "metadata": {
    "collapsed": false,
    "pycharm": {
     "name": "#%%\n"
    }
   }
  },
  {
   "cell_type": "code",
   "execution_count": 7,
   "outputs": [
    {
     "data": {
      "text/plain": "<OpenAIObject text_completion id=cmpl-59V1WNq4i8C1GiZa34y4333JtdUnh at 0x210b64cff40> JSON: {\n  \"choices\": [\n    {\n      \"finish_reason\": \"length\",\n      \"index\": 0,\n      \"logprobs\": null,\n      \"text\": \"def test_from_prefixed_env(self):\\n            config\"\n    }\n  ],\n  \"created\": 1652945890,\n  \"id\": \"cmpl-59V1WNq4i8C1GiZa34y4333JtdUnh\",\n  \"model\": \"code-davinci-002\",\n  \"object\": \"text_completion\"\n}"
     },
     "execution_count": 7,
     "metadata": {},
     "output_type": "execute_result"
    }
   ],
   "source": [
    "openai.Completion.create(\n",
    "            engine=\"code-davinci-002\",\n",
    "            prompt=f\"{messages[1]}\",\n",
    "            temperature=0,\n",
    "            top_p=1.0,\n",
    "            frequency_penalty=0.0,\n",
    "            presence_penalty=0.0,\n",
    "            stop=[\"#\", \"\\\"\\\"\\\"\"]\n",
    "        )\n"
   ],
   "metadata": {
    "collapsed": false,
    "pycharm": {
     "name": "#%%\n"
    }
   }
  },
  {
   "cell_type": "code",
   "execution_count": 11,
   "outputs": [],
   "source": [],
   "metadata": {
    "collapsed": false,
    "pycharm": {
     "name": "#%%\n"
    }
   }
  },
  {
   "cell_type": "code",
   "execution_count": 109,
   "outputs": [
    {
     "data": {
      "text/plain": "<OpenAIObject text_completion id=cmpl-5B7pmvNDCVhiV5yz3Chf93G2RGNHo at 0x1f7a06d57c0> JSON: {\n  \"choices\": [\n    {\n      \"finish_reason\": \"length\",\n      \"index\": 0,\n      \"logprobs\": null,\n      \"text\": \"\\nimport urllib2\\nimport json\\n\\nzip_url =\"\n    },\n    {\n      \"finish_reason\": \"length\",\n      \"index\": 1,\n      \"logprobs\": null,\n      \"text\": \"\\nimport requests\\n\\n#api key needed to access the airnow api\"\n    },\n    {\n      \"finish_reason\": \"length\",\n      \"index\": 2,\n      \"logprobs\": null,\n      \"text\": \"#airnow api documentation: https://docs.airnowapi.org\"\n    },\n    {\n      \"finish_reason\": \"length\",\n      \"index\": 3,\n      \"logprobs\": null,\n      \"text\": \"#replace the value with your own zipcode\\n\\nimport requests\\nurl\"\n    },\n    {\n      \"finish_reason\": \"length\",\n      \"index\": 4,\n      \"logprobs\": null,\n      \"text\": \"\\n#AQI: 0 to 50, Good\\n#AQ\"\n    },\n    {\n      \"finish_reason\": \"length\",\n      \"index\": 5,\n      \"logprobs\": null,\n      \"text\": \"\\n#Import requests to perform the HTTP GET requests\\nimport requests\\n\\n\"\n    },\n    {\n      \"finish_reason\": \"length\",\n      \"index\": 6,\n      \"logprobs\": null,\n      \"text\": \"\\nimport requests\\nimport json\\n\\napi_key = '6A\"\n    },\n    {\n      \"finish_reason\": \"length\",\n      \"index\": 7,\n      \"logprobs\": null,\n      \"text\": \"#http://airnowapi.org/aq/observation/\"\n    },\n    {\n      \"finish_reason\": \"length\",\n      \"index\": 8,\n      \"logprobs\": null,\n      \"text\": \"#Link: http://airnowapi.org/\\n#API Key\"\n    },\n    {\n      \"finish_reason\": \"length\",\n      \"index\": 9,\n      \"logprobs\": null,\n      \"text\": \"#https://docs.airnowapi.org/\\n\\nimport requests\"\n    }\n  ],\n  \"created\": 1653333406,\n  \"id\": \"cmpl-5B7pmvNDCVhiV5yz3Chf93G2RGNHo\",\n  \"model\": \"code-davinci-002\",\n  \"object\": \"text_completion\"\n}"
     },
     "execution_count": 109,
     "metadata": {},
     "output_type": "execute_result"
    }
   ],
   "source": [
    "openai.Completion.create(\n",
    "            engine=\"code-davinci-002\",\n",
    "            prompt=\"\"\"#Python 2.7\n",
    "#Use the airnow API to to find and print the current AQI for zip code 94549\n",
    "\"\"\",\n",
    "            temperature=0.7,\n",
    "            top_p=1,\n",
    "            frequency_penalty=0.0,\n",
    "            presence_penalty=0.0,\n",
    "            n = 10\n",
    "        )"
   ],
   "metadata": {
    "collapsed": false,
    "pycharm": {
     "name": "#%%\n"
    }
   }
  },
  {
   "cell_type": "code",
   "execution_count": 13,
   "outputs": [
    {
     "name": "stdout",
     "output_type": "stream",
     "text": [
      "\n",
      "### Python3\n",
      "#\n",
      "# Module(body=[Import(names=[alias(name='errno')]), Import(names=[alias(name='json')]), Import(names=[alias(name='os')]), Import(names=[alias(name='types')]), Import(names=[alias(name='typing', asname='t')]), ImportFrom(module='werkzeug.utils', names=[alias(name='import_string')], level=0), FunctionDef(name='_json_loads', args=arguments(posonlyargs=[], args=[arg(arg='raw', annotation=Subscript(value=Attribute(value=Name(id='t', ctx=Load()), attr='Union', ctx=Load()), slice=Tuple(elts=[Name(id='str', ctx=Load()), Name(id='bytes', ctx=Load())], ctx=Load()), ctx=Load()))], kwonlyargs=[], kw_defaults=[], defaults=[]), body=[Try(body=[Return(value=Call(func=Attribute(value=Name(id='json', ctx=Load()), attr='loads', ctx=Load()), args=[Name(id='raw', ctx=Load())], keywords=[]))], handlers=[ExceptHandler(type=Attribute(value=Name(id='json', ctx=Load()), attr='JSONDecodeError', ctx=Load()), body=[Return(value=Name(id='raw', ctx=Load()))])], orelse=[], finalbody=[])], decorator_list=[], returns=Attribute(value=Name(id='t', ctx=Load()), attr='Any', ctx=Load())), ClassDef(name='ConfigAttribute', bases=[], keywords=[], body=[Expr(value=Constant(value='Makes an attribute forward to the config')), FunctionDef(name='__init__', args=arguments(posonlyargs=[], args=[arg(arg='self'), arg(arg='name', annotation=Name(id='str', ctx=Load())), arg(arg='get_converter', annotation=Subscript(value=Attribute(value=Name(id='t', ctx=Load()), attr='Optional', ctx=Load()), slice=Attribute(value=Name(id='t', ctx=Load()), attr='Callable', ctx=Load()), ctx=Load()))], kwonlyargs=[], kw_defaults=[], defaults=[Constant(value=None)]), body=[Assign(targets=[Attribute(value=Name(id='self', ctx=Load()), attr='__name__', ctx=Store())], value=Name(id='name', ctx=Load())), Assign(targets=[Attribute(value=Name(id='self', ctx=Load()), attr='get_converter', ctx=Store())], value=Name(id='get_converter', ctx=Load()))], decorator_list=[], returns=Constant(value=None)), FunctionDef(name='__get__', args=arguments(posonlyargs=[], args=[arg(arg='self'), arg(arg='obj', annotation=Attribute(value=Name(id='t', ctx=Load()), attr='Any', ctx=Load())), arg(arg='owner', annotation=Attribute(value=Name(id='t', ctx=Load()), attr='Any', ctx=Load()))], kwonlyargs=[], kw_defaults=[], defaults=[Constant(value=None)]), body=[If(test=Compare(left=Name(id='obj', ctx=Load()), ops=[Is()], comparators=[Constant(value=None)]), body=[Return(value=Name(id='self', ctx=Load()))], orelse=[]), Assign(targets=[Name(id='rv', ctx=Store())], value=Subscript(value=Attribute(value=Name(id='obj', ctx=Load()), attr='config', ctx=Load()), slice=Attribute(value=Name(id='self', ctx=Load()), attr='__name__', ctx=Load()), ctx=Load())), If(test=Compare(left=Attribute(value=Name(id='self', ctx=Load()), attr='get_converter', ctx=Load()), ops=[IsNot()], comparators=[Constant(value=None)]), body=[Assign(targets=[Name(id='rv', ctx=Store())], value=Call(func=Attribute(value=Name(id='self', ctx=Load()), attr='get_converter', ctx=Load()), args=[Name(id='rv', ctx=Load())], keywords=[]))], orelse=[]), Return(value=Name(id='rv', ctx=Load()))], decorator_list=[], returns=Attribute(value=Name(id='t', ctx=Load()), attr='Any', ctx=Load())), FunctionDef(name='__set__', args=arguments(posonlyargs=[], args=[arg(arg='self'), arg(arg='obj', annotation=Attribute(value=Name(id='t', ctx=Load()), attr='Any', ctx=Load())), arg(arg='value', annotation=Attribute(value=Name(id='t', ctx=Load()), attr='Any', ctx=Load()))], kwonlyargs=[], kw_defaults=[], defaults=[]), body=[Assign(targets=[Subscript(value=Attribute(value=Name(id='obj', ctx=Load()), attr='config', ctx=Load()), slice=Attribute(value=Name(id='self', ctx=Load()), attr='__name__', ctx=Load()), ctx=Store())], value=Name(id='value', ctx=Load()))], decorator_list=[], returns=Constant(value=None))], decorator_list=[]), ClassDef(name='Config', bases=[Name(id='dict', ctx=Load())], keywords=[], body=[Expr(value=Constant(value=\"Works exactly like a dict but provides ways to fill it from files\\n    or\n",
      "#\n",
      "### Generate tests for more from_prefixed_env features\n",
      "\n",
      "* support nested dict access with \"__\" separator\n",
      "* don't specify separator in prefix\n",
      "* catch exceptions for any loads function\n",
      "class Test\n",
      "        \n"
     ]
    }
   ],
   "source": [
    "print(messages[1])"
   ],
   "metadata": {
    "collapsed": false,
    "pycharm": {
     "name": "#%%\n"
    }
   }
  },
  {
   "cell_type": "code",
   "execution_count": 106,
   "outputs": [],
   "source": [
    "message = \"\"\"\n",
    "### Python3\n",
    "#\n",
    "# Module(body=[Import(names=[alias(name='errno')]), Import(names=[alias(name='json')]), Import(names=[alias(name='os')]), Import(names=[alias(name='types')]), Import(names=[alias(name='typing', asname='t')]), ImportFrom(module='werkzeug.utils', names=[alias(name='import_string')], level=0), FunctionDef(name='_json_loads', args=arguments(posonlyargs=[], args=[arg(arg='raw', annotation=Subscript(value=Attribute(value=Name(id='t', ctx=Load()), attr='Union', ctx=Load()), slice=Tuple(elts=[Name(id='str', ctx=Load()), Name(id='bytes', ctx=Load())], ctx=Load()), ctx=Load()))], kwonlyargs=[], kw_defaults=[], defaults=[]), body=[Try(body=[Return(value=Call(func=Attribute(value=Name(id='json', ctx=Load()), attr='loads', ctx=Load()), args=[Name(id='raw', ctx=Load())], keywords=[]))], handlers=[ExceptHandler(type=Attribute(value=Name(id='json', ctx=Load()), attr='JSONDecodeError', ctx=Load()), body=[Return(value=Name(id='raw', ctx=Load()))])], orelse=[], finalbody=[])], decorator_list=[], returns=Attribute(value=Name(id='t', ctx=Load()), attr='Any', ctx=Load())), ClassDef(name='ConfigAttribute', bases=[], keywords=[], body=[Expr(value=Constant(value='Makes an attribute forward to the config')), FunctionDef(name='__init__', args=arguments(posonlyargs=[], args=[arg(arg='self'), arg(arg='name', annotation=Name(id='str', ctx=Load())), arg(arg='get_converter', annotation=Subscript(value=Attribute(value=Name(id='t', ctx=Load()), attr='Optional', ctx=Load()), slice=Attribute(value=Name(id='t', ctx=Load()), attr='Callable', ctx=Load()), ctx=Load()))], kwonlyargs=[], kw_defaults=[], defaults=[Constant(value=None)]), body=[Assign(targets=[Attribute(value=Name(id='self', ctx=Load()), attr='__name__', ctx=Store())], value=Name(id='name', ctx=Load())), Assign(targets=[Attribute(value=Name(id='self', ctx=Load()), attr='get_converter', ctx=Store())], value=Name(id='get_converter', ctx=Load()))], decorator_list=[], returns=Constant(value=None)), FunctionDef(name='__get__', args=arguments(posonlyargs=[], args=[arg(arg='self'), arg(arg='obj', annotation=Attribute(value=Name(id='t', ctx=Load()), attr='Any', ctx=Load())), arg(arg='owner', annotation=Attribute(value=Name(id='t', ctx=Load()), attr='Any', ctx=Load()))], kwonlyargs=[], kw_defaults=[], defaults=[Constant(value=None)]), body=[If(test=Compare(left=Name(id='obj', ctx=Load()), ops=[Is()], comparators=[Constant(value=None)]), body=[Return(value=Name(id='self', ctx=Load()))], orelse=[]), Assign(targets=[Name(id='rv', ctx=Store())], value=Subscript(value=Attribute(value=Name(id='obj', ctx=Load()), attr='config', ctx=Load()), slice=Attribute(value=Name(id='self', ctx=Load()), attr='__name__', ctx=Load()), ctx=Load())), If(test=Compare(left=Attribute(value=Name(id='self', ctx=Load()), attr='get_converter', ctx=Load()), ops=[IsNot()], comparators=[Constant(value=None)]), body=[Assign(targets=[Name(id='rv', ctx=Store())], value=Call(func=Attribute(value=Name(id='self', ctx=Load()), attr='get_converter', ctx=Load()), args=[Name(id='rv', ctx=Load())], keywords=[]))], orelse=[]), Return(value=Name(id='rv', ctx=Load()))], decorator_list=[], returns=Attribute(value=Name(id='t', ctx=Load()), attr='Any', ctx=Load())), FunctionDef(name='__set__', args=arguments(posonlyargs=[], args=[arg(arg='self'), arg(arg='obj', annotation=Attribute(value=Name(id='t', ctx=Load()), attr='Any', ctx=Load())), arg(arg='value', annotation=Attribute(value=Name(id='t', ctx=Load()), attr='Any', ctx=Load()))], kwonlyargs=[], kw_defaults=[], defaults=[]), body=[Assign(targets=[Subscript(value=Attribute(value=Name(id='obj', ctx=Load()), attr='config', ctx=Load()), slice=Attribute(value=Name(id='self', ctx=Load()), attr='__name__', ctx=Load()), ctx=Store())], value=Name(id='value', ctx=Load()))], decorator_list=[], returns=Constant(value=None))], decorator_list=[]), ClassDef(name='Config', bases=[Name(id='dict', ctx=Load())], keywords=[], body=[Expr(value=Constant(value=\"Works exactly like a dict but provides ways to fill it from files\\n    or\n",
    "### Generate tests for class ConfigAttributes public methods.\n",
    "def\n",
    "\"\"\""
   ],
   "metadata": {
    "collapsed": false,
    "pycharm": {
     "name": "#%%\n"
    }
   }
  },
  {
   "cell_type": "markdown",
   "source": [
    "# Results by running the code above:\n",
    "\\#\\#\\# Generate tests for class ConfigAttributes public methods.\\ndef\\n###\""
   ],
   "metadata": {
    "collapsed": false,
    "pycharm": {
     "name": "#%% md\n"
    }
   }
  },
  {
   "cell_type": "code",
   "execution_count": 16,
   "outputs": [],
   "source": [
    "test_msg = '''\n",
    "\"\"\"\n",
    "import errno\n",
    "import json\n",
    "import os\n",
    "import types\n",
    "import typing as t\n",
    "\n",
    "from werkzeug.utils import import_string\n",
    "\n",
    "\n",
    "def _json_loads(raw: t.Union[str, bytes]) -> t.Any:\n",
    "    try:\n",
    "        return json.loads(raw)\n",
    "    except json.JSONDecodeError:\n",
    "        return raw\n",
    "\n",
    "\n",
    "class ConfigAttribute:\n",
    "    def __init__(self, name: str, get_converter: t.Optional[t.Callable] = None) -> None:\n",
    "        self.__name__ = name\n",
    "        self.get_converter = get_converter\n",
    "\n",
    "    def __get__(self, obj: t.Any, owner: t.Any = None) -> t.Any:\n",
    "        if obj is None:\n",
    "            return self\n",
    "        rv = obj.config[self.__name__]\n",
    "        if self.get_converter is not None:\n",
    "            rv = self.get_converter(rv)\n",
    "        return rv\n",
    "\n",
    "    def __set__(self, obj: t.Any, value: t.Any) -> None:\n",
    "        obj.config[self.__name__] = value\n",
    "\n",
    "\n",
    "class Config(dict):\n",
    "    def __init__(self, root_path: str, defaults: t.Optional[dict] = None) -> None:\n",
    "        super().__init__(defaults or {})\n",
    "        self.root_path = root_path\n",
    "\n",
    "    def from_envvar(self, variable_name: str, silent: bool = False) -> bool:\n",
    "        rv = os.environ.get(variable_name)\n",
    "        if not rv:\n",
    "            if silent:\n",
    "                return False\n",
    "            raise RuntimeError(\n",
    "                f\"The environment variable {variable_name!r} is not set\"\n",
    "                \" and as such configuration could not be loaded. Set\"\n",
    "                \" this variable and make it point to a configuration\"\n",
    "                \" file\"\n",
    "            )\n",
    "        return self.from_pyfile(rv, silent=silent)\n",
    "\n",
    "    def from_prefixed_env(\n",
    "        self, prefix: str = \"FLASK\", *, loads: t.Callable[[str], t.Any] = json.loads\n",
    "    ) -> bool:\n",
    "        prefix = f\"{prefix}_\"\n",
    "        len_prefix = len(prefix)\n",
    "\n",
    "        for key in sorted(os.environ):\n",
    "            if not key.startswith(prefix):\n",
    "                continue\n",
    "\n",
    "            value = os.environ[key]\n",
    "\n",
    "            try:\n",
    "                value = loads(value)\n",
    "            except Exception:\n",
    "                # Keep the value as a string if loading failed.\n",
    "                pass\n",
    "\n",
    "            # Change to key.removeprefix(prefix) on Python >= 3.9.\n",
    "            key = key[len_prefix:]\n",
    "\n",
    "            if \"__\" not in key:\n",
    "                # A non-nested key, set directly.\n",
    "                self[key] = value\n",
    "                continue\n",
    "\n",
    "            # Traverse nested dictionaries with keys separated by \"__\".\n",
    "            current = self\n",
    "            *parts, tail = key.split(\"__\")\n",
    "\n",
    "            for part in parts:\n",
    "                # If an intermediate dict does not exist, create it.\n",
    "                if part not in current:\n",
    "                    current[part] = {}\n",
    "\n",
    "                current = current[part]\n",
    "\n",
    "            current[tail] = value\n",
    "\n",
    "        return True\n",
    "\n",
    "    def from_pyfile(self, filename: str, silent: bool = False) -> bool:\n",
    "        filename = os.path.join(self.root_path, filename)\n",
    "        d = types.ModuleType(\"config\")\n",
    "        d.__file__ = filename\n",
    "        try:\n",
    "            with open(filename, mode=\"rb\") as config_file:\n",
    "                exec(compile(config_file.read(), filename, \"exec\"), d.__dict__)\n",
    "        except OSError as e:\n",
    "            if silent and e.errno in (errno.ENOENT, errno.EISDIR, errno.ENOTDIR):\n",
    "                return False\n",
    "            e.strerror = f\"Unable to load configuration file ({e.strerror})\"\n",
    "            raise\n",
    "        self.from_object(d)\n",
    "        return True\n",
    "\n",
    "    def from_object(self, obj: t.Union[object, str]) -> None:\n",
    "        if isinstance(obj, str):\n",
    "            obj = import_string(obj)\n",
    "        for key in dir(obj):\n",
    "            if key.isupper():\n",
    "                self[key] = getattr(obj, key)\n",
    "\n",
    "    def from_file(\n",
    "        self,\n",
    "        filename: str,\n",
    "        load: t.Callable[[t.IO[t.Any]], t.Mapping],\n",
    "        silent: bool = False,\n",
    "    ) -> bool:\n",
    "        filename = os.path.join(self.root_path, filename)\n",
    "\n",
    "        try:\n",
    "            with open(filename) as f:\n",
    "                obj = load(f)\n",
    "        except OSError as e:\n",
    "            if silent and e.errno in (errno.ENOENT, errno.EISDIR):\n",
    "                return False\n",
    "\n",
    "            e.strerror = f\"Unable to load configuration file ({e.strerror})\"\n",
    "            raise\n",
    "\n",
    "        return self.from_mapping(obj)\n",
    "\n",
    "    def from_mapping(\n",
    "        self, mapping: t.Optional[t.Mapping[str, t.Any]] = None, **kwargs: t.Any\n",
    "    ) -> bool:\n",
    "        mappings: t.Dict[str, t.Any] = {}\n",
    "        if mapping is not None:\n",
    "            mappings.update(mapping)\n",
    "        mappings.update(kwargs)\n",
    "        for key, value in mappings.items():\n",
    "            if key.isupper():\n",
    "                self[key] = value\n",
    "        return True\n",
    "\n",
    "    def get_namespace(\n",
    "        self, namespace: str, lowercase: bool = True, trim_namespace: bool = True\n",
    "    ) -> t.Dict[str, t.Any]:\n",
    "        rv = {}\n",
    "        for k, v in self.items():\n",
    "            if not k.startswith(namespace):\n",
    "                continue\n",
    "            if trim_namespace:\n",
    "                key = k[len(namespace) :]\n",
    "            else:\n",
    "                key = k\n",
    "            if lowercase:\n",
    "                key = key.lower()\n",
    "            rv[key] = v\n",
    "        return rv\n",
    "\n",
    "    def __repr__(self) -> str:\n",
    "        return f\"<{type(self).__name__} {dict.__repr__(self)}>\"\n",
    "\n",
    "# Generate tests for: more from_prefixed_env features, support nested dict access with \"__\" separator, don't specify separator in prefix, catch exceptions for any loads function\n",
    "\"\"\"\n",
    "'''"
   ],
   "metadata": {
    "collapsed": false,
    "pycharm": {
     "name": "#%%\n"
    }
   }
  },
  {
   "cell_type": "code",
   "execution_count": 33,
   "outputs": [],
   "source": [
    "test_definition = '''\n",
    "def test_from_prefixed_env_with_json_loads():\n",
    "\"\"\"\n",
    "Create test which: prefixed env with json_loads\n",
    "\"\"\"\n",
    "'''"
   ],
   "metadata": {
    "collapsed": false,
    "pycharm": {
     "name": "#%%\n"
    }
   }
  },
  {
   "cell_type": "code",
   "execution_count": 40,
   "outputs": [],
   "source": [
    "ast_data = ast.parse(\"\"\"\n",
    "import errno\n",
    "import json\n",
    "import os\n",
    "import types\n",
    "import typing as t\n",
    "\n",
    "from werkzeug.utils import import_string\n",
    "\n",
    "\n",
    "def _json_loads(raw: t.Union[str, bytes]) -> t.Any:\n",
    "    try:\n",
    "        return json.loads(raw)\n",
    "    except json.JSONDecodeError:\n",
    "        return raw\n",
    "\n",
    "\n",
    "class ConfigAttribute:\n",
    "    def __init__(self, name: str, get_converter: t.Optional[t.Callable] = None) -> None:\n",
    "        self.__name__ = name\n",
    "        self.get_converter = get_converter\n",
    "\n",
    "    def __get__(self, obj: t.Any, owner: t.Any = None) -> t.Any:\n",
    "        if obj is None:\n",
    "            return self\n",
    "        rv = obj.config[self.__name__]\n",
    "        if self.get_converter is not None:\n",
    "            rv = self.get_converter(rv)\n",
    "        return rv\n",
    "\n",
    "    def __set__(self, obj: t.Any, value: t.Any) -> None:\n",
    "        obj.config[self.__name__] = value\n",
    "\n",
    "\n",
    "class Config(dict):\n",
    "    def __init__(self, root_path: str, defaults: t.Optional[dict] = None) -> None:\n",
    "        super().__init__(defaults or {})\n",
    "        self.root_path = root_path\n",
    "\n",
    "    def from_envvar(self, variable_name: str, silent: bool = False) -> bool:\n",
    "        rv = os.environ.get(variable_name)\n",
    "        if not rv:\n",
    "            if silent:\n",
    "                return False\n",
    "            raise RuntimeError(\n",
    "                f\"The environment variable {variable_name!r} is not set\"\n",
    "                \" and as such configuration could not be loaded. Set\"\n",
    "                \" this variable and make it point to a configuration\"\n",
    "                \" file\"\n",
    "            )\n",
    "        return self.from_pyfile(rv, silent=silent)\n",
    "\n",
    "    def from_prefixed_env(\n",
    "        self, prefix: str = \"FLASK\", *, loads: t.Callable[[str], t.Any] = json.loads\n",
    "    ) -> bool:\n",
    "        prefix = f\"{prefix}_\"\n",
    "        len_prefix = len(prefix)\n",
    "\n",
    "        for key in sorted(os.environ):\n",
    "            if not key.startswith(prefix):\n",
    "                continue\n",
    "\n",
    "            value = os.environ[key]\n",
    "\n",
    "            try:\n",
    "                value = loads(value)\n",
    "            except Exception:\n",
    "                # Keep the value as a string if loading failed.\n",
    "                pass\n",
    "\n",
    "            # Change to key.removeprefix(prefix) on Python >= 3.9.\n",
    "            key = key[len_prefix:]\n",
    "\n",
    "            if \"__\" not in key:\n",
    "                # A non-nested key, set directly.\n",
    "                self[key] = value\n",
    "                continue\n",
    "\n",
    "            # Traverse nested dictionaries with keys separated by \"__\".\n",
    "            current = self\n",
    "            *parts, tail = key.split(\"__\")\n",
    "\n",
    "            for part in parts:\n",
    "                # If an intermediate dict does not exist, create it.\n",
    "                if part not in current:\n",
    "                    current[part] = {}\n",
    "\n",
    "                current = current[part]\n",
    "\n",
    "            current[tail] = value\n",
    "\n",
    "        return True\n",
    "\n",
    "    def from_pyfile(self, filename: str, silent: bool = False) -> bool:\n",
    "        filename = os.path.join(self.root_path, filename)\n",
    "        d = types.ModuleType(\"config\")\n",
    "        d.__file__ = filename\n",
    "        try:\n",
    "            with open(filename, mode=\"rb\") as config_file:\n",
    "                exec(compile(config_file.read(), filename, \"exec\"), d.__dict__)\n",
    "        except OSError as e:\n",
    "            if silent and e.errno in (errno.ENOENT, errno.EISDIR, errno.ENOTDIR):\n",
    "                return False\n",
    "            e.strerror = f\"Unable to load configuration file ({e.strerror})\"\n",
    "            raise\n",
    "        self.from_object(d)\n",
    "        return True\n",
    "\n",
    "    def from_object(self, obj: t.Union[object, str]) -> None:\n",
    "        if isinstance(obj, str):\n",
    "            obj = import_string(obj)\n",
    "        for key in dir(obj):\n",
    "            if key.isupper():\n",
    "                self[key] = getattr(obj, key)\n",
    "\n",
    "    def from_file(\n",
    "        self,\n",
    "        filename: str,\n",
    "        load: t.Callable[[t.IO[t.Any]], t.Mapping],\n",
    "        silent: bool = False,\n",
    "    ) -> bool:\n",
    "        filename = os.path.join(self.root_path, filename)\n",
    "\n",
    "        try:\n",
    "            with open(filename) as f:\n",
    "                obj = load(f)\n",
    "        except OSError as e:\n",
    "            if silent and e.errno in (errno.ENOENT, errno.EISDIR):\n",
    "                return False\n",
    "\n",
    "            e.strerror = f\"Unable to load configuration file ({e.strerror})\"\n",
    "            raise\n",
    "\n",
    "        return self.from_mapping(obj)\n",
    "\n",
    "    def from_mapping(\n",
    "        self, mapping: t.Optional[t.Mapping[str, t.Any]] = None, **kwargs: t.Any\n",
    "    ) -> bool:\n",
    "        mappings: t.Dict[str, t.Any] = {}\n",
    "        if mapping is not None:\n",
    "            mappings.update(mapping)\n",
    "        mappings.update(kwargs)\n",
    "        for key, value in mappings.items():\n",
    "            if key.isupper():\n",
    "                self[key] = value\n",
    "        return True\n",
    "\n",
    "    def get_namespace(\n",
    "        self, namespace: str, lowercase: bool = True, trim_namespace: bool = True\n",
    "    ) -> t.Dict[str, t.Any]:\n",
    "        rv = {}\n",
    "        for k, v in self.items():\n",
    "            if not k.startswith(namespace):\n",
    "                continue\n",
    "            if trim_namespace:\n",
    "                key = k[len(namespace) :]\n",
    "            else:\n",
    "                key = k\n",
    "            if lowercase:\n",
    "                key = key.lower()\n",
    "            rv[key] = v\n",
    "        return rv\n",
    "\n",
    "    def __repr__(self) -> str:\n",
    "        return f\"<{type(self).__name__} {dict.__repr__(self)}>\"\n",
    "\"\"\")\n",
    "data = [ast_data.body[-2], ast_data.body[-1], ast_data.body[-3]]"
   ],
   "metadata": {
    "collapsed": false,
    "pycharm": {
     "name": "#%%\n"
    }
   }
  },
  {
   "cell_type": "code",
   "execution_count": 79,
   "outputs": [
    {
     "data": {
      "text/plain": "'str'"
     },
     "execution_count": 79,
     "metadata": {},
     "output_type": "execute_result"
    }
   ],
   "source": [
    "data[1].body[1].args.args[1].annotation.id"
   ],
   "metadata": {
    "collapsed": false,
    "pycharm": {
     "name": "#%%\n"
    }
   }
  },
  {
   "cell_type": "code",
   "execution_count": 104,
   "outputs": [],
   "source": [
    "classDef = '''\n",
    "class IAmSoBad():\n",
    "    def __init__(self, name: str):\n",
    "        self.name = name\n",
    "\n",
    "    def capitalize(self):\n",
    "        return self.name.capitalize()\n",
    "\n",
    "import unittest\n",
    "class Test(unittest.TestCase):\n",
    "    def test_capitalize(self):\n",
    "    \"\"\"\n",
    "    test the capitalize method from class IAmSoBad\n",
    "    assert is equal to 'TEST'\n",
    "    \"\"\"\n",
    "'''"
   ],
   "metadata": {
    "collapsed": false,
    "pycharm": {
     "name": "#%%\n"
    }
   }
  },
  {
   "cell_type": "code",
   "execution_count": 101,
   "outputs": [
    {
     "data": {
      "text/plain": "\"Module(body=[ClassDef(name='IAmSoBad', bases=[], keywords=[], body=[FunctionDef(name='__init__', args=arguments(posonlyargs=[], args=[arg(arg='self'), arg(arg='name', annotation=Name(id='str', ctx=Load()))], kwonlyargs=[], kw_defaults=[], defaults=[]), body=[Assign(targets=[Attribute(value=Name(id='self', ctx=Load()), attr='name', ctx=Store())], value=Name(id='name', ctx=Load()))], decorator_list=[]), FunctionDef(name='capitalize', args=arguments(posonlyargs=[], args=[arg(arg='self')], kwonlyargs=[], kw_defaults=[], defaults=[]), body=[Return(value=Call(func=Attribute(value=Attribute(value=Name(id='self', ctx=Load()), attr='name', ctx=Load()), attr='capitalize', ctx=Load()), args=[], keywords=[]))], decorator_list=[])], decorator_list=[])], type_ignores=[])\""
     },
     "execution_count": 101,
     "metadata": {},
     "output_type": "execute_result"
    }
   ],
   "source": [
    "ast.dump(ast.parse(\"\"\"class IAmSoBad():\n",
    "    def __init__(self, name: str):\n",
    "        self.name = name\n",
    "\n",
    "    def capitalize(self):\n",
    "        return self.name.capitalize()\n",
    "\"\"\"))"
   ],
   "metadata": {
    "collapsed": false,
    "pycharm": {
     "name": "#%%\n"
    }
   }
  },
  {
   "cell_type": "code",
   "execution_count": 113,
   "outputs": [
    {
     "data": {
      "text/plain": "<OpenAIObject text_completion id=cmpl-5B7yy2Pp4Rveb85gxLWcCjD0QER3U at 0x1f7a586bdb0> JSON: {\n  \"choices\": [\n    {\n      \"finish_reason\": \"length\",\n      \"index\": 0,\n      \"logprobs\": null,\n      \"text\": \"\\n        self.assertEqual(IAmSoBad('foo').capitalize(), 'Foo')\\n        self.assertEqual(IAmSoBad('bar').capitalize(), 'Bar')\\n        self.assertEqual(IAmSoBad('baz').capitalize(), 'Baz')\\n        self.assertEqual(IAmSoBad('qux').capitalize(), 'Qux')\\n        self.assertEqual(IAmSoBad('quux').capitalize(), 'Quux')\\n        self.assertEqual(IAmSoBad('corge').capitalize(), 'Corge')\\n        self.assertEqual(IAmSoBad('grault').capitalize(), 'Grault')\\n        self.assertEqual(IAmSoBad('garply').capitalize(), 'Garply')\\n        self.assertEqual(IAmSoBad('waldo').capitalize(), 'Waldo')\\n        self.assertEqual(IAmSoBad('fred').capitalize(), 'Fred')\\n        self.assertEqual(IAmSoBad('plugh').capitalize(), 'Plugh')\\n        self.assertEqual\"\n    }\n  ],\n  \"created\": 1653333976,\n  \"id\": \"cmpl-5B7yy2Pp4Rveb85gxLWcCjD0QER3U\",\n  \"model\": \"code-davinci-002\",\n  \"object\": \"text_completion\"\n}"
     },
     "execution_count": 113,
     "metadata": {},
     "output_type": "execute_result"
    }
   ],
   "source": [
    "openai.Completion.create(\n",
    "  engine=\"code-davinci-002\",\n",
    "  prompt=\"\\\"\\\"\\\"\\nModule(body=[ClassDef(name='IAmSoBad', bases=[], keywords=[], body=[FunctionDef(name='__init__', args=arguments(posonlyargs=[], args=[arg(arg='self'), arg(arg='name', annotation=Name(id='str', ctx=Load()))], kwonlyargs=[], kw_defaults=[], defaults=[]), body=[Assign(targets=[Attribute(value=Name(id='self', ctx=Load()), attr='name', ctx=Store())], value=Name(id='name', ctx=Load()))], decorator_list=[]), FunctionDef(name='capitalize', args=arguments(posonlyargs=[], args=[arg(arg='self')], kwonlyargs=[], kw_defaults=[], defaults=[]), body=[Return(value=Call(func=Attribute(value=Attribute(value=Name(id='self', ctx=Load()), attr='name', ctx=Load()), attr='capitalize', ctx=Load()), args=[], keywords=[]))], decorator_list=[])], decorator_list=[])], type_ignores=[])\\n\\\"\\\"\\\"\\nimport unittest\\nclass Test(unittest.TestCase):\\n    def test_capitalize(self):\\n    \\\"\\\"\\\"\\n    test the capitalize method from class IAmSoBad\\n    \\\"\\\"\\\"\",\n",
    "  temperature=0,\n",
    "  max_tokens=256,\n",
    "  top_p=1,\n",
    "  frequency_penalty=0,\n",
    "  presence_penalty=0,\n",
    "  stop=[\"#\"]\n",
    ")"
   ],
   "metadata": {
    "collapsed": false,
    "pycharm": {
     "name": "#%%\n"
    }
   }
  },
  {
   "cell_type": "markdown",
   "source": [
    "# Running results from CODEX\n",
    "\n",
    "Actual good parameters:\n",
    "\n",
    "```Python\n",
    "openai.Completion.create(\n",
    "  engine=\"code-davinci-002\",\n",
    "  prompt=\"Prompt SHOULD contain compilable code\",\n",
    "  temperature=0,\n",
    "  max_tokens=256,\n",
    "  top_p=1,\n",
    "  frequency_penalty=0,\n",
    "  presence_penalty=0,\n",
    "  stop=[\"#\"]\n",
    ")\n",
    "```\n"
   ],
   "metadata": {
    "collapsed": false,
    "pycharm": {
     "name": "#%% md\n"
    }
   }
  },
  {
   "cell_type": "code",
   "execution_count": 116,
   "outputs": [
    {
     "name": "stdout",
     "output_type": "stream",
     "text": [
      "{'root_path': ''}\n"
     ]
    }
   ],
   "source": [],
   "metadata": {
    "collapsed": false,
    "pycharm": {
     "name": "#%%\n"
    }
   }
  }
 ],
 "metadata": {
  "kernelspec": {
   "display_name": "Python 3",
   "language": "python",
   "name": "python3"
  },
  "language_info": {
   "codemirror_mode": {
    "name": "ipython",
    "version": 2
   },
   "file_extension": ".py",
   "mimetype": "text/x-python",
   "name": "python",
   "nbconvert_exporter": "python",
   "pygments_lexer": "ipython2",
   "version": "2.7.6"
  }
 },
 "nbformat": 4,
 "nbformat_minor": 0
}