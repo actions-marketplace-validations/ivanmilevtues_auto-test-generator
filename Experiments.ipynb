{
 "cells": [
  {
   "cell_type": "code",
   "execution_count": 12,
   "outputs": [],
   "source": [
    "from generation.GeneratedTestSaver import GeneratedTestSaver\n",
    "from history_scanner.GitHistoryDataSetParser import GitHistoryDataSetParser\n",
    "from generation.Model import Model"
   ],
   "metadata": {
    "collapsed": false,
    "pycharm": {
     "name": "#%%\n"
    }
   }
  },
  {
   "cell_type": "code",
   "execution_count": 13,
   "outputs": [],
   "source": [
    "# Load data\n",
    "parser = GitHistoryDataSetParser(\"dataset_repos/pydriller\", branch=\"master\")\n",
    "data = parser.load_data(\"dataset_repos/data/pydriller_commits.dat\")\n",
    "model = Model()"
   ],
   "metadata": {
    "collapsed": false,
    "pycharm": {
     "name": "#%%\n"
    }
   }
  },
  {
   "cell_type": "code",
   "execution_count": null,
   "outputs": [],
   "source": [
    "# Parse data\n",
    "parser = GitHistoryDataSetParser(\"dataset_repos/pydriller\", branch=\"master\")\n",
    "data = parser.parse_data()"
   ],
   "metadata": {
    "collapsed": false,
    "pycharm": {
     "name": "#%%\n"
    }
   }
  },
  {
   "cell_type": "code",
   "execution_count": 14,
   "outputs": [
    {
     "name": "stdout",
     "output_type": "stream",
     "text": [
      "Add Delta Maintainability Model metrics\n",
      "\n",
      "Extend Commit class with three new properties\n",
      "\n",
      "- dmm_unit_size\n",
      "- dmm_unit_complexity\n",
      "- dmm_unit_interfacing\n",
      "\n",
      "Helper methods are implemented in the Modifications class as well.\n",
      "\n",
      "The corresponding test class provides full branch coverage, using a dedicated\n",
      "git test repository.\n",
      "\n",
      "See also Marco di Biase, Ayushi Rastogi, Magiel Bruntink, and Arie van Deursen. The Delta Maintainability Model: measuring maintainability of fine-grained code changes. IEEE/ACM International Conference on Technical Debt (TechDebt) at ICSE 2019, pp 113-122: \n",
      "['commit.py']\n",
      "['test_dmm.py']\n",
      "\n"
     ]
    }
   ],
   "source": [
    "print(str(data[-5]))"
   ],
   "metadata": {
    "collapsed": false,
    "pycharm": {
     "name": "#%%\n"
    }
   }
  },
  {
   "cell_type": "code",
   "execution_count": 15,
   "outputs": [
    {
     "name": "stdout",
     "output_type": "stream",
     "text": [
      "# Copyright 2018 Davide Spadini and Arie van Deursen\n",
      "#\n",
      "# Licensed under the Apache License, Version 2.0 (the \"License\");\n",
      "# you may not use this file except in compliance with the License.\n",
      "# You may obtain a copy of the License at\n",
      "#\n",
      "#    http://www.apache.org/licenses/LICENSE-2.0\n",
      "#\n",
      "# Unless required by applicable law or agreed to in writing, software\n",
      "# distributed under the License is distributed on an \"AS IS\" BASIS,\n",
      "# WITHOUT WARRANTIES OR CONDITIONS OF ANY KIND, either express or implied.\n",
      "# See the License for the specific language governing permissions and\n",
      "# limitations under the License.\n",
      "\n",
      "import logging\n",
      "import pytest\n",
      "\n",
      "from pydriller.git_repository import GitRepository\n",
      "from pydriller.domain.commit import Commit\n",
      "\n",
      "\n",
      "logging.basicConfig(\n",
      "    format='%(asctime)s - %(levelname)s - %(message)s', level=logging.INFO)\n",
      "\n",
      "\n",
      "@pytest.fixture()\n",
      "def repo():\n",
      "    path = \"test-repos/dmm-test-repo\"\n",
      "    gr = GitRepository(path)\n",
      "    yield gr\n",
      "    gr.clear()\n",
      "\n",
      "\n",
      "# List of (commit_message, dmm_value) pairs\n",
      "#\n",
      "# We use unit size to exercise all the various DMM cases\n",
      "UNIT_SIZE_TEST_DATA = [\n",
      "    # delta high > 0, delta low = 0 -- always DMM 0.0\n",
      "    ('Commit with one large method', 0.0),\n",
      "\n",
      "    # delta high > 0, delta low > 0 -- DMM = ratio\n",
      "    ('Make large larger, add small method', 0.8),\n",
      "\n",
      "    # delta high > 0, delta low < 0 --- always DMM 0.0\n",
      "    ('Make large larger, make small smaller', 0.0),\n",
      "\n",
      "    # delta high = 0, delta low = 0 --- always DMM 1.0\n",
      "    ('Modify every line in large method', 1.0),\n",
      "\n",
      "    # delta high = 0, delta low > 0 --- always DMM 1.0\n",
      "    ('Make small method a bit larger', 1.0),\n",
      "\n",
      "    # delta high = 0, delta low < 0 --- alwyas DMM 1.0 (corner case)\n",
      "    ('Make small smaller', 1.0),\n",
      "\n",
      "    # delta high < 0, delta low < 0 --- DMM = ratio\n",
      "    ('Make large smaller, make small smaller', 2/3),\n",
      "\n",
      "    # delta  high < 0, delta low = 0 -- always 1.0\n",
      "    ('Make large smaller', 1.0),\n",
      "\n",
      "    # delta high < 0, delta low > 0 -- always DMM 1.0\n",
      "    ('Make large smaller, make small larger', 1.0),\n",
      "\n",
      "    # File 1: large larger; File 2: small larger -- dmm fraction\n",
      "    ('Increase in one, decrease in other file', 3/4),\n",
      "\n",
      "    # Method with unit size exactly on the border\n",
      "    ('Add method with unit size on-point', 1.0),\n",
      "\n",
      "    # Method with unit size at off point\n",
      "    ('Increase unit size to risky', 0.0)\n",
      "]\n",
      "\n",
      "UNIT_COMPLEXITY_TEST_DATA = [\n",
      "    # Large method, but no conditional logic\n",
      "    ('Commit with one large method', 1.0),\n",
      "\n",
      "    # Method with cyclomatic complexity exactly on the border\n",
      "    ('Add method with complexity on-point', 1.0),\n",
      "\n",
      "    # Method with cyclomatic complexity at off point\n",
      "    ('Increase complexity to risky', 0.0)\n",
      "]\n",
      "\n",
      "UNIT_INTERFACING_TEST_DATA = [\n",
      "    # Large method, but no parameters\n",
      "    ('Commit with one large method', 1.0),\n",
      "\n",
      "    # Method with nr of paramters exactly on the border\n",
      "    ('Add method with interfacing on-point', 1.0),\n",
      "\n",
      "    # Method with nr of parameters at off point\n",
      "    ('Increase interfacing to risky', 0.0)\n",
      "]\n",
      "\n",
      "\n",
      "def commit_by_msg(repo: GitRepository, msg: str) -> Commit:\n",
      "    for commit in repo.get_list_commits():\n",
      "        if commit.msg == msg:\n",
      "            return commit\n",
      "    logging.warning('cannot find commit with msg \"%s\"', msg)\n",
      "    return None\n",
      "\n",
      "@pytest.mark.parametrize('msg,dmm', UNIT_SIZE_TEST_DATA)\n",
      "def test_dmm_unit_size(repo: GitRepository, msg: str, dmm: float):\n",
      "    commit = commit_by_msg(repo, msg)\n",
      "    assert commit.dmm_unit_size == dmm\n",
      "\n",
      "@pytest.mark.parametrize('msg,dmm', UNIT_COMPLEXITY_TEST_DATA)\n",
      "def test_dmm_unit_complexity(repo: GitRepository, msg: str, dmm: float):\n",
      "    commit = commit_by_msg(repo, msg)\n",
      "    assert commit.dmm_unit_complexity == dmm\n",
      "\n",
      "@pytest.mark.parametrize('msg,dmm', UNIT_INTERFACING_TEST_DATA)\n",
      "def test_dmm_unit_interfacing(repo: GitRepository, msg: str, dmm: float):\n",
      "    commit = commit_by_msg(repo, msg)\n",
      "    assert commit.dmm_unit_interfacing == dmm\n",
      "\n",
      "def test_delta_profile_modification(repo: GitRepository):\n",
      "    commit = commit_by_msg(repo, 'Increase unit size to risky')\n",
      "    mod = commit.modifications[0]\n",
      "    assert mod._delta_risk_profile(commit._low_risk_unit_size) == (-15, 16)\n",
      "\n",
      "def test_delta_profile_commit(repo: GitRepository):\n",
      "    commit = commit_by_msg(repo, 'Increase in one, decrease in other file')\n",
      "\n",
      "    m0 = commit.modifications[0]\n",
      "    assert m0._delta_risk_profile(commit._low_risk_unit_size) == (0, 1)\n",
      "    m1 = commit.modifications[1]\n",
      "    assert m1._delta_risk_profile(commit._low_risk_unit_size) == (3, 0)\n",
      "\n",
      "    assert commit._delta_risk_profile(Commit._low_risk_unit_size) == (3, 1)\n",
      "\n",
      "@pytest.mark.parametrize(\n",
      "    'dlo,dhi,prop', [\n",
      "    ( 0,  0, 1.0),\n",
      "    ( 1,  0, 1.0),\n",
      "    (-1,  0, 0.0),\n",
      "    ( 0,  1, 0.0),\n",
      "    ( 0, -1, 1.0),\n",
      "    ( 1,  1, 0.5),\n",
      "    (-1, -1, 0.5),\n",
      "    ( 1, -1, 1.0),\n",
      "    (-1,  1, 0.0)\n",
      "    ])\n",
      "def test_good_proportion(dlo: int, dhi: int, prop: float):\n",
      "    assert Commit._good_change_proportion(dlo, dhi) == prop\n",
      "\n"
     ]
    }
   ],
   "source": [
    "print(\"\\n\".join(f.source for f in data[-5].test_files))"
   ],
   "metadata": {
    "collapsed": false,
    "pycharm": {
     "name": "#%%\n"
    }
   }
  },
  {
   "cell_type": "code",
   "execution_count": 16,
   "outputs": [],
   "source": [
    "prompts = [prompt for prompt in data[-5].construct_prompt()]"
   ],
   "metadata": {
    "collapsed": false,
    "pycharm": {
     "name": "#%%\n"
    }
   }
  },
  {
   "cell_type": "code",
   "execution_count": 20,
   "outputs": [],
   "source": [
    "generation = model.generate_test(str(prompts[0]))"
   ],
   "metadata": {
    "collapsed": false,
    "pycharm": {
     "name": "#%%\n"
    }
   }
  },
  {
   "cell_type": "code",
   "execution_count": 23,
   "outputs": [],
   "source": [
    "def print_generation(generation):\n",
    "    for gen in generation:\n",
    "        print(gen)"
   ],
   "metadata": {
    "collapsed": false,
    "pycharm": {
     "name": "#%%\n"
    }
   }
  },
  {
   "cell_type": "code",
   "execution_count": 34,
   "outputs": [],
   "source": [
    "import ast\n",
    "parse = ast.parse(data[-5].source_files[0].source)"
   ],
   "metadata": {
    "collapsed": false,
    "pycharm": {
     "name": "#%%\n"
    }
   }
  },
  {
   "cell_type": "code",
   "execution_count": 46,
   "outputs": [],
   "source": [
    "def search_in_body(parse):\n",
    "    for expr in parse.body:\n",
    "        if isinstance(expr, ast.ClassDef):\n",
    "            print(expr.name)\n",
    "            search_in_body(expr)\n",
    "        if isinstance(expr, ast.FunctionDef):\n",
    "            print(expr.name)"
   ],
   "metadata": {
    "collapsed": false,
    "pycharm": {
     "name": "#%%\n"
    }
   }
  },
  {
   "cell_type": "code",
   "execution_count": 47,
   "outputs": [
    {
     "name": "stdout",
     "output_type": "stream",
     "text": [
      "ModificationType\n",
      "Method\n",
      "__init__\n",
      "__eq__\n",
      "__hash__\n",
      "Modification\n",
      "__init__\n",
      "added\n",
      "removed\n",
      "old_path\n",
      "new_path\n",
      "filename\n",
      "nloc\n",
      "complexity\n",
      "token_count\n",
      "diff_parsed\n",
      "_get_line_numbers\n",
      "methods\n",
      "methods_before\n",
      "changed_methods\n",
      "_risk_profile\n",
      "_delta_risk_profile\n",
      "_calculate_metrics\n",
      "__eq__\n",
      "Commit\n",
      "__init__\n",
      "hash\n",
      "author\n",
      "committer\n",
      "project_name\n",
      "author_date\n",
      "committer_date\n",
      "author_timezone\n",
      "committer_timezone\n",
      "msg\n",
      "parents\n",
      "merge\n",
      "modifications\n",
      "_get_modifications\n",
      "_parse_diff\n",
      "_get_decoded_str\n",
      "_get_decoded_sc_str\n",
      "in_main_branch\n",
      "branches\n",
      "_get_branches\n",
      "_low_risk_unit_size\n",
      "_low_risk_unit_complexity\n",
      "_low_risk_unit_interfacing\n",
      "dmm_unit_size\n",
      "dmm_unit_complexity\n",
      "dmm_unit_interfacing\n",
      "_delta_maintainability\n",
      "_delta_risk_profile\n",
      "_good_change_proportion\n",
      "_from_change_to_modification_type\n",
      "__eq__\n"
     ]
    }
   ],
   "source": [
    "search_in_body(parse)"
   ],
   "metadata": {
    "collapsed": false,
    "pycharm": {
     "name": "#%%\n"
    }
   }
  },
  {
   "cell_type": "markdown",
   "source": [
    "# Fixing imports"
   ],
   "metadata": {
    "collapsed": false,
    "pycharm": {
     "name": "#%% md\n"
    }
   }
  },
  {
   "cell_type": "code",
   "execution_count": 48,
   "outputs": [],
   "source": [
    "import subprocess"
   ],
   "metadata": {
    "collapsed": false,
    "pycharm": {
     "name": "#%%\n"
    }
   }
  },
  {
   "cell_type": "code",
   "execution_count": 56,
   "outputs": [],
   "source": [
    "out = subprocess.run(\"pytest C:\\\\Users\\\\Ivan\\\\PycharmProjects\\\\auto-test-generator\\\\dataset_repos\\\\pydriller\\\\generated_tests\\\\test_2929a6aa-63c3-423f-9cf9-bb20187aa9fd.py\", shell=True, stdout=subprocess.PIPE,cwd=\"C:\\\\Users\\\\Ivan\\\\PycharmProjects\\\\auto-test-generator\\\\dataset_repos\\\\pydriller\").stdout.decode()"
   ],
   "metadata": {
    "collapsed": false,
    "pycharm": {
     "name": "#%%\n"
    }
   }
  },
  {
   "cell_type": "code",
   "execution_count": 140,
   "outputs": [
    {
     "name": "stdout",
     "output_type": "stream",
     "text": [
      "============================= test session starts =============================\r\n",
      "platform win32 -- Python 3.8.5, pytest-6.1.1, py-1.9.0, pluggy-0.13.1\r\n",
      "rootdir: C:\\Users\\Ivan\\PycharmProjects\\auto-test-generator\\dataset_repos\\pydriller, configfile: pytest.ini\r\n",
      "collected 0 items / 1 error\r\n",
      "\r\n",
      "=================================== ERRORS ====================================\r\n",
      "_ ERROR collecting generated_tests/test_2929a6aa-63c3-423f-9cf9-bb20187aa9fd.py _\r\n",
      "ImportError while importing test module 'C:\\Users\\Ivan\\PycharmProjects\\auto-test-generator\\dataset_repos\\pydriller\\generated_tests\\test_2929a6aa-63c3-423f-9cf9-bb20187aa9fd.py'.\r\n",
      "Hint: make sure your test modules/packages have valid Python names.\r\n",
      "Traceback:\r\n",
      "..\\..\\..\\..\\anaconda3\\lib\\importlib\\__init__.py:127: in import_module\r\n",
      "    return _bootstrap._gcd_import(name[level:], package, level)\r\n",
      "generated_tests\\test_2929a6aa-63c3-423f-9cf9-bb20187aa9fd.py:5: in <module>\r\n",
      "    from pydriller.metrics.process.process_metrics import ProcessMetrics\r\n",
      "pydriller\\__init__.py:2: in <module>\r\n",
      "    from .domain.commit import Commit\r\n",
      "pydriller\\domain\\commit.py:27: in <module>\r\n",
      "    import lizard\r\n",
      "E   ModuleNotFoundError: No module named 'lizard'\r\n",
      "============================== warnings summary ===============================\r\n",
      "..\\..\\..\\..\\anaconda3\\lib\\site-packages\\pyreadline\\py3k_compat.py:8\r\n",
      "  C:\\Users\\Ivan\\anaconda3\\lib\\site-packages\\pyreadline\\py3k_compat.py:8: DeprecationWarning: Using or importing the ABCs from 'collections' instead of from 'collections.abc' is deprecated since Python 3.3, and in 3.9 it will stop working\r\n",
      "    return isinstance(x, collections.Callable)\r\n",
      "\r\n",
      "-- Docs: https://docs.pytest.org/en/stable/warnings.html\r\n",
      "=========================== short test summary info ===========================\r\n",
      "ERROR generated_tests/test_2929a6aa-63c3-423f-9cf9-bb20187aa9fd.py\r\n",
      "!!!!!!!!!!!!!!!!!!! Interrupted: 1 error during collection !!!!!!!!!!!!!!!!!!!!\r\n",
      "========================= 1 warning, 1 error in 0.19s =========================\r\n",
      "\n"
     ]
    }
   ],
   "source": [
    "print(out)"
   ],
   "metadata": {
    "collapsed": false,
    "pycharm": {
     "name": "#%%\n"
    }
   }
  },
  {
   "cell_type": "code",
   "execution_count": 234,
   "outputs": [
    {
     "name": "stdout",
     "output_type": "stream",
     "text": [
      "[]\n"
     ]
    }
   ],
   "source": [
    "import re\n",
    "matches  = re.findall(r\"NameError:\\sname '(\\w+)' is not defined\", out)\n",
    "print(matches)"
   ],
   "metadata": {
    "collapsed": false,
    "pycharm": {
     "name": "#%%\n"
    }
   }
  },
  {
   "cell_type": "code",
   "execution_count": 62,
   "outputs": [],
   "source": [
    "pass_out = out = subprocess.run(\"pytest C:\\\\Users\\\\Ivan\\\\PycharmProjects\\\\auto-test-generator\\\\dataset_repos\\\\pydriller\\\\generated_tests\\\\test_2929a6aa-63c3-423f-9cf9-bb20187aa9fd.py\", shell=True, stdout=subprocess.PIPE,cwd=\"C:\\\\Users\\\\Ivan\\\\PycharmProjects\\\\auto-test-generator\\\\dataset_repos\\\\pydriller\").stdout.decode()\n"
   ],
   "metadata": {
    "collapsed": false,
    "pycharm": {
     "name": "#%%\n"
    }
   }
  },
  {
   "cell_type": "code",
   "execution_count": 135,
   "outputs": [],
   "source": [
    "def extract_group(tup):\n",
    "        return [i for i in tup if i is not None]"
   ],
   "metadata": {
    "collapsed": false,
    "pycharm": {
     "name": "#%%\n"
    }
   }
  },
  {
   "cell_type": "code",
   "execution_count": 196,
   "outputs": [
    {
     "name": "stdout",
     "output_type": "stream",
     "text": [
      "1\n"
     ]
    }
   ],
   "source": [
    "#print(out)\n",
    "errors = re.search(r\"((?P<failedNumber>\\d)+ failed)|((?P<passedNumber>\\d+) passed)|((?P<warningsNumber>\\d+) warning)|((?P<errorNumber>\\d+) error)/g\", out)\n",
    "reg = re.compile(r'=.+((?P<failedNumber>\\d+) warning)')\n",
    "print(reg.search(out).groups('failedNumber')[1])"
   ],
   "metadata": {
    "collapsed": false,
    "pycharm": {
     "name": "#%%\n"
    }
   }
  },
  {
   "cell_type": "markdown",
   "source": [
    "## Crawling for import"
   ],
   "metadata": {
    "collapsed": false,
    "pycharm": {
     "name": "#%% md\n"
    }
   }
  },
  {
   "cell_type": "code",
   "execution_count": 149,
   "outputs": [],
   "source": [
    "import os\n",
    "base_dir = \"C:\\\\Users\\\\Ivan\\\\PycharmProjects\\\\auto-test-generator\\\\dataset_repos\\\\pydriller\""
   ],
   "metadata": {
    "collapsed": false,
    "pycharm": {
     "name": "#%%\n"
    }
   }
  },
  {
   "cell_type": "code",
   "execution_count": 151,
   "outputs": [
    {
     "name": "stdout",
     "output_type": "stream",
     "text": [
      "['C:\\\\Users\\\\Ivan\\\\PycharmProjects\\\\auto-test-generator\\\\dataset_repos\\\\pydriller\\\\setup.py', 'C:\\\\Users\\\\Ivan\\\\PycharmProjects\\\\auto-test-generator\\\\dataset_repos\\\\pydriller\\\\docs\\\\conf.py', 'C:\\\\Users\\\\Ivan\\\\PycharmProjects\\\\auto-test-generator\\\\dataset_repos\\\\pydriller\\\\examples\\\\commits_containing_bugs_in_message.py', 'C:\\\\Users\\\\Ivan\\\\PycharmProjects\\\\auto-test-generator\\\\dataset_repos\\\\pydriller\\\\examples\\\\commit_and_authors.py', 'C:\\\\Users\\\\Ivan\\\\PycharmProjects\\\\auto-test-generator\\\\dataset_repos\\\\pydriller\\\\examples\\\\commit_and_num_of_modified_files.py', 'C:\\\\Users\\\\Ivan\\\\PycharmProjects\\\\auto-test-generator\\\\dataset_repos\\\\pydriller\\\\examples\\\\diff_of_files.py', 'C:\\\\Users\\\\Ivan\\\\PycharmProjects\\\\auto-test-generator\\\\dataset_repos\\\\pydriller\\\\examples\\\\name_of_modified_files_per_commit.py', 'C:\\\\Users\\\\Ivan\\\\PycharmProjects\\\\auto-test-generator\\\\dataset_repos\\\\pydriller\\\\examples\\\\only_commits_that_modified_java_files.py', 'C:\\\\Users\\\\Ivan\\\\PycharmProjects\\\\auto-test-generator\\\\dataset_repos\\\\pydriller\\\\generated_tests\\\\test_2929a6aa-63c3-423f-9cf9-bb20187aa9fd.py', 'C:\\\\Users\\\\Ivan\\\\PycharmProjects\\\\auto-test-generator\\\\dataset_repos\\\\pydriller\\\\generated_tests\\\\__init__.py', 'C:\\\\Users\\\\Ivan\\\\PycharmProjects\\\\auto-test-generator\\\\dataset_repos\\\\pydriller\\\\pydriller\\\\git_repository.py', 'C:\\\\Users\\\\Ivan\\\\PycharmProjects\\\\auto-test-generator\\\\dataset_repos\\\\pydriller\\\\pydriller\\\\repository_mining.py', 'C:\\\\Users\\\\Ivan\\\\PycharmProjects\\\\auto-test-generator\\\\dataset_repos\\\\pydriller\\\\pydriller\\\\__init__.py', 'C:\\\\Users\\\\Ivan\\\\PycharmProjects\\\\auto-test-generator\\\\dataset_repos\\\\pydriller\\\\pydriller\\\\domain\\\\commit.py', 'C:\\\\Users\\\\Ivan\\\\PycharmProjects\\\\auto-test-generator\\\\dataset_repos\\\\pydriller\\\\pydriller\\\\domain\\\\developer.py', 'C:\\\\Users\\\\Ivan\\\\PycharmProjects\\\\auto-test-generator\\\\dataset_repos\\\\pydriller\\\\pydriller\\\\domain\\\\__init__.py', 'C:\\\\Users\\\\Ivan\\\\PycharmProjects\\\\auto-test-generator\\\\dataset_repos\\\\pydriller\\\\pydriller\\\\metrics\\\\__init__.py', 'C:\\\\Users\\\\Ivan\\\\PycharmProjects\\\\auto-test-generator\\\\dataset_repos\\\\pydriller\\\\pydriller\\\\metrics\\\\process\\\\process_metrics.py', 'C:\\\\Users\\\\Ivan\\\\PycharmProjects\\\\auto-test-generator\\\\dataset_repos\\\\pydriller\\\\pydriller\\\\metrics\\\\process\\\\__init__.py', 'C:\\\\Users\\\\Ivan\\\\PycharmProjects\\\\auto-test-generator\\\\dataset_repos\\\\pydriller\\\\test-repos\\\\files\\\\tmp1.py', 'C:\\\\Users\\\\Ivan\\\\PycharmProjects\\\\auto-test-generator\\\\dataset_repos\\\\pydriller\\\\test-repos\\\\files\\\\tmp2.py', 'C:\\\\Users\\\\Ivan\\\\PycharmProjects\\\\auto-test-generator\\\\dataset_repos\\\\pydriller\\\\test-repos\\\\files\\\\fold1\\\\tmp3.py', 'C:\\\\Users\\\\Ivan\\\\PycharmProjects\\\\auto-test-generator\\\\dataset_repos\\\\pydriller\\\\test-repos\\\\files\\\\fold1\\\\tmp4.py', 'C:\\\\Users\\\\Ivan\\\\PycharmProjects\\\\auto-test-generator\\\\dataset_repos\\\\pydriller\\\\test-repos\\\\files\\\\fold2\\\\tmp5.py', 'C:\\\\Users\\\\Ivan\\\\PycharmProjects\\\\auto-test-generator\\\\dataset_repos\\\\pydriller\\\\test-repos\\\\files\\\\fold2\\\\tmp6.py', 'C:\\\\Users\\\\Ivan\\\\PycharmProjects\\\\auto-test-generator\\\\dataset_repos\\\\pydriller\\\\test-repos\\\\files\\\\fold2\\\\fold3\\\\tmp7.py', 'C:\\\\Users\\\\Ivan\\\\PycharmProjects\\\\auto-test-generator\\\\dataset_repos\\\\pydriller\\\\test-repos\\\\files\\\\fold2\\\\fold3\\\\tmp8.py', 'C:\\\\Users\\\\Ivan\\\\PycharmProjects\\\\auto-test-generator\\\\dataset_repos\\\\pydriller\\\\test-repos\\\\lizard\\\\git_repository.py', 'C:\\\\Users\\\\Ivan\\\\PycharmProjects\\\\auto-test-generator\\\\dataset_repos\\\\pydriller\\\\test-repos\\\\lizard\\\\git_repo_added_method.py', 'C:\\\\Users\\\\Ivan\\\\PycharmProjects\\\\auto-test-generator\\\\dataset_repos\\\\pydriller\\\\test-repos\\\\lizard\\\\git_repo_changed_method.py', 'C:\\\\Users\\\\Ivan\\\\PycharmProjects\\\\auto-test-generator\\\\dataset_repos\\\\pydriller\\\\test-repos\\\\lizard\\\\git_repo_removed_method.py', 'C:\\\\Users\\\\Ivan\\\\PycharmProjects\\\\auto-test-generator\\\\dataset_repos\\\\pydriller\\\\test-repos\\\\lizard\\\\lizard.py', 'C:\\\\Users\\\\Ivan\\\\PycharmProjects\\\\auto-test-generator\\\\dataset_repos\\\\pydriller\\\\test-repos\\\\order\\\\git_repository.py', 'C:\\\\Users\\\\Ivan\\\\PycharmProjects\\\\auto-test-generator\\\\dataset_repos\\\\pydriller\\\\test-repos\\\\pydriller\\\\pydriller\\\\git_repository.py', 'C:\\\\Users\\\\Ivan\\\\PycharmProjects\\\\auto-test-generator\\\\dataset_repos\\\\pydriller\\\\test-repos\\\\pydriller\\\\pydriller\\\\repository_mining.py', 'C:\\\\Users\\\\Ivan\\\\PycharmProjects\\\\auto-test-generator\\\\dataset_repos\\\\pydriller\\\\test-repos\\\\pydriller\\\\pydriller\\\\__init__.py', 'C:\\\\Users\\\\Ivan\\\\PycharmProjects\\\\auto-test-generator\\\\dataset_repos\\\\pydriller\\\\test-repos\\\\pydriller\\\\pydriller\\\\domain\\\\commit.py', 'C:\\\\Users\\\\Ivan\\\\PycharmProjects\\\\auto-test-generator\\\\dataset_repos\\\\pydriller\\\\test-repos\\\\pydriller\\\\pydriller\\\\domain\\\\developer.py', 'C:\\\\Users\\\\Ivan\\\\PycharmProjects\\\\auto-test-generator\\\\dataset_repos\\\\pydriller\\\\test-repos\\\\pydriller\\\\pydriller\\\\domain\\\\__init__.py', 'C:\\\\Users\\\\Ivan\\\\PycharmProjects\\\\auto-test-generator\\\\dataset_repos\\\\pydriller\\\\test-repos\\\\pydriller\\\\pydriller\\\\metrics\\\\__init__.py', 'C:\\\\Users\\\\Ivan\\\\PycharmProjects\\\\auto-test-generator\\\\dataset_repos\\\\pydriller\\\\test-repos\\\\pydriller\\\\pydriller\\\\metrics\\\\process\\\\commits_count.py', 'C:\\\\Users\\\\Ivan\\\\PycharmProjects\\\\auto-test-generator\\\\dataset_repos\\\\pydriller\\\\test-repos\\\\pydriller\\\\pydriller\\\\metrics\\\\process\\\\contributors_count.py', 'C:\\\\Users\\\\Ivan\\\\PycharmProjects\\\\auto-test-generator\\\\dataset_repos\\\\pydriller\\\\test-repos\\\\pydriller\\\\pydriller\\\\metrics\\\\process\\\\contributors_experience.py', 'C:\\\\Users\\\\Ivan\\\\PycharmProjects\\\\auto-test-generator\\\\dataset_repos\\\\pydriller\\\\test-repos\\\\pydriller\\\\pydriller\\\\metrics\\\\process\\\\history_complexity.py', 'C:\\\\Users\\\\Ivan\\\\PycharmProjects\\\\auto-test-generator\\\\dataset_repos\\\\pydriller\\\\test-repos\\\\pydriller\\\\pydriller\\\\metrics\\\\process\\\\hunks_count.py', 'C:\\\\Users\\\\Ivan\\\\PycharmProjects\\\\auto-test-generator\\\\dataset_repos\\\\pydriller\\\\test-repos\\\\pydriller\\\\pydriller\\\\metrics\\\\process\\\\lines_count.py', 'C:\\\\Users\\\\Ivan\\\\PycharmProjects\\\\auto-test-generator\\\\dataset_repos\\\\pydriller\\\\test-repos\\\\pydriller\\\\pydriller\\\\metrics\\\\process\\\\metrics.py', 'C:\\\\Users\\\\Ivan\\\\PycharmProjects\\\\auto-test-generator\\\\dataset_repos\\\\pydriller\\\\test-repos\\\\pydriller\\\\pydriller\\\\metrics\\\\process\\\\process_metric.py', 'C:\\\\Users\\\\Ivan\\\\PycharmProjects\\\\auto-test-generator\\\\dataset_repos\\\\pydriller\\\\test-repos\\\\pydriller\\\\pydriller\\\\metrics\\\\process\\\\__init__.py', 'C:\\\\Users\\\\Ivan\\\\PycharmProjects\\\\auto-test-generator\\\\dataset_repos\\\\pydriller\\\\test-repos\\\\pydriller\\\\pydriller\\\\utils\\\\conf.py', 'C:\\\\Users\\\\Ivan\\\\PycharmProjects\\\\auto-test-generator\\\\dataset_repos\\\\pydriller\\\\test-repos\\\\pydriller\\\\pydriller\\\\utils\\\\__init__.py', 'C:\\\\Users\\\\Ivan\\\\PycharmProjects\\\\auto-test-generator\\\\dataset_repos\\\\pydriller\\\\test-repos\\\\pydriller\\\\tests\\\\test_commit.py', 'C:\\\\Users\\\\Ivan\\\\PycharmProjects\\\\auto-test-generator\\\\dataset_repos\\\\pydriller\\\\test-repos\\\\pydriller\\\\tests\\\\test_developer.py', 'C:\\\\Users\\\\Ivan\\\\PycharmProjects\\\\auto-test-generator\\\\dataset_repos\\\\pydriller\\\\test-repos\\\\pydriller\\\\tests\\\\test_diff.py', 'C:\\\\Users\\\\Ivan\\\\PycharmProjects\\\\auto-test-generator\\\\dataset_repos\\\\pydriller\\\\test-repos\\\\pydriller\\\\tests\\\\test_git_repository.py', 'C:\\\\Users\\\\Ivan\\\\PycharmProjects\\\\auto-test-generator\\\\dataset_repos\\\\pydriller\\\\test-repos\\\\pydriller\\\\tests\\\\test_memory_consumption.py', 'C:\\\\Users\\\\Ivan\\\\PycharmProjects\\\\auto-test-generator\\\\dataset_repos\\\\pydriller\\\\test-repos\\\\pydriller\\\\tests\\\\test_repository_mining.py', 'C:\\\\Users\\\\Ivan\\\\PycharmProjects\\\\auto-test-generator\\\\dataset_repos\\\\pydriller\\\\test-repos\\\\pydriller\\\\tests\\\\__init__.py', 'C:\\\\Users\\\\Ivan\\\\PycharmProjects\\\\auto-test-generator\\\\dataset_repos\\\\pydriller\\\\test-repos\\\\pydriller\\\\tests\\\\integration\\\\test_between_dates.py', 'C:\\\\Users\\\\Ivan\\\\PycharmProjects\\\\auto-test-generator\\\\dataset_repos\\\\pydriller\\\\test-repos\\\\pydriller\\\\tests\\\\integration\\\\test_between_tags.py', 'C:\\\\Users\\\\Ivan\\\\PycharmProjects\\\\auto-test-generator\\\\dataset_repos\\\\pydriller\\\\test-repos\\\\pydriller\\\\tests\\\\integration\\\\test_commit_filters.py', 'C:\\\\Users\\\\Ivan\\\\PycharmProjects\\\\auto-test-generator\\\\dataset_repos\\\\pydriller\\\\test-repos\\\\pydriller\\\\tests\\\\integration\\\\test_dates_and_timezones.py', 'C:\\\\Users\\\\Ivan\\\\PycharmProjects\\\\auto-test-generator\\\\dataset_repos\\\\pydriller\\\\test-repos\\\\pydriller\\\\tests\\\\integration\\\\test_ranges.py', 'C:\\\\Users\\\\Ivan\\\\PycharmProjects\\\\auto-test-generator\\\\dataset_repos\\\\pydriller\\\\test-repos\\\\pydriller\\\\tests\\\\integration\\\\test_reverse_order.py', 'C:\\\\Users\\\\Ivan\\\\PycharmProjects\\\\auto-test-generator\\\\dataset_repos\\\\pydriller\\\\test-repos\\\\pydriller\\\\tests\\\\integration\\\\__init__.py', 'C:\\\\Users\\\\Ivan\\\\PycharmProjects\\\\auto-test-generator\\\\dataset_repos\\\\pydriller\\\\test-repos\\\\pydriller\\\\tests\\\\metrics\\\\__init__.py', 'C:\\\\Users\\\\Ivan\\\\PycharmProjects\\\\auto-test-generator\\\\dataset_repos\\\\pydriller\\\\test-repos\\\\pydriller\\\\tests\\\\metrics\\\\process\\\\test_commits_count.py', 'C:\\\\Users\\\\Ivan\\\\PycharmProjects\\\\auto-test-generator\\\\dataset_repos\\\\pydriller\\\\test-repos\\\\pydriller\\\\tests\\\\metrics\\\\process\\\\test_contributors_count.py', 'C:\\\\Users\\\\Ivan\\\\PycharmProjects\\\\auto-test-generator\\\\dataset_repos\\\\pydriller\\\\test-repos\\\\pydriller\\\\tests\\\\metrics\\\\process\\\\test_contributors_experience_count.py', 'C:\\\\Users\\\\Ivan\\\\PycharmProjects\\\\auto-test-generator\\\\dataset_repos\\\\pydriller\\\\test-repos\\\\pydriller\\\\tests\\\\metrics\\\\process\\\\test_history_complexity.py', 'C:\\\\Users\\\\Ivan\\\\PycharmProjects\\\\auto-test-generator\\\\dataset_repos\\\\pydriller\\\\test-repos\\\\pydriller\\\\tests\\\\metrics\\\\process\\\\test_history_complexity_count.py', 'C:\\\\Users\\\\Ivan\\\\PycharmProjects\\\\auto-test-generator\\\\dataset_repos\\\\pydriller\\\\test-repos\\\\pydriller\\\\tests\\\\metrics\\\\process\\\\test_hunks_count.py', 'C:\\\\Users\\\\Ivan\\\\PycharmProjects\\\\auto-test-generator\\\\dataset_repos\\\\pydriller\\\\test-repos\\\\pydriller\\\\tests\\\\metrics\\\\process\\\\test_lines_count.py', 'C:\\\\Users\\\\Ivan\\\\PycharmProjects\\\\auto-test-generator\\\\dataset_repos\\\\pydriller\\\\test-repos\\\\pydriller\\\\tests\\\\metrics\\\\process\\\\test_minor_contributors_count.py', 'C:\\\\Users\\\\Ivan\\\\PycharmProjects\\\\auto-test-generator\\\\dataset_repos\\\\pydriller\\\\test-repos\\\\pydriller\\\\tests\\\\metrics\\\\process\\\\__init__.py', 'C:\\\\Users\\\\Ivan\\\\PycharmProjects\\\\auto-test-generator\\\\dataset_repos\\\\pydriller\\\\tests\\\\test_commit.py', 'C:\\\\Users\\\\Ivan\\\\PycharmProjects\\\\auto-test-generator\\\\dataset_repos\\\\pydriller\\\\tests\\\\test_developer.py', 'C:\\\\Users\\\\Ivan\\\\PycharmProjects\\\\auto-test-generator\\\\dataset_repos\\\\pydriller\\\\tests\\\\test_diff.py', 'C:\\\\Users\\\\Ivan\\\\PycharmProjects\\\\auto-test-generator\\\\dataset_repos\\\\pydriller\\\\tests\\\\test_git_repository.py', 'C:\\\\Users\\\\Ivan\\\\PycharmProjects\\\\auto-test-generator\\\\dataset_repos\\\\pydriller\\\\tests\\\\test_memory_consumption.py', 'C:\\\\Users\\\\Ivan\\\\PycharmProjects\\\\auto-test-generator\\\\dataset_repos\\\\pydriller\\\\tests\\\\test_repository_mining.py', 'C:\\\\Users\\\\Ivan\\\\PycharmProjects\\\\auto-test-generator\\\\dataset_repos\\\\pydriller\\\\tests\\\\__init__.py', 'C:\\\\Users\\\\Ivan\\\\PycharmProjects\\\\auto-test-generator\\\\dataset_repos\\\\pydriller\\\\tests\\\\integration\\\\test_between_dates.py', 'C:\\\\Users\\\\Ivan\\\\PycharmProjects\\\\auto-test-generator\\\\dataset_repos\\\\pydriller\\\\tests\\\\integration\\\\test_between_tags.py', 'C:\\\\Users\\\\Ivan\\\\PycharmProjects\\\\auto-test-generator\\\\dataset_repos\\\\pydriller\\\\tests\\\\integration\\\\test_commit_filters.py', 'C:\\\\Users\\\\Ivan\\\\PycharmProjects\\\\auto-test-generator\\\\dataset_repos\\\\pydriller\\\\tests\\\\integration\\\\test_dates_and_timezones.py', 'C:\\\\Users\\\\Ivan\\\\PycharmProjects\\\\auto-test-generator\\\\dataset_repos\\\\pydriller\\\\tests\\\\integration\\\\test_ranges.py', 'C:\\\\Users\\\\Ivan\\\\PycharmProjects\\\\auto-test-generator\\\\dataset_repos\\\\pydriller\\\\tests\\\\integration\\\\test_reverse_order.py', 'C:\\\\Users\\\\Ivan\\\\PycharmProjects\\\\auto-test-generator\\\\dataset_repos\\\\pydriller\\\\tests\\\\integration\\\\__init__.py', 'C:\\\\Users\\\\Ivan\\\\PycharmProjects\\\\auto-test-generator\\\\dataset_repos\\\\pydriller\\\\tests\\\\metrics\\\\__init__.py', 'C:\\\\Users\\\\Ivan\\\\PycharmProjects\\\\auto-test-generator\\\\dataset_repos\\\\pydriller\\\\tests\\\\metrics\\\\process\\\\test_commits_count.py', 'C:\\\\Users\\\\Ivan\\\\PycharmProjects\\\\auto-test-generator\\\\dataset_repos\\\\pydriller\\\\tests\\\\metrics\\\\process\\\\test_distinct_devs_count.py', 'C:\\\\Users\\\\Ivan\\\\PycharmProjects\\\\auto-test-generator\\\\dataset_repos\\\\pydriller\\\\tests\\\\metrics\\\\process\\\\__init__.py', 'C:\\\\Users\\\\Ivan\\\\PycharmProjects\\\\auto-test-generator\\\\dataset_repos\\\\pydriller\\\\venv\\\\Lib\\\\site-packages\\\\lizard.py', 'C:\\\\Users\\\\Ivan\\\\PycharmProjects\\\\auto-test-generator\\\\dataset_repos\\\\pydriller\\\\venv\\\\Lib\\\\site-packages\\\\six.py', 'C:\\\\Users\\\\Ivan\\\\PycharmProjects\\\\auto-test-generator\\\\dataset_repos\\\\pydriller\\\\venv\\\\Lib\\\\site-packages\\\\typing.py', 'C:\\\\Users\\\\Ivan\\\\PycharmProjects\\\\auto-test-generator\\\\dataset_repos\\\\pydriller\\\\venv\\\\Lib\\\\site-packages\\\\atomicwrites\\\\__init__.py', 'C:\\\\Users\\\\Ivan\\\\PycharmProjects\\\\auto-test-generator\\\\dataset_repos\\\\pydriller\\\\venv\\\\Lib\\\\site-packages\\\\attr\\\\converters.py', 'C:\\\\Users\\\\Ivan\\\\PycharmProjects\\\\auto-test-generator\\\\dataset_repos\\\\pydriller\\\\venv\\\\Lib\\\\site-packages\\\\attr\\\\exceptions.py', 'C:\\\\Users\\\\Ivan\\\\PycharmProjects\\\\auto-test-generator\\\\dataset_repos\\\\pydriller\\\\venv\\\\Lib\\\\site-packages\\\\attr\\\\filters.py', 'C:\\\\Users\\\\Ivan\\\\PycharmProjects\\\\auto-test-generator\\\\dataset_repos\\\\pydriller\\\\venv\\\\Lib\\\\site-packages\\\\attr\\\\setters.py', 'C:\\\\Users\\\\Ivan\\\\PycharmProjects\\\\auto-test-generator\\\\dataset_repos\\\\pydriller\\\\venv\\\\Lib\\\\site-packages\\\\attr\\\\validators.py', 'C:\\\\Users\\\\Ivan\\\\PycharmProjects\\\\auto-test-generator\\\\dataset_repos\\\\pydriller\\\\venv\\\\Lib\\\\site-packages\\\\attr\\\\_cmp.py', 'C:\\\\Users\\\\Ivan\\\\PycharmProjects\\\\auto-test-generator\\\\dataset_repos\\\\pydriller\\\\venv\\\\Lib\\\\site-packages\\\\attr\\\\_compat.py', 'C:\\\\Users\\\\Ivan\\\\PycharmProjects\\\\auto-test-generator\\\\dataset_repos\\\\pydriller\\\\venv\\\\Lib\\\\site-packages\\\\attr\\\\_config.py', 'C:\\\\Users\\\\Ivan\\\\PycharmProjects\\\\auto-test-generator\\\\dataset_repos\\\\pydriller\\\\venv\\\\Lib\\\\site-packages\\\\attr\\\\_funcs.py', 'C:\\\\Users\\\\Ivan\\\\PycharmProjects\\\\auto-test-generator\\\\dataset_repos\\\\pydriller\\\\venv\\\\Lib\\\\site-packages\\\\attr\\\\_make.py', 'C:\\\\Users\\\\Ivan\\\\PycharmProjects\\\\auto-test-generator\\\\dataset_repos\\\\pydriller\\\\venv\\\\Lib\\\\site-packages\\\\attr\\\\_next_gen.py', 'C:\\\\Users\\\\Ivan\\\\PycharmProjects\\\\auto-test-generator\\\\dataset_repos\\\\pydriller\\\\venv\\\\Lib\\\\site-packages\\\\attr\\\\_version_info.py', 'C:\\\\Users\\\\Ivan\\\\PycharmProjects\\\\auto-test-generator\\\\dataset_repos\\\\pydriller\\\\venv\\\\Lib\\\\site-packages\\\\attr\\\\__init__.py', 'C:\\\\Users\\\\Ivan\\\\PycharmProjects\\\\auto-test-generator\\\\dataset_repos\\\\pydriller\\\\venv\\\\Lib\\\\site-packages\\\\attrs\\\\converters.py', 'C:\\\\Users\\\\Ivan\\\\PycharmProjects\\\\auto-test-generator\\\\dataset_repos\\\\pydriller\\\\venv\\\\Lib\\\\site-packages\\\\attrs\\\\exceptions.py', 'C:\\\\Users\\\\Ivan\\\\PycharmProjects\\\\auto-test-generator\\\\dataset_repos\\\\pydriller\\\\venv\\\\Lib\\\\site-packages\\\\attrs\\\\filters.py', 'C:\\\\Users\\\\Ivan\\\\PycharmProjects\\\\auto-test-generator\\\\dataset_repos\\\\pydriller\\\\venv\\\\Lib\\\\site-packages\\\\attrs\\\\setters.py', 'C:\\\\Users\\\\Ivan\\\\PycharmProjects\\\\auto-test-generator\\\\dataset_repos\\\\pydriller\\\\venv\\\\Lib\\\\site-packages\\\\attrs\\\\validators.py', 'C:\\\\Users\\\\Ivan\\\\PycharmProjects\\\\auto-test-generator\\\\dataset_repos\\\\pydriller\\\\venv\\\\Lib\\\\site-packages\\\\attrs\\\\__init__.py', 'C:\\\\Users\\\\Ivan\\\\PycharmProjects\\\\auto-test-generator\\\\dataset_repos\\\\pydriller\\\\venv\\\\Lib\\\\site-packages\\\\certifi\\\\core.py', 'C:\\\\Users\\\\Ivan\\\\PycharmProjects\\\\auto-test-generator\\\\dataset_repos\\\\pydriller\\\\venv\\\\Lib\\\\site-packages\\\\certifi\\\\__init__.py', 'C:\\\\Users\\\\Ivan\\\\PycharmProjects\\\\auto-test-generator\\\\dataset_repos\\\\pydriller\\\\venv\\\\Lib\\\\site-packages\\\\certifi\\\\__main__.py', 'C:\\\\Users\\\\Ivan\\\\PycharmProjects\\\\auto-test-generator\\\\dataset_repos\\\\pydriller\\\\venv\\\\Lib\\\\site-packages\\\\charset_normalizer\\\\api.py', 'C:\\\\Users\\\\Ivan\\\\PycharmProjects\\\\auto-test-generator\\\\dataset_repos\\\\pydriller\\\\venv\\\\Lib\\\\site-packages\\\\charset_normalizer\\\\cd.py', 'C:\\\\Users\\\\Ivan\\\\PycharmProjects\\\\auto-test-generator\\\\dataset_repos\\\\pydriller\\\\venv\\\\Lib\\\\site-packages\\\\charset_normalizer\\\\constant.py', 'C:\\\\Users\\\\Ivan\\\\PycharmProjects\\\\auto-test-generator\\\\dataset_repos\\\\pydriller\\\\venv\\\\Lib\\\\site-packages\\\\charset_normalizer\\\\legacy.py', 'C:\\\\Users\\\\Ivan\\\\PycharmProjects\\\\auto-test-generator\\\\dataset_repos\\\\pydriller\\\\venv\\\\Lib\\\\site-packages\\\\charset_normalizer\\\\md.py', 'C:\\\\Users\\\\Ivan\\\\PycharmProjects\\\\auto-test-generator\\\\dataset_repos\\\\pydriller\\\\venv\\\\Lib\\\\site-packages\\\\charset_normalizer\\\\models.py', 'C:\\\\Users\\\\Ivan\\\\PycharmProjects\\\\auto-test-generator\\\\dataset_repos\\\\pydriller\\\\venv\\\\Lib\\\\site-packages\\\\charset_normalizer\\\\utils.py', 'C:\\\\Users\\\\Ivan\\\\PycharmProjects\\\\auto-test-generator\\\\dataset_repos\\\\pydriller\\\\venv\\\\Lib\\\\site-packages\\\\charset_normalizer\\\\version.py', 'C:\\\\Users\\\\Ivan\\\\PycharmProjects\\\\auto-test-generator\\\\dataset_repos\\\\pydriller\\\\venv\\\\Lib\\\\site-packages\\\\charset_normalizer\\\\__init__.py', 'C:\\\\Users\\\\Ivan\\\\PycharmProjects\\\\auto-test-generator\\\\dataset_repos\\\\pydriller\\\\venv\\\\Lib\\\\site-packages\\\\charset_normalizer\\\\assets\\\\__init__.py', 'C:\\\\Users\\\\Ivan\\\\PycharmProjects\\\\auto-test-generator\\\\dataset_repos\\\\pydriller\\\\venv\\\\Lib\\\\site-packages\\\\charset_normalizer\\\\cli\\\\normalizer.py', 'C:\\\\Users\\\\Ivan\\\\PycharmProjects\\\\auto-test-generator\\\\dataset_repos\\\\pydriller\\\\venv\\\\Lib\\\\site-packages\\\\charset_normalizer\\\\cli\\\\__init__.py', 'C:\\\\Users\\\\Ivan\\\\PycharmProjects\\\\auto-test-generator\\\\dataset_repos\\\\pydriller\\\\venv\\\\Lib\\\\site-packages\\\\colorama\\\\ansi.py', 'C:\\\\Users\\\\Ivan\\\\PycharmProjects\\\\auto-test-generator\\\\dataset_repos\\\\pydriller\\\\venv\\\\Lib\\\\site-packages\\\\colorama\\\\ansitowin32.py', 'C:\\\\Users\\\\Ivan\\\\PycharmProjects\\\\auto-test-generator\\\\dataset_repos\\\\pydriller\\\\venv\\\\Lib\\\\site-packages\\\\colorama\\\\initialise.py', 'C:\\\\Users\\\\Ivan\\\\PycharmProjects\\\\auto-test-generator\\\\dataset_repos\\\\pydriller\\\\venv\\\\Lib\\\\site-packages\\\\colorama\\\\win32.py', 'C:\\\\Users\\\\Ivan\\\\PycharmProjects\\\\auto-test-generator\\\\dataset_repos\\\\pydriller\\\\venv\\\\Lib\\\\site-packages\\\\colorama\\\\winterm.py', 'C:\\\\Users\\\\Ivan\\\\PycharmProjects\\\\auto-test-generator\\\\dataset_repos\\\\pydriller\\\\venv\\\\Lib\\\\site-packages\\\\colorama\\\\__init__.py', 'C:\\\\Users\\\\Ivan\\\\PycharmProjects\\\\auto-test-generator\\\\dataset_repos\\\\pydriller\\\\venv\\\\Lib\\\\site-packages\\\\dateutil\\\\easter.py', 'C:\\\\Users\\\\Ivan\\\\PycharmProjects\\\\auto-test-generator\\\\dataset_repos\\\\pydriller\\\\venv\\\\Lib\\\\site-packages\\\\dateutil\\\\relativedelta.py', 'C:\\\\Users\\\\Ivan\\\\PycharmProjects\\\\auto-test-generator\\\\dataset_repos\\\\pydriller\\\\venv\\\\Lib\\\\site-packages\\\\dateutil\\\\rrule.py', 'C:\\\\Users\\\\Ivan\\\\PycharmProjects\\\\auto-test-generator\\\\dataset_repos\\\\pydriller\\\\venv\\\\Lib\\\\site-packages\\\\dateutil\\\\tzwin.py', 'C:\\\\Users\\\\Ivan\\\\PycharmProjects\\\\auto-test-generator\\\\dataset_repos\\\\pydriller\\\\venv\\\\Lib\\\\site-packages\\\\dateutil\\\\utils.py', 'C:\\\\Users\\\\Ivan\\\\PycharmProjects\\\\auto-test-generator\\\\dataset_repos\\\\pydriller\\\\venv\\\\Lib\\\\site-packages\\\\dateutil\\\\_common.py', 'C:\\\\Users\\\\Ivan\\\\PycharmProjects\\\\auto-test-generator\\\\dataset_repos\\\\pydriller\\\\venv\\\\Lib\\\\site-packages\\\\dateutil\\\\_version.py', 'C:\\\\Users\\\\Ivan\\\\PycharmProjects\\\\auto-test-generator\\\\dataset_repos\\\\pydriller\\\\venv\\\\Lib\\\\site-packages\\\\dateutil\\\\__init__.py', 'C:\\\\Users\\\\Ivan\\\\PycharmProjects\\\\auto-test-generator\\\\dataset_repos\\\\pydriller\\\\venv\\\\Lib\\\\site-packages\\\\dateutil\\\\parser\\\\isoparser.py', 'C:\\\\Users\\\\Ivan\\\\PycharmProjects\\\\auto-test-generator\\\\dataset_repos\\\\pydriller\\\\venv\\\\Lib\\\\site-packages\\\\dateutil\\\\parser\\\\_parser.py', 'C:\\\\Users\\\\Ivan\\\\PycharmProjects\\\\auto-test-generator\\\\dataset_repos\\\\pydriller\\\\venv\\\\Lib\\\\site-packages\\\\dateutil\\\\parser\\\\__init__.py', 'C:\\\\Users\\\\Ivan\\\\PycharmProjects\\\\auto-test-generator\\\\dataset_repos\\\\pydriller\\\\venv\\\\Lib\\\\site-packages\\\\dateutil\\\\tz\\\\tz.py', 'C:\\\\Users\\\\Ivan\\\\PycharmProjects\\\\auto-test-generator\\\\dataset_repos\\\\pydriller\\\\venv\\\\Lib\\\\site-packages\\\\dateutil\\\\tz\\\\win.py', 'C:\\\\Users\\\\Ivan\\\\PycharmProjects\\\\auto-test-generator\\\\dataset_repos\\\\pydriller\\\\venv\\\\Lib\\\\site-packages\\\\dateutil\\\\tz\\\\_common.py', 'C:\\\\Users\\\\Ivan\\\\PycharmProjects\\\\auto-test-generator\\\\dataset_repos\\\\pydriller\\\\venv\\\\Lib\\\\site-packages\\\\dateutil\\\\tz\\\\_factories.py', 'C:\\\\Users\\\\Ivan\\\\PycharmProjects\\\\auto-test-generator\\\\dataset_repos\\\\pydriller\\\\venv\\\\Lib\\\\site-packages\\\\dateutil\\\\tz\\\\__init__.py', 'C:\\\\Users\\\\Ivan\\\\PycharmProjects\\\\auto-test-generator\\\\dataset_repos\\\\pydriller\\\\venv\\\\Lib\\\\site-packages\\\\dateutil\\\\zoneinfo\\\\rebuild.py', 'C:\\\\Users\\\\Ivan\\\\PycharmProjects\\\\auto-test-generator\\\\dataset_repos\\\\pydriller\\\\venv\\\\Lib\\\\site-packages\\\\dateutil\\\\zoneinfo\\\\__init__.py', 'C:\\\\Users\\\\Ivan\\\\PycharmProjects\\\\auto-test-generator\\\\dataset_repos\\\\pydriller\\\\venv\\\\Lib\\\\site-packages\\\\git\\\\cmd.py', 'C:\\\\Users\\\\Ivan\\\\PycharmProjects\\\\auto-test-generator\\\\dataset_repos\\\\pydriller\\\\venv\\\\Lib\\\\site-packages\\\\git\\\\compat.py', 'C:\\\\Users\\\\Ivan\\\\PycharmProjects\\\\auto-test-generator\\\\dataset_repos\\\\pydriller\\\\venv\\\\Lib\\\\site-packages\\\\git\\\\config.py', 'C:\\\\Users\\\\Ivan\\\\PycharmProjects\\\\auto-test-generator\\\\dataset_repos\\\\pydriller\\\\venv\\\\Lib\\\\site-packages\\\\git\\\\db.py', 'C:\\\\Users\\\\Ivan\\\\PycharmProjects\\\\auto-test-generator\\\\dataset_repos\\\\pydriller\\\\venv\\\\Lib\\\\site-packages\\\\git\\\\diff.py', 'C:\\\\Users\\\\Ivan\\\\PycharmProjects\\\\auto-test-generator\\\\dataset_repos\\\\pydriller\\\\venv\\\\Lib\\\\site-packages\\\\git\\\\exc.py', 'C:\\\\Users\\\\Ivan\\\\PycharmProjects\\\\auto-test-generator\\\\dataset_repos\\\\pydriller\\\\venv\\\\Lib\\\\site-packages\\\\git\\\\remote.py', 'C:\\\\Users\\\\Ivan\\\\PycharmProjects\\\\auto-test-generator\\\\dataset_repos\\\\pydriller\\\\venv\\\\Lib\\\\site-packages\\\\git\\\\types.py', 'C:\\\\Users\\\\Ivan\\\\PycharmProjects\\\\auto-test-generator\\\\dataset_repos\\\\pydriller\\\\venv\\\\Lib\\\\site-packages\\\\git\\\\util.py', 'C:\\\\Users\\\\Ivan\\\\PycharmProjects\\\\auto-test-generator\\\\dataset_repos\\\\pydriller\\\\venv\\\\Lib\\\\site-packages\\\\git\\\\__init__.py', 'C:\\\\Users\\\\Ivan\\\\PycharmProjects\\\\auto-test-generator\\\\dataset_repos\\\\pydriller\\\\venv\\\\Lib\\\\site-packages\\\\git\\\\index\\\\base.py', 'C:\\\\Users\\\\Ivan\\\\PycharmProjects\\\\auto-test-generator\\\\dataset_repos\\\\pydriller\\\\venv\\\\Lib\\\\site-packages\\\\git\\\\index\\\\fun.py', 'C:\\\\Users\\\\Ivan\\\\PycharmProjects\\\\auto-test-generator\\\\dataset_repos\\\\pydriller\\\\venv\\\\Lib\\\\site-packages\\\\git\\\\index\\\\typ.py', 'C:\\\\Users\\\\Ivan\\\\PycharmProjects\\\\auto-test-generator\\\\dataset_repos\\\\pydriller\\\\venv\\\\Lib\\\\site-packages\\\\git\\\\index\\\\util.py', 'C:\\\\Users\\\\Ivan\\\\PycharmProjects\\\\auto-test-generator\\\\dataset_repos\\\\pydriller\\\\venv\\\\Lib\\\\site-packages\\\\git\\\\index\\\\__init__.py', 'C:\\\\Users\\\\Ivan\\\\PycharmProjects\\\\auto-test-generator\\\\dataset_repos\\\\pydriller\\\\venv\\\\Lib\\\\site-packages\\\\git\\\\objects\\\\base.py', 'C:\\\\Users\\\\Ivan\\\\PycharmProjects\\\\auto-test-generator\\\\dataset_repos\\\\pydriller\\\\venv\\\\Lib\\\\site-packages\\\\git\\\\objects\\\\blob.py', 'C:\\\\Users\\\\Ivan\\\\PycharmProjects\\\\auto-test-generator\\\\dataset_repos\\\\pydriller\\\\venv\\\\Lib\\\\site-packages\\\\git\\\\objects\\\\commit.py', 'C:\\\\Users\\\\Ivan\\\\PycharmProjects\\\\auto-test-generator\\\\dataset_repos\\\\pydriller\\\\venv\\\\Lib\\\\site-packages\\\\git\\\\objects\\\\fun.py', 'C:\\\\Users\\\\Ivan\\\\PycharmProjects\\\\auto-test-generator\\\\dataset_repos\\\\pydriller\\\\venv\\\\Lib\\\\site-packages\\\\git\\\\objects\\\\tag.py', 'C:\\\\Users\\\\Ivan\\\\PycharmProjects\\\\auto-test-generator\\\\dataset_repos\\\\pydriller\\\\venv\\\\Lib\\\\site-packages\\\\git\\\\objects\\\\tree.py', 'C:\\\\Users\\\\Ivan\\\\PycharmProjects\\\\auto-test-generator\\\\dataset_repos\\\\pydriller\\\\venv\\\\Lib\\\\site-packages\\\\git\\\\objects\\\\util.py', 'C:\\\\Users\\\\Ivan\\\\PycharmProjects\\\\auto-test-generator\\\\dataset_repos\\\\pydriller\\\\venv\\\\Lib\\\\site-packages\\\\git\\\\objects\\\\__init__.py', 'C:\\\\Users\\\\Ivan\\\\PycharmProjects\\\\auto-test-generator\\\\dataset_repos\\\\pydriller\\\\venv\\\\Lib\\\\site-packages\\\\git\\\\objects\\\\submodule\\\\base.py', 'C:\\\\Users\\\\Ivan\\\\PycharmProjects\\\\auto-test-generator\\\\dataset_repos\\\\pydriller\\\\venv\\\\Lib\\\\site-packages\\\\git\\\\objects\\\\submodule\\\\root.py', 'C:\\\\Users\\\\Ivan\\\\PycharmProjects\\\\auto-test-generator\\\\dataset_repos\\\\pydriller\\\\venv\\\\Lib\\\\site-packages\\\\git\\\\objects\\\\submodule\\\\util.py', 'C:\\\\Users\\\\Ivan\\\\PycharmProjects\\\\auto-test-generator\\\\dataset_repos\\\\pydriller\\\\venv\\\\Lib\\\\site-packages\\\\git\\\\objects\\\\submodule\\\\__init__.py', 'C:\\\\Users\\\\Ivan\\\\PycharmProjects\\\\auto-test-generator\\\\dataset_repos\\\\pydriller\\\\venv\\\\Lib\\\\site-packages\\\\git\\\\refs\\\\head.py', 'C:\\\\Users\\\\Ivan\\\\PycharmProjects\\\\auto-test-generator\\\\dataset_repos\\\\pydriller\\\\venv\\\\Lib\\\\site-packages\\\\git\\\\refs\\\\log.py', 'C:\\\\Users\\\\Ivan\\\\PycharmProjects\\\\auto-test-generator\\\\dataset_repos\\\\pydriller\\\\venv\\\\Lib\\\\site-packages\\\\git\\\\refs\\\\reference.py', 'C:\\\\Users\\\\Ivan\\\\PycharmProjects\\\\auto-test-generator\\\\dataset_repos\\\\pydriller\\\\venv\\\\Lib\\\\site-packages\\\\git\\\\refs\\\\remote.py', 'C:\\\\Users\\\\Ivan\\\\PycharmProjects\\\\auto-test-generator\\\\dataset_repos\\\\pydriller\\\\venv\\\\Lib\\\\site-packages\\\\git\\\\refs\\\\symbolic.py', 'C:\\\\Users\\\\Ivan\\\\PycharmProjects\\\\auto-test-generator\\\\dataset_repos\\\\pydriller\\\\venv\\\\Lib\\\\site-packages\\\\git\\\\refs\\\\tag.py', 'C:\\\\Users\\\\Ivan\\\\PycharmProjects\\\\auto-test-generator\\\\dataset_repos\\\\pydriller\\\\venv\\\\Lib\\\\site-packages\\\\git\\\\refs\\\\__init__.py', 'C:\\\\Users\\\\Ivan\\\\PycharmProjects\\\\auto-test-generator\\\\dataset_repos\\\\pydriller\\\\venv\\\\Lib\\\\site-packages\\\\git\\\\repo\\\\base.py', 'C:\\\\Users\\\\Ivan\\\\PycharmProjects\\\\auto-test-generator\\\\dataset_repos\\\\pydriller\\\\venv\\\\Lib\\\\site-packages\\\\git\\\\repo\\\\fun.py', 'C:\\\\Users\\\\Ivan\\\\PycharmProjects\\\\auto-test-generator\\\\dataset_repos\\\\pydriller\\\\venv\\\\Lib\\\\site-packages\\\\git\\\\repo\\\\__init__.py', 'C:\\\\Users\\\\Ivan\\\\PycharmProjects\\\\auto-test-generator\\\\dataset_repos\\\\pydriller\\\\venv\\\\Lib\\\\site-packages\\\\gitdb\\\\base.py', 'C:\\\\Users\\\\Ivan\\\\PycharmProjects\\\\auto-test-generator\\\\dataset_repos\\\\pydriller\\\\venv\\\\Lib\\\\site-packages\\\\gitdb\\\\const.py', 'C:\\\\Users\\\\Ivan\\\\PycharmProjects\\\\auto-test-generator\\\\dataset_repos\\\\pydriller\\\\venv\\\\Lib\\\\site-packages\\\\gitdb\\\\exc.py', 'C:\\\\Users\\\\Ivan\\\\PycharmProjects\\\\auto-test-generator\\\\dataset_repos\\\\pydriller\\\\venv\\\\Lib\\\\site-packages\\\\gitdb\\\\fun.py', 'C:\\\\Users\\\\Ivan\\\\PycharmProjects\\\\auto-test-generator\\\\dataset_repos\\\\pydriller\\\\venv\\\\Lib\\\\site-packages\\\\gitdb\\\\pack.py', 'C:\\\\Users\\\\Ivan\\\\PycharmProjects\\\\auto-test-generator\\\\dataset_repos\\\\pydriller\\\\venv\\\\Lib\\\\site-packages\\\\gitdb\\\\stream.py', 'C:\\\\Users\\\\Ivan\\\\PycharmProjects\\\\auto-test-generator\\\\dataset_repos\\\\pydriller\\\\venv\\\\Lib\\\\site-packages\\\\gitdb\\\\typ.py', 'C:\\\\Users\\\\Ivan\\\\PycharmProjects\\\\auto-test-generator\\\\dataset_repos\\\\pydriller\\\\venv\\\\Lib\\\\site-packages\\\\gitdb\\\\util.py', 'C:\\\\Users\\\\Ivan\\\\PycharmProjects\\\\auto-test-generator\\\\dataset_repos\\\\pydriller\\\\venv\\\\Lib\\\\site-packages\\\\gitdb\\\\__init__.py', 'C:\\\\Users\\\\Ivan\\\\PycharmProjects\\\\auto-test-generator\\\\dataset_repos\\\\pydriller\\\\venv\\\\Lib\\\\site-packages\\\\gitdb\\\\db\\\\base.py', 'C:\\\\Users\\\\Ivan\\\\PycharmProjects\\\\auto-test-generator\\\\dataset_repos\\\\pydriller\\\\venv\\\\Lib\\\\site-packages\\\\gitdb\\\\db\\\\git.py', 'C:\\\\Users\\\\Ivan\\\\PycharmProjects\\\\auto-test-generator\\\\dataset_repos\\\\pydriller\\\\venv\\\\Lib\\\\site-packages\\\\gitdb\\\\db\\\\loose.py', 'C:\\\\Users\\\\Ivan\\\\PycharmProjects\\\\auto-test-generator\\\\dataset_repos\\\\pydriller\\\\venv\\\\Lib\\\\site-packages\\\\gitdb\\\\db\\\\mem.py', 'C:\\\\Users\\\\Ivan\\\\PycharmProjects\\\\auto-test-generator\\\\dataset_repos\\\\pydriller\\\\venv\\\\Lib\\\\site-packages\\\\gitdb\\\\db\\\\pack.py', 'C:\\\\Users\\\\Ivan\\\\PycharmProjects\\\\auto-test-generator\\\\dataset_repos\\\\pydriller\\\\venv\\\\Lib\\\\site-packages\\\\gitdb\\\\db\\\\ref.py', 'C:\\\\Users\\\\Ivan\\\\PycharmProjects\\\\auto-test-generator\\\\dataset_repos\\\\pydriller\\\\venv\\\\Lib\\\\site-packages\\\\gitdb\\\\db\\\\__init__.py', 'C:\\\\Users\\\\Ivan\\\\PycharmProjects\\\\auto-test-generator\\\\dataset_repos\\\\pydriller\\\\venv\\\\Lib\\\\site-packages\\\\gitdb\\\\test\\\\lib.py', 'C:\\\\Users\\\\Ivan\\\\PycharmProjects\\\\auto-test-generator\\\\dataset_repos\\\\pydriller\\\\venv\\\\Lib\\\\site-packages\\\\gitdb\\\\test\\\\test_base.py', 'C:\\\\Users\\\\Ivan\\\\PycharmProjects\\\\auto-test-generator\\\\dataset_repos\\\\pydriller\\\\venv\\\\Lib\\\\site-packages\\\\gitdb\\\\test\\\\test_example.py', 'C:\\\\Users\\\\Ivan\\\\PycharmProjects\\\\auto-test-generator\\\\dataset_repos\\\\pydriller\\\\venv\\\\Lib\\\\site-packages\\\\gitdb\\\\test\\\\test_pack.py', 'C:\\\\Users\\\\Ivan\\\\PycharmProjects\\\\auto-test-generator\\\\dataset_repos\\\\pydriller\\\\venv\\\\Lib\\\\site-packages\\\\gitdb\\\\test\\\\test_stream.py', 'C:\\\\Users\\\\Ivan\\\\PycharmProjects\\\\auto-test-generator\\\\dataset_repos\\\\pydriller\\\\venv\\\\Lib\\\\site-packages\\\\gitdb\\\\test\\\\test_util.py', 'C:\\\\Users\\\\Ivan\\\\PycharmProjects\\\\auto-test-generator\\\\dataset_repos\\\\pydriller\\\\venv\\\\Lib\\\\site-packages\\\\gitdb\\\\test\\\\__init__.py', 'C:\\\\Users\\\\Ivan\\\\PycharmProjects\\\\auto-test-generator\\\\dataset_repos\\\\pydriller\\\\venv\\\\Lib\\\\site-packages\\\\gitdb\\\\utils\\\\encoding.py', 'C:\\\\Users\\\\Ivan\\\\PycharmProjects\\\\auto-test-generator\\\\dataset_repos\\\\pydriller\\\\venv\\\\Lib\\\\site-packages\\\\gitdb\\\\utils\\\\__init__.py', 'C:\\\\Users\\\\Ivan\\\\PycharmProjects\\\\auto-test-generator\\\\dataset_repos\\\\pydriller\\\\venv\\\\Lib\\\\site-packages\\\\hglib\\\\client.py', 'C:\\\\Users\\\\Ivan\\\\PycharmProjects\\\\auto-test-generator\\\\dataset_repos\\\\pydriller\\\\venv\\\\Lib\\\\site-packages\\\\hglib\\\\context.py', 'C:\\\\Users\\\\Ivan\\\\PycharmProjects\\\\auto-test-generator\\\\dataset_repos\\\\pydriller\\\\venv\\\\Lib\\\\site-packages\\\\hglib\\\\error.py', 'C:\\\\Users\\\\Ivan\\\\PycharmProjects\\\\auto-test-generator\\\\dataset_repos\\\\pydriller\\\\venv\\\\Lib\\\\site-packages\\\\hglib\\\\merge.py', 'C:\\\\Users\\\\Ivan\\\\PycharmProjects\\\\auto-test-generator\\\\dataset_repos\\\\pydriller\\\\venv\\\\Lib\\\\site-packages\\\\hglib\\\\templates.py', 'C:\\\\Users\\\\Ivan\\\\PycharmProjects\\\\auto-test-generator\\\\dataset_repos\\\\pydriller\\\\venv\\\\Lib\\\\site-packages\\\\hglib\\\\util.py', 'C:\\\\Users\\\\Ivan\\\\PycharmProjects\\\\auto-test-generator\\\\dataset_repos\\\\pydriller\\\\venv\\\\Lib\\\\site-packages\\\\hglib\\\\__init__.py', 'C:\\\\Users\\\\Ivan\\\\PycharmProjects\\\\auto-test-generator\\\\dataset_repos\\\\pydriller\\\\venv\\\\Lib\\\\site-packages\\\\idna\\\\codec.py', 'C:\\\\Users\\\\Ivan\\\\PycharmProjects\\\\auto-test-generator\\\\dataset_repos\\\\pydriller\\\\venv\\\\Lib\\\\site-packages\\\\idna\\\\compat.py', 'C:\\\\Users\\\\Ivan\\\\PycharmProjects\\\\auto-test-generator\\\\dataset_repos\\\\pydriller\\\\venv\\\\Lib\\\\site-packages\\\\idna\\\\core.py', 'C:\\\\Users\\\\Ivan\\\\PycharmProjects\\\\auto-test-generator\\\\dataset_repos\\\\pydriller\\\\venv\\\\Lib\\\\site-packages\\\\idna\\\\idnadata.py', 'C:\\\\Users\\\\Ivan\\\\PycharmProjects\\\\auto-test-generator\\\\dataset_repos\\\\pydriller\\\\venv\\\\Lib\\\\site-packages\\\\idna\\\\intranges.py', 'C:\\\\Users\\\\Ivan\\\\PycharmProjects\\\\auto-test-generator\\\\dataset_repos\\\\pydriller\\\\venv\\\\Lib\\\\site-packages\\\\idna\\\\package_data.py', 'C:\\\\Users\\\\Ivan\\\\PycharmProjects\\\\auto-test-generator\\\\dataset_repos\\\\pydriller\\\\venv\\\\Lib\\\\site-packages\\\\idna\\\\uts46data.py', 'C:\\\\Users\\\\Ivan\\\\PycharmProjects\\\\auto-test-generator\\\\dataset_repos\\\\pydriller\\\\venv\\\\Lib\\\\site-packages\\\\idna\\\\__init__.py', 'C:\\\\Users\\\\Ivan\\\\PycharmProjects\\\\auto-test-generator\\\\dataset_repos\\\\pydriller\\\\venv\\\\Lib\\\\site-packages\\\\iniconfig\\\\__init__.py', 'C:\\\\Users\\\\Ivan\\\\PycharmProjects\\\\auto-test-generator\\\\dataset_repos\\\\pydriller\\\\venv\\\\Lib\\\\site-packages\\\\lizard_ext\\\\auto_open.py', 'C:\\\\Users\\\\Ivan\\\\PycharmProjects\\\\auto-test-generator\\\\dataset_repos\\\\pydriller\\\\venv\\\\Lib\\\\site-packages\\\\lizard_ext\\\\csvoutput.py', 'C:\\\\Users\\\\Ivan\\\\PycharmProjects\\\\auto-test-generator\\\\dataset_repos\\\\pydriller\\\\venv\\\\Lib\\\\site-packages\\\\lizard_ext\\\\default_ordered_dict.py', 'C:\\\\Users\\\\Ivan\\\\PycharmProjects\\\\auto-test-generator\\\\dataset_repos\\\\pydriller\\\\venv\\\\Lib\\\\site-packages\\\\lizard_ext\\\\extension_base.py', 'C:\\\\Users\\\\Ivan\\\\PycharmProjects\\\\auto-test-generator\\\\dataset_repos\\\\pydriller\\\\venv\\\\Lib\\\\site-packages\\\\lizard_ext\\\\htmloutput.py', 'C:\\\\Users\\\\Ivan\\\\PycharmProjects\\\\auto-test-generator\\\\dataset_repos\\\\pydriller\\\\venv\\\\Lib\\\\site-packages\\\\lizard_ext\\\\keywords.py', 'C:\\\\Users\\\\Ivan\\\\PycharmProjects\\\\auto-test-generator\\\\dataset_repos\\\\pydriller\\\\venv\\\\Lib\\\\site-packages\\\\lizard_ext\\\\lizardboolcount.py', 'C:\\\\Users\\\\Ivan\\\\PycharmProjects\\\\auto-test-generator\\\\dataset_repos\\\\pydriller\\\\venv\\\\Lib\\\\site-packages\\\\lizard_ext\\\\lizardcomplextags.py', 'C:\\\\Users\\\\Ivan\\\\PycharmProjects\\\\auto-test-generator\\\\dataset_repos\\\\pydriller\\\\venv\\\\Lib\\\\site-packages\\\\lizard_ext\\\\lizardcpre.py', 'C:\\\\Users\\\\Ivan\\\\PycharmProjects\\\\auto-test-generator\\\\dataset_repos\\\\pydriller\\\\venv\\\\Lib\\\\site-packages\\\\lizard_ext\\\\lizarddependencycount.py', 'C:\\\\Users\\\\Ivan\\\\PycharmProjects\\\\auto-test-generator\\\\dataset_repos\\\\pydriller\\\\venv\\\\Lib\\\\site-packages\\\\lizard_ext\\\\lizarddumpcomments.py', 'C:\\\\Users\\\\Ivan\\\\PycharmProjects\\\\auto-test-generator\\\\dataset_repos\\\\pydriller\\\\venv\\\\Lib\\\\site-packages\\\\lizard_ext\\\\lizardduplicate.py', 'C:\\\\Users\\\\Ivan\\\\PycharmProjects\\\\auto-test-generator\\\\dataset_repos\\\\pydriller\\\\venv\\\\Lib\\\\site-packages\\\\lizard_ext\\\\lizardduplicated_param_list.py', 'C:\\\\Users\\\\Ivan\\\\PycharmProjects\\\\auto-test-generator\\\\dataset_repos\\\\pydriller\\\\venv\\\\Lib\\\\site-packages\\\\lizard_ext\\\\lizardexitcount.py', 'C:\\\\Users\\\\Ivan\\\\PycharmProjects\\\\auto-test-generator\\\\dataset_repos\\\\pydriller\\\\venv\\\\Lib\\\\site-packages\\\\lizard_ext\\\\lizardgotocount.py', 'C:\\\\Users\\\\Ivan\\\\PycharmProjects\\\\auto-test-generator\\\\dataset_repos\\\\pydriller\\\\venv\\\\Lib\\\\site-packages\\\\lizard_ext\\\\lizardignoreassert.py', 'C:\\\\Users\\\\Ivan\\\\PycharmProjects\\\\auto-test-generator\\\\dataset_repos\\\\pydriller\\\\venv\\\\Lib\\\\site-packages\\\\lizard_ext\\\\lizardio.py', 'C:\\\\Users\\\\Ivan\\\\PycharmProjects\\\\auto-test-generator\\\\dataset_repos\\\\pydriller\\\\venv\\\\Lib\\\\site-packages\\\\lizard_ext\\\\lizardmccabe.py', 'C:\\\\Users\\\\Ivan\\\\PycharmProjects\\\\auto-test-generator\\\\dataset_repos\\\\pydriller\\\\venv\\\\Lib\\\\site-packages\\\\lizard_ext\\\\lizardmodified.py', 'C:\\\\Users\\\\Ivan\\\\PycharmProjects\\\\auto-test-generator\\\\dataset_repos\\\\pydriller\\\\venv\\\\Lib\\\\site-packages\\\\lizard_ext\\\\lizardnd.py', 'C:\\\\Users\\\\Ivan\\\\PycharmProjects\\\\auto-test-generator\\\\dataset_repos\\\\pydriller\\\\venv\\\\Lib\\\\site-packages\\\\lizard_ext\\\\lizardnonstrict.py', 'C:\\\\Users\\\\Ivan\\\\PycharmProjects\\\\auto-test-generator\\\\dataset_repos\\\\pydriller\\\\venv\\\\Lib\\\\site-packages\\\\lizard_ext\\\\lizardns.py', 'C:\\\\Users\\\\Ivan\\\\PycharmProjects\\\\auto-test-generator\\\\dataset_repos\\\\pydriller\\\\venv\\\\Lib\\\\site-packages\\\\lizard_ext\\\\lizardoutside.py', 'C:\\\\Users\\\\Ivan\\\\PycharmProjects\\\\auto-test-generator\\\\dataset_repos\\\\pydriller\\\\venv\\\\Lib\\\\site-packages\\\\lizard_ext\\\\lizardstatementcount.py', 'C:\\\\Users\\\\Ivan\\\\PycharmProjects\\\\auto-test-generator\\\\dataset_repos\\\\pydriller\\\\venv\\\\Lib\\\\site-packages\\\\lizard_ext\\\\lizardwordcount.py', 'C:\\\\Users\\\\Ivan\\\\PycharmProjects\\\\auto-test-generator\\\\dataset_repos\\\\pydriller\\\\venv\\\\Lib\\\\site-packages\\\\lizard_ext\\\\version.py', 'C:\\\\Users\\\\Ivan\\\\PycharmProjects\\\\auto-test-generator\\\\dataset_repos\\\\pydriller\\\\venv\\\\Lib\\\\site-packages\\\\lizard_ext\\\\xmloutput.py', 'C:\\\\Users\\\\Ivan\\\\PycharmProjects\\\\auto-test-generator\\\\dataset_repos\\\\pydriller\\\\venv\\\\Lib\\\\site-packages\\\\lizard_ext\\\\__init__.py', 'C:\\\\Users\\\\Ivan\\\\PycharmProjects\\\\auto-test-generator\\\\dataset_repos\\\\pydriller\\\\venv\\\\Lib\\\\site-packages\\\\lizard_languages\\\\clike.py', 'C:\\\\Users\\\\Ivan\\\\PycharmProjects\\\\auto-test-generator\\\\dataset_repos\\\\pydriller\\\\venv\\\\Lib\\\\site-packages\\\\lizard_languages\\\\code_reader.py', 'C:\\\\Users\\\\Ivan\\\\PycharmProjects\\\\auto-test-generator\\\\dataset_repos\\\\pydriller\\\\venv\\\\Lib\\\\site-packages\\\\lizard_languages\\\\csharp.py', 'C:\\\\Users\\\\Ivan\\\\PycharmProjects\\\\auto-test-generator\\\\dataset_repos\\\\pydriller\\\\venv\\\\Lib\\\\site-packages\\\\lizard_languages\\\\fortran.py', 'C:\\\\Users\\\\Ivan\\\\PycharmProjects\\\\auto-test-generator\\\\dataset_repos\\\\pydriller\\\\venv\\\\Lib\\\\site-packages\\\\lizard_languages\\\\gdscript.py', 'C:\\\\Users\\\\Ivan\\\\PycharmProjects\\\\auto-test-generator\\\\dataset_repos\\\\pydriller\\\\venv\\\\Lib\\\\site-packages\\\\lizard_languages\\\\go.py', 'C:\\\\Users\\\\Ivan\\\\PycharmProjects\\\\auto-test-generator\\\\dataset_repos\\\\pydriller\\\\venv\\\\Lib\\\\site-packages\\\\lizard_languages\\\\golike.py', 'C:\\\\Users\\\\Ivan\\\\PycharmProjects\\\\auto-test-generator\\\\dataset_repos\\\\pydriller\\\\venv\\\\Lib\\\\site-packages\\\\lizard_languages\\\\java.py', 'C:\\\\Users\\\\Ivan\\\\PycharmProjects\\\\auto-test-generator\\\\dataset_repos\\\\pydriller\\\\venv\\\\Lib\\\\site-packages\\\\lizard_languages\\\\javascript.py', 'C:\\\\Users\\\\Ivan\\\\PycharmProjects\\\\auto-test-generator\\\\dataset_repos\\\\pydriller\\\\venv\\\\Lib\\\\site-packages\\\\lizard_languages\\\\js_style_language_states.py', 'C:\\\\Users\\\\Ivan\\\\PycharmProjects\\\\auto-test-generator\\\\dataset_repos\\\\pydriller\\\\venv\\\\Lib\\\\site-packages\\\\lizard_languages\\\\js_style_regex_expression.py', 'C:\\\\Users\\\\Ivan\\\\PycharmProjects\\\\auto-test-generator\\\\dataset_repos\\\\pydriller\\\\venv\\\\Lib\\\\site-packages\\\\lizard_languages\\\\kotlin.py', 'C:\\\\Users\\\\Ivan\\\\PycharmProjects\\\\auto-test-generator\\\\dataset_repos\\\\pydriller\\\\venv\\\\Lib\\\\site-packages\\\\lizard_languages\\\\lua.py', 'C:\\\\Users\\\\Ivan\\\\PycharmProjects\\\\auto-test-generator\\\\dataset_repos\\\\pydriller\\\\venv\\\\Lib\\\\site-packages\\\\lizard_languages\\\\objc.py', 'C:\\\\Users\\\\Ivan\\\\PycharmProjects\\\\auto-test-generator\\\\dataset_repos\\\\pydriller\\\\venv\\\\Lib\\\\site-packages\\\\lizard_languages\\\\php.py', 'C:\\\\Users\\\\Ivan\\\\PycharmProjects\\\\auto-test-generator\\\\dataset_repos\\\\pydriller\\\\venv\\\\Lib\\\\site-packages\\\\lizard_languages\\\\python.py', 'C:\\\\Users\\\\Ivan\\\\PycharmProjects\\\\auto-test-generator\\\\dataset_repos\\\\pydriller\\\\venv\\\\Lib\\\\site-packages\\\\lizard_languages\\\\ruby.py', 'C:\\\\Users\\\\Ivan\\\\PycharmProjects\\\\auto-test-generator\\\\dataset_repos\\\\pydriller\\\\venv\\\\Lib\\\\site-packages\\\\lizard_languages\\\\rubylike.py', 'C:\\\\Users\\\\Ivan\\\\PycharmProjects\\\\auto-test-generator\\\\dataset_repos\\\\pydriller\\\\venv\\\\Lib\\\\site-packages\\\\lizard_languages\\\\rust.py', 'C:\\\\Users\\\\Ivan\\\\PycharmProjects\\\\auto-test-generator\\\\dataset_repos\\\\pydriller\\\\venv\\\\Lib\\\\site-packages\\\\lizard_languages\\\\scala.py', 'C:\\\\Users\\\\Ivan\\\\PycharmProjects\\\\auto-test-generator\\\\dataset_repos\\\\pydriller\\\\venv\\\\Lib\\\\site-packages\\\\lizard_languages\\\\script_language.py', 'C:\\\\Users\\\\Ivan\\\\PycharmProjects\\\\auto-test-generator\\\\dataset_repos\\\\pydriller\\\\venv\\\\Lib\\\\site-packages\\\\lizard_languages\\\\swift.py', 'C:\\\\Users\\\\Ivan\\\\PycharmProjects\\\\auto-test-generator\\\\dataset_repos\\\\pydriller\\\\venv\\\\Lib\\\\site-packages\\\\lizard_languages\\\\tnsdl.py', 'C:\\\\Users\\\\Ivan\\\\PycharmProjects\\\\auto-test-generator\\\\dataset_repos\\\\pydriller\\\\venv\\\\Lib\\\\site-packages\\\\lizard_languages\\\\ttcn.py', 'C:\\\\Users\\\\Ivan\\\\PycharmProjects\\\\auto-test-generator\\\\dataset_repos\\\\pydriller\\\\venv\\\\Lib\\\\site-packages\\\\lizard_languages\\\\typescript.py', 'C:\\\\Users\\\\Ivan\\\\PycharmProjects\\\\auto-test-generator\\\\dataset_repos\\\\pydriller\\\\venv\\\\Lib\\\\site-packages\\\\lizard_languages\\\\__init__.py', 'C:\\\\Users\\\\Ivan\\\\PycharmProjects\\\\auto-test-generator\\\\dataset_repos\\\\pydriller\\\\venv\\\\Lib\\\\site-packages\\\\nose_parameterized\\\\compat.py', 'C:\\\\Users\\\\Ivan\\\\PycharmProjects\\\\auto-test-generator\\\\dataset_repos\\\\pydriller\\\\venv\\\\Lib\\\\site-packages\\\\nose_parameterized\\\\parameterized.py', 'C:\\\\Users\\\\Ivan\\\\PycharmProjects\\\\auto-test-generator\\\\dataset_repos\\\\pydriller\\\\venv\\\\Lib\\\\site-packages\\\\nose_parameterized\\\\test.py', 'C:\\\\Users\\\\Ivan\\\\PycharmProjects\\\\auto-test-generator\\\\dataset_repos\\\\pydriller\\\\venv\\\\Lib\\\\site-packages\\\\nose_parameterized\\\\__init__.py', 'C:\\\\Users\\\\Ivan\\\\PycharmProjects\\\\auto-test-generator\\\\dataset_repos\\\\pydriller\\\\venv\\\\Lib\\\\site-packages\\\\packaging\\\\markers.py', 'C:\\\\Users\\\\Ivan\\\\PycharmProjects\\\\auto-test-generator\\\\dataset_repos\\\\pydriller\\\\venv\\\\Lib\\\\site-packages\\\\packaging\\\\requirements.py', 'C:\\\\Users\\\\Ivan\\\\PycharmProjects\\\\auto-test-generator\\\\dataset_repos\\\\pydriller\\\\venv\\\\Lib\\\\site-packages\\\\packaging\\\\specifiers.py', 'C:\\\\Users\\\\Ivan\\\\PycharmProjects\\\\auto-test-generator\\\\dataset_repos\\\\pydriller\\\\venv\\\\Lib\\\\site-packages\\\\packaging\\\\tags.py', 'C:\\\\Users\\\\Ivan\\\\PycharmProjects\\\\auto-test-generator\\\\dataset_repos\\\\pydriller\\\\venv\\\\Lib\\\\site-packages\\\\packaging\\\\utils.py', 'C:\\\\Users\\\\Ivan\\\\PycharmProjects\\\\auto-test-generator\\\\dataset_repos\\\\pydriller\\\\venv\\\\Lib\\\\site-packages\\\\packaging\\\\version.py', 'C:\\\\Users\\\\Ivan\\\\PycharmProjects\\\\auto-test-generator\\\\dataset_repos\\\\pydriller\\\\venv\\\\Lib\\\\site-packages\\\\packaging\\\\_manylinux.py', 'C:\\\\Users\\\\Ivan\\\\PycharmProjects\\\\auto-test-generator\\\\dataset_repos\\\\pydriller\\\\venv\\\\Lib\\\\site-packages\\\\packaging\\\\_musllinux.py', 'C:\\\\Users\\\\Ivan\\\\PycharmProjects\\\\auto-test-generator\\\\dataset_repos\\\\pydriller\\\\venv\\\\Lib\\\\site-packages\\\\packaging\\\\_structures.py', 'C:\\\\Users\\\\Ivan\\\\PycharmProjects\\\\auto-test-generator\\\\dataset_repos\\\\pydriller\\\\venv\\\\Lib\\\\site-packages\\\\packaging\\\\__about__.py', 'C:\\\\Users\\\\Ivan\\\\PycharmProjects\\\\auto-test-generator\\\\dataset_repos\\\\pydriller\\\\venv\\\\Lib\\\\site-packages\\\\packaging\\\\__init__.py', 'C:\\\\Users\\\\Ivan\\\\PycharmProjects\\\\auto-test-generator\\\\dataset_repos\\\\pydriller\\\\venv\\\\Lib\\\\site-packages\\\\parameterized\\\\parameterized.py', 'C:\\\\Users\\\\Ivan\\\\PycharmProjects\\\\auto-test-generator\\\\dataset_repos\\\\pydriller\\\\venv\\\\Lib\\\\site-packages\\\\parameterized\\\\test.py', 'C:\\\\Users\\\\Ivan\\\\PycharmProjects\\\\auto-test-generator\\\\dataset_repos\\\\pydriller\\\\venv\\\\Lib\\\\site-packages\\\\parameterized\\\\__init__.py', 'C:\\\\Users\\\\Ivan\\\\PycharmProjects\\\\auto-test-generator\\\\dataset_repos\\\\pydriller\\\\venv\\\\Lib\\\\site-packages\\\\pip\\\\__init__.py', 'C:\\\\Users\\\\Ivan\\\\PycharmProjects\\\\auto-test-generator\\\\dataset_repos\\\\pydriller\\\\venv\\\\Lib\\\\site-packages\\\\pip\\\\__main__.py', 'C:\\\\Users\\\\Ivan\\\\PycharmProjects\\\\auto-test-generator\\\\dataset_repos\\\\pydriller\\\\venv\\\\Lib\\\\site-packages\\\\pip\\\\_internal\\\\build_env.py', 'C:\\\\Users\\\\Ivan\\\\PycharmProjects\\\\auto-test-generator\\\\dataset_repos\\\\pydriller\\\\venv\\\\Lib\\\\site-packages\\\\pip\\\\_internal\\\\cache.py', 'C:\\\\Users\\\\Ivan\\\\PycharmProjects\\\\auto-test-generator\\\\dataset_repos\\\\pydriller\\\\venv\\\\Lib\\\\site-packages\\\\pip\\\\_internal\\\\configuration.py', 'C:\\\\Users\\\\Ivan\\\\PycharmProjects\\\\auto-test-generator\\\\dataset_repos\\\\pydriller\\\\venv\\\\Lib\\\\site-packages\\\\pip\\\\_internal\\\\exceptions.py', 'C:\\\\Users\\\\Ivan\\\\PycharmProjects\\\\auto-test-generator\\\\dataset_repos\\\\pydriller\\\\venv\\\\Lib\\\\site-packages\\\\pip\\\\_internal\\\\main.py', 'C:\\\\Users\\\\Ivan\\\\PycharmProjects\\\\auto-test-generator\\\\dataset_repos\\\\pydriller\\\\venv\\\\Lib\\\\site-packages\\\\pip\\\\_internal\\\\pyproject.py', 'C:\\\\Users\\\\Ivan\\\\PycharmProjects\\\\auto-test-generator\\\\dataset_repos\\\\pydriller\\\\venv\\\\Lib\\\\site-packages\\\\pip\\\\_internal\\\\self_outdated_check.py', 'C:\\\\Users\\\\Ivan\\\\PycharmProjects\\\\auto-test-generator\\\\dataset_repos\\\\pydriller\\\\venv\\\\Lib\\\\site-packages\\\\pip\\\\_internal\\\\wheel_builder.py', 'C:\\\\Users\\\\Ivan\\\\PycharmProjects\\\\auto-test-generator\\\\dataset_repos\\\\pydriller\\\\venv\\\\Lib\\\\site-packages\\\\pip\\\\_internal\\\\__init__.py', 'C:\\\\Users\\\\Ivan\\\\PycharmProjects\\\\auto-test-generator\\\\dataset_repos\\\\pydriller\\\\venv\\\\Lib\\\\site-packages\\\\pip\\\\_internal\\\\cli\\\\autocompletion.py', 'C:\\\\Users\\\\Ivan\\\\PycharmProjects\\\\auto-test-generator\\\\dataset_repos\\\\pydriller\\\\venv\\\\Lib\\\\site-packages\\\\pip\\\\_internal\\\\cli\\\\base_command.py', 'C:\\\\Users\\\\Ivan\\\\PycharmProjects\\\\auto-test-generator\\\\dataset_repos\\\\pydriller\\\\venv\\\\Lib\\\\site-packages\\\\pip\\\\_internal\\\\cli\\\\cmdoptions.py', 'C:\\\\Users\\\\Ivan\\\\PycharmProjects\\\\auto-test-generator\\\\dataset_repos\\\\pydriller\\\\venv\\\\Lib\\\\site-packages\\\\pip\\\\_internal\\\\cli\\\\command_context.py', 'C:\\\\Users\\\\Ivan\\\\PycharmProjects\\\\auto-test-generator\\\\dataset_repos\\\\pydriller\\\\venv\\\\Lib\\\\site-packages\\\\pip\\\\_internal\\\\cli\\\\main.py', 'C:\\\\Users\\\\Ivan\\\\PycharmProjects\\\\auto-test-generator\\\\dataset_repos\\\\pydriller\\\\venv\\\\Lib\\\\site-packages\\\\pip\\\\_internal\\\\cli\\\\main_parser.py', 'C:\\\\Users\\\\Ivan\\\\PycharmProjects\\\\auto-test-generator\\\\dataset_repos\\\\pydriller\\\\venv\\\\Lib\\\\site-packages\\\\pip\\\\_internal\\\\cli\\\\parser.py', 'C:\\\\Users\\\\Ivan\\\\PycharmProjects\\\\auto-test-generator\\\\dataset_repos\\\\pydriller\\\\venv\\\\Lib\\\\site-packages\\\\pip\\\\_internal\\\\cli\\\\progress_bars.py', 'C:\\\\Users\\\\Ivan\\\\PycharmProjects\\\\auto-test-generator\\\\dataset_repos\\\\pydriller\\\\venv\\\\Lib\\\\site-packages\\\\pip\\\\_internal\\\\cli\\\\req_command.py', 'C:\\\\Users\\\\Ivan\\\\PycharmProjects\\\\auto-test-generator\\\\dataset_repos\\\\pydriller\\\\venv\\\\Lib\\\\site-packages\\\\pip\\\\_internal\\\\cli\\\\spinners.py', 'C:\\\\Users\\\\Ivan\\\\PycharmProjects\\\\auto-test-generator\\\\dataset_repos\\\\pydriller\\\\venv\\\\Lib\\\\site-packages\\\\pip\\\\_internal\\\\cli\\\\status_codes.py', 'C:\\\\Users\\\\Ivan\\\\PycharmProjects\\\\auto-test-generator\\\\dataset_repos\\\\pydriller\\\\venv\\\\Lib\\\\site-packages\\\\pip\\\\_internal\\\\cli\\\\__init__.py', 'C:\\\\Users\\\\Ivan\\\\PycharmProjects\\\\auto-test-generator\\\\dataset_repos\\\\pydriller\\\\venv\\\\Lib\\\\site-packages\\\\pip\\\\_internal\\\\commands\\\\cache.py', 'C:\\\\Users\\\\Ivan\\\\PycharmProjects\\\\auto-test-generator\\\\dataset_repos\\\\pydriller\\\\venv\\\\Lib\\\\site-packages\\\\pip\\\\_internal\\\\commands\\\\check.py', 'C:\\\\Users\\\\Ivan\\\\PycharmProjects\\\\auto-test-generator\\\\dataset_repos\\\\pydriller\\\\venv\\\\Lib\\\\site-packages\\\\pip\\\\_internal\\\\commands\\\\completion.py', 'C:\\\\Users\\\\Ivan\\\\PycharmProjects\\\\auto-test-generator\\\\dataset_repos\\\\pydriller\\\\venv\\\\Lib\\\\site-packages\\\\pip\\\\_internal\\\\commands\\\\configuration.py', 'C:\\\\Users\\\\Ivan\\\\PycharmProjects\\\\auto-test-generator\\\\dataset_repos\\\\pydriller\\\\venv\\\\Lib\\\\site-packages\\\\pip\\\\_internal\\\\commands\\\\debug.py', 'C:\\\\Users\\\\Ivan\\\\PycharmProjects\\\\auto-test-generator\\\\dataset_repos\\\\pydriller\\\\venv\\\\Lib\\\\site-packages\\\\pip\\\\_internal\\\\commands\\\\download.py', 'C:\\\\Users\\\\Ivan\\\\PycharmProjects\\\\auto-test-generator\\\\dataset_repos\\\\pydriller\\\\venv\\\\Lib\\\\site-packages\\\\pip\\\\_internal\\\\commands\\\\freeze.py', 'C:\\\\Users\\\\Ivan\\\\PycharmProjects\\\\auto-test-generator\\\\dataset_repos\\\\pydriller\\\\venv\\\\Lib\\\\site-packages\\\\pip\\\\_internal\\\\commands\\\\hash.py', 'C:\\\\Users\\\\Ivan\\\\PycharmProjects\\\\auto-test-generator\\\\dataset_repos\\\\pydriller\\\\venv\\\\Lib\\\\site-packages\\\\pip\\\\_internal\\\\commands\\\\help.py', 'C:\\\\Users\\\\Ivan\\\\PycharmProjects\\\\auto-test-generator\\\\dataset_repos\\\\pydriller\\\\venv\\\\Lib\\\\site-packages\\\\pip\\\\_internal\\\\commands\\\\index.py', 'C:\\\\Users\\\\Ivan\\\\PycharmProjects\\\\auto-test-generator\\\\dataset_repos\\\\pydriller\\\\venv\\\\Lib\\\\site-packages\\\\pip\\\\_internal\\\\commands\\\\install.py', 'C:\\\\Users\\\\Ivan\\\\PycharmProjects\\\\auto-test-generator\\\\dataset_repos\\\\pydriller\\\\venv\\\\Lib\\\\site-packages\\\\pip\\\\_internal\\\\commands\\\\list.py', 'C:\\\\Users\\\\Ivan\\\\PycharmProjects\\\\auto-test-generator\\\\dataset_repos\\\\pydriller\\\\venv\\\\Lib\\\\site-packages\\\\pip\\\\_internal\\\\commands\\\\search.py', 'C:\\\\Users\\\\Ivan\\\\PycharmProjects\\\\auto-test-generator\\\\dataset_repos\\\\pydriller\\\\venv\\\\Lib\\\\site-packages\\\\pip\\\\_internal\\\\commands\\\\show.py', 'C:\\\\Users\\\\Ivan\\\\PycharmProjects\\\\auto-test-generator\\\\dataset_repos\\\\pydriller\\\\venv\\\\Lib\\\\site-packages\\\\pip\\\\_internal\\\\commands\\\\uninstall.py', 'C:\\\\Users\\\\Ivan\\\\PycharmProjects\\\\auto-test-generator\\\\dataset_repos\\\\pydriller\\\\venv\\\\Lib\\\\site-packages\\\\pip\\\\_internal\\\\commands\\\\wheel.py', 'C:\\\\Users\\\\Ivan\\\\PycharmProjects\\\\auto-test-generator\\\\dataset_repos\\\\pydriller\\\\venv\\\\Lib\\\\site-packages\\\\pip\\\\_internal\\\\commands\\\\__init__.py', 'C:\\\\Users\\\\Ivan\\\\PycharmProjects\\\\auto-test-generator\\\\dataset_repos\\\\pydriller\\\\venv\\\\Lib\\\\site-packages\\\\pip\\\\_internal\\\\distributions\\\\base.py', 'C:\\\\Users\\\\Ivan\\\\PycharmProjects\\\\auto-test-generator\\\\dataset_repos\\\\pydriller\\\\venv\\\\Lib\\\\site-packages\\\\pip\\\\_internal\\\\distributions\\\\installed.py', 'C:\\\\Users\\\\Ivan\\\\PycharmProjects\\\\auto-test-generator\\\\dataset_repos\\\\pydriller\\\\venv\\\\Lib\\\\site-packages\\\\pip\\\\_internal\\\\distributions\\\\sdist.py', 'C:\\\\Users\\\\Ivan\\\\PycharmProjects\\\\auto-test-generator\\\\dataset_repos\\\\pydriller\\\\venv\\\\Lib\\\\site-packages\\\\pip\\\\_internal\\\\distributions\\\\wheel.py', 'C:\\\\Users\\\\Ivan\\\\PycharmProjects\\\\auto-test-generator\\\\dataset_repos\\\\pydriller\\\\venv\\\\Lib\\\\site-packages\\\\pip\\\\_internal\\\\distributions\\\\__init__.py', 'C:\\\\Users\\\\Ivan\\\\PycharmProjects\\\\auto-test-generator\\\\dataset_repos\\\\pydriller\\\\venv\\\\Lib\\\\site-packages\\\\pip\\\\_internal\\\\index\\\\collector.py', 'C:\\\\Users\\\\Ivan\\\\PycharmProjects\\\\auto-test-generator\\\\dataset_repos\\\\pydriller\\\\venv\\\\Lib\\\\site-packages\\\\pip\\\\_internal\\\\index\\\\package_finder.py', 'C:\\\\Users\\\\Ivan\\\\PycharmProjects\\\\auto-test-generator\\\\dataset_repos\\\\pydriller\\\\venv\\\\Lib\\\\site-packages\\\\pip\\\\_internal\\\\index\\\\sources.py', 'C:\\\\Users\\\\Ivan\\\\PycharmProjects\\\\auto-test-generator\\\\dataset_repos\\\\pydriller\\\\venv\\\\Lib\\\\site-packages\\\\pip\\\\_internal\\\\index\\\\__init__.py', 'C:\\\\Users\\\\Ivan\\\\PycharmProjects\\\\auto-test-generator\\\\dataset_repos\\\\pydriller\\\\venv\\\\Lib\\\\site-packages\\\\pip\\\\_internal\\\\locations\\\\base.py', 'C:\\\\Users\\\\Ivan\\\\PycharmProjects\\\\auto-test-generator\\\\dataset_repos\\\\pydriller\\\\venv\\\\Lib\\\\site-packages\\\\pip\\\\_internal\\\\locations\\\\_distutils.py', 'C:\\\\Users\\\\Ivan\\\\PycharmProjects\\\\auto-test-generator\\\\dataset_repos\\\\pydriller\\\\venv\\\\Lib\\\\site-packages\\\\pip\\\\_internal\\\\locations\\\\_sysconfig.py', 'C:\\\\Users\\\\Ivan\\\\PycharmProjects\\\\auto-test-generator\\\\dataset_repos\\\\pydriller\\\\venv\\\\Lib\\\\site-packages\\\\pip\\\\_internal\\\\locations\\\\__init__.py', 'C:\\\\Users\\\\Ivan\\\\PycharmProjects\\\\auto-test-generator\\\\dataset_repos\\\\pydriller\\\\venv\\\\Lib\\\\site-packages\\\\pip\\\\_internal\\\\metadata\\\\base.py', 'C:\\\\Users\\\\Ivan\\\\PycharmProjects\\\\auto-test-generator\\\\dataset_repos\\\\pydriller\\\\venv\\\\Lib\\\\site-packages\\\\pip\\\\_internal\\\\metadata\\\\pkg_resources.py', 'C:\\\\Users\\\\Ivan\\\\PycharmProjects\\\\auto-test-generator\\\\dataset_repos\\\\pydriller\\\\venv\\\\Lib\\\\site-packages\\\\pip\\\\_internal\\\\metadata\\\\__init__.py', 'C:\\\\Users\\\\Ivan\\\\PycharmProjects\\\\auto-test-generator\\\\dataset_repos\\\\pydriller\\\\venv\\\\Lib\\\\site-packages\\\\pip\\\\_internal\\\\models\\\\candidate.py', 'C:\\\\Users\\\\Ivan\\\\PycharmProjects\\\\auto-test-generator\\\\dataset_repos\\\\pydriller\\\\venv\\\\Lib\\\\site-packages\\\\pip\\\\_internal\\\\models\\\\direct_url.py', 'C:\\\\Users\\\\Ivan\\\\PycharmProjects\\\\auto-test-generator\\\\dataset_repos\\\\pydriller\\\\venv\\\\Lib\\\\site-packages\\\\pip\\\\_internal\\\\models\\\\format_control.py', 'C:\\\\Users\\\\Ivan\\\\PycharmProjects\\\\auto-test-generator\\\\dataset_repos\\\\pydriller\\\\venv\\\\Lib\\\\site-packages\\\\pip\\\\_internal\\\\models\\\\index.py', 'C:\\\\Users\\\\Ivan\\\\PycharmProjects\\\\auto-test-generator\\\\dataset_repos\\\\pydriller\\\\venv\\\\Lib\\\\site-packages\\\\pip\\\\_internal\\\\models\\\\link.py', 'C:\\\\Users\\\\Ivan\\\\PycharmProjects\\\\auto-test-generator\\\\dataset_repos\\\\pydriller\\\\venv\\\\Lib\\\\site-packages\\\\pip\\\\_internal\\\\models\\\\scheme.py', 'C:\\\\Users\\\\Ivan\\\\PycharmProjects\\\\auto-test-generator\\\\dataset_repos\\\\pydriller\\\\venv\\\\Lib\\\\site-packages\\\\pip\\\\_internal\\\\models\\\\search_scope.py', 'C:\\\\Users\\\\Ivan\\\\PycharmProjects\\\\auto-test-generator\\\\dataset_repos\\\\pydriller\\\\venv\\\\Lib\\\\site-packages\\\\pip\\\\_internal\\\\models\\\\selection_prefs.py', 'C:\\\\Users\\\\Ivan\\\\PycharmProjects\\\\auto-test-generator\\\\dataset_repos\\\\pydriller\\\\venv\\\\Lib\\\\site-packages\\\\pip\\\\_internal\\\\models\\\\target_python.py', 'C:\\\\Users\\\\Ivan\\\\PycharmProjects\\\\auto-test-generator\\\\dataset_repos\\\\pydriller\\\\venv\\\\Lib\\\\site-packages\\\\pip\\\\_internal\\\\models\\\\wheel.py', 'C:\\\\Users\\\\Ivan\\\\PycharmProjects\\\\auto-test-generator\\\\dataset_repos\\\\pydriller\\\\venv\\\\Lib\\\\site-packages\\\\pip\\\\_internal\\\\models\\\\__init__.py', 'C:\\\\Users\\\\Ivan\\\\PycharmProjects\\\\auto-test-generator\\\\dataset_repos\\\\pydriller\\\\venv\\\\Lib\\\\site-packages\\\\pip\\\\_internal\\\\network\\\\auth.py', 'C:\\\\Users\\\\Ivan\\\\PycharmProjects\\\\auto-test-generator\\\\dataset_repos\\\\pydriller\\\\venv\\\\Lib\\\\site-packages\\\\pip\\\\_internal\\\\network\\\\cache.py', 'C:\\\\Users\\\\Ivan\\\\PycharmProjects\\\\auto-test-generator\\\\dataset_repos\\\\pydriller\\\\venv\\\\Lib\\\\site-packages\\\\pip\\\\_internal\\\\network\\\\download.py', 'C:\\\\Users\\\\Ivan\\\\PycharmProjects\\\\auto-test-generator\\\\dataset_repos\\\\pydriller\\\\venv\\\\Lib\\\\site-packages\\\\pip\\\\_internal\\\\network\\\\lazy_wheel.py', 'C:\\\\Users\\\\Ivan\\\\PycharmProjects\\\\auto-test-generator\\\\dataset_repos\\\\pydriller\\\\venv\\\\Lib\\\\site-packages\\\\pip\\\\_internal\\\\network\\\\session.py', 'C:\\\\Users\\\\Ivan\\\\PycharmProjects\\\\auto-test-generator\\\\dataset_repos\\\\pydriller\\\\venv\\\\Lib\\\\site-packages\\\\pip\\\\_internal\\\\network\\\\utils.py', 'C:\\\\Users\\\\Ivan\\\\PycharmProjects\\\\auto-test-generator\\\\dataset_repos\\\\pydriller\\\\venv\\\\Lib\\\\site-packages\\\\pip\\\\_internal\\\\network\\\\xmlrpc.py', 'C:\\\\Users\\\\Ivan\\\\PycharmProjects\\\\auto-test-generator\\\\dataset_repos\\\\pydriller\\\\venv\\\\Lib\\\\site-packages\\\\pip\\\\_internal\\\\network\\\\__init__.py', 'C:\\\\Users\\\\Ivan\\\\PycharmProjects\\\\auto-test-generator\\\\dataset_repos\\\\pydriller\\\\venv\\\\Lib\\\\site-packages\\\\pip\\\\_internal\\\\operations\\\\check.py', 'C:\\\\Users\\\\Ivan\\\\PycharmProjects\\\\auto-test-generator\\\\dataset_repos\\\\pydriller\\\\venv\\\\Lib\\\\site-packages\\\\pip\\\\_internal\\\\operations\\\\freeze.py', 'C:\\\\Users\\\\Ivan\\\\PycharmProjects\\\\auto-test-generator\\\\dataset_repos\\\\pydriller\\\\venv\\\\Lib\\\\site-packages\\\\pip\\\\_internal\\\\operations\\\\prepare.py', 'C:\\\\Users\\\\Ivan\\\\PycharmProjects\\\\auto-test-generator\\\\dataset_repos\\\\pydriller\\\\venv\\\\Lib\\\\site-packages\\\\pip\\\\_internal\\\\operations\\\\__init__.py', 'C:\\\\Users\\\\Ivan\\\\PycharmProjects\\\\auto-test-generator\\\\dataset_repos\\\\pydriller\\\\venv\\\\Lib\\\\site-packages\\\\pip\\\\_internal\\\\operations\\\\build\\\\metadata.py', 'C:\\\\Users\\\\Ivan\\\\PycharmProjects\\\\auto-test-generator\\\\dataset_repos\\\\pydriller\\\\venv\\\\Lib\\\\site-packages\\\\pip\\\\_internal\\\\operations\\\\build\\\\metadata_editable.py', 'C:\\\\Users\\\\Ivan\\\\PycharmProjects\\\\auto-test-generator\\\\dataset_repos\\\\pydriller\\\\venv\\\\Lib\\\\site-packages\\\\pip\\\\_internal\\\\operations\\\\build\\\\metadata_legacy.py', 'C:\\\\Users\\\\Ivan\\\\PycharmProjects\\\\auto-test-generator\\\\dataset_repos\\\\pydriller\\\\venv\\\\Lib\\\\site-packages\\\\pip\\\\_internal\\\\operations\\\\build\\\\wheel.py', 'C:\\\\Users\\\\Ivan\\\\PycharmProjects\\\\auto-test-generator\\\\dataset_repos\\\\pydriller\\\\venv\\\\Lib\\\\site-packages\\\\pip\\\\_internal\\\\operations\\\\build\\\\wheel_editable.py', 'C:\\\\Users\\\\Ivan\\\\PycharmProjects\\\\auto-test-generator\\\\dataset_repos\\\\pydriller\\\\venv\\\\Lib\\\\site-packages\\\\pip\\\\_internal\\\\operations\\\\build\\\\wheel_legacy.py', 'C:\\\\Users\\\\Ivan\\\\PycharmProjects\\\\auto-test-generator\\\\dataset_repos\\\\pydriller\\\\venv\\\\Lib\\\\site-packages\\\\pip\\\\_internal\\\\operations\\\\build\\\\__init__.py', 'C:\\\\Users\\\\Ivan\\\\PycharmProjects\\\\auto-test-generator\\\\dataset_repos\\\\pydriller\\\\venv\\\\Lib\\\\site-packages\\\\pip\\\\_internal\\\\operations\\\\install\\\\editable_legacy.py', 'C:\\\\Users\\\\Ivan\\\\PycharmProjects\\\\auto-test-generator\\\\dataset_repos\\\\pydriller\\\\venv\\\\Lib\\\\site-packages\\\\pip\\\\_internal\\\\operations\\\\install\\\\legacy.py', 'C:\\\\Users\\\\Ivan\\\\PycharmProjects\\\\auto-test-generator\\\\dataset_repos\\\\pydriller\\\\venv\\\\Lib\\\\site-packages\\\\pip\\\\_internal\\\\operations\\\\install\\\\wheel.py', 'C:\\\\Users\\\\Ivan\\\\PycharmProjects\\\\auto-test-generator\\\\dataset_repos\\\\pydriller\\\\venv\\\\Lib\\\\site-packages\\\\pip\\\\_internal\\\\operations\\\\install\\\\__init__.py', 'C:\\\\Users\\\\Ivan\\\\PycharmProjects\\\\auto-test-generator\\\\dataset_repos\\\\pydriller\\\\venv\\\\Lib\\\\site-packages\\\\pip\\\\_internal\\\\req\\\\constructors.py', 'C:\\\\Users\\\\Ivan\\\\PycharmProjects\\\\auto-test-generator\\\\dataset_repos\\\\pydriller\\\\venv\\\\Lib\\\\site-packages\\\\pip\\\\_internal\\\\req\\\\req_file.py', 'C:\\\\Users\\\\Ivan\\\\PycharmProjects\\\\auto-test-generator\\\\dataset_repos\\\\pydriller\\\\venv\\\\Lib\\\\site-packages\\\\pip\\\\_internal\\\\req\\\\req_install.py', 'C:\\\\Users\\\\Ivan\\\\PycharmProjects\\\\auto-test-generator\\\\dataset_repos\\\\pydriller\\\\venv\\\\Lib\\\\site-packages\\\\pip\\\\_internal\\\\req\\\\req_set.py', 'C:\\\\Users\\\\Ivan\\\\PycharmProjects\\\\auto-test-generator\\\\dataset_repos\\\\pydriller\\\\venv\\\\Lib\\\\site-packages\\\\pip\\\\_internal\\\\req\\\\req_tracker.py', 'C:\\\\Users\\\\Ivan\\\\PycharmProjects\\\\auto-test-generator\\\\dataset_repos\\\\pydriller\\\\venv\\\\Lib\\\\site-packages\\\\pip\\\\_internal\\\\req\\\\req_uninstall.py', 'C:\\\\Users\\\\Ivan\\\\PycharmProjects\\\\auto-test-generator\\\\dataset_repos\\\\pydriller\\\\venv\\\\Lib\\\\site-packages\\\\pip\\\\_internal\\\\req\\\\__init__.py', 'C:\\\\Users\\\\Ivan\\\\PycharmProjects\\\\auto-test-generator\\\\dataset_repos\\\\pydriller\\\\venv\\\\Lib\\\\site-packages\\\\pip\\\\_internal\\\\resolution\\\\base.py', 'C:\\\\Users\\\\Ivan\\\\PycharmProjects\\\\auto-test-generator\\\\dataset_repos\\\\pydriller\\\\venv\\\\Lib\\\\site-packages\\\\pip\\\\_internal\\\\resolution\\\\__init__.py', 'C:\\\\Users\\\\Ivan\\\\PycharmProjects\\\\auto-test-generator\\\\dataset_repos\\\\pydriller\\\\venv\\\\Lib\\\\site-packages\\\\pip\\\\_internal\\\\resolution\\\\legacy\\\\resolver.py', 'C:\\\\Users\\\\Ivan\\\\PycharmProjects\\\\auto-test-generator\\\\dataset_repos\\\\pydriller\\\\venv\\\\Lib\\\\site-packages\\\\pip\\\\_internal\\\\resolution\\\\legacy\\\\__init__.py', 'C:\\\\Users\\\\Ivan\\\\PycharmProjects\\\\auto-test-generator\\\\dataset_repos\\\\pydriller\\\\venv\\\\Lib\\\\site-packages\\\\pip\\\\_internal\\\\resolution\\\\resolvelib\\\\base.py', 'C:\\\\Users\\\\Ivan\\\\PycharmProjects\\\\auto-test-generator\\\\dataset_repos\\\\pydriller\\\\venv\\\\Lib\\\\site-packages\\\\pip\\\\_internal\\\\resolution\\\\resolvelib\\\\candidates.py', 'C:\\\\Users\\\\Ivan\\\\PycharmProjects\\\\auto-test-generator\\\\dataset_repos\\\\pydriller\\\\venv\\\\Lib\\\\site-packages\\\\pip\\\\_internal\\\\resolution\\\\resolvelib\\\\factory.py', 'C:\\\\Users\\\\Ivan\\\\PycharmProjects\\\\auto-test-generator\\\\dataset_repos\\\\pydriller\\\\venv\\\\Lib\\\\site-packages\\\\pip\\\\_internal\\\\resolution\\\\resolvelib\\\\found_candidates.py', 'C:\\\\Users\\\\Ivan\\\\PycharmProjects\\\\auto-test-generator\\\\dataset_repos\\\\pydriller\\\\venv\\\\Lib\\\\site-packages\\\\pip\\\\_internal\\\\resolution\\\\resolvelib\\\\provider.py', 'C:\\\\Users\\\\Ivan\\\\PycharmProjects\\\\auto-test-generator\\\\dataset_repos\\\\pydriller\\\\venv\\\\Lib\\\\site-packages\\\\pip\\\\_internal\\\\resolution\\\\resolvelib\\\\reporter.py', 'C:\\\\Users\\\\Ivan\\\\PycharmProjects\\\\auto-test-generator\\\\dataset_repos\\\\pydriller\\\\venv\\\\Lib\\\\site-packages\\\\pip\\\\_internal\\\\resolution\\\\resolvelib\\\\requirements.py', 'C:\\\\Users\\\\Ivan\\\\PycharmProjects\\\\auto-test-generator\\\\dataset_repos\\\\pydriller\\\\venv\\\\Lib\\\\site-packages\\\\pip\\\\_internal\\\\resolution\\\\resolvelib\\\\resolver.py', 'C:\\\\Users\\\\Ivan\\\\PycharmProjects\\\\auto-test-generator\\\\dataset_repos\\\\pydriller\\\\venv\\\\Lib\\\\site-packages\\\\pip\\\\_internal\\\\resolution\\\\resolvelib\\\\__init__.py', 'C:\\\\Users\\\\Ivan\\\\PycharmProjects\\\\auto-test-generator\\\\dataset_repos\\\\pydriller\\\\venv\\\\Lib\\\\site-packages\\\\pip\\\\_internal\\\\utils\\\\appdirs.py', 'C:\\\\Users\\\\Ivan\\\\PycharmProjects\\\\auto-test-generator\\\\dataset_repos\\\\pydriller\\\\venv\\\\Lib\\\\site-packages\\\\pip\\\\_internal\\\\utils\\\\compat.py', 'C:\\\\Users\\\\Ivan\\\\PycharmProjects\\\\auto-test-generator\\\\dataset_repos\\\\pydriller\\\\venv\\\\Lib\\\\site-packages\\\\pip\\\\_internal\\\\utils\\\\compatibility_tags.py', 'C:\\\\Users\\\\Ivan\\\\PycharmProjects\\\\auto-test-generator\\\\dataset_repos\\\\pydriller\\\\venv\\\\Lib\\\\site-packages\\\\pip\\\\_internal\\\\utils\\\\datetime.py', 'C:\\\\Users\\\\Ivan\\\\PycharmProjects\\\\auto-test-generator\\\\dataset_repos\\\\pydriller\\\\venv\\\\Lib\\\\site-packages\\\\pip\\\\_internal\\\\utils\\\\deprecation.py', 'C:\\\\Users\\\\Ivan\\\\PycharmProjects\\\\auto-test-generator\\\\dataset_repos\\\\pydriller\\\\venv\\\\Lib\\\\site-packages\\\\pip\\\\_internal\\\\utils\\\\direct_url_helpers.py', 'C:\\\\Users\\\\Ivan\\\\PycharmProjects\\\\auto-test-generator\\\\dataset_repos\\\\pydriller\\\\venv\\\\Lib\\\\site-packages\\\\pip\\\\_internal\\\\utils\\\\distutils_args.py', 'C:\\\\Users\\\\Ivan\\\\PycharmProjects\\\\auto-test-generator\\\\dataset_repos\\\\pydriller\\\\venv\\\\Lib\\\\site-packages\\\\pip\\\\_internal\\\\utils\\\\egg_link.py', 'C:\\\\Users\\\\Ivan\\\\PycharmProjects\\\\auto-test-generator\\\\dataset_repos\\\\pydriller\\\\venv\\\\Lib\\\\site-packages\\\\pip\\\\_internal\\\\utils\\\\encoding.py', 'C:\\\\Users\\\\Ivan\\\\PycharmProjects\\\\auto-test-generator\\\\dataset_repos\\\\pydriller\\\\venv\\\\Lib\\\\site-packages\\\\pip\\\\_internal\\\\utils\\\\entrypoints.py', 'C:\\\\Users\\\\Ivan\\\\PycharmProjects\\\\auto-test-generator\\\\dataset_repos\\\\pydriller\\\\venv\\\\Lib\\\\site-packages\\\\pip\\\\_internal\\\\utils\\\\filesystem.py', 'C:\\\\Users\\\\Ivan\\\\PycharmProjects\\\\auto-test-generator\\\\dataset_repos\\\\pydriller\\\\venv\\\\Lib\\\\site-packages\\\\pip\\\\_internal\\\\utils\\\\filetypes.py', 'C:\\\\Users\\\\Ivan\\\\PycharmProjects\\\\auto-test-generator\\\\dataset_repos\\\\pydriller\\\\venv\\\\Lib\\\\site-packages\\\\pip\\\\_internal\\\\utils\\\\glibc.py', 'C:\\\\Users\\\\Ivan\\\\PycharmProjects\\\\auto-test-generator\\\\dataset_repos\\\\pydriller\\\\venv\\\\Lib\\\\site-packages\\\\pip\\\\_internal\\\\utils\\\\hashes.py', 'C:\\\\Users\\\\Ivan\\\\PycharmProjects\\\\auto-test-generator\\\\dataset_repos\\\\pydriller\\\\venv\\\\Lib\\\\site-packages\\\\pip\\\\_internal\\\\utils\\\\inject_securetransport.py', 'C:\\\\Users\\\\Ivan\\\\PycharmProjects\\\\auto-test-generator\\\\dataset_repos\\\\pydriller\\\\venv\\\\Lib\\\\site-packages\\\\pip\\\\_internal\\\\utils\\\\logging.py', 'C:\\\\Users\\\\Ivan\\\\PycharmProjects\\\\auto-test-generator\\\\dataset_repos\\\\pydriller\\\\venv\\\\Lib\\\\site-packages\\\\pip\\\\_internal\\\\utils\\\\misc.py', 'C:\\\\Users\\\\Ivan\\\\PycharmProjects\\\\auto-test-generator\\\\dataset_repos\\\\pydriller\\\\venv\\\\Lib\\\\site-packages\\\\pip\\\\_internal\\\\utils\\\\models.py', 'C:\\\\Users\\\\Ivan\\\\PycharmProjects\\\\auto-test-generator\\\\dataset_repos\\\\pydriller\\\\venv\\\\Lib\\\\site-packages\\\\pip\\\\_internal\\\\utils\\\\packaging.py', 'C:\\\\Users\\\\Ivan\\\\PycharmProjects\\\\auto-test-generator\\\\dataset_repos\\\\pydriller\\\\venv\\\\Lib\\\\site-packages\\\\pip\\\\_internal\\\\utils\\\\setuptools_build.py', 'C:\\\\Users\\\\Ivan\\\\PycharmProjects\\\\auto-test-generator\\\\dataset_repos\\\\pydriller\\\\venv\\\\Lib\\\\site-packages\\\\pip\\\\_internal\\\\utils\\\\subprocess.py', 'C:\\\\Users\\\\Ivan\\\\PycharmProjects\\\\auto-test-generator\\\\dataset_repos\\\\pydriller\\\\venv\\\\Lib\\\\site-packages\\\\pip\\\\_internal\\\\utils\\\\temp_dir.py', 'C:\\\\Users\\\\Ivan\\\\PycharmProjects\\\\auto-test-generator\\\\dataset_repos\\\\pydriller\\\\venv\\\\Lib\\\\site-packages\\\\pip\\\\_internal\\\\utils\\\\unpacking.py', 'C:\\\\Users\\\\Ivan\\\\PycharmProjects\\\\auto-test-generator\\\\dataset_repos\\\\pydriller\\\\venv\\\\Lib\\\\site-packages\\\\pip\\\\_internal\\\\utils\\\\urls.py', 'C:\\\\Users\\\\Ivan\\\\PycharmProjects\\\\auto-test-generator\\\\dataset_repos\\\\pydriller\\\\venv\\\\Lib\\\\site-packages\\\\pip\\\\_internal\\\\utils\\\\virtualenv.py', 'C:\\\\Users\\\\Ivan\\\\PycharmProjects\\\\auto-test-generator\\\\dataset_repos\\\\pydriller\\\\venv\\\\Lib\\\\site-packages\\\\pip\\\\_internal\\\\utils\\\\wheel.py', 'C:\\\\Users\\\\Ivan\\\\PycharmProjects\\\\auto-test-generator\\\\dataset_repos\\\\pydriller\\\\venv\\\\Lib\\\\site-packages\\\\pip\\\\_internal\\\\utils\\\\_log.py', 'C:\\\\Users\\\\Ivan\\\\PycharmProjects\\\\auto-test-generator\\\\dataset_repos\\\\pydriller\\\\venv\\\\Lib\\\\site-packages\\\\pip\\\\_internal\\\\utils\\\\__init__.py', 'C:\\\\Users\\\\Ivan\\\\PycharmProjects\\\\auto-test-generator\\\\dataset_repos\\\\pydriller\\\\venv\\\\Lib\\\\site-packages\\\\pip\\\\_internal\\\\vcs\\\\bazaar.py', 'C:\\\\Users\\\\Ivan\\\\PycharmProjects\\\\auto-test-generator\\\\dataset_repos\\\\pydriller\\\\venv\\\\Lib\\\\site-packages\\\\pip\\\\_internal\\\\vcs\\\\git.py', 'C:\\\\Users\\\\Ivan\\\\PycharmProjects\\\\auto-test-generator\\\\dataset_repos\\\\pydriller\\\\venv\\\\Lib\\\\site-packages\\\\pip\\\\_internal\\\\vcs\\\\mercurial.py', 'C:\\\\Users\\\\Ivan\\\\PycharmProjects\\\\auto-test-generator\\\\dataset_repos\\\\pydriller\\\\venv\\\\Lib\\\\site-packages\\\\pip\\\\_internal\\\\vcs\\\\subversion.py', 'C:\\\\Users\\\\Ivan\\\\PycharmProjects\\\\auto-test-generator\\\\dataset_repos\\\\pydriller\\\\venv\\\\Lib\\\\site-packages\\\\pip\\\\_internal\\\\vcs\\\\versioncontrol.py', 'C:\\\\Users\\\\Ivan\\\\PycharmProjects\\\\auto-test-generator\\\\dataset_repos\\\\pydriller\\\\venv\\\\Lib\\\\site-packages\\\\pip\\\\_internal\\\\vcs\\\\__init__.py', 'C:\\\\Users\\\\Ivan\\\\PycharmProjects\\\\auto-test-generator\\\\dataset_repos\\\\pydriller\\\\venv\\\\Lib\\\\site-packages\\\\pip\\\\_vendor\\\\distro.py', 'C:\\\\Users\\\\Ivan\\\\PycharmProjects\\\\auto-test-generator\\\\dataset_repos\\\\pydriller\\\\venv\\\\Lib\\\\site-packages\\\\pip\\\\_vendor\\\\six.py', 'C:\\\\Users\\\\Ivan\\\\PycharmProjects\\\\auto-test-generator\\\\dataset_repos\\\\pydriller\\\\venv\\\\Lib\\\\site-packages\\\\pip\\\\_vendor\\\\typing_extensions.py', 'C:\\\\Users\\\\Ivan\\\\PycharmProjects\\\\auto-test-generator\\\\dataset_repos\\\\pydriller\\\\venv\\\\Lib\\\\site-packages\\\\pip\\\\_vendor\\\\__init__.py', 'C:\\\\Users\\\\Ivan\\\\PycharmProjects\\\\auto-test-generator\\\\dataset_repos\\\\pydriller\\\\venv\\\\Lib\\\\site-packages\\\\pip\\\\_vendor\\\\cachecontrol\\\\adapter.py', 'C:\\\\Users\\\\Ivan\\\\PycharmProjects\\\\auto-test-generator\\\\dataset_repos\\\\pydriller\\\\venv\\\\Lib\\\\site-packages\\\\pip\\\\_vendor\\\\cachecontrol\\\\cache.py', 'C:\\\\Users\\\\Ivan\\\\PycharmProjects\\\\auto-test-generator\\\\dataset_repos\\\\pydriller\\\\venv\\\\Lib\\\\site-packages\\\\pip\\\\_vendor\\\\cachecontrol\\\\compat.py', 'C:\\\\Users\\\\Ivan\\\\PycharmProjects\\\\auto-test-generator\\\\dataset_repos\\\\pydriller\\\\venv\\\\Lib\\\\site-packages\\\\pip\\\\_vendor\\\\cachecontrol\\\\controller.py', 'C:\\\\Users\\\\Ivan\\\\PycharmProjects\\\\auto-test-generator\\\\dataset_repos\\\\pydriller\\\\venv\\\\Lib\\\\site-packages\\\\pip\\\\_vendor\\\\cachecontrol\\\\filewrapper.py', 'C:\\\\Users\\\\Ivan\\\\PycharmProjects\\\\auto-test-generator\\\\dataset_repos\\\\pydriller\\\\venv\\\\Lib\\\\site-packages\\\\pip\\\\_vendor\\\\cachecontrol\\\\heuristics.py', 'C:\\\\Users\\\\Ivan\\\\PycharmProjects\\\\auto-test-generator\\\\dataset_repos\\\\pydriller\\\\venv\\\\Lib\\\\site-packages\\\\pip\\\\_vendor\\\\cachecontrol\\\\serialize.py', 'C:\\\\Users\\\\Ivan\\\\PycharmProjects\\\\auto-test-generator\\\\dataset_repos\\\\pydriller\\\\venv\\\\Lib\\\\site-packages\\\\pip\\\\_vendor\\\\cachecontrol\\\\wrapper.py', 'C:\\\\Users\\\\Ivan\\\\PycharmProjects\\\\auto-test-generator\\\\dataset_repos\\\\pydriller\\\\venv\\\\Lib\\\\site-packages\\\\pip\\\\_vendor\\\\cachecontrol\\\\_cmd.py', 'C:\\\\Users\\\\Ivan\\\\PycharmProjects\\\\auto-test-generator\\\\dataset_repos\\\\pydriller\\\\venv\\\\Lib\\\\site-packages\\\\pip\\\\_vendor\\\\cachecontrol\\\\__init__.py', 'C:\\\\Users\\\\Ivan\\\\PycharmProjects\\\\auto-test-generator\\\\dataset_repos\\\\pydriller\\\\venv\\\\Lib\\\\site-packages\\\\pip\\\\_vendor\\\\cachecontrol\\\\caches\\\\file_cache.py', 'C:\\\\Users\\\\Ivan\\\\PycharmProjects\\\\auto-test-generator\\\\dataset_repos\\\\pydriller\\\\venv\\\\Lib\\\\site-packages\\\\pip\\\\_vendor\\\\cachecontrol\\\\caches\\\\redis_cache.py', 'C:\\\\Users\\\\Ivan\\\\PycharmProjects\\\\auto-test-generator\\\\dataset_repos\\\\pydriller\\\\venv\\\\Lib\\\\site-packages\\\\pip\\\\_vendor\\\\cachecontrol\\\\caches\\\\__init__.py', 'C:\\\\Users\\\\Ivan\\\\PycharmProjects\\\\auto-test-generator\\\\dataset_repos\\\\pydriller\\\\venv\\\\Lib\\\\site-packages\\\\pip\\\\_vendor\\\\certifi\\\\core.py', 'C:\\\\Users\\\\Ivan\\\\PycharmProjects\\\\auto-test-generator\\\\dataset_repos\\\\pydriller\\\\venv\\\\Lib\\\\site-packages\\\\pip\\\\_vendor\\\\certifi\\\\__init__.py', 'C:\\\\Users\\\\Ivan\\\\PycharmProjects\\\\auto-test-generator\\\\dataset_repos\\\\pydriller\\\\venv\\\\Lib\\\\site-packages\\\\pip\\\\_vendor\\\\certifi\\\\__main__.py', 'C:\\\\Users\\\\Ivan\\\\PycharmProjects\\\\auto-test-generator\\\\dataset_repos\\\\pydriller\\\\venv\\\\Lib\\\\site-packages\\\\pip\\\\_vendor\\\\chardet\\\\big5freq.py', 'C:\\\\Users\\\\Ivan\\\\PycharmProjects\\\\auto-test-generator\\\\dataset_repos\\\\pydriller\\\\venv\\\\Lib\\\\site-packages\\\\pip\\\\_vendor\\\\chardet\\\\big5prober.py', 'C:\\\\Users\\\\Ivan\\\\PycharmProjects\\\\auto-test-generator\\\\dataset_repos\\\\pydriller\\\\venv\\\\Lib\\\\site-packages\\\\pip\\\\_vendor\\\\chardet\\\\chardistribution.py', 'C:\\\\Users\\\\Ivan\\\\PycharmProjects\\\\auto-test-generator\\\\dataset_repos\\\\pydriller\\\\venv\\\\Lib\\\\site-packages\\\\pip\\\\_vendor\\\\chardet\\\\charsetgroupprober.py', 'C:\\\\Users\\\\Ivan\\\\PycharmProjects\\\\auto-test-generator\\\\dataset_repos\\\\pydriller\\\\venv\\\\Lib\\\\site-packages\\\\pip\\\\_vendor\\\\chardet\\\\charsetprober.py', 'C:\\\\Users\\\\Ivan\\\\PycharmProjects\\\\auto-test-generator\\\\dataset_repos\\\\pydriller\\\\venv\\\\Lib\\\\site-packages\\\\pip\\\\_vendor\\\\chardet\\\\codingstatemachine.py', 'C:\\\\Users\\\\Ivan\\\\PycharmProjects\\\\auto-test-generator\\\\dataset_repos\\\\pydriller\\\\venv\\\\Lib\\\\site-packages\\\\pip\\\\_vendor\\\\chardet\\\\compat.py', 'C:\\\\Users\\\\Ivan\\\\PycharmProjects\\\\auto-test-generator\\\\dataset_repos\\\\pydriller\\\\venv\\\\Lib\\\\site-packages\\\\pip\\\\_vendor\\\\chardet\\\\cp949prober.py', 'C:\\\\Users\\\\Ivan\\\\PycharmProjects\\\\auto-test-generator\\\\dataset_repos\\\\pydriller\\\\venv\\\\Lib\\\\site-packages\\\\pip\\\\_vendor\\\\chardet\\\\enums.py', 'C:\\\\Users\\\\Ivan\\\\PycharmProjects\\\\auto-test-generator\\\\dataset_repos\\\\pydriller\\\\venv\\\\Lib\\\\site-packages\\\\pip\\\\_vendor\\\\chardet\\\\escprober.py', 'C:\\\\Users\\\\Ivan\\\\PycharmProjects\\\\auto-test-generator\\\\dataset_repos\\\\pydriller\\\\venv\\\\Lib\\\\site-packages\\\\pip\\\\_vendor\\\\chardet\\\\escsm.py', 'C:\\\\Users\\\\Ivan\\\\PycharmProjects\\\\auto-test-generator\\\\dataset_repos\\\\pydriller\\\\venv\\\\Lib\\\\site-packages\\\\pip\\\\_vendor\\\\chardet\\\\eucjpprober.py', 'C:\\\\Users\\\\Ivan\\\\PycharmProjects\\\\auto-test-generator\\\\dataset_repos\\\\pydriller\\\\venv\\\\Lib\\\\site-packages\\\\pip\\\\_vendor\\\\chardet\\\\euckrfreq.py', 'C:\\\\Users\\\\Ivan\\\\PycharmProjects\\\\auto-test-generator\\\\dataset_repos\\\\pydriller\\\\venv\\\\Lib\\\\site-packages\\\\pip\\\\_vendor\\\\chardet\\\\euckrprober.py', 'C:\\\\Users\\\\Ivan\\\\PycharmProjects\\\\auto-test-generator\\\\dataset_repos\\\\pydriller\\\\venv\\\\Lib\\\\site-packages\\\\pip\\\\_vendor\\\\chardet\\\\euctwfreq.py', 'C:\\\\Users\\\\Ivan\\\\PycharmProjects\\\\auto-test-generator\\\\dataset_repos\\\\pydriller\\\\venv\\\\Lib\\\\site-packages\\\\pip\\\\_vendor\\\\chardet\\\\euctwprober.py', 'C:\\\\Users\\\\Ivan\\\\PycharmProjects\\\\auto-test-generator\\\\dataset_repos\\\\pydriller\\\\venv\\\\Lib\\\\site-packages\\\\pip\\\\_vendor\\\\chardet\\\\gb2312freq.py', 'C:\\\\Users\\\\Ivan\\\\PycharmProjects\\\\auto-test-generator\\\\dataset_repos\\\\pydriller\\\\venv\\\\Lib\\\\site-packages\\\\pip\\\\_vendor\\\\chardet\\\\gb2312prober.py', 'C:\\\\Users\\\\Ivan\\\\PycharmProjects\\\\auto-test-generator\\\\dataset_repos\\\\pydriller\\\\venv\\\\Lib\\\\site-packages\\\\pip\\\\_vendor\\\\chardet\\\\hebrewprober.py', 'C:\\\\Users\\\\Ivan\\\\PycharmProjects\\\\auto-test-generator\\\\dataset_repos\\\\pydriller\\\\venv\\\\Lib\\\\site-packages\\\\pip\\\\_vendor\\\\chardet\\\\jisfreq.py', 'C:\\\\Users\\\\Ivan\\\\PycharmProjects\\\\auto-test-generator\\\\dataset_repos\\\\pydriller\\\\venv\\\\Lib\\\\site-packages\\\\pip\\\\_vendor\\\\chardet\\\\jpcntx.py', 'C:\\\\Users\\\\Ivan\\\\PycharmProjects\\\\auto-test-generator\\\\dataset_repos\\\\pydriller\\\\venv\\\\Lib\\\\site-packages\\\\pip\\\\_vendor\\\\chardet\\\\langbulgarianmodel.py', 'C:\\\\Users\\\\Ivan\\\\PycharmProjects\\\\auto-test-generator\\\\dataset_repos\\\\pydriller\\\\venv\\\\Lib\\\\site-packages\\\\pip\\\\_vendor\\\\chardet\\\\langgreekmodel.py', 'C:\\\\Users\\\\Ivan\\\\PycharmProjects\\\\auto-test-generator\\\\dataset_repos\\\\pydriller\\\\venv\\\\Lib\\\\site-packages\\\\pip\\\\_vendor\\\\chardet\\\\langhebrewmodel.py', 'C:\\\\Users\\\\Ivan\\\\PycharmProjects\\\\auto-test-generator\\\\dataset_repos\\\\pydriller\\\\venv\\\\Lib\\\\site-packages\\\\pip\\\\_vendor\\\\chardet\\\\langhungarianmodel.py', 'C:\\\\Users\\\\Ivan\\\\PycharmProjects\\\\auto-test-generator\\\\dataset_repos\\\\pydriller\\\\venv\\\\Lib\\\\site-packages\\\\pip\\\\_vendor\\\\chardet\\\\langrussianmodel.py', 'C:\\\\Users\\\\Ivan\\\\PycharmProjects\\\\auto-test-generator\\\\dataset_repos\\\\pydriller\\\\venv\\\\Lib\\\\site-packages\\\\pip\\\\_vendor\\\\chardet\\\\langthaimodel.py', 'C:\\\\Users\\\\Ivan\\\\PycharmProjects\\\\auto-test-generator\\\\dataset_repos\\\\pydriller\\\\venv\\\\Lib\\\\site-packages\\\\pip\\\\_vendor\\\\chardet\\\\langturkishmodel.py', 'C:\\\\Users\\\\Ivan\\\\PycharmProjects\\\\auto-test-generator\\\\dataset_repos\\\\pydriller\\\\venv\\\\Lib\\\\site-packages\\\\pip\\\\_vendor\\\\chardet\\\\latin1prober.py', 'C:\\\\Users\\\\Ivan\\\\PycharmProjects\\\\auto-test-generator\\\\dataset_repos\\\\pydriller\\\\venv\\\\Lib\\\\site-packages\\\\pip\\\\_vendor\\\\chardet\\\\mbcharsetprober.py', 'C:\\\\Users\\\\Ivan\\\\PycharmProjects\\\\auto-test-generator\\\\dataset_repos\\\\pydriller\\\\venv\\\\Lib\\\\site-packages\\\\pip\\\\_vendor\\\\chardet\\\\mbcsgroupprober.py', 'C:\\\\Users\\\\Ivan\\\\PycharmProjects\\\\auto-test-generator\\\\dataset_repos\\\\pydriller\\\\venv\\\\Lib\\\\site-packages\\\\pip\\\\_vendor\\\\chardet\\\\mbcssm.py', 'C:\\\\Users\\\\Ivan\\\\PycharmProjects\\\\auto-test-generator\\\\dataset_repos\\\\pydriller\\\\venv\\\\Lib\\\\site-packages\\\\pip\\\\_vendor\\\\chardet\\\\sbcharsetprober.py', 'C:\\\\Users\\\\Ivan\\\\PycharmProjects\\\\auto-test-generator\\\\dataset_repos\\\\pydriller\\\\venv\\\\Lib\\\\site-packages\\\\pip\\\\_vendor\\\\chardet\\\\sbcsgroupprober.py', 'C:\\\\Users\\\\Ivan\\\\PycharmProjects\\\\auto-test-generator\\\\dataset_repos\\\\pydriller\\\\venv\\\\Lib\\\\site-packages\\\\pip\\\\_vendor\\\\chardet\\\\sjisprober.py', 'C:\\\\Users\\\\Ivan\\\\PycharmProjects\\\\auto-test-generator\\\\dataset_repos\\\\pydriller\\\\venv\\\\Lib\\\\site-packages\\\\pip\\\\_vendor\\\\chardet\\\\universaldetector.py', 'C:\\\\Users\\\\Ivan\\\\PycharmProjects\\\\auto-test-generator\\\\dataset_repos\\\\pydriller\\\\venv\\\\Lib\\\\site-packages\\\\pip\\\\_vendor\\\\chardet\\\\utf8prober.py', 'C:\\\\Users\\\\Ivan\\\\PycharmProjects\\\\auto-test-generator\\\\dataset_repos\\\\pydriller\\\\venv\\\\Lib\\\\site-packages\\\\pip\\\\_vendor\\\\chardet\\\\version.py', 'C:\\\\Users\\\\Ivan\\\\PycharmProjects\\\\auto-test-generator\\\\dataset_repos\\\\pydriller\\\\venv\\\\Lib\\\\site-packages\\\\pip\\\\_vendor\\\\chardet\\\\__init__.py', 'C:\\\\Users\\\\Ivan\\\\PycharmProjects\\\\auto-test-generator\\\\dataset_repos\\\\pydriller\\\\venv\\\\Lib\\\\site-packages\\\\pip\\\\_vendor\\\\chardet\\\\cli\\\\chardetect.py', 'C:\\\\Users\\\\Ivan\\\\PycharmProjects\\\\auto-test-generator\\\\dataset_repos\\\\pydriller\\\\venv\\\\Lib\\\\site-packages\\\\pip\\\\_vendor\\\\chardet\\\\cli\\\\__init__.py', 'C:\\\\Users\\\\Ivan\\\\PycharmProjects\\\\auto-test-generator\\\\dataset_repos\\\\pydriller\\\\venv\\\\Lib\\\\site-packages\\\\pip\\\\_vendor\\\\chardet\\\\metadata\\\\languages.py', 'C:\\\\Users\\\\Ivan\\\\PycharmProjects\\\\auto-test-generator\\\\dataset_repos\\\\pydriller\\\\venv\\\\Lib\\\\site-packages\\\\pip\\\\_vendor\\\\chardet\\\\metadata\\\\__init__.py', 'C:\\\\Users\\\\Ivan\\\\PycharmProjects\\\\auto-test-generator\\\\dataset_repos\\\\pydriller\\\\venv\\\\Lib\\\\site-packages\\\\pip\\\\_vendor\\\\colorama\\\\ansi.py', 'C:\\\\Users\\\\Ivan\\\\PycharmProjects\\\\auto-test-generator\\\\dataset_repos\\\\pydriller\\\\venv\\\\Lib\\\\site-packages\\\\pip\\\\_vendor\\\\colorama\\\\ansitowin32.py', 'C:\\\\Users\\\\Ivan\\\\PycharmProjects\\\\auto-test-generator\\\\dataset_repos\\\\pydriller\\\\venv\\\\Lib\\\\site-packages\\\\pip\\\\_vendor\\\\colorama\\\\initialise.py', 'C:\\\\Users\\\\Ivan\\\\PycharmProjects\\\\auto-test-generator\\\\dataset_repos\\\\pydriller\\\\venv\\\\Lib\\\\site-packages\\\\pip\\\\_vendor\\\\colorama\\\\win32.py', 'C:\\\\Users\\\\Ivan\\\\PycharmProjects\\\\auto-test-generator\\\\dataset_repos\\\\pydriller\\\\venv\\\\Lib\\\\site-packages\\\\pip\\\\_vendor\\\\colorama\\\\winterm.py', 'C:\\\\Users\\\\Ivan\\\\PycharmProjects\\\\auto-test-generator\\\\dataset_repos\\\\pydriller\\\\venv\\\\Lib\\\\site-packages\\\\pip\\\\_vendor\\\\colorama\\\\__init__.py', 'C:\\\\Users\\\\Ivan\\\\PycharmProjects\\\\auto-test-generator\\\\dataset_repos\\\\pydriller\\\\venv\\\\Lib\\\\site-packages\\\\pip\\\\_vendor\\\\distlib\\\\compat.py', 'C:\\\\Users\\\\Ivan\\\\PycharmProjects\\\\auto-test-generator\\\\dataset_repos\\\\pydriller\\\\venv\\\\Lib\\\\site-packages\\\\pip\\\\_vendor\\\\distlib\\\\database.py', 'C:\\\\Users\\\\Ivan\\\\PycharmProjects\\\\auto-test-generator\\\\dataset_repos\\\\pydriller\\\\venv\\\\Lib\\\\site-packages\\\\pip\\\\_vendor\\\\distlib\\\\index.py', 'C:\\\\Users\\\\Ivan\\\\PycharmProjects\\\\auto-test-generator\\\\dataset_repos\\\\pydriller\\\\venv\\\\Lib\\\\site-packages\\\\pip\\\\_vendor\\\\distlib\\\\locators.py', 'C:\\\\Users\\\\Ivan\\\\PycharmProjects\\\\auto-test-generator\\\\dataset_repos\\\\pydriller\\\\venv\\\\Lib\\\\site-packages\\\\pip\\\\_vendor\\\\distlib\\\\manifest.py', 'C:\\\\Users\\\\Ivan\\\\PycharmProjects\\\\auto-test-generator\\\\dataset_repos\\\\pydriller\\\\venv\\\\Lib\\\\site-packages\\\\pip\\\\_vendor\\\\distlib\\\\markers.py', 'C:\\\\Users\\\\Ivan\\\\PycharmProjects\\\\auto-test-generator\\\\dataset_repos\\\\pydriller\\\\venv\\\\Lib\\\\site-packages\\\\pip\\\\_vendor\\\\distlib\\\\metadata.py', 'C:\\\\Users\\\\Ivan\\\\PycharmProjects\\\\auto-test-generator\\\\dataset_repos\\\\pydriller\\\\venv\\\\Lib\\\\site-packages\\\\pip\\\\_vendor\\\\distlib\\\\resources.py', 'C:\\\\Users\\\\Ivan\\\\PycharmProjects\\\\auto-test-generator\\\\dataset_repos\\\\pydriller\\\\venv\\\\Lib\\\\site-packages\\\\pip\\\\_vendor\\\\distlib\\\\scripts.py', 'C:\\\\Users\\\\Ivan\\\\PycharmProjects\\\\auto-test-generator\\\\dataset_repos\\\\pydriller\\\\venv\\\\Lib\\\\site-packages\\\\pip\\\\_vendor\\\\distlib\\\\util.py', 'C:\\\\Users\\\\Ivan\\\\PycharmProjects\\\\auto-test-generator\\\\dataset_repos\\\\pydriller\\\\venv\\\\Lib\\\\site-packages\\\\pip\\\\_vendor\\\\distlib\\\\version.py', 'C:\\\\Users\\\\Ivan\\\\PycharmProjects\\\\auto-test-generator\\\\dataset_repos\\\\pydriller\\\\venv\\\\Lib\\\\site-packages\\\\pip\\\\_vendor\\\\distlib\\\\wheel.py', 'C:\\\\Users\\\\Ivan\\\\PycharmProjects\\\\auto-test-generator\\\\dataset_repos\\\\pydriller\\\\venv\\\\Lib\\\\site-packages\\\\pip\\\\_vendor\\\\distlib\\\\__init__.py', 'C:\\\\Users\\\\Ivan\\\\PycharmProjects\\\\auto-test-generator\\\\dataset_repos\\\\pydriller\\\\venv\\\\Lib\\\\site-packages\\\\pip\\\\_vendor\\\\distlib\\\\_backport\\\\misc.py', 'C:\\\\Users\\\\Ivan\\\\PycharmProjects\\\\auto-test-generator\\\\dataset_repos\\\\pydriller\\\\venv\\\\Lib\\\\site-packages\\\\pip\\\\_vendor\\\\distlib\\\\_backport\\\\shutil.py', 'C:\\\\Users\\\\Ivan\\\\PycharmProjects\\\\auto-test-generator\\\\dataset_repos\\\\pydriller\\\\venv\\\\Lib\\\\site-packages\\\\pip\\\\_vendor\\\\distlib\\\\_backport\\\\sysconfig.py', 'C:\\\\Users\\\\Ivan\\\\PycharmProjects\\\\auto-test-generator\\\\dataset_repos\\\\pydriller\\\\venv\\\\Lib\\\\site-packages\\\\pip\\\\_vendor\\\\distlib\\\\_backport\\\\tarfile.py', 'C:\\\\Users\\\\Ivan\\\\PycharmProjects\\\\auto-test-generator\\\\dataset_repos\\\\pydriller\\\\venv\\\\Lib\\\\site-packages\\\\pip\\\\_vendor\\\\distlib\\\\_backport\\\\__init__.py', 'C:\\\\Users\\\\Ivan\\\\PycharmProjects\\\\auto-test-generator\\\\dataset_repos\\\\pydriller\\\\venv\\\\Lib\\\\site-packages\\\\pip\\\\_vendor\\\\html5lib\\\\constants.py', 'C:\\\\Users\\\\Ivan\\\\PycharmProjects\\\\auto-test-generator\\\\dataset_repos\\\\pydriller\\\\venv\\\\Lib\\\\site-packages\\\\pip\\\\_vendor\\\\html5lib\\\\html5parser.py', 'C:\\\\Users\\\\Ivan\\\\PycharmProjects\\\\auto-test-generator\\\\dataset_repos\\\\pydriller\\\\venv\\\\Lib\\\\site-packages\\\\pip\\\\_vendor\\\\html5lib\\\\serializer.py', 'C:\\\\Users\\\\Ivan\\\\PycharmProjects\\\\auto-test-generator\\\\dataset_repos\\\\pydriller\\\\venv\\\\Lib\\\\site-packages\\\\pip\\\\_vendor\\\\html5lib\\\\_ihatexml.py', 'C:\\\\Users\\\\Ivan\\\\PycharmProjects\\\\auto-test-generator\\\\dataset_repos\\\\pydriller\\\\venv\\\\Lib\\\\site-packages\\\\pip\\\\_vendor\\\\html5lib\\\\_inputstream.py', 'C:\\\\Users\\\\Ivan\\\\PycharmProjects\\\\auto-test-generator\\\\dataset_repos\\\\pydriller\\\\venv\\\\Lib\\\\site-packages\\\\pip\\\\_vendor\\\\html5lib\\\\_tokenizer.py', 'C:\\\\Users\\\\Ivan\\\\PycharmProjects\\\\auto-test-generator\\\\dataset_repos\\\\pydriller\\\\venv\\\\Lib\\\\site-packages\\\\pip\\\\_vendor\\\\html5lib\\\\_utils.py', 'C:\\\\Users\\\\Ivan\\\\PycharmProjects\\\\auto-test-generator\\\\dataset_repos\\\\pydriller\\\\venv\\\\Lib\\\\site-packages\\\\pip\\\\_vendor\\\\html5lib\\\\__init__.py', 'C:\\\\Users\\\\Ivan\\\\PycharmProjects\\\\auto-test-generator\\\\dataset_repos\\\\pydriller\\\\venv\\\\Lib\\\\site-packages\\\\pip\\\\_vendor\\\\html5lib\\\\filters\\\\alphabeticalattributes.py', 'C:\\\\Users\\\\Ivan\\\\PycharmProjects\\\\auto-test-generator\\\\dataset_repos\\\\pydriller\\\\venv\\\\Lib\\\\site-packages\\\\pip\\\\_vendor\\\\html5lib\\\\filters\\\\base.py', 'C:\\\\Users\\\\Ivan\\\\PycharmProjects\\\\auto-test-generator\\\\dataset_repos\\\\pydriller\\\\venv\\\\Lib\\\\site-packages\\\\pip\\\\_vendor\\\\html5lib\\\\filters\\\\inject_meta_charset.py', 'C:\\\\Users\\\\Ivan\\\\PycharmProjects\\\\auto-test-generator\\\\dataset_repos\\\\pydriller\\\\venv\\\\Lib\\\\site-packages\\\\pip\\\\_vendor\\\\html5lib\\\\filters\\\\lint.py', 'C:\\\\Users\\\\Ivan\\\\PycharmProjects\\\\auto-test-generator\\\\dataset_repos\\\\pydriller\\\\venv\\\\Lib\\\\site-packages\\\\pip\\\\_vendor\\\\html5lib\\\\filters\\\\optionaltags.py', 'C:\\\\Users\\\\Ivan\\\\PycharmProjects\\\\auto-test-generator\\\\dataset_repos\\\\pydriller\\\\venv\\\\Lib\\\\site-packages\\\\pip\\\\_vendor\\\\html5lib\\\\filters\\\\sanitizer.py', 'C:\\\\Users\\\\Ivan\\\\PycharmProjects\\\\auto-test-generator\\\\dataset_repos\\\\pydriller\\\\venv\\\\Lib\\\\site-packages\\\\pip\\\\_vendor\\\\html5lib\\\\filters\\\\whitespace.py', 'C:\\\\Users\\\\Ivan\\\\PycharmProjects\\\\auto-test-generator\\\\dataset_repos\\\\pydriller\\\\venv\\\\Lib\\\\site-packages\\\\pip\\\\_vendor\\\\html5lib\\\\filters\\\\__init__.py', 'C:\\\\Users\\\\Ivan\\\\PycharmProjects\\\\auto-test-generator\\\\dataset_repos\\\\pydriller\\\\venv\\\\Lib\\\\site-packages\\\\pip\\\\_vendor\\\\html5lib\\\\treeadapters\\\\genshi.py', 'C:\\\\Users\\\\Ivan\\\\PycharmProjects\\\\auto-test-generator\\\\dataset_repos\\\\pydriller\\\\venv\\\\Lib\\\\site-packages\\\\pip\\\\_vendor\\\\html5lib\\\\treeadapters\\\\sax.py', 'C:\\\\Users\\\\Ivan\\\\PycharmProjects\\\\auto-test-generator\\\\dataset_repos\\\\pydriller\\\\venv\\\\Lib\\\\site-packages\\\\pip\\\\_vendor\\\\html5lib\\\\treeadapters\\\\__init__.py', 'C:\\\\Users\\\\Ivan\\\\PycharmProjects\\\\auto-test-generator\\\\dataset_repos\\\\pydriller\\\\venv\\\\Lib\\\\site-packages\\\\pip\\\\_vendor\\\\html5lib\\\\treebuilders\\\\base.py', 'C:\\\\Users\\\\Ivan\\\\PycharmProjects\\\\auto-test-generator\\\\dataset_repos\\\\pydriller\\\\venv\\\\Lib\\\\site-packages\\\\pip\\\\_vendor\\\\html5lib\\\\treebuilders\\\\dom.py', 'C:\\\\Users\\\\Ivan\\\\PycharmProjects\\\\auto-test-generator\\\\dataset_repos\\\\pydriller\\\\venv\\\\Lib\\\\site-packages\\\\pip\\\\_vendor\\\\html5lib\\\\treebuilders\\\\etree.py', 'C:\\\\Users\\\\Ivan\\\\PycharmProjects\\\\auto-test-generator\\\\dataset_repos\\\\pydriller\\\\venv\\\\Lib\\\\site-packages\\\\pip\\\\_vendor\\\\html5lib\\\\treebuilders\\\\etree_lxml.py', 'C:\\\\Users\\\\Ivan\\\\PycharmProjects\\\\auto-test-generator\\\\dataset_repos\\\\pydriller\\\\venv\\\\Lib\\\\site-packages\\\\pip\\\\_vendor\\\\html5lib\\\\treebuilders\\\\__init__.py', 'C:\\\\Users\\\\Ivan\\\\PycharmProjects\\\\auto-test-generator\\\\dataset_repos\\\\pydriller\\\\venv\\\\Lib\\\\site-packages\\\\pip\\\\_vendor\\\\html5lib\\\\treewalkers\\\\base.py', 'C:\\\\Users\\\\Ivan\\\\PycharmProjects\\\\auto-test-generator\\\\dataset_repos\\\\pydriller\\\\venv\\\\Lib\\\\site-packages\\\\pip\\\\_vendor\\\\html5lib\\\\treewalkers\\\\dom.py', 'C:\\\\Users\\\\Ivan\\\\PycharmProjects\\\\auto-test-generator\\\\dataset_repos\\\\pydriller\\\\venv\\\\Lib\\\\site-packages\\\\pip\\\\_vendor\\\\html5lib\\\\treewalkers\\\\etree.py', 'C:\\\\Users\\\\Ivan\\\\PycharmProjects\\\\auto-test-generator\\\\dataset_repos\\\\pydriller\\\\venv\\\\Lib\\\\site-packages\\\\pip\\\\_vendor\\\\html5lib\\\\treewalkers\\\\etree_lxml.py', 'C:\\\\Users\\\\Ivan\\\\PycharmProjects\\\\auto-test-generator\\\\dataset_repos\\\\pydriller\\\\venv\\\\Lib\\\\site-packages\\\\pip\\\\_vendor\\\\html5lib\\\\treewalkers\\\\genshi.py', 'C:\\\\Users\\\\Ivan\\\\PycharmProjects\\\\auto-test-generator\\\\dataset_repos\\\\pydriller\\\\venv\\\\Lib\\\\site-packages\\\\pip\\\\_vendor\\\\html5lib\\\\treewalkers\\\\__init__.py', 'C:\\\\Users\\\\Ivan\\\\PycharmProjects\\\\auto-test-generator\\\\dataset_repos\\\\pydriller\\\\venv\\\\Lib\\\\site-packages\\\\pip\\\\_vendor\\\\html5lib\\\\_trie\\\\py.py', 'C:\\\\Users\\\\Ivan\\\\PycharmProjects\\\\auto-test-generator\\\\dataset_repos\\\\pydriller\\\\venv\\\\Lib\\\\site-packages\\\\pip\\\\_vendor\\\\html5lib\\\\_trie\\\\_base.py', 'C:\\\\Users\\\\Ivan\\\\PycharmProjects\\\\auto-test-generator\\\\dataset_repos\\\\pydriller\\\\venv\\\\Lib\\\\site-packages\\\\pip\\\\_vendor\\\\html5lib\\\\_trie\\\\__init__.py', 'C:\\\\Users\\\\Ivan\\\\PycharmProjects\\\\auto-test-generator\\\\dataset_repos\\\\pydriller\\\\venv\\\\Lib\\\\site-packages\\\\pip\\\\_vendor\\\\idna\\\\codec.py', 'C:\\\\Users\\\\Ivan\\\\PycharmProjects\\\\auto-test-generator\\\\dataset_repos\\\\pydriller\\\\venv\\\\Lib\\\\site-packages\\\\pip\\\\_vendor\\\\idna\\\\compat.py', 'C:\\\\Users\\\\Ivan\\\\PycharmProjects\\\\auto-test-generator\\\\dataset_repos\\\\pydriller\\\\venv\\\\Lib\\\\site-packages\\\\pip\\\\_vendor\\\\idna\\\\core.py', 'C:\\\\Users\\\\Ivan\\\\PycharmProjects\\\\auto-test-generator\\\\dataset_repos\\\\pydriller\\\\venv\\\\Lib\\\\site-packages\\\\pip\\\\_vendor\\\\idna\\\\idnadata.py', 'C:\\\\Users\\\\Ivan\\\\PycharmProjects\\\\auto-test-generator\\\\dataset_repos\\\\pydriller\\\\venv\\\\Lib\\\\site-packages\\\\pip\\\\_vendor\\\\idna\\\\intranges.py', 'C:\\\\Users\\\\Ivan\\\\PycharmProjects\\\\auto-test-generator\\\\dataset_repos\\\\pydriller\\\\venv\\\\Lib\\\\site-packages\\\\pip\\\\_vendor\\\\idna\\\\package_data.py', 'C:\\\\Users\\\\Ivan\\\\PycharmProjects\\\\auto-test-generator\\\\dataset_repos\\\\pydriller\\\\venv\\\\Lib\\\\site-packages\\\\pip\\\\_vendor\\\\idna\\\\uts46data.py', 'C:\\\\Users\\\\Ivan\\\\PycharmProjects\\\\auto-test-generator\\\\dataset_repos\\\\pydriller\\\\venv\\\\Lib\\\\site-packages\\\\pip\\\\_vendor\\\\idna\\\\__init__.py', 'C:\\\\Users\\\\Ivan\\\\PycharmProjects\\\\auto-test-generator\\\\dataset_repos\\\\pydriller\\\\venv\\\\Lib\\\\site-packages\\\\pip\\\\_vendor\\\\msgpack\\\\exceptions.py', 'C:\\\\Users\\\\Ivan\\\\PycharmProjects\\\\auto-test-generator\\\\dataset_repos\\\\pydriller\\\\venv\\\\Lib\\\\site-packages\\\\pip\\\\_vendor\\\\msgpack\\\\ext.py', 'C:\\\\Users\\\\Ivan\\\\PycharmProjects\\\\auto-test-generator\\\\dataset_repos\\\\pydriller\\\\venv\\\\Lib\\\\site-packages\\\\pip\\\\_vendor\\\\msgpack\\\\fallback.py', 'C:\\\\Users\\\\Ivan\\\\PycharmProjects\\\\auto-test-generator\\\\dataset_repos\\\\pydriller\\\\venv\\\\Lib\\\\site-packages\\\\pip\\\\_vendor\\\\msgpack\\\\_version.py', 'C:\\\\Users\\\\Ivan\\\\PycharmProjects\\\\auto-test-generator\\\\dataset_repos\\\\pydriller\\\\venv\\\\Lib\\\\site-packages\\\\pip\\\\_vendor\\\\msgpack\\\\__init__.py', 'C:\\\\Users\\\\Ivan\\\\PycharmProjects\\\\auto-test-generator\\\\dataset_repos\\\\pydriller\\\\venv\\\\Lib\\\\site-packages\\\\pip\\\\_vendor\\\\packaging\\\\markers.py', 'C:\\\\Users\\\\Ivan\\\\PycharmProjects\\\\auto-test-generator\\\\dataset_repos\\\\pydriller\\\\venv\\\\Lib\\\\site-packages\\\\pip\\\\_vendor\\\\packaging\\\\requirements.py', 'C:\\\\Users\\\\Ivan\\\\PycharmProjects\\\\auto-test-generator\\\\dataset_repos\\\\pydriller\\\\venv\\\\Lib\\\\site-packages\\\\pip\\\\_vendor\\\\packaging\\\\specifiers.py', 'C:\\\\Users\\\\Ivan\\\\PycharmProjects\\\\auto-test-generator\\\\dataset_repos\\\\pydriller\\\\venv\\\\Lib\\\\site-packages\\\\pip\\\\_vendor\\\\packaging\\\\tags.py', 'C:\\\\Users\\\\Ivan\\\\PycharmProjects\\\\auto-test-generator\\\\dataset_repos\\\\pydriller\\\\venv\\\\Lib\\\\site-packages\\\\pip\\\\_vendor\\\\packaging\\\\utils.py', 'C:\\\\Users\\\\Ivan\\\\PycharmProjects\\\\auto-test-generator\\\\dataset_repos\\\\pydriller\\\\venv\\\\Lib\\\\site-packages\\\\pip\\\\_vendor\\\\packaging\\\\version.py', 'C:\\\\Users\\\\Ivan\\\\PycharmProjects\\\\auto-test-generator\\\\dataset_repos\\\\pydriller\\\\venv\\\\Lib\\\\site-packages\\\\pip\\\\_vendor\\\\packaging\\\\_manylinux.py', 'C:\\\\Users\\\\Ivan\\\\PycharmProjects\\\\auto-test-generator\\\\dataset_repos\\\\pydriller\\\\venv\\\\Lib\\\\site-packages\\\\pip\\\\_vendor\\\\packaging\\\\_musllinux.py', 'C:\\\\Users\\\\Ivan\\\\PycharmProjects\\\\auto-test-generator\\\\dataset_repos\\\\pydriller\\\\venv\\\\Lib\\\\site-packages\\\\pip\\\\_vendor\\\\packaging\\\\_structures.py', 'C:\\\\Users\\\\Ivan\\\\PycharmProjects\\\\auto-test-generator\\\\dataset_repos\\\\pydriller\\\\venv\\\\Lib\\\\site-packages\\\\pip\\\\_vendor\\\\packaging\\\\__about__.py', 'C:\\\\Users\\\\Ivan\\\\PycharmProjects\\\\auto-test-generator\\\\dataset_repos\\\\pydriller\\\\venv\\\\Lib\\\\site-packages\\\\pip\\\\_vendor\\\\packaging\\\\__init__.py', 'C:\\\\Users\\\\Ivan\\\\PycharmProjects\\\\auto-test-generator\\\\dataset_repos\\\\pydriller\\\\venv\\\\Lib\\\\site-packages\\\\pip\\\\_vendor\\\\pep517\\\\build.py', 'C:\\\\Users\\\\Ivan\\\\PycharmProjects\\\\auto-test-generator\\\\dataset_repos\\\\pydriller\\\\venv\\\\Lib\\\\site-packages\\\\pip\\\\_vendor\\\\pep517\\\\check.py', 'C:\\\\Users\\\\Ivan\\\\PycharmProjects\\\\auto-test-generator\\\\dataset_repos\\\\pydriller\\\\venv\\\\Lib\\\\site-packages\\\\pip\\\\_vendor\\\\pep517\\\\colorlog.py', 'C:\\\\Users\\\\Ivan\\\\PycharmProjects\\\\auto-test-generator\\\\dataset_repos\\\\pydriller\\\\venv\\\\Lib\\\\site-packages\\\\pip\\\\_vendor\\\\pep517\\\\compat.py', 'C:\\\\Users\\\\Ivan\\\\PycharmProjects\\\\auto-test-generator\\\\dataset_repos\\\\pydriller\\\\venv\\\\Lib\\\\site-packages\\\\pip\\\\_vendor\\\\pep517\\\\dirtools.py', 'C:\\\\Users\\\\Ivan\\\\PycharmProjects\\\\auto-test-generator\\\\dataset_repos\\\\pydriller\\\\venv\\\\Lib\\\\site-packages\\\\pip\\\\_vendor\\\\pep517\\\\envbuild.py', 'C:\\\\Users\\\\Ivan\\\\PycharmProjects\\\\auto-test-generator\\\\dataset_repos\\\\pydriller\\\\venv\\\\Lib\\\\site-packages\\\\pip\\\\_vendor\\\\pep517\\\\meta.py', 'C:\\\\Users\\\\Ivan\\\\PycharmProjects\\\\auto-test-generator\\\\dataset_repos\\\\pydriller\\\\venv\\\\Lib\\\\site-packages\\\\pip\\\\_vendor\\\\pep517\\\\wrappers.py', 'C:\\\\Users\\\\Ivan\\\\PycharmProjects\\\\auto-test-generator\\\\dataset_repos\\\\pydriller\\\\venv\\\\Lib\\\\site-packages\\\\pip\\\\_vendor\\\\pep517\\\\__init__.py', 'C:\\\\Users\\\\Ivan\\\\PycharmProjects\\\\auto-test-generator\\\\dataset_repos\\\\pydriller\\\\venv\\\\Lib\\\\site-packages\\\\pip\\\\_vendor\\\\pep517\\\\in_process\\\\_in_process.py', 'C:\\\\Users\\\\Ivan\\\\PycharmProjects\\\\auto-test-generator\\\\dataset_repos\\\\pydriller\\\\venv\\\\Lib\\\\site-packages\\\\pip\\\\_vendor\\\\pep517\\\\in_process\\\\__init__.py', 'C:\\\\Users\\\\Ivan\\\\PycharmProjects\\\\auto-test-generator\\\\dataset_repos\\\\pydriller\\\\venv\\\\Lib\\\\site-packages\\\\pip\\\\_vendor\\\\pkg_resources\\\\py31compat.py', 'C:\\\\Users\\\\Ivan\\\\PycharmProjects\\\\auto-test-generator\\\\dataset_repos\\\\pydriller\\\\venv\\\\Lib\\\\site-packages\\\\pip\\\\_vendor\\\\pkg_resources\\\\__init__.py', 'C:\\\\Users\\\\Ivan\\\\PycharmProjects\\\\auto-test-generator\\\\dataset_repos\\\\pydriller\\\\venv\\\\Lib\\\\site-packages\\\\pip\\\\_vendor\\\\platformdirs\\\\android.py', 'C:\\\\Users\\\\Ivan\\\\PycharmProjects\\\\auto-test-generator\\\\dataset_repos\\\\pydriller\\\\venv\\\\Lib\\\\site-packages\\\\pip\\\\_vendor\\\\platformdirs\\\\api.py', 'C:\\\\Users\\\\Ivan\\\\PycharmProjects\\\\auto-test-generator\\\\dataset_repos\\\\pydriller\\\\venv\\\\Lib\\\\site-packages\\\\pip\\\\_vendor\\\\platformdirs\\\\macos.py', 'C:\\\\Users\\\\Ivan\\\\PycharmProjects\\\\auto-test-generator\\\\dataset_repos\\\\pydriller\\\\venv\\\\Lib\\\\site-packages\\\\pip\\\\_vendor\\\\platformdirs\\\\unix.py', 'C:\\\\Users\\\\Ivan\\\\PycharmProjects\\\\auto-test-generator\\\\dataset_repos\\\\pydriller\\\\venv\\\\Lib\\\\site-packages\\\\pip\\\\_vendor\\\\platformdirs\\\\version.py', 'C:\\\\Users\\\\Ivan\\\\PycharmProjects\\\\auto-test-generator\\\\dataset_repos\\\\pydriller\\\\venv\\\\Lib\\\\site-packages\\\\pip\\\\_vendor\\\\platformdirs\\\\windows.py', 'C:\\\\Users\\\\Ivan\\\\PycharmProjects\\\\auto-test-generator\\\\dataset_repos\\\\pydriller\\\\venv\\\\Lib\\\\site-packages\\\\pip\\\\_vendor\\\\platformdirs\\\\__init__.py', 'C:\\\\Users\\\\Ivan\\\\PycharmProjects\\\\auto-test-generator\\\\dataset_repos\\\\pydriller\\\\venv\\\\Lib\\\\site-packages\\\\pip\\\\_vendor\\\\platformdirs\\\\__main__.py', 'C:\\\\Users\\\\Ivan\\\\PycharmProjects\\\\auto-test-generator\\\\dataset_repos\\\\pydriller\\\\venv\\\\Lib\\\\site-packages\\\\pip\\\\_vendor\\\\progress\\\\bar.py', 'C:\\\\Users\\\\Ivan\\\\PycharmProjects\\\\auto-test-generator\\\\dataset_repos\\\\pydriller\\\\venv\\\\Lib\\\\site-packages\\\\pip\\\\_vendor\\\\progress\\\\colors.py', 'C:\\\\Users\\\\Ivan\\\\PycharmProjects\\\\auto-test-generator\\\\dataset_repos\\\\pydriller\\\\venv\\\\Lib\\\\site-packages\\\\pip\\\\_vendor\\\\progress\\\\counter.py', 'C:\\\\Users\\\\Ivan\\\\PycharmProjects\\\\auto-test-generator\\\\dataset_repos\\\\pydriller\\\\venv\\\\Lib\\\\site-packages\\\\pip\\\\_vendor\\\\progress\\\\spinner.py', 'C:\\\\Users\\\\Ivan\\\\PycharmProjects\\\\auto-test-generator\\\\dataset_repos\\\\pydriller\\\\venv\\\\Lib\\\\site-packages\\\\pip\\\\_vendor\\\\progress\\\\__init__.py', 'C:\\\\Users\\\\Ivan\\\\PycharmProjects\\\\auto-test-generator\\\\dataset_repos\\\\pydriller\\\\venv\\\\Lib\\\\site-packages\\\\pip\\\\_vendor\\\\pygments\\\\cmdline.py', 'C:\\\\Users\\\\Ivan\\\\PycharmProjects\\\\auto-test-generator\\\\dataset_repos\\\\pydriller\\\\venv\\\\Lib\\\\site-packages\\\\pip\\\\_vendor\\\\pygments\\\\console.py', 'C:\\\\Users\\\\Ivan\\\\PycharmProjects\\\\auto-test-generator\\\\dataset_repos\\\\pydriller\\\\venv\\\\Lib\\\\site-packages\\\\pip\\\\_vendor\\\\pygments\\\\filter.py', 'C:\\\\Users\\\\Ivan\\\\PycharmProjects\\\\auto-test-generator\\\\dataset_repos\\\\pydriller\\\\venv\\\\Lib\\\\site-packages\\\\pip\\\\_vendor\\\\pygments\\\\formatter.py', 'C:\\\\Users\\\\Ivan\\\\PycharmProjects\\\\auto-test-generator\\\\dataset_repos\\\\pydriller\\\\venv\\\\Lib\\\\site-packages\\\\pip\\\\_vendor\\\\pygments\\\\lexer.py', 'C:\\\\Users\\\\Ivan\\\\PycharmProjects\\\\auto-test-generator\\\\dataset_repos\\\\pydriller\\\\venv\\\\Lib\\\\site-packages\\\\pip\\\\_vendor\\\\pygments\\\\modeline.py', 'C:\\\\Users\\\\Ivan\\\\PycharmProjects\\\\auto-test-generator\\\\dataset_repos\\\\pydriller\\\\venv\\\\Lib\\\\site-packages\\\\pip\\\\_vendor\\\\pygments\\\\plugin.py', 'C:\\\\Users\\\\Ivan\\\\PycharmProjects\\\\auto-test-generator\\\\dataset_repos\\\\pydriller\\\\venv\\\\Lib\\\\site-packages\\\\pip\\\\_vendor\\\\pygments\\\\regexopt.py', 'C:\\\\Users\\\\Ivan\\\\PycharmProjects\\\\auto-test-generator\\\\dataset_repos\\\\pydriller\\\\venv\\\\Lib\\\\site-packages\\\\pip\\\\_vendor\\\\pygments\\\\scanner.py', 'C:\\\\Users\\\\Ivan\\\\PycharmProjects\\\\auto-test-generator\\\\dataset_repos\\\\pydriller\\\\venv\\\\Lib\\\\site-packages\\\\pip\\\\_vendor\\\\pygments\\\\sphinxext.py', 'C:\\\\Users\\\\Ivan\\\\PycharmProjects\\\\auto-test-generator\\\\dataset_repos\\\\pydriller\\\\venv\\\\Lib\\\\site-packages\\\\pip\\\\_vendor\\\\pygments\\\\style.py', 'C:\\\\Users\\\\Ivan\\\\PycharmProjects\\\\auto-test-generator\\\\dataset_repos\\\\pydriller\\\\venv\\\\Lib\\\\site-packages\\\\pip\\\\_vendor\\\\pygments\\\\token.py', 'C:\\\\Users\\\\Ivan\\\\PycharmProjects\\\\auto-test-generator\\\\dataset_repos\\\\pydriller\\\\venv\\\\Lib\\\\site-packages\\\\pip\\\\_vendor\\\\pygments\\\\unistring.py', 'C:\\\\Users\\\\Ivan\\\\PycharmProjects\\\\auto-test-generator\\\\dataset_repos\\\\pydriller\\\\venv\\\\Lib\\\\site-packages\\\\pip\\\\_vendor\\\\pygments\\\\util.py', 'C:\\\\Users\\\\Ivan\\\\PycharmProjects\\\\auto-test-generator\\\\dataset_repos\\\\pydriller\\\\venv\\\\Lib\\\\site-packages\\\\pip\\\\_vendor\\\\pygments\\\\__init__.py', 'C:\\\\Users\\\\Ivan\\\\PycharmProjects\\\\auto-test-generator\\\\dataset_repos\\\\pydriller\\\\venv\\\\Lib\\\\site-packages\\\\pip\\\\_vendor\\\\pygments\\\\__main__.py', 'C:\\\\Users\\\\Ivan\\\\PycharmProjects\\\\auto-test-generator\\\\dataset_repos\\\\pydriller\\\\venv\\\\Lib\\\\site-packages\\\\pip\\\\_vendor\\\\pygments\\\\filters\\\\__init__.py', 'C:\\\\Users\\\\Ivan\\\\PycharmProjects\\\\auto-test-generator\\\\dataset_repos\\\\pydriller\\\\venv\\\\Lib\\\\site-packages\\\\pip\\\\_vendor\\\\pygments\\\\formatters\\\\bbcode.py', 'C:\\\\Users\\\\Ivan\\\\PycharmProjects\\\\auto-test-generator\\\\dataset_repos\\\\pydriller\\\\venv\\\\Lib\\\\site-packages\\\\pip\\\\_vendor\\\\pygments\\\\formatters\\\\groff.py', 'C:\\\\Users\\\\Ivan\\\\PycharmProjects\\\\auto-test-generator\\\\dataset_repos\\\\pydriller\\\\venv\\\\Lib\\\\site-packages\\\\pip\\\\_vendor\\\\pygments\\\\formatters\\\\html.py', 'C:\\\\Users\\\\Ivan\\\\PycharmProjects\\\\auto-test-generator\\\\dataset_repos\\\\pydriller\\\\venv\\\\Lib\\\\site-packages\\\\pip\\\\_vendor\\\\pygments\\\\formatters\\\\img.py', 'C:\\\\Users\\\\Ivan\\\\PycharmProjects\\\\auto-test-generator\\\\dataset_repos\\\\pydriller\\\\venv\\\\Lib\\\\site-packages\\\\pip\\\\_vendor\\\\pygments\\\\formatters\\\\irc.py', 'C:\\\\Users\\\\Ivan\\\\PycharmProjects\\\\auto-test-generator\\\\dataset_repos\\\\pydriller\\\\venv\\\\Lib\\\\site-packages\\\\pip\\\\_vendor\\\\pygments\\\\formatters\\\\latex.py', 'C:\\\\Users\\\\Ivan\\\\PycharmProjects\\\\auto-test-generator\\\\dataset_repos\\\\pydriller\\\\venv\\\\Lib\\\\site-packages\\\\pip\\\\_vendor\\\\pygments\\\\formatters\\\\other.py', 'C:\\\\Users\\\\Ivan\\\\PycharmProjects\\\\auto-test-generator\\\\dataset_repos\\\\pydriller\\\\venv\\\\Lib\\\\site-packages\\\\pip\\\\_vendor\\\\pygments\\\\formatters\\\\pangomarkup.py', 'C:\\\\Users\\\\Ivan\\\\PycharmProjects\\\\auto-test-generator\\\\dataset_repos\\\\pydriller\\\\venv\\\\Lib\\\\site-packages\\\\pip\\\\_vendor\\\\pygments\\\\formatters\\\\rtf.py', 'C:\\\\Users\\\\Ivan\\\\PycharmProjects\\\\auto-test-generator\\\\dataset_repos\\\\pydriller\\\\venv\\\\Lib\\\\site-packages\\\\pip\\\\_vendor\\\\pygments\\\\formatters\\\\svg.py', 'C:\\\\Users\\\\Ivan\\\\PycharmProjects\\\\auto-test-generator\\\\dataset_repos\\\\pydriller\\\\venv\\\\Lib\\\\site-packages\\\\pip\\\\_vendor\\\\pygments\\\\formatters\\\\terminal.py', 'C:\\\\Users\\\\Ivan\\\\PycharmProjects\\\\auto-test-generator\\\\dataset_repos\\\\pydriller\\\\venv\\\\Lib\\\\site-packages\\\\pip\\\\_vendor\\\\pygments\\\\formatters\\\\terminal256.py', 'C:\\\\Users\\\\Ivan\\\\PycharmProjects\\\\auto-test-generator\\\\dataset_repos\\\\pydriller\\\\venv\\\\Lib\\\\site-packages\\\\pip\\\\_vendor\\\\pygments\\\\formatters\\\\_mapping.py', 'C:\\\\Users\\\\Ivan\\\\PycharmProjects\\\\auto-test-generator\\\\dataset_repos\\\\pydriller\\\\venv\\\\Lib\\\\site-packages\\\\pip\\\\_vendor\\\\pygments\\\\formatters\\\\__init__.py', 'C:\\\\Users\\\\Ivan\\\\PycharmProjects\\\\auto-test-generator\\\\dataset_repos\\\\pydriller\\\\venv\\\\Lib\\\\site-packages\\\\pip\\\\_vendor\\\\pygments\\\\lexers\\\\python.py', 'C:\\\\Users\\\\Ivan\\\\PycharmProjects\\\\auto-test-generator\\\\dataset_repos\\\\pydriller\\\\venv\\\\Lib\\\\site-packages\\\\pip\\\\_vendor\\\\pygments\\\\lexers\\\\_mapping.py', 'C:\\\\Users\\\\Ivan\\\\PycharmProjects\\\\auto-test-generator\\\\dataset_repos\\\\pydriller\\\\venv\\\\Lib\\\\site-packages\\\\pip\\\\_vendor\\\\pygments\\\\lexers\\\\__init__.py', 'C:\\\\Users\\\\Ivan\\\\PycharmProjects\\\\auto-test-generator\\\\dataset_repos\\\\pydriller\\\\venv\\\\Lib\\\\site-packages\\\\pip\\\\_vendor\\\\pygments\\\\styles\\\\__init__.py', 'C:\\\\Users\\\\Ivan\\\\PycharmProjects\\\\auto-test-generator\\\\dataset_repos\\\\pydriller\\\\venv\\\\Lib\\\\site-packages\\\\pip\\\\_vendor\\\\pyparsing\\\\actions.py', 'C:\\\\Users\\\\Ivan\\\\PycharmProjects\\\\auto-test-generator\\\\dataset_repos\\\\pydriller\\\\venv\\\\Lib\\\\site-packages\\\\pip\\\\_vendor\\\\pyparsing\\\\common.py', 'C:\\\\Users\\\\Ivan\\\\PycharmProjects\\\\auto-test-generator\\\\dataset_repos\\\\pydriller\\\\venv\\\\Lib\\\\site-packages\\\\pip\\\\_vendor\\\\pyparsing\\\\core.py', 'C:\\\\Users\\\\Ivan\\\\PycharmProjects\\\\auto-test-generator\\\\dataset_repos\\\\pydriller\\\\venv\\\\Lib\\\\site-packages\\\\pip\\\\_vendor\\\\pyparsing\\\\exceptions.py', 'C:\\\\Users\\\\Ivan\\\\PycharmProjects\\\\auto-test-generator\\\\dataset_repos\\\\pydriller\\\\venv\\\\Lib\\\\site-packages\\\\pip\\\\_vendor\\\\pyparsing\\\\helpers.py', 'C:\\\\Users\\\\Ivan\\\\PycharmProjects\\\\auto-test-generator\\\\dataset_repos\\\\pydriller\\\\venv\\\\Lib\\\\site-packages\\\\pip\\\\_vendor\\\\pyparsing\\\\results.py', 'C:\\\\Users\\\\Ivan\\\\PycharmProjects\\\\auto-test-generator\\\\dataset_repos\\\\pydriller\\\\venv\\\\Lib\\\\site-packages\\\\pip\\\\_vendor\\\\pyparsing\\\\testing.py', 'C:\\\\Users\\\\Ivan\\\\PycharmProjects\\\\auto-test-generator\\\\dataset_repos\\\\pydriller\\\\venv\\\\Lib\\\\site-packages\\\\pip\\\\_vendor\\\\pyparsing\\\\unicode.py', 'C:\\\\Users\\\\Ivan\\\\PycharmProjects\\\\auto-test-generator\\\\dataset_repos\\\\pydriller\\\\venv\\\\Lib\\\\site-packages\\\\pip\\\\_vendor\\\\pyparsing\\\\util.py', 'C:\\\\Users\\\\Ivan\\\\PycharmProjects\\\\auto-test-generator\\\\dataset_repos\\\\pydriller\\\\venv\\\\Lib\\\\site-packages\\\\pip\\\\_vendor\\\\pyparsing\\\\__init__.py', 'C:\\\\Users\\\\Ivan\\\\PycharmProjects\\\\auto-test-generator\\\\dataset_repos\\\\pydriller\\\\venv\\\\Lib\\\\site-packages\\\\pip\\\\_vendor\\\\pyparsing\\\\diagram\\\\__init__.py', 'C:\\\\Users\\\\Ivan\\\\PycharmProjects\\\\auto-test-generator\\\\dataset_repos\\\\pydriller\\\\venv\\\\Lib\\\\site-packages\\\\pip\\\\_vendor\\\\requests\\\\adapters.py', 'C:\\\\Users\\\\Ivan\\\\PycharmProjects\\\\auto-test-generator\\\\dataset_repos\\\\pydriller\\\\venv\\\\Lib\\\\site-packages\\\\pip\\\\_vendor\\\\requests\\\\api.py', 'C:\\\\Users\\\\Ivan\\\\PycharmProjects\\\\auto-test-generator\\\\dataset_repos\\\\pydriller\\\\venv\\\\Lib\\\\site-packages\\\\pip\\\\_vendor\\\\requests\\\\auth.py', 'C:\\\\Users\\\\Ivan\\\\PycharmProjects\\\\auto-test-generator\\\\dataset_repos\\\\pydriller\\\\venv\\\\Lib\\\\site-packages\\\\pip\\\\_vendor\\\\requests\\\\certs.py', 'C:\\\\Users\\\\Ivan\\\\PycharmProjects\\\\auto-test-generator\\\\dataset_repos\\\\pydriller\\\\venv\\\\Lib\\\\site-packages\\\\pip\\\\_vendor\\\\requests\\\\compat.py', 'C:\\\\Users\\\\Ivan\\\\PycharmProjects\\\\auto-test-generator\\\\dataset_repos\\\\pydriller\\\\venv\\\\Lib\\\\site-packages\\\\pip\\\\_vendor\\\\requests\\\\cookies.py', 'C:\\\\Users\\\\Ivan\\\\PycharmProjects\\\\auto-test-generator\\\\dataset_repos\\\\pydriller\\\\venv\\\\Lib\\\\site-packages\\\\pip\\\\_vendor\\\\requests\\\\exceptions.py', 'C:\\\\Users\\\\Ivan\\\\PycharmProjects\\\\auto-test-generator\\\\dataset_repos\\\\pydriller\\\\venv\\\\Lib\\\\site-packages\\\\pip\\\\_vendor\\\\requests\\\\help.py', 'C:\\\\Users\\\\Ivan\\\\PycharmProjects\\\\auto-test-generator\\\\dataset_repos\\\\pydriller\\\\venv\\\\Lib\\\\site-packages\\\\pip\\\\_vendor\\\\requests\\\\hooks.py', 'C:\\\\Users\\\\Ivan\\\\PycharmProjects\\\\auto-test-generator\\\\dataset_repos\\\\pydriller\\\\venv\\\\Lib\\\\site-packages\\\\pip\\\\_vendor\\\\requests\\\\models.py', 'C:\\\\Users\\\\Ivan\\\\PycharmProjects\\\\auto-test-generator\\\\dataset_repos\\\\pydriller\\\\venv\\\\Lib\\\\site-packages\\\\pip\\\\_vendor\\\\requests\\\\packages.py', 'C:\\\\Users\\\\Ivan\\\\PycharmProjects\\\\auto-test-generator\\\\dataset_repos\\\\pydriller\\\\venv\\\\Lib\\\\site-packages\\\\pip\\\\_vendor\\\\requests\\\\sessions.py', 'C:\\\\Users\\\\Ivan\\\\PycharmProjects\\\\auto-test-generator\\\\dataset_repos\\\\pydriller\\\\venv\\\\Lib\\\\site-packages\\\\pip\\\\_vendor\\\\requests\\\\status_codes.py', 'C:\\\\Users\\\\Ivan\\\\PycharmProjects\\\\auto-test-generator\\\\dataset_repos\\\\pydriller\\\\venv\\\\Lib\\\\site-packages\\\\pip\\\\_vendor\\\\requests\\\\structures.py', 'C:\\\\Users\\\\Ivan\\\\PycharmProjects\\\\auto-test-generator\\\\dataset_repos\\\\pydriller\\\\venv\\\\Lib\\\\site-packages\\\\pip\\\\_vendor\\\\requests\\\\utils.py', 'C:\\\\Users\\\\Ivan\\\\PycharmProjects\\\\auto-test-generator\\\\dataset_repos\\\\pydriller\\\\venv\\\\Lib\\\\site-packages\\\\pip\\\\_vendor\\\\requests\\\\_internal_utils.py', 'C:\\\\Users\\\\Ivan\\\\PycharmProjects\\\\auto-test-generator\\\\dataset_repos\\\\pydriller\\\\venv\\\\Lib\\\\site-packages\\\\pip\\\\_vendor\\\\requests\\\\__init__.py', 'C:\\\\Users\\\\Ivan\\\\PycharmProjects\\\\auto-test-generator\\\\dataset_repos\\\\pydriller\\\\venv\\\\Lib\\\\site-packages\\\\pip\\\\_vendor\\\\requests\\\\__version__.py', 'C:\\\\Users\\\\Ivan\\\\PycharmProjects\\\\auto-test-generator\\\\dataset_repos\\\\pydriller\\\\venv\\\\Lib\\\\site-packages\\\\pip\\\\_vendor\\\\resolvelib\\\\providers.py', 'C:\\\\Users\\\\Ivan\\\\PycharmProjects\\\\auto-test-generator\\\\dataset_repos\\\\pydriller\\\\venv\\\\Lib\\\\site-packages\\\\pip\\\\_vendor\\\\resolvelib\\\\reporters.py', 'C:\\\\Users\\\\Ivan\\\\PycharmProjects\\\\auto-test-generator\\\\dataset_repos\\\\pydriller\\\\venv\\\\Lib\\\\site-packages\\\\pip\\\\_vendor\\\\resolvelib\\\\resolvers.py', 'C:\\\\Users\\\\Ivan\\\\PycharmProjects\\\\auto-test-generator\\\\dataset_repos\\\\pydriller\\\\venv\\\\Lib\\\\site-packages\\\\pip\\\\_vendor\\\\resolvelib\\\\structs.py', 'C:\\\\Users\\\\Ivan\\\\PycharmProjects\\\\auto-test-generator\\\\dataset_repos\\\\pydriller\\\\venv\\\\Lib\\\\site-packages\\\\pip\\\\_vendor\\\\resolvelib\\\\__init__.py', 'C:\\\\Users\\\\Ivan\\\\PycharmProjects\\\\auto-test-generator\\\\dataset_repos\\\\pydriller\\\\venv\\\\Lib\\\\site-packages\\\\pip\\\\_vendor\\\\resolvelib\\\\compat\\\\collections_abc.py', 'C:\\\\Users\\\\Ivan\\\\PycharmProjects\\\\auto-test-generator\\\\dataset_repos\\\\pydriller\\\\venv\\\\Lib\\\\site-packages\\\\pip\\\\_vendor\\\\resolvelib\\\\compat\\\\__init__.py', 'C:\\\\Users\\\\Ivan\\\\PycharmProjects\\\\auto-test-generator\\\\dataset_repos\\\\pydriller\\\\venv\\\\Lib\\\\site-packages\\\\pip\\\\_vendor\\\\rich\\\\abc.py', 'C:\\\\Users\\\\Ivan\\\\PycharmProjects\\\\auto-test-generator\\\\dataset_repos\\\\pydriller\\\\venv\\\\Lib\\\\site-packages\\\\pip\\\\_vendor\\\\rich\\\\align.py', 'C:\\\\Users\\\\Ivan\\\\PycharmProjects\\\\auto-test-generator\\\\dataset_repos\\\\pydriller\\\\venv\\\\Lib\\\\site-packages\\\\pip\\\\_vendor\\\\rich\\\\ansi.py', 'C:\\\\Users\\\\Ivan\\\\PycharmProjects\\\\auto-test-generator\\\\dataset_repos\\\\pydriller\\\\venv\\\\Lib\\\\site-packages\\\\pip\\\\_vendor\\\\rich\\\\bar.py', 'C:\\\\Users\\\\Ivan\\\\PycharmProjects\\\\auto-test-generator\\\\dataset_repos\\\\pydriller\\\\venv\\\\Lib\\\\site-packages\\\\pip\\\\_vendor\\\\rich\\\\box.py', 'C:\\\\Users\\\\Ivan\\\\PycharmProjects\\\\auto-test-generator\\\\dataset_repos\\\\pydriller\\\\venv\\\\Lib\\\\site-packages\\\\pip\\\\_vendor\\\\rich\\\\cells.py', 'C:\\\\Users\\\\Ivan\\\\PycharmProjects\\\\auto-test-generator\\\\dataset_repos\\\\pydriller\\\\venv\\\\Lib\\\\site-packages\\\\pip\\\\_vendor\\\\rich\\\\color.py', 'C:\\\\Users\\\\Ivan\\\\PycharmProjects\\\\auto-test-generator\\\\dataset_repos\\\\pydriller\\\\venv\\\\Lib\\\\site-packages\\\\pip\\\\_vendor\\\\rich\\\\color_triplet.py', 'C:\\\\Users\\\\Ivan\\\\PycharmProjects\\\\auto-test-generator\\\\dataset_repos\\\\pydriller\\\\venv\\\\Lib\\\\site-packages\\\\pip\\\\_vendor\\\\rich\\\\columns.py', 'C:\\\\Users\\\\Ivan\\\\PycharmProjects\\\\auto-test-generator\\\\dataset_repos\\\\pydriller\\\\venv\\\\Lib\\\\site-packages\\\\pip\\\\_vendor\\\\rich\\\\console.py', 'C:\\\\Users\\\\Ivan\\\\PycharmProjects\\\\auto-test-generator\\\\dataset_repos\\\\pydriller\\\\venv\\\\Lib\\\\site-packages\\\\pip\\\\_vendor\\\\rich\\\\constrain.py', 'C:\\\\Users\\\\Ivan\\\\PycharmProjects\\\\auto-test-generator\\\\dataset_repos\\\\pydriller\\\\venv\\\\Lib\\\\site-packages\\\\pip\\\\_vendor\\\\rich\\\\containers.py', 'C:\\\\Users\\\\Ivan\\\\PycharmProjects\\\\auto-test-generator\\\\dataset_repos\\\\pydriller\\\\venv\\\\Lib\\\\site-packages\\\\pip\\\\_vendor\\\\rich\\\\control.py', 'C:\\\\Users\\\\Ivan\\\\PycharmProjects\\\\auto-test-generator\\\\dataset_repos\\\\pydriller\\\\venv\\\\Lib\\\\site-packages\\\\pip\\\\_vendor\\\\rich\\\\default_styles.py', 'C:\\\\Users\\\\Ivan\\\\PycharmProjects\\\\auto-test-generator\\\\dataset_repos\\\\pydriller\\\\venv\\\\Lib\\\\site-packages\\\\pip\\\\_vendor\\\\rich\\\\diagnose.py', 'C:\\\\Users\\\\Ivan\\\\PycharmProjects\\\\auto-test-generator\\\\dataset_repos\\\\pydriller\\\\venv\\\\Lib\\\\site-packages\\\\pip\\\\_vendor\\\\rich\\\\emoji.py', 'C:\\\\Users\\\\Ivan\\\\PycharmProjects\\\\auto-test-generator\\\\dataset_repos\\\\pydriller\\\\venv\\\\Lib\\\\site-packages\\\\pip\\\\_vendor\\\\rich\\\\errors.py', 'C:\\\\Users\\\\Ivan\\\\PycharmProjects\\\\auto-test-generator\\\\dataset_repos\\\\pydriller\\\\venv\\\\Lib\\\\site-packages\\\\pip\\\\_vendor\\\\rich\\\\filesize.py', 'C:\\\\Users\\\\Ivan\\\\PycharmProjects\\\\auto-test-generator\\\\dataset_repos\\\\pydriller\\\\venv\\\\Lib\\\\site-packages\\\\pip\\\\_vendor\\\\rich\\\\file_proxy.py', 'C:\\\\Users\\\\Ivan\\\\PycharmProjects\\\\auto-test-generator\\\\dataset_repos\\\\pydriller\\\\venv\\\\Lib\\\\site-packages\\\\pip\\\\_vendor\\\\rich\\\\highlighter.py', 'C:\\\\Users\\\\Ivan\\\\PycharmProjects\\\\auto-test-generator\\\\dataset_repos\\\\pydriller\\\\venv\\\\Lib\\\\site-packages\\\\pip\\\\_vendor\\\\rich\\\\json.py', 'C:\\\\Users\\\\Ivan\\\\PycharmProjects\\\\auto-test-generator\\\\dataset_repos\\\\pydriller\\\\venv\\\\Lib\\\\site-packages\\\\pip\\\\_vendor\\\\rich\\\\jupyter.py', 'C:\\\\Users\\\\Ivan\\\\PycharmProjects\\\\auto-test-generator\\\\dataset_repos\\\\pydriller\\\\venv\\\\Lib\\\\site-packages\\\\pip\\\\_vendor\\\\rich\\\\layout.py', 'C:\\\\Users\\\\Ivan\\\\PycharmProjects\\\\auto-test-generator\\\\dataset_repos\\\\pydriller\\\\venv\\\\Lib\\\\site-packages\\\\pip\\\\_vendor\\\\rich\\\\live.py', 'C:\\\\Users\\\\Ivan\\\\PycharmProjects\\\\auto-test-generator\\\\dataset_repos\\\\pydriller\\\\venv\\\\Lib\\\\site-packages\\\\pip\\\\_vendor\\\\rich\\\\live_render.py', 'C:\\\\Users\\\\Ivan\\\\PycharmProjects\\\\auto-test-generator\\\\dataset_repos\\\\pydriller\\\\venv\\\\Lib\\\\site-packages\\\\pip\\\\_vendor\\\\rich\\\\logging.py', 'C:\\\\Users\\\\Ivan\\\\PycharmProjects\\\\auto-test-generator\\\\dataset_repos\\\\pydriller\\\\venv\\\\Lib\\\\site-packages\\\\pip\\\\_vendor\\\\rich\\\\markup.py', 'C:\\\\Users\\\\Ivan\\\\PycharmProjects\\\\auto-test-generator\\\\dataset_repos\\\\pydriller\\\\venv\\\\Lib\\\\site-packages\\\\pip\\\\_vendor\\\\rich\\\\measure.py', 'C:\\\\Users\\\\Ivan\\\\PycharmProjects\\\\auto-test-generator\\\\dataset_repos\\\\pydriller\\\\venv\\\\Lib\\\\site-packages\\\\pip\\\\_vendor\\\\rich\\\\padding.py', 'C:\\\\Users\\\\Ivan\\\\PycharmProjects\\\\auto-test-generator\\\\dataset_repos\\\\pydriller\\\\venv\\\\Lib\\\\site-packages\\\\pip\\\\_vendor\\\\rich\\\\pager.py', 'C:\\\\Users\\\\Ivan\\\\PycharmProjects\\\\auto-test-generator\\\\dataset_repos\\\\pydriller\\\\venv\\\\Lib\\\\site-packages\\\\pip\\\\_vendor\\\\rich\\\\palette.py', 'C:\\\\Users\\\\Ivan\\\\PycharmProjects\\\\auto-test-generator\\\\dataset_repos\\\\pydriller\\\\venv\\\\Lib\\\\site-packages\\\\pip\\\\_vendor\\\\rich\\\\panel.py', 'C:\\\\Users\\\\Ivan\\\\PycharmProjects\\\\auto-test-generator\\\\dataset_repos\\\\pydriller\\\\venv\\\\Lib\\\\site-packages\\\\pip\\\\_vendor\\\\rich\\\\pretty.py', 'C:\\\\Users\\\\Ivan\\\\PycharmProjects\\\\auto-test-generator\\\\dataset_repos\\\\pydriller\\\\venv\\\\Lib\\\\site-packages\\\\pip\\\\_vendor\\\\rich\\\\progress.py', 'C:\\\\Users\\\\Ivan\\\\PycharmProjects\\\\auto-test-generator\\\\dataset_repos\\\\pydriller\\\\venv\\\\Lib\\\\site-packages\\\\pip\\\\_vendor\\\\rich\\\\progress_bar.py', 'C:\\\\Users\\\\Ivan\\\\PycharmProjects\\\\auto-test-generator\\\\dataset_repos\\\\pydriller\\\\venv\\\\Lib\\\\site-packages\\\\pip\\\\_vendor\\\\rich\\\\prompt.py', 'C:\\\\Users\\\\Ivan\\\\PycharmProjects\\\\auto-test-generator\\\\dataset_repos\\\\pydriller\\\\venv\\\\Lib\\\\site-packages\\\\pip\\\\_vendor\\\\rich\\\\protocol.py', 'C:\\\\Users\\\\Ivan\\\\PycharmProjects\\\\auto-test-generator\\\\dataset_repos\\\\pydriller\\\\venv\\\\Lib\\\\site-packages\\\\pip\\\\_vendor\\\\rich\\\\region.py', 'C:\\\\Users\\\\Ivan\\\\PycharmProjects\\\\auto-test-generator\\\\dataset_repos\\\\pydriller\\\\venv\\\\Lib\\\\site-packages\\\\pip\\\\_vendor\\\\rich\\\\repr.py', 'C:\\\\Users\\\\Ivan\\\\PycharmProjects\\\\auto-test-generator\\\\dataset_repos\\\\pydriller\\\\venv\\\\Lib\\\\site-packages\\\\pip\\\\_vendor\\\\rich\\\\rule.py', 'C:\\\\Users\\\\Ivan\\\\PycharmProjects\\\\auto-test-generator\\\\dataset_repos\\\\pydriller\\\\venv\\\\Lib\\\\site-packages\\\\pip\\\\_vendor\\\\rich\\\\scope.py', 'C:\\\\Users\\\\Ivan\\\\PycharmProjects\\\\auto-test-generator\\\\dataset_repos\\\\pydriller\\\\venv\\\\Lib\\\\site-packages\\\\pip\\\\_vendor\\\\rich\\\\screen.py', 'C:\\\\Users\\\\Ivan\\\\PycharmProjects\\\\auto-test-generator\\\\dataset_repos\\\\pydriller\\\\venv\\\\Lib\\\\site-packages\\\\pip\\\\_vendor\\\\rich\\\\segment.py', 'C:\\\\Users\\\\Ivan\\\\PycharmProjects\\\\auto-test-generator\\\\dataset_repos\\\\pydriller\\\\venv\\\\Lib\\\\site-packages\\\\pip\\\\_vendor\\\\rich\\\\spinner.py', 'C:\\\\Users\\\\Ivan\\\\PycharmProjects\\\\auto-test-generator\\\\dataset_repos\\\\pydriller\\\\venv\\\\Lib\\\\site-packages\\\\pip\\\\_vendor\\\\rich\\\\status.py', 'C:\\\\Users\\\\Ivan\\\\PycharmProjects\\\\auto-test-generator\\\\dataset_repos\\\\pydriller\\\\venv\\\\Lib\\\\site-packages\\\\pip\\\\_vendor\\\\rich\\\\style.py', 'C:\\\\Users\\\\Ivan\\\\PycharmProjects\\\\auto-test-generator\\\\dataset_repos\\\\pydriller\\\\venv\\\\Lib\\\\site-packages\\\\pip\\\\_vendor\\\\rich\\\\styled.py', 'C:\\\\Users\\\\Ivan\\\\PycharmProjects\\\\auto-test-generator\\\\dataset_repos\\\\pydriller\\\\venv\\\\Lib\\\\site-packages\\\\pip\\\\_vendor\\\\rich\\\\syntax.py', 'C:\\\\Users\\\\Ivan\\\\PycharmProjects\\\\auto-test-generator\\\\dataset_repos\\\\pydriller\\\\venv\\\\Lib\\\\site-packages\\\\pip\\\\_vendor\\\\rich\\\\table.py', 'C:\\\\Users\\\\Ivan\\\\PycharmProjects\\\\auto-test-generator\\\\dataset_repos\\\\pydriller\\\\venv\\\\Lib\\\\site-packages\\\\pip\\\\_vendor\\\\rich\\\\tabulate.py', 'C:\\\\Users\\\\Ivan\\\\PycharmProjects\\\\auto-test-generator\\\\dataset_repos\\\\pydriller\\\\venv\\\\Lib\\\\site-packages\\\\pip\\\\_vendor\\\\rich\\\\terminal_theme.py', 'C:\\\\Users\\\\Ivan\\\\PycharmProjects\\\\auto-test-generator\\\\dataset_repos\\\\pydriller\\\\venv\\\\Lib\\\\site-packages\\\\pip\\\\_vendor\\\\rich\\\\text.py', 'C:\\\\Users\\\\Ivan\\\\PycharmProjects\\\\auto-test-generator\\\\dataset_repos\\\\pydriller\\\\venv\\\\Lib\\\\site-packages\\\\pip\\\\_vendor\\\\rich\\\\theme.py', 'C:\\\\Users\\\\Ivan\\\\PycharmProjects\\\\auto-test-generator\\\\dataset_repos\\\\pydriller\\\\venv\\\\Lib\\\\site-packages\\\\pip\\\\_vendor\\\\rich\\\\themes.py', 'C:\\\\Users\\\\Ivan\\\\PycharmProjects\\\\auto-test-generator\\\\dataset_repos\\\\pydriller\\\\venv\\\\Lib\\\\site-packages\\\\pip\\\\_vendor\\\\rich\\\\traceback.py', 'C:\\\\Users\\\\Ivan\\\\PycharmProjects\\\\auto-test-generator\\\\dataset_repos\\\\pydriller\\\\venv\\\\Lib\\\\site-packages\\\\pip\\\\_vendor\\\\rich\\\\tree.py', 'C:\\\\Users\\\\Ivan\\\\PycharmProjects\\\\auto-test-generator\\\\dataset_repos\\\\pydriller\\\\venv\\\\Lib\\\\site-packages\\\\pip\\\\_vendor\\\\rich\\\\_cell_widths.py', 'C:\\\\Users\\\\Ivan\\\\PycharmProjects\\\\auto-test-generator\\\\dataset_repos\\\\pydriller\\\\venv\\\\Lib\\\\site-packages\\\\pip\\\\_vendor\\\\rich\\\\_emoji_codes.py', 'C:\\\\Users\\\\Ivan\\\\PycharmProjects\\\\auto-test-generator\\\\dataset_repos\\\\pydriller\\\\venv\\\\Lib\\\\site-packages\\\\pip\\\\_vendor\\\\rich\\\\_emoji_replace.py', 'C:\\\\Users\\\\Ivan\\\\PycharmProjects\\\\auto-test-generator\\\\dataset_repos\\\\pydriller\\\\venv\\\\Lib\\\\site-packages\\\\pip\\\\_vendor\\\\rich\\\\_extension.py', 'C:\\\\Users\\\\Ivan\\\\PycharmProjects\\\\auto-test-generator\\\\dataset_repos\\\\pydriller\\\\venv\\\\Lib\\\\site-packages\\\\pip\\\\_vendor\\\\rich\\\\_inspect.py', 'C:\\\\Users\\\\Ivan\\\\PycharmProjects\\\\auto-test-generator\\\\dataset_repos\\\\pydriller\\\\venv\\\\Lib\\\\site-packages\\\\pip\\\\_vendor\\\\rich\\\\_log_render.py', 'C:\\\\Users\\\\Ivan\\\\PycharmProjects\\\\auto-test-generator\\\\dataset_repos\\\\pydriller\\\\venv\\\\Lib\\\\site-packages\\\\pip\\\\_vendor\\\\rich\\\\_loop.py', 'C:\\\\Users\\\\Ivan\\\\PycharmProjects\\\\auto-test-generator\\\\dataset_repos\\\\pydriller\\\\venv\\\\Lib\\\\site-packages\\\\pip\\\\_vendor\\\\rich\\\\_lru_cache.py', 'C:\\\\Users\\\\Ivan\\\\PycharmProjects\\\\auto-test-generator\\\\dataset_repos\\\\pydriller\\\\venv\\\\Lib\\\\site-packages\\\\pip\\\\_vendor\\\\rich\\\\_palettes.py', 'C:\\\\Users\\\\Ivan\\\\PycharmProjects\\\\auto-test-generator\\\\dataset_repos\\\\pydriller\\\\venv\\\\Lib\\\\site-packages\\\\pip\\\\_vendor\\\\rich\\\\_pick.py', 'C:\\\\Users\\\\Ivan\\\\PycharmProjects\\\\auto-test-generator\\\\dataset_repos\\\\pydriller\\\\venv\\\\Lib\\\\site-packages\\\\pip\\\\_vendor\\\\rich\\\\_ratio.py', 'C:\\\\Users\\\\Ivan\\\\PycharmProjects\\\\auto-test-generator\\\\dataset_repos\\\\pydriller\\\\venv\\\\Lib\\\\site-packages\\\\pip\\\\_vendor\\\\rich\\\\_spinners.py', 'C:\\\\Users\\\\Ivan\\\\PycharmProjects\\\\auto-test-generator\\\\dataset_repos\\\\pydriller\\\\venv\\\\Lib\\\\site-packages\\\\pip\\\\_vendor\\\\rich\\\\_stack.py', 'C:\\\\Users\\\\Ivan\\\\PycharmProjects\\\\auto-test-generator\\\\dataset_repos\\\\pydriller\\\\venv\\\\Lib\\\\site-packages\\\\pip\\\\_vendor\\\\rich\\\\_timer.py', 'C:\\\\Users\\\\Ivan\\\\PycharmProjects\\\\auto-test-generator\\\\dataset_repos\\\\pydriller\\\\venv\\\\Lib\\\\site-packages\\\\pip\\\\_vendor\\\\rich\\\\_windows.py', 'C:\\\\Users\\\\Ivan\\\\PycharmProjects\\\\auto-test-generator\\\\dataset_repos\\\\pydriller\\\\venv\\\\Lib\\\\site-packages\\\\pip\\\\_vendor\\\\rich\\\\_wrap.py', 'C:\\\\Users\\\\Ivan\\\\PycharmProjects\\\\auto-test-generator\\\\dataset_repos\\\\pydriller\\\\venv\\\\Lib\\\\site-packages\\\\pip\\\\_vendor\\\\rich\\\\__init__.py', 'C:\\\\Users\\\\Ivan\\\\PycharmProjects\\\\auto-test-generator\\\\dataset_repos\\\\pydriller\\\\venv\\\\Lib\\\\site-packages\\\\pip\\\\_vendor\\\\rich\\\\__main__.py', 'C:\\\\Users\\\\Ivan\\\\PycharmProjects\\\\auto-test-generator\\\\dataset_repos\\\\pydriller\\\\venv\\\\Lib\\\\site-packages\\\\pip\\\\_vendor\\\\tenacity\\\\after.py', 'C:\\\\Users\\\\Ivan\\\\PycharmProjects\\\\auto-test-generator\\\\dataset_repos\\\\pydriller\\\\venv\\\\Lib\\\\site-packages\\\\pip\\\\_vendor\\\\tenacity\\\\before.py', 'C:\\\\Users\\\\Ivan\\\\PycharmProjects\\\\auto-test-generator\\\\dataset_repos\\\\pydriller\\\\venv\\\\Lib\\\\site-packages\\\\pip\\\\_vendor\\\\tenacity\\\\before_sleep.py', 'C:\\\\Users\\\\Ivan\\\\PycharmProjects\\\\auto-test-generator\\\\dataset_repos\\\\pydriller\\\\venv\\\\Lib\\\\site-packages\\\\pip\\\\_vendor\\\\tenacity\\\\nap.py', 'C:\\\\Users\\\\Ivan\\\\PycharmProjects\\\\auto-test-generator\\\\dataset_repos\\\\pydriller\\\\venv\\\\Lib\\\\site-packages\\\\pip\\\\_vendor\\\\tenacity\\\\retry.py', 'C:\\\\Users\\\\Ivan\\\\PycharmProjects\\\\auto-test-generator\\\\dataset_repos\\\\pydriller\\\\venv\\\\Lib\\\\site-packages\\\\pip\\\\_vendor\\\\tenacity\\\\stop.py', 'C:\\\\Users\\\\Ivan\\\\PycharmProjects\\\\auto-test-generator\\\\dataset_repos\\\\pydriller\\\\venv\\\\Lib\\\\site-packages\\\\pip\\\\_vendor\\\\tenacity\\\\tornadoweb.py', 'C:\\\\Users\\\\Ivan\\\\PycharmProjects\\\\auto-test-generator\\\\dataset_repos\\\\pydriller\\\\venv\\\\Lib\\\\site-packages\\\\pip\\\\_vendor\\\\tenacity\\\\wait.py', 'C:\\\\Users\\\\Ivan\\\\PycharmProjects\\\\auto-test-generator\\\\dataset_repos\\\\pydriller\\\\venv\\\\Lib\\\\site-packages\\\\pip\\\\_vendor\\\\tenacity\\\\_asyncio.py', 'C:\\\\Users\\\\Ivan\\\\PycharmProjects\\\\auto-test-generator\\\\dataset_repos\\\\pydriller\\\\venv\\\\Lib\\\\site-packages\\\\pip\\\\_vendor\\\\tenacity\\\\_utils.py', 'C:\\\\Users\\\\Ivan\\\\PycharmProjects\\\\auto-test-generator\\\\dataset_repos\\\\pydriller\\\\venv\\\\Lib\\\\site-packages\\\\pip\\\\_vendor\\\\tenacity\\\\__init__.py', 'C:\\\\Users\\\\Ivan\\\\PycharmProjects\\\\auto-test-generator\\\\dataset_repos\\\\pydriller\\\\venv\\\\Lib\\\\site-packages\\\\pip\\\\_vendor\\\\tomli\\\\_parser.py', 'C:\\\\Users\\\\Ivan\\\\PycharmProjects\\\\auto-test-generator\\\\dataset_repos\\\\pydriller\\\\venv\\\\Lib\\\\site-packages\\\\pip\\\\_vendor\\\\tomli\\\\_re.py', 'C:\\\\Users\\\\Ivan\\\\PycharmProjects\\\\auto-test-generator\\\\dataset_repos\\\\pydriller\\\\venv\\\\Lib\\\\site-packages\\\\pip\\\\_vendor\\\\tomli\\\\__init__.py', 'C:\\\\Users\\\\Ivan\\\\PycharmProjects\\\\auto-test-generator\\\\dataset_repos\\\\pydriller\\\\venv\\\\Lib\\\\site-packages\\\\pip\\\\_vendor\\\\urllib3\\\\connection.py', 'C:\\\\Users\\\\Ivan\\\\PycharmProjects\\\\auto-test-generator\\\\dataset_repos\\\\pydriller\\\\venv\\\\Lib\\\\site-packages\\\\pip\\\\_vendor\\\\urllib3\\\\connectionpool.py', 'C:\\\\Users\\\\Ivan\\\\PycharmProjects\\\\auto-test-generator\\\\dataset_repos\\\\pydriller\\\\venv\\\\Lib\\\\site-packages\\\\pip\\\\_vendor\\\\urllib3\\\\exceptions.py', 'C:\\\\Users\\\\Ivan\\\\PycharmProjects\\\\auto-test-generator\\\\dataset_repos\\\\pydriller\\\\venv\\\\Lib\\\\site-packages\\\\pip\\\\_vendor\\\\urllib3\\\\fields.py', 'C:\\\\Users\\\\Ivan\\\\PycharmProjects\\\\auto-test-generator\\\\dataset_repos\\\\pydriller\\\\venv\\\\Lib\\\\site-packages\\\\pip\\\\_vendor\\\\urllib3\\\\filepost.py', 'C:\\\\Users\\\\Ivan\\\\PycharmProjects\\\\auto-test-generator\\\\dataset_repos\\\\pydriller\\\\venv\\\\Lib\\\\site-packages\\\\pip\\\\_vendor\\\\urllib3\\\\poolmanager.py', 'C:\\\\Users\\\\Ivan\\\\PycharmProjects\\\\auto-test-generator\\\\dataset_repos\\\\pydriller\\\\venv\\\\Lib\\\\site-packages\\\\pip\\\\_vendor\\\\urllib3\\\\request.py', 'C:\\\\Users\\\\Ivan\\\\PycharmProjects\\\\auto-test-generator\\\\dataset_repos\\\\pydriller\\\\venv\\\\Lib\\\\site-packages\\\\pip\\\\_vendor\\\\urllib3\\\\response.py', 'C:\\\\Users\\\\Ivan\\\\PycharmProjects\\\\auto-test-generator\\\\dataset_repos\\\\pydriller\\\\venv\\\\Lib\\\\site-packages\\\\pip\\\\_vendor\\\\urllib3\\\\_collections.py', 'C:\\\\Users\\\\Ivan\\\\PycharmProjects\\\\auto-test-generator\\\\dataset_repos\\\\pydriller\\\\venv\\\\Lib\\\\site-packages\\\\pip\\\\_vendor\\\\urllib3\\\\_version.py', 'C:\\\\Users\\\\Ivan\\\\PycharmProjects\\\\auto-test-generator\\\\dataset_repos\\\\pydriller\\\\venv\\\\Lib\\\\site-packages\\\\pip\\\\_vendor\\\\urllib3\\\\__init__.py', 'C:\\\\Users\\\\Ivan\\\\PycharmProjects\\\\auto-test-generator\\\\dataset_repos\\\\pydriller\\\\venv\\\\Lib\\\\site-packages\\\\pip\\\\_vendor\\\\urllib3\\\\contrib\\\\appengine.py', 'C:\\\\Users\\\\Ivan\\\\PycharmProjects\\\\auto-test-generator\\\\dataset_repos\\\\pydriller\\\\venv\\\\Lib\\\\site-packages\\\\pip\\\\_vendor\\\\urllib3\\\\contrib\\\\ntlmpool.py', 'C:\\\\Users\\\\Ivan\\\\PycharmProjects\\\\auto-test-generator\\\\dataset_repos\\\\pydriller\\\\venv\\\\Lib\\\\site-packages\\\\pip\\\\_vendor\\\\urllib3\\\\contrib\\\\pyopenssl.py', 'C:\\\\Users\\\\Ivan\\\\PycharmProjects\\\\auto-test-generator\\\\dataset_repos\\\\pydriller\\\\venv\\\\Lib\\\\site-packages\\\\pip\\\\_vendor\\\\urllib3\\\\contrib\\\\securetransport.py', 'C:\\\\Users\\\\Ivan\\\\PycharmProjects\\\\auto-test-generator\\\\dataset_repos\\\\pydriller\\\\venv\\\\Lib\\\\site-packages\\\\pip\\\\_vendor\\\\urllib3\\\\contrib\\\\socks.py', 'C:\\\\Users\\\\Ivan\\\\PycharmProjects\\\\auto-test-generator\\\\dataset_repos\\\\pydriller\\\\venv\\\\Lib\\\\site-packages\\\\pip\\\\_vendor\\\\urllib3\\\\contrib\\\\_appengine_environ.py', 'C:\\\\Users\\\\Ivan\\\\PycharmProjects\\\\auto-test-generator\\\\dataset_repos\\\\pydriller\\\\venv\\\\Lib\\\\site-packages\\\\pip\\\\_vendor\\\\urllib3\\\\contrib\\\\__init__.py', 'C:\\\\Users\\\\Ivan\\\\PycharmProjects\\\\auto-test-generator\\\\dataset_repos\\\\pydriller\\\\venv\\\\Lib\\\\site-packages\\\\pip\\\\_vendor\\\\urllib3\\\\contrib\\\\_securetransport\\\\bindings.py', 'C:\\\\Users\\\\Ivan\\\\PycharmProjects\\\\auto-test-generator\\\\dataset_repos\\\\pydriller\\\\venv\\\\Lib\\\\site-packages\\\\pip\\\\_vendor\\\\urllib3\\\\contrib\\\\_securetransport\\\\low_level.py', 'C:\\\\Users\\\\Ivan\\\\PycharmProjects\\\\auto-test-generator\\\\dataset_repos\\\\pydriller\\\\venv\\\\Lib\\\\site-packages\\\\pip\\\\_vendor\\\\urllib3\\\\contrib\\\\_securetransport\\\\__init__.py', 'C:\\\\Users\\\\Ivan\\\\PycharmProjects\\\\auto-test-generator\\\\dataset_repos\\\\pydriller\\\\venv\\\\Lib\\\\site-packages\\\\pip\\\\_vendor\\\\urllib3\\\\packages\\\\six.py', 'C:\\\\Users\\\\Ivan\\\\PycharmProjects\\\\auto-test-generator\\\\dataset_repos\\\\pydriller\\\\venv\\\\Lib\\\\site-packages\\\\pip\\\\_vendor\\\\urllib3\\\\packages\\\\__init__.py', 'C:\\\\Users\\\\Ivan\\\\PycharmProjects\\\\auto-test-generator\\\\dataset_repos\\\\pydriller\\\\venv\\\\Lib\\\\site-packages\\\\pip\\\\_vendor\\\\urllib3\\\\packages\\\\backports\\\\makefile.py', 'C:\\\\Users\\\\Ivan\\\\PycharmProjects\\\\auto-test-generator\\\\dataset_repos\\\\pydriller\\\\venv\\\\Lib\\\\site-packages\\\\pip\\\\_vendor\\\\urllib3\\\\packages\\\\backports\\\\__init__.py', 'C:\\\\Users\\\\Ivan\\\\PycharmProjects\\\\auto-test-generator\\\\dataset_repos\\\\pydriller\\\\venv\\\\Lib\\\\site-packages\\\\pip\\\\_vendor\\\\urllib3\\\\util\\\\connection.py', 'C:\\\\Users\\\\Ivan\\\\PycharmProjects\\\\auto-test-generator\\\\dataset_repos\\\\pydriller\\\\venv\\\\Lib\\\\site-packages\\\\pip\\\\_vendor\\\\urllib3\\\\util\\\\proxy.py', 'C:\\\\Users\\\\Ivan\\\\PycharmProjects\\\\auto-test-generator\\\\dataset_repos\\\\pydriller\\\\venv\\\\Lib\\\\site-packages\\\\pip\\\\_vendor\\\\urllib3\\\\util\\\\queue.py', 'C:\\\\Users\\\\Ivan\\\\PycharmProjects\\\\auto-test-generator\\\\dataset_repos\\\\pydriller\\\\venv\\\\Lib\\\\site-packages\\\\pip\\\\_vendor\\\\urllib3\\\\util\\\\request.py', 'C:\\\\Users\\\\Ivan\\\\PycharmProjects\\\\auto-test-generator\\\\dataset_repos\\\\pydriller\\\\venv\\\\Lib\\\\site-packages\\\\pip\\\\_vendor\\\\urllib3\\\\util\\\\response.py', 'C:\\\\Users\\\\Ivan\\\\PycharmProjects\\\\auto-test-generator\\\\dataset_repos\\\\pydriller\\\\venv\\\\Lib\\\\site-packages\\\\pip\\\\_vendor\\\\urllib3\\\\util\\\\retry.py', 'C:\\\\Users\\\\Ivan\\\\PycharmProjects\\\\auto-test-generator\\\\dataset_repos\\\\pydriller\\\\venv\\\\Lib\\\\site-packages\\\\pip\\\\_vendor\\\\urllib3\\\\util\\\\ssltransport.py', 'C:\\\\Users\\\\Ivan\\\\PycharmProjects\\\\auto-test-generator\\\\dataset_repos\\\\pydriller\\\\venv\\\\Lib\\\\site-packages\\\\pip\\\\_vendor\\\\urllib3\\\\util\\\\ssl_.py', 'C:\\\\Users\\\\Ivan\\\\PycharmProjects\\\\auto-test-generator\\\\dataset_repos\\\\pydriller\\\\venv\\\\Lib\\\\site-packages\\\\pip\\\\_vendor\\\\urllib3\\\\util\\\\ssl_match_hostname.py', 'C:\\\\Users\\\\Ivan\\\\PycharmProjects\\\\auto-test-generator\\\\dataset_repos\\\\pydriller\\\\venv\\\\Lib\\\\site-packages\\\\pip\\\\_vendor\\\\urllib3\\\\util\\\\timeout.py', 'C:\\\\Users\\\\Ivan\\\\PycharmProjects\\\\auto-test-generator\\\\dataset_repos\\\\pydriller\\\\venv\\\\Lib\\\\site-packages\\\\pip\\\\_vendor\\\\urllib3\\\\util\\\\url.py', 'C:\\\\Users\\\\Ivan\\\\PycharmProjects\\\\auto-test-generator\\\\dataset_repos\\\\pydriller\\\\venv\\\\Lib\\\\site-packages\\\\pip\\\\_vendor\\\\urllib3\\\\util\\\\wait.py', 'C:\\\\Users\\\\Ivan\\\\PycharmProjects\\\\auto-test-generator\\\\dataset_repos\\\\pydriller\\\\venv\\\\Lib\\\\site-packages\\\\pip\\\\_vendor\\\\urllib3\\\\util\\\\__init__.py', 'C:\\\\Users\\\\Ivan\\\\PycharmProjects\\\\auto-test-generator\\\\dataset_repos\\\\pydriller\\\\venv\\\\Lib\\\\site-packages\\\\pip\\\\_vendor\\\\webencodings\\\\labels.py', 'C:\\\\Users\\\\Ivan\\\\PycharmProjects\\\\auto-test-generator\\\\dataset_repos\\\\pydriller\\\\venv\\\\Lib\\\\site-packages\\\\pip\\\\_vendor\\\\webencodings\\\\mklabels.py', 'C:\\\\Users\\\\Ivan\\\\PycharmProjects\\\\auto-test-generator\\\\dataset_repos\\\\pydriller\\\\venv\\\\Lib\\\\site-packages\\\\pip\\\\_vendor\\\\webencodings\\\\tests.py', 'C:\\\\Users\\\\Ivan\\\\PycharmProjects\\\\auto-test-generator\\\\dataset_repos\\\\pydriller\\\\venv\\\\Lib\\\\site-packages\\\\pip\\\\_vendor\\\\webencodings\\\\x_user_defined.py', 'C:\\\\Users\\\\Ivan\\\\PycharmProjects\\\\auto-test-generator\\\\dataset_repos\\\\pydriller\\\\venv\\\\Lib\\\\site-packages\\\\pip\\\\_vendor\\\\webencodings\\\\__init__.py', 'C:\\\\Users\\\\Ivan\\\\PycharmProjects\\\\auto-test-generator\\\\dataset_repos\\\\pydriller\\\\venv\\\\Lib\\\\site-packages\\\\pkg_resources\\\\__init__.py', 'C:\\\\Users\\\\Ivan\\\\PycharmProjects\\\\auto-test-generator\\\\dataset_repos\\\\pydriller\\\\venv\\\\Lib\\\\site-packages\\\\pkg_resources\\\\extern\\\\__init__.py', 'C:\\\\Users\\\\Ivan\\\\PycharmProjects\\\\auto-test-generator\\\\dataset_repos\\\\pydriller\\\\venv\\\\Lib\\\\site-packages\\\\pkg_resources\\\\tests\\\\data\\\\my-test-package-source\\\\setup.py', 'C:\\\\Users\\\\Ivan\\\\PycharmProjects\\\\auto-test-generator\\\\dataset_repos\\\\pydriller\\\\venv\\\\Lib\\\\site-packages\\\\pkg_resources\\\\_vendor\\\\appdirs.py', 'C:\\\\Users\\\\Ivan\\\\PycharmProjects\\\\auto-test-generator\\\\dataset_repos\\\\pydriller\\\\venv\\\\Lib\\\\site-packages\\\\pkg_resources\\\\_vendor\\\\pyparsing.py', 'C:\\\\Users\\\\Ivan\\\\PycharmProjects\\\\auto-test-generator\\\\dataset_repos\\\\pydriller\\\\venv\\\\Lib\\\\site-packages\\\\pkg_resources\\\\_vendor\\\\__init__.py', 'C:\\\\Users\\\\Ivan\\\\PycharmProjects\\\\auto-test-generator\\\\dataset_repos\\\\pydriller\\\\venv\\\\Lib\\\\site-packages\\\\pkg_resources\\\\_vendor\\\\packaging\\\\markers.py', 'C:\\\\Users\\\\Ivan\\\\PycharmProjects\\\\auto-test-generator\\\\dataset_repos\\\\pydriller\\\\venv\\\\Lib\\\\site-packages\\\\pkg_resources\\\\_vendor\\\\packaging\\\\requirements.py', 'C:\\\\Users\\\\Ivan\\\\PycharmProjects\\\\auto-test-generator\\\\dataset_repos\\\\pydriller\\\\venv\\\\Lib\\\\site-packages\\\\pkg_resources\\\\_vendor\\\\packaging\\\\specifiers.py', 'C:\\\\Users\\\\Ivan\\\\PycharmProjects\\\\auto-test-generator\\\\dataset_repos\\\\pydriller\\\\venv\\\\Lib\\\\site-packages\\\\pkg_resources\\\\_vendor\\\\packaging\\\\tags.py', 'C:\\\\Users\\\\Ivan\\\\PycharmProjects\\\\auto-test-generator\\\\dataset_repos\\\\pydriller\\\\venv\\\\Lib\\\\site-packages\\\\pkg_resources\\\\_vendor\\\\packaging\\\\utils.py', 'C:\\\\Users\\\\Ivan\\\\PycharmProjects\\\\auto-test-generator\\\\dataset_repos\\\\pydriller\\\\venv\\\\Lib\\\\site-packages\\\\pkg_resources\\\\_vendor\\\\packaging\\\\version.py', 'C:\\\\Users\\\\Ivan\\\\PycharmProjects\\\\auto-test-generator\\\\dataset_repos\\\\pydriller\\\\venv\\\\Lib\\\\site-packages\\\\pkg_resources\\\\_vendor\\\\packaging\\\\_compat.py', 'C:\\\\Users\\\\Ivan\\\\PycharmProjects\\\\auto-test-generator\\\\dataset_repos\\\\pydriller\\\\venv\\\\Lib\\\\site-packages\\\\pkg_resources\\\\_vendor\\\\packaging\\\\_structures.py', 'C:\\\\Users\\\\Ivan\\\\PycharmProjects\\\\auto-test-generator\\\\dataset_repos\\\\pydriller\\\\venv\\\\Lib\\\\site-packages\\\\pkg_resources\\\\_vendor\\\\packaging\\\\_typing.py', 'C:\\\\Users\\\\Ivan\\\\PycharmProjects\\\\auto-test-generator\\\\dataset_repos\\\\pydriller\\\\venv\\\\Lib\\\\site-packages\\\\pkg_resources\\\\_vendor\\\\packaging\\\\__about__.py', 'C:\\\\Users\\\\Ivan\\\\PycharmProjects\\\\auto-test-generator\\\\dataset_repos\\\\pydriller\\\\venv\\\\Lib\\\\site-packages\\\\pkg_resources\\\\_vendor\\\\packaging\\\\__init__.py', 'C:\\\\Users\\\\Ivan\\\\PycharmProjects\\\\auto-test-generator\\\\dataset_repos\\\\pydriller\\\\venv\\\\Lib\\\\site-packages\\\\pluggy\\\\_callers.py', 'C:\\\\Users\\\\Ivan\\\\PycharmProjects\\\\auto-test-generator\\\\dataset_repos\\\\pydriller\\\\venv\\\\Lib\\\\site-packages\\\\pluggy\\\\_hooks.py', 'C:\\\\Users\\\\Ivan\\\\PycharmProjects\\\\auto-test-generator\\\\dataset_repos\\\\pydriller\\\\venv\\\\Lib\\\\site-packages\\\\pluggy\\\\_manager.py', 'C:\\\\Users\\\\Ivan\\\\PycharmProjects\\\\auto-test-generator\\\\dataset_repos\\\\pydriller\\\\venv\\\\Lib\\\\site-packages\\\\pluggy\\\\_result.py', 'C:\\\\Users\\\\Ivan\\\\PycharmProjects\\\\auto-test-generator\\\\dataset_repos\\\\pydriller\\\\venv\\\\Lib\\\\site-packages\\\\pluggy\\\\_tracing.py', 'C:\\\\Users\\\\Ivan\\\\PycharmProjects\\\\auto-test-generator\\\\dataset_repos\\\\pydriller\\\\venv\\\\Lib\\\\site-packages\\\\pluggy\\\\_version.py', 'C:\\\\Users\\\\Ivan\\\\PycharmProjects\\\\auto-test-generator\\\\dataset_repos\\\\pydriller\\\\venv\\\\Lib\\\\site-packages\\\\pluggy\\\\__init__.py', 'C:\\\\Users\\\\Ivan\\\\PycharmProjects\\\\auto-test-generator\\\\dataset_repos\\\\pydriller\\\\venv\\\\Lib\\\\site-packages\\\\psutil\\\\_common.py', 'C:\\\\Users\\\\Ivan\\\\PycharmProjects\\\\auto-test-generator\\\\dataset_repos\\\\pydriller\\\\venv\\\\Lib\\\\site-packages\\\\psutil\\\\_compat.py', 'C:\\\\Users\\\\Ivan\\\\PycharmProjects\\\\auto-test-generator\\\\dataset_repos\\\\pydriller\\\\venv\\\\Lib\\\\site-packages\\\\psutil\\\\_psaix.py', 'C:\\\\Users\\\\Ivan\\\\PycharmProjects\\\\auto-test-generator\\\\dataset_repos\\\\pydriller\\\\venv\\\\Lib\\\\site-packages\\\\psutil\\\\_psbsd.py', 'C:\\\\Users\\\\Ivan\\\\PycharmProjects\\\\auto-test-generator\\\\dataset_repos\\\\pydriller\\\\venv\\\\Lib\\\\site-packages\\\\psutil\\\\_pslinux.py', 'C:\\\\Users\\\\Ivan\\\\PycharmProjects\\\\auto-test-generator\\\\dataset_repos\\\\pydriller\\\\venv\\\\Lib\\\\site-packages\\\\psutil\\\\_psosx.py', 'C:\\\\Users\\\\Ivan\\\\PycharmProjects\\\\auto-test-generator\\\\dataset_repos\\\\pydriller\\\\venv\\\\Lib\\\\site-packages\\\\psutil\\\\_psposix.py', 'C:\\\\Users\\\\Ivan\\\\PycharmProjects\\\\auto-test-generator\\\\dataset_repos\\\\pydriller\\\\venv\\\\Lib\\\\site-packages\\\\psutil\\\\_pssunos.py', 'C:\\\\Users\\\\Ivan\\\\PycharmProjects\\\\auto-test-generator\\\\dataset_repos\\\\pydriller\\\\venv\\\\Lib\\\\site-packages\\\\psutil\\\\_pswindows.py', 'C:\\\\Users\\\\Ivan\\\\PycharmProjects\\\\auto-test-generator\\\\dataset_repos\\\\pydriller\\\\venv\\\\Lib\\\\site-packages\\\\psutil\\\\__init__.py', 'C:\\\\Users\\\\Ivan\\\\PycharmProjects\\\\auto-test-generator\\\\dataset_repos\\\\pydriller\\\\venv\\\\Lib\\\\site-packages\\\\psutil\\\\tests\\\\runner.py', 'C:\\\\Users\\\\Ivan\\\\PycharmProjects\\\\auto-test-generator\\\\dataset_repos\\\\pydriller\\\\venv\\\\Lib\\\\site-packages\\\\psutil\\\\tests\\\\test_aix.py', 'C:\\\\Users\\\\Ivan\\\\PycharmProjects\\\\auto-test-generator\\\\dataset_repos\\\\pydriller\\\\venv\\\\Lib\\\\site-packages\\\\psutil\\\\tests\\\\test_bsd.py', 'C:\\\\Users\\\\Ivan\\\\PycharmProjects\\\\auto-test-generator\\\\dataset_repos\\\\pydriller\\\\venv\\\\Lib\\\\site-packages\\\\psutil\\\\tests\\\\test_connections.py', 'C:\\\\Users\\\\Ivan\\\\PycharmProjects\\\\auto-test-generator\\\\dataset_repos\\\\pydriller\\\\venv\\\\Lib\\\\site-packages\\\\psutil\\\\tests\\\\test_contracts.py', 'C:\\\\Users\\\\Ivan\\\\PycharmProjects\\\\auto-test-generator\\\\dataset_repos\\\\pydriller\\\\venv\\\\Lib\\\\site-packages\\\\psutil\\\\tests\\\\test_linux.py', 'C:\\\\Users\\\\Ivan\\\\PycharmProjects\\\\auto-test-generator\\\\dataset_repos\\\\pydriller\\\\venv\\\\Lib\\\\site-packages\\\\psutil\\\\tests\\\\test_memleaks.py', 'C:\\\\Users\\\\Ivan\\\\PycharmProjects\\\\auto-test-generator\\\\dataset_repos\\\\pydriller\\\\venv\\\\Lib\\\\site-packages\\\\psutil\\\\tests\\\\test_misc.py', 'C:\\\\Users\\\\Ivan\\\\PycharmProjects\\\\auto-test-generator\\\\dataset_repos\\\\pydriller\\\\venv\\\\Lib\\\\site-packages\\\\psutil\\\\tests\\\\test_osx.py', 'C:\\\\Users\\\\Ivan\\\\PycharmProjects\\\\auto-test-generator\\\\dataset_repos\\\\pydriller\\\\venv\\\\Lib\\\\site-packages\\\\psutil\\\\tests\\\\test_posix.py', 'C:\\\\Users\\\\Ivan\\\\PycharmProjects\\\\auto-test-generator\\\\dataset_repos\\\\pydriller\\\\venv\\\\Lib\\\\site-packages\\\\psutil\\\\tests\\\\test_process.py', 'C:\\\\Users\\\\Ivan\\\\PycharmProjects\\\\auto-test-generator\\\\dataset_repos\\\\pydriller\\\\venv\\\\Lib\\\\site-packages\\\\psutil\\\\tests\\\\test_sunos.py', 'C:\\\\Users\\\\Ivan\\\\PycharmProjects\\\\auto-test-generator\\\\dataset_repos\\\\pydriller\\\\venv\\\\Lib\\\\site-packages\\\\psutil\\\\tests\\\\test_system.py', 'C:\\\\Users\\\\Ivan\\\\PycharmProjects\\\\auto-test-generator\\\\dataset_repos\\\\pydriller\\\\venv\\\\Lib\\\\site-packages\\\\psutil\\\\tests\\\\test_testutils.py', 'C:\\\\Users\\\\Ivan\\\\PycharmProjects\\\\auto-test-generator\\\\dataset_repos\\\\pydriller\\\\venv\\\\Lib\\\\site-packages\\\\psutil\\\\tests\\\\test_unicode.py', 'C:\\\\Users\\\\Ivan\\\\PycharmProjects\\\\auto-test-generator\\\\dataset_repos\\\\pydriller\\\\venv\\\\Lib\\\\site-packages\\\\psutil\\\\tests\\\\test_windows.py', 'C:\\\\Users\\\\Ivan\\\\PycharmProjects\\\\auto-test-generator\\\\dataset_repos\\\\pydriller\\\\venv\\\\Lib\\\\site-packages\\\\psutil\\\\tests\\\\__init__.py', 'C:\\\\Users\\\\Ivan\\\\PycharmProjects\\\\auto-test-generator\\\\dataset_repos\\\\pydriller\\\\venv\\\\Lib\\\\site-packages\\\\psutil\\\\tests\\\\__main__.py', 'C:\\\\Users\\\\Ivan\\\\PycharmProjects\\\\auto-test-generator\\\\dataset_repos\\\\pydriller\\\\venv\\\\Lib\\\\site-packages\\\\py\\\\test.py', 'C:\\\\Users\\\\Ivan\\\\PycharmProjects\\\\auto-test-generator\\\\dataset_repos\\\\pydriller\\\\venv\\\\Lib\\\\site-packages\\\\py\\\\_builtin.py', 'C:\\\\Users\\\\Ivan\\\\PycharmProjects\\\\auto-test-generator\\\\dataset_repos\\\\pydriller\\\\venv\\\\Lib\\\\site-packages\\\\py\\\\_error.py', 'C:\\\\Users\\\\Ivan\\\\PycharmProjects\\\\auto-test-generator\\\\dataset_repos\\\\pydriller\\\\venv\\\\Lib\\\\site-packages\\\\py\\\\_std.py', 'C:\\\\Users\\\\Ivan\\\\PycharmProjects\\\\auto-test-generator\\\\dataset_repos\\\\pydriller\\\\venv\\\\Lib\\\\site-packages\\\\py\\\\_version.py', 'C:\\\\Users\\\\Ivan\\\\PycharmProjects\\\\auto-test-generator\\\\dataset_repos\\\\pydriller\\\\venv\\\\Lib\\\\site-packages\\\\py\\\\_xmlgen.py', 'C:\\\\Users\\\\Ivan\\\\PycharmProjects\\\\auto-test-generator\\\\dataset_repos\\\\pydriller\\\\venv\\\\Lib\\\\site-packages\\\\py\\\\__init__.py', 'C:\\\\Users\\\\Ivan\\\\PycharmProjects\\\\auto-test-generator\\\\dataset_repos\\\\pydriller\\\\venv\\\\Lib\\\\site-packages\\\\py\\\\__metainfo.py', 'C:\\\\Users\\\\Ivan\\\\PycharmProjects\\\\auto-test-generator\\\\dataset_repos\\\\pydriller\\\\venv\\\\Lib\\\\site-packages\\\\py\\\\_code\\\\assertion.py', 'C:\\\\Users\\\\Ivan\\\\PycharmProjects\\\\auto-test-generator\\\\dataset_repos\\\\pydriller\\\\venv\\\\Lib\\\\site-packages\\\\py\\\\_code\\\\code.py', 'C:\\\\Users\\\\Ivan\\\\PycharmProjects\\\\auto-test-generator\\\\dataset_repos\\\\pydriller\\\\venv\\\\Lib\\\\site-packages\\\\py\\\\_code\\\\source.py', 'C:\\\\Users\\\\Ivan\\\\PycharmProjects\\\\auto-test-generator\\\\dataset_repos\\\\pydriller\\\\venv\\\\Lib\\\\site-packages\\\\py\\\\_code\\\\_assertionnew.py', 'C:\\\\Users\\\\Ivan\\\\PycharmProjects\\\\auto-test-generator\\\\dataset_repos\\\\pydriller\\\\venv\\\\Lib\\\\site-packages\\\\py\\\\_code\\\\_assertionold.py', 'C:\\\\Users\\\\Ivan\\\\PycharmProjects\\\\auto-test-generator\\\\dataset_repos\\\\pydriller\\\\venv\\\\Lib\\\\site-packages\\\\py\\\\_code\\\\_py2traceback.py', 'C:\\\\Users\\\\Ivan\\\\PycharmProjects\\\\auto-test-generator\\\\dataset_repos\\\\pydriller\\\\venv\\\\Lib\\\\site-packages\\\\py\\\\_code\\\\__init__.py', 'C:\\\\Users\\\\Ivan\\\\PycharmProjects\\\\auto-test-generator\\\\dataset_repos\\\\pydriller\\\\venv\\\\Lib\\\\site-packages\\\\py\\\\_io\\\\capture.py', 'C:\\\\Users\\\\Ivan\\\\PycharmProjects\\\\auto-test-generator\\\\dataset_repos\\\\pydriller\\\\venv\\\\Lib\\\\site-packages\\\\py\\\\_io\\\\saferepr.py', 'C:\\\\Users\\\\Ivan\\\\PycharmProjects\\\\auto-test-generator\\\\dataset_repos\\\\pydriller\\\\venv\\\\Lib\\\\site-packages\\\\py\\\\_io\\\\terminalwriter.py', 'C:\\\\Users\\\\Ivan\\\\PycharmProjects\\\\auto-test-generator\\\\dataset_repos\\\\pydriller\\\\venv\\\\Lib\\\\site-packages\\\\py\\\\_io\\\\__init__.py', 'C:\\\\Users\\\\Ivan\\\\PycharmProjects\\\\auto-test-generator\\\\dataset_repos\\\\pydriller\\\\venv\\\\Lib\\\\site-packages\\\\py\\\\_log\\\\log.py', 'C:\\\\Users\\\\Ivan\\\\PycharmProjects\\\\auto-test-generator\\\\dataset_repos\\\\pydriller\\\\venv\\\\Lib\\\\site-packages\\\\py\\\\_log\\\\warning.py', 'C:\\\\Users\\\\Ivan\\\\PycharmProjects\\\\auto-test-generator\\\\dataset_repos\\\\pydriller\\\\venv\\\\Lib\\\\site-packages\\\\py\\\\_log\\\\__init__.py', 'C:\\\\Users\\\\Ivan\\\\PycharmProjects\\\\auto-test-generator\\\\dataset_repos\\\\pydriller\\\\venv\\\\Lib\\\\site-packages\\\\py\\\\_path\\\\cacheutil.py', 'C:\\\\Users\\\\Ivan\\\\PycharmProjects\\\\auto-test-generator\\\\dataset_repos\\\\pydriller\\\\venv\\\\Lib\\\\site-packages\\\\py\\\\_path\\\\common.py', 'C:\\\\Users\\\\Ivan\\\\PycharmProjects\\\\auto-test-generator\\\\dataset_repos\\\\pydriller\\\\venv\\\\Lib\\\\site-packages\\\\py\\\\_path\\\\local.py', 'C:\\\\Users\\\\Ivan\\\\PycharmProjects\\\\auto-test-generator\\\\dataset_repos\\\\pydriller\\\\venv\\\\Lib\\\\site-packages\\\\py\\\\_path\\\\svnurl.py', 'C:\\\\Users\\\\Ivan\\\\PycharmProjects\\\\auto-test-generator\\\\dataset_repos\\\\pydriller\\\\venv\\\\Lib\\\\site-packages\\\\py\\\\_path\\\\svnwc.py', 'C:\\\\Users\\\\Ivan\\\\PycharmProjects\\\\auto-test-generator\\\\dataset_repos\\\\pydriller\\\\venv\\\\Lib\\\\site-packages\\\\py\\\\_path\\\\__init__.py', 'C:\\\\Users\\\\Ivan\\\\PycharmProjects\\\\auto-test-generator\\\\dataset_repos\\\\pydriller\\\\venv\\\\Lib\\\\site-packages\\\\py\\\\_process\\\\cmdexec.py', 'C:\\\\Users\\\\Ivan\\\\PycharmProjects\\\\auto-test-generator\\\\dataset_repos\\\\pydriller\\\\venv\\\\Lib\\\\site-packages\\\\py\\\\_process\\\\forkedfunc.py', 'C:\\\\Users\\\\Ivan\\\\PycharmProjects\\\\auto-test-generator\\\\dataset_repos\\\\pydriller\\\\venv\\\\Lib\\\\site-packages\\\\py\\\\_process\\\\killproc.py', 'C:\\\\Users\\\\Ivan\\\\PycharmProjects\\\\auto-test-generator\\\\dataset_repos\\\\pydriller\\\\venv\\\\Lib\\\\site-packages\\\\py\\\\_process\\\\__init__.py', 'C:\\\\Users\\\\Ivan\\\\PycharmProjects\\\\auto-test-generator\\\\dataset_repos\\\\pydriller\\\\venv\\\\Lib\\\\site-packages\\\\py\\\\_vendored_packages\\\\__init__.py', 'C:\\\\Users\\\\Ivan\\\\PycharmProjects\\\\auto-test-generator\\\\dataset_repos\\\\pydriller\\\\venv\\\\Lib\\\\site-packages\\\\py\\\\_vendored_packages\\\\apipkg\\\\version.py', 'C:\\\\Users\\\\Ivan\\\\PycharmProjects\\\\auto-test-generator\\\\dataset_repos\\\\pydriller\\\\venv\\\\Lib\\\\site-packages\\\\py\\\\_vendored_packages\\\\apipkg\\\\__init__.py', 'C:\\\\Users\\\\Ivan\\\\PycharmProjects\\\\auto-test-generator\\\\dataset_repos\\\\pydriller\\\\venv\\\\Lib\\\\site-packages\\\\py\\\\_vendored_packages\\\\iniconfig\\\\__init__.py', 'C:\\\\Users\\\\Ivan\\\\PycharmProjects\\\\auto-test-generator\\\\dataset_repos\\\\pydriller\\\\venv\\\\Lib\\\\site-packages\\\\pyparsing\\\\actions.py', 'C:\\\\Users\\\\Ivan\\\\PycharmProjects\\\\auto-test-generator\\\\dataset_repos\\\\pydriller\\\\venv\\\\Lib\\\\site-packages\\\\pyparsing\\\\common.py', 'C:\\\\Users\\\\Ivan\\\\PycharmProjects\\\\auto-test-generator\\\\dataset_repos\\\\pydriller\\\\venv\\\\Lib\\\\site-packages\\\\pyparsing\\\\core.py', 'C:\\\\Users\\\\Ivan\\\\PycharmProjects\\\\auto-test-generator\\\\dataset_repos\\\\pydriller\\\\venv\\\\Lib\\\\site-packages\\\\pyparsing\\\\exceptions.py', 'C:\\\\Users\\\\Ivan\\\\PycharmProjects\\\\auto-test-generator\\\\dataset_repos\\\\pydriller\\\\venv\\\\Lib\\\\site-packages\\\\pyparsing\\\\helpers.py', 'C:\\\\Users\\\\Ivan\\\\PycharmProjects\\\\auto-test-generator\\\\dataset_repos\\\\pydriller\\\\venv\\\\Lib\\\\site-packages\\\\pyparsing\\\\results.py', 'C:\\\\Users\\\\Ivan\\\\PycharmProjects\\\\auto-test-generator\\\\dataset_repos\\\\pydriller\\\\venv\\\\Lib\\\\site-packages\\\\pyparsing\\\\testing.py', 'C:\\\\Users\\\\Ivan\\\\PycharmProjects\\\\auto-test-generator\\\\dataset_repos\\\\pydriller\\\\venv\\\\Lib\\\\site-packages\\\\pyparsing\\\\unicode.py', 'C:\\\\Users\\\\Ivan\\\\PycharmProjects\\\\auto-test-generator\\\\dataset_repos\\\\pydriller\\\\venv\\\\Lib\\\\site-packages\\\\pyparsing\\\\util.py', 'C:\\\\Users\\\\Ivan\\\\PycharmProjects\\\\auto-test-generator\\\\dataset_repos\\\\pydriller\\\\venv\\\\Lib\\\\site-packages\\\\pyparsing\\\\__init__.py', 'C:\\\\Users\\\\Ivan\\\\PycharmProjects\\\\auto-test-generator\\\\dataset_repos\\\\pydriller\\\\venv\\\\Lib\\\\site-packages\\\\pyparsing\\\\diagram\\\\__init__.py', 'C:\\\\Users\\\\Ivan\\\\PycharmProjects\\\\auto-test-generator\\\\dataset_repos\\\\pydriller\\\\venv\\\\Lib\\\\site-packages\\\\pytest\\\\__init__.py', 'C:\\\\Users\\\\Ivan\\\\PycharmProjects\\\\auto-test-generator\\\\dataset_repos\\\\pydriller\\\\venv\\\\Lib\\\\site-packages\\\\pytest\\\\__main__.py', 'C:\\\\Users\\\\Ivan\\\\PycharmProjects\\\\auto-test-generator\\\\dataset_repos\\\\pydriller\\\\venv\\\\Lib\\\\site-packages\\\\pytz\\\\exceptions.py', 'C:\\\\Users\\\\Ivan\\\\PycharmProjects\\\\auto-test-generator\\\\dataset_repos\\\\pydriller\\\\venv\\\\Lib\\\\site-packages\\\\pytz\\\\lazy.py', 'C:\\\\Users\\\\Ivan\\\\PycharmProjects\\\\auto-test-generator\\\\dataset_repos\\\\pydriller\\\\venv\\\\Lib\\\\site-packages\\\\pytz\\\\reference.py', 'C:\\\\Users\\\\Ivan\\\\PycharmProjects\\\\auto-test-generator\\\\dataset_repos\\\\pydriller\\\\venv\\\\Lib\\\\site-packages\\\\pytz\\\\tzfile.py', 'C:\\\\Users\\\\Ivan\\\\PycharmProjects\\\\auto-test-generator\\\\dataset_repos\\\\pydriller\\\\venv\\\\Lib\\\\site-packages\\\\pytz\\\\tzinfo.py', 'C:\\\\Users\\\\Ivan\\\\PycharmProjects\\\\auto-test-generator\\\\dataset_repos\\\\pydriller\\\\venv\\\\Lib\\\\site-packages\\\\pytz\\\\__init__.py', 'C:\\\\Users\\\\Ivan\\\\PycharmProjects\\\\auto-test-generator\\\\dataset_repos\\\\pydriller\\\\venv\\\\Lib\\\\site-packages\\\\requests\\\\adapters.py', 'C:\\\\Users\\\\Ivan\\\\PycharmProjects\\\\auto-test-generator\\\\dataset_repos\\\\pydriller\\\\venv\\\\Lib\\\\site-packages\\\\requests\\\\api.py', 'C:\\\\Users\\\\Ivan\\\\PycharmProjects\\\\auto-test-generator\\\\dataset_repos\\\\pydriller\\\\venv\\\\Lib\\\\site-packages\\\\requests\\\\auth.py', 'C:\\\\Users\\\\Ivan\\\\PycharmProjects\\\\auto-test-generator\\\\dataset_repos\\\\pydriller\\\\venv\\\\Lib\\\\site-packages\\\\requests\\\\certs.py', 'C:\\\\Users\\\\Ivan\\\\PycharmProjects\\\\auto-test-generator\\\\dataset_repos\\\\pydriller\\\\venv\\\\Lib\\\\site-packages\\\\requests\\\\compat.py', 'C:\\\\Users\\\\Ivan\\\\PycharmProjects\\\\auto-test-generator\\\\dataset_repos\\\\pydriller\\\\venv\\\\Lib\\\\site-packages\\\\requests\\\\cookies.py', 'C:\\\\Users\\\\Ivan\\\\PycharmProjects\\\\auto-test-generator\\\\dataset_repos\\\\pydriller\\\\venv\\\\Lib\\\\site-packages\\\\requests\\\\exceptions.py', 'C:\\\\Users\\\\Ivan\\\\PycharmProjects\\\\auto-test-generator\\\\dataset_repos\\\\pydriller\\\\venv\\\\Lib\\\\site-packages\\\\requests\\\\help.py', 'C:\\\\Users\\\\Ivan\\\\PycharmProjects\\\\auto-test-generator\\\\dataset_repos\\\\pydriller\\\\venv\\\\Lib\\\\site-packages\\\\requests\\\\hooks.py', 'C:\\\\Users\\\\Ivan\\\\PycharmProjects\\\\auto-test-generator\\\\dataset_repos\\\\pydriller\\\\venv\\\\Lib\\\\site-packages\\\\requests\\\\models.py', 'C:\\\\Users\\\\Ivan\\\\PycharmProjects\\\\auto-test-generator\\\\dataset_repos\\\\pydriller\\\\venv\\\\Lib\\\\site-packages\\\\requests\\\\packages.py', 'C:\\\\Users\\\\Ivan\\\\PycharmProjects\\\\auto-test-generator\\\\dataset_repos\\\\pydriller\\\\venv\\\\Lib\\\\site-packages\\\\requests\\\\sessions.py', 'C:\\\\Users\\\\Ivan\\\\PycharmProjects\\\\auto-test-generator\\\\dataset_repos\\\\pydriller\\\\venv\\\\Lib\\\\site-packages\\\\requests\\\\status_codes.py', 'C:\\\\Users\\\\Ivan\\\\PycharmProjects\\\\auto-test-generator\\\\dataset_repos\\\\pydriller\\\\venv\\\\Lib\\\\site-packages\\\\requests\\\\structures.py', 'C:\\\\Users\\\\Ivan\\\\PycharmProjects\\\\auto-test-generator\\\\dataset_repos\\\\pydriller\\\\venv\\\\Lib\\\\site-packages\\\\requests\\\\utils.py', 'C:\\\\Users\\\\Ivan\\\\PycharmProjects\\\\auto-test-generator\\\\dataset_repos\\\\pydriller\\\\venv\\\\Lib\\\\site-packages\\\\requests\\\\_internal_utils.py', 'C:\\\\Users\\\\Ivan\\\\PycharmProjects\\\\auto-test-generator\\\\dataset_repos\\\\pydriller\\\\venv\\\\Lib\\\\site-packages\\\\requests\\\\__init__.py', 'C:\\\\Users\\\\Ivan\\\\PycharmProjects\\\\auto-test-generator\\\\dataset_repos\\\\pydriller\\\\venv\\\\Lib\\\\site-packages\\\\requests\\\\__version__.py', 'C:\\\\Users\\\\Ivan\\\\PycharmProjects\\\\auto-test-generator\\\\dataset_repos\\\\pydriller\\\\venv\\\\Lib\\\\site-packages\\\\setuptools\\\\archive_util.py', 'C:\\\\Users\\\\Ivan\\\\PycharmProjects\\\\auto-test-generator\\\\dataset_repos\\\\pydriller\\\\venv\\\\Lib\\\\site-packages\\\\setuptools\\\\build_meta.py', 'C:\\\\Users\\\\Ivan\\\\PycharmProjects\\\\auto-test-generator\\\\dataset_repos\\\\pydriller\\\\venv\\\\Lib\\\\site-packages\\\\setuptools\\\\config.py', 'C:\\\\Users\\\\Ivan\\\\PycharmProjects\\\\auto-test-generator\\\\dataset_repos\\\\pydriller\\\\venv\\\\Lib\\\\site-packages\\\\setuptools\\\\depends.py', 'C:\\\\Users\\\\Ivan\\\\PycharmProjects\\\\auto-test-generator\\\\dataset_repos\\\\pydriller\\\\venv\\\\Lib\\\\site-packages\\\\setuptools\\\\dep_util.py', 'C:\\\\Users\\\\Ivan\\\\PycharmProjects\\\\auto-test-generator\\\\dataset_repos\\\\pydriller\\\\venv\\\\Lib\\\\site-packages\\\\setuptools\\\\dist.py', 'C:\\\\Users\\\\Ivan\\\\PycharmProjects\\\\auto-test-generator\\\\dataset_repos\\\\pydriller\\\\venv\\\\Lib\\\\site-packages\\\\setuptools\\\\errors.py', 'C:\\\\Users\\\\Ivan\\\\PycharmProjects\\\\auto-test-generator\\\\dataset_repos\\\\pydriller\\\\venv\\\\Lib\\\\site-packages\\\\setuptools\\\\extension.py', 'C:\\\\Users\\\\Ivan\\\\PycharmProjects\\\\auto-test-generator\\\\dataset_repos\\\\pydriller\\\\venv\\\\Lib\\\\site-packages\\\\setuptools\\\\glob.py', 'C:\\\\Users\\\\Ivan\\\\PycharmProjects\\\\auto-test-generator\\\\dataset_repos\\\\pydriller\\\\venv\\\\Lib\\\\site-packages\\\\setuptools\\\\installer.py', 'C:\\\\Users\\\\Ivan\\\\PycharmProjects\\\\auto-test-generator\\\\dataset_repos\\\\pydriller\\\\venv\\\\Lib\\\\site-packages\\\\setuptools\\\\launch.py', 'C:\\\\Users\\\\Ivan\\\\PycharmProjects\\\\auto-test-generator\\\\dataset_repos\\\\pydriller\\\\venv\\\\Lib\\\\site-packages\\\\setuptools\\\\monkey.py', 'C:\\\\Users\\\\Ivan\\\\PycharmProjects\\\\auto-test-generator\\\\dataset_repos\\\\pydriller\\\\venv\\\\Lib\\\\site-packages\\\\setuptools\\\\msvc.py', 'C:\\\\Users\\\\Ivan\\\\PycharmProjects\\\\auto-test-generator\\\\dataset_repos\\\\pydriller\\\\venv\\\\Lib\\\\site-packages\\\\setuptools\\\\namespaces.py', 'C:\\\\Users\\\\Ivan\\\\PycharmProjects\\\\auto-test-generator\\\\dataset_repos\\\\pydriller\\\\venv\\\\Lib\\\\site-packages\\\\setuptools\\\\package_index.py', 'C:\\\\Users\\\\Ivan\\\\PycharmProjects\\\\auto-test-generator\\\\dataset_repos\\\\pydriller\\\\venv\\\\Lib\\\\site-packages\\\\setuptools\\\\py34compat.py', 'C:\\\\Users\\\\Ivan\\\\PycharmProjects\\\\auto-test-generator\\\\dataset_repos\\\\pydriller\\\\venv\\\\Lib\\\\site-packages\\\\setuptools\\\\sandbox.py', 'C:\\\\Users\\\\Ivan\\\\PycharmProjects\\\\auto-test-generator\\\\dataset_repos\\\\pydriller\\\\venv\\\\Lib\\\\site-packages\\\\setuptools\\\\unicode_utils.py', 'C:\\\\Users\\\\Ivan\\\\PycharmProjects\\\\auto-test-generator\\\\dataset_repos\\\\pydriller\\\\venv\\\\Lib\\\\site-packages\\\\setuptools\\\\version.py', 'C:\\\\Users\\\\Ivan\\\\PycharmProjects\\\\auto-test-generator\\\\dataset_repos\\\\pydriller\\\\venv\\\\Lib\\\\site-packages\\\\setuptools\\\\wheel.py', 'C:\\\\Users\\\\Ivan\\\\PycharmProjects\\\\auto-test-generator\\\\dataset_repos\\\\pydriller\\\\venv\\\\Lib\\\\site-packages\\\\setuptools\\\\windows_support.py', 'C:\\\\Users\\\\Ivan\\\\PycharmProjects\\\\auto-test-generator\\\\dataset_repos\\\\pydriller\\\\venv\\\\Lib\\\\site-packages\\\\setuptools\\\\_deprecation_warning.py', 'C:\\\\Users\\\\Ivan\\\\PycharmProjects\\\\auto-test-generator\\\\dataset_repos\\\\pydriller\\\\venv\\\\Lib\\\\site-packages\\\\setuptools\\\\_imp.py', 'C:\\\\Users\\\\Ivan\\\\PycharmProjects\\\\auto-test-generator\\\\dataset_repos\\\\pydriller\\\\venv\\\\Lib\\\\site-packages\\\\setuptools\\\\__init__.py', 'C:\\\\Users\\\\Ivan\\\\PycharmProjects\\\\auto-test-generator\\\\dataset_repos\\\\pydriller\\\\venv\\\\Lib\\\\site-packages\\\\setuptools\\\\command\\\\alias.py', 'C:\\\\Users\\\\Ivan\\\\PycharmProjects\\\\auto-test-generator\\\\dataset_repos\\\\pydriller\\\\venv\\\\Lib\\\\site-packages\\\\setuptools\\\\command\\\\bdist_egg.py', 'C:\\\\Users\\\\Ivan\\\\PycharmProjects\\\\auto-test-generator\\\\dataset_repos\\\\pydriller\\\\venv\\\\Lib\\\\site-packages\\\\setuptools\\\\command\\\\bdist_rpm.py', 'C:\\\\Users\\\\Ivan\\\\PycharmProjects\\\\auto-test-generator\\\\dataset_repos\\\\pydriller\\\\venv\\\\Lib\\\\site-packages\\\\setuptools\\\\command\\\\build_clib.py', 'C:\\\\Users\\\\Ivan\\\\PycharmProjects\\\\auto-test-generator\\\\dataset_repos\\\\pydriller\\\\venv\\\\Lib\\\\site-packages\\\\setuptools\\\\command\\\\build_ext.py', 'C:\\\\Users\\\\Ivan\\\\PycharmProjects\\\\auto-test-generator\\\\dataset_repos\\\\pydriller\\\\venv\\\\Lib\\\\site-packages\\\\setuptools\\\\command\\\\build_py.py', 'C:\\\\Users\\\\Ivan\\\\PycharmProjects\\\\auto-test-generator\\\\dataset_repos\\\\pydriller\\\\venv\\\\Lib\\\\site-packages\\\\setuptools\\\\command\\\\develop.py', 'C:\\\\Users\\\\Ivan\\\\PycharmProjects\\\\auto-test-generator\\\\dataset_repos\\\\pydriller\\\\venv\\\\Lib\\\\site-packages\\\\setuptools\\\\command\\\\dist_info.py', 'C:\\\\Users\\\\Ivan\\\\PycharmProjects\\\\auto-test-generator\\\\dataset_repos\\\\pydriller\\\\venv\\\\Lib\\\\site-packages\\\\setuptools\\\\command\\\\easy_install.py', 'C:\\\\Users\\\\Ivan\\\\PycharmProjects\\\\auto-test-generator\\\\dataset_repos\\\\pydriller\\\\venv\\\\Lib\\\\site-packages\\\\setuptools\\\\command\\\\egg_info.py', 'C:\\\\Users\\\\Ivan\\\\PycharmProjects\\\\auto-test-generator\\\\dataset_repos\\\\pydriller\\\\venv\\\\Lib\\\\site-packages\\\\setuptools\\\\command\\\\install.py', 'C:\\\\Users\\\\Ivan\\\\PycharmProjects\\\\auto-test-generator\\\\dataset_repos\\\\pydriller\\\\venv\\\\Lib\\\\site-packages\\\\setuptools\\\\command\\\\install_egg_info.py', 'C:\\\\Users\\\\Ivan\\\\PycharmProjects\\\\auto-test-generator\\\\dataset_repos\\\\pydriller\\\\venv\\\\Lib\\\\site-packages\\\\setuptools\\\\command\\\\install_lib.py', 'C:\\\\Users\\\\Ivan\\\\PycharmProjects\\\\auto-test-generator\\\\dataset_repos\\\\pydriller\\\\venv\\\\Lib\\\\site-packages\\\\setuptools\\\\command\\\\install_scripts.py', 'C:\\\\Users\\\\Ivan\\\\PycharmProjects\\\\auto-test-generator\\\\dataset_repos\\\\pydriller\\\\venv\\\\Lib\\\\site-packages\\\\setuptools\\\\command\\\\py36compat.py', 'C:\\\\Users\\\\Ivan\\\\PycharmProjects\\\\auto-test-generator\\\\dataset_repos\\\\pydriller\\\\venv\\\\Lib\\\\site-packages\\\\setuptools\\\\command\\\\register.py', 'C:\\\\Users\\\\Ivan\\\\PycharmProjects\\\\auto-test-generator\\\\dataset_repos\\\\pydriller\\\\venv\\\\Lib\\\\site-packages\\\\setuptools\\\\command\\\\rotate.py', 'C:\\\\Users\\\\Ivan\\\\PycharmProjects\\\\auto-test-generator\\\\dataset_repos\\\\pydriller\\\\venv\\\\Lib\\\\site-packages\\\\setuptools\\\\command\\\\saveopts.py', 'C:\\\\Users\\\\Ivan\\\\PycharmProjects\\\\auto-test-generator\\\\dataset_repos\\\\pydriller\\\\venv\\\\Lib\\\\site-packages\\\\setuptools\\\\command\\\\sdist.py', 'C:\\\\Users\\\\Ivan\\\\PycharmProjects\\\\auto-test-generator\\\\dataset_repos\\\\pydriller\\\\venv\\\\Lib\\\\site-packages\\\\setuptools\\\\command\\\\setopt.py', 'C:\\\\Users\\\\Ivan\\\\PycharmProjects\\\\auto-test-generator\\\\dataset_repos\\\\pydriller\\\\venv\\\\Lib\\\\site-packages\\\\setuptools\\\\command\\\\test.py', 'C:\\\\Users\\\\Ivan\\\\PycharmProjects\\\\auto-test-generator\\\\dataset_repos\\\\pydriller\\\\venv\\\\Lib\\\\site-packages\\\\setuptools\\\\command\\\\upload.py', 'C:\\\\Users\\\\Ivan\\\\PycharmProjects\\\\auto-test-generator\\\\dataset_repos\\\\pydriller\\\\venv\\\\Lib\\\\site-packages\\\\setuptools\\\\command\\\\upload_docs.py', 'C:\\\\Users\\\\Ivan\\\\PycharmProjects\\\\auto-test-generator\\\\dataset_repos\\\\pydriller\\\\venv\\\\Lib\\\\site-packages\\\\setuptools\\\\command\\\\__init__.py', 'C:\\\\Users\\\\Ivan\\\\PycharmProjects\\\\auto-test-generator\\\\dataset_repos\\\\pydriller\\\\venv\\\\Lib\\\\site-packages\\\\setuptools\\\\extern\\\\__init__.py', 'C:\\\\Users\\\\Ivan\\\\PycharmProjects\\\\auto-test-generator\\\\dataset_repos\\\\pydriller\\\\venv\\\\Lib\\\\site-packages\\\\setuptools\\\\_distutils\\\\archive_util.py', 'C:\\\\Users\\\\Ivan\\\\PycharmProjects\\\\auto-test-generator\\\\dataset_repos\\\\pydriller\\\\venv\\\\Lib\\\\site-packages\\\\setuptools\\\\_distutils\\\\bcppcompiler.py', 'C:\\\\Users\\\\Ivan\\\\PycharmProjects\\\\auto-test-generator\\\\dataset_repos\\\\pydriller\\\\venv\\\\Lib\\\\site-packages\\\\setuptools\\\\_distutils\\\\ccompiler.py', 'C:\\\\Users\\\\Ivan\\\\PycharmProjects\\\\auto-test-generator\\\\dataset_repos\\\\pydriller\\\\venv\\\\Lib\\\\site-packages\\\\setuptools\\\\_distutils\\\\cmd.py', 'C:\\\\Users\\\\Ivan\\\\PycharmProjects\\\\auto-test-generator\\\\dataset_repos\\\\pydriller\\\\venv\\\\Lib\\\\site-packages\\\\setuptools\\\\_distutils\\\\config.py', 'C:\\\\Users\\\\Ivan\\\\PycharmProjects\\\\auto-test-generator\\\\dataset_repos\\\\pydriller\\\\venv\\\\Lib\\\\site-packages\\\\setuptools\\\\_distutils\\\\core.py', 'C:\\\\Users\\\\Ivan\\\\PycharmProjects\\\\auto-test-generator\\\\dataset_repos\\\\pydriller\\\\venv\\\\Lib\\\\site-packages\\\\setuptools\\\\_distutils\\\\cygwinccompiler.py', 'C:\\\\Users\\\\Ivan\\\\PycharmProjects\\\\auto-test-generator\\\\dataset_repos\\\\pydriller\\\\venv\\\\Lib\\\\site-packages\\\\setuptools\\\\_distutils\\\\debug.py', 'C:\\\\Users\\\\Ivan\\\\PycharmProjects\\\\auto-test-generator\\\\dataset_repos\\\\pydriller\\\\venv\\\\Lib\\\\site-packages\\\\setuptools\\\\_distutils\\\\dep_util.py', 'C:\\\\Users\\\\Ivan\\\\PycharmProjects\\\\auto-test-generator\\\\dataset_repos\\\\pydriller\\\\venv\\\\Lib\\\\site-packages\\\\setuptools\\\\_distutils\\\\dir_util.py', 'C:\\\\Users\\\\Ivan\\\\PycharmProjects\\\\auto-test-generator\\\\dataset_repos\\\\pydriller\\\\venv\\\\Lib\\\\site-packages\\\\setuptools\\\\_distutils\\\\dist.py', 'C:\\\\Users\\\\Ivan\\\\PycharmProjects\\\\auto-test-generator\\\\dataset_repos\\\\pydriller\\\\venv\\\\Lib\\\\site-packages\\\\setuptools\\\\_distutils\\\\errors.py', 'C:\\\\Users\\\\Ivan\\\\PycharmProjects\\\\auto-test-generator\\\\dataset_repos\\\\pydriller\\\\venv\\\\Lib\\\\site-packages\\\\setuptools\\\\_distutils\\\\extension.py', 'C:\\\\Users\\\\Ivan\\\\PycharmProjects\\\\auto-test-generator\\\\dataset_repos\\\\pydriller\\\\venv\\\\Lib\\\\site-packages\\\\setuptools\\\\_distutils\\\\fancy_getopt.py', 'C:\\\\Users\\\\Ivan\\\\PycharmProjects\\\\auto-test-generator\\\\dataset_repos\\\\pydriller\\\\venv\\\\Lib\\\\site-packages\\\\setuptools\\\\_distutils\\\\filelist.py', 'C:\\\\Users\\\\Ivan\\\\PycharmProjects\\\\auto-test-generator\\\\dataset_repos\\\\pydriller\\\\venv\\\\Lib\\\\site-packages\\\\setuptools\\\\_distutils\\\\file_util.py', 'C:\\\\Users\\\\Ivan\\\\PycharmProjects\\\\auto-test-generator\\\\dataset_repos\\\\pydriller\\\\venv\\\\Lib\\\\site-packages\\\\setuptools\\\\_distutils\\\\log.py', 'C:\\\\Users\\\\Ivan\\\\PycharmProjects\\\\auto-test-generator\\\\dataset_repos\\\\pydriller\\\\venv\\\\Lib\\\\site-packages\\\\setuptools\\\\_distutils\\\\msvc9compiler.py', 'C:\\\\Users\\\\Ivan\\\\PycharmProjects\\\\auto-test-generator\\\\dataset_repos\\\\pydriller\\\\venv\\\\Lib\\\\site-packages\\\\setuptools\\\\_distutils\\\\msvccompiler.py', 'C:\\\\Users\\\\Ivan\\\\PycharmProjects\\\\auto-test-generator\\\\dataset_repos\\\\pydriller\\\\venv\\\\Lib\\\\site-packages\\\\setuptools\\\\_distutils\\\\py35compat.py', 'C:\\\\Users\\\\Ivan\\\\PycharmProjects\\\\auto-test-generator\\\\dataset_repos\\\\pydriller\\\\venv\\\\Lib\\\\site-packages\\\\setuptools\\\\_distutils\\\\py38compat.py', 'C:\\\\Users\\\\Ivan\\\\PycharmProjects\\\\auto-test-generator\\\\dataset_repos\\\\pydriller\\\\venv\\\\Lib\\\\site-packages\\\\setuptools\\\\_distutils\\\\spawn.py', 'C:\\\\Users\\\\Ivan\\\\PycharmProjects\\\\auto-test-generator\\\\dataset_repos\\\\pydriller\\\\venv\\\\Lib\\\\site-packages\\\\setuptools\\\\_distutils\\\\sysconfig.py', 'C:\\\\Users\\\\Ivan\\\\PycharmProjects\\\\auto-test-generator\\\\dataset_repos\\\\pydriller\\\\venv\\\\Lib\\\\site-packages\\\\setuptools\\\\_distutils\\\\text_file.py', 'C:\\\\Users\\\\Ivan\\\\PycharmProjects\\\\auto-test-generator\\\\dataset_repos\\\\pydriller\\\\venv\\\\Lib\\\\site-packages\\\\setuptools\\\\_distutils\\\\unixccompiler.py', 'C:\\\\Users\\\\Ivan\\\\PycharmProjects\\\\auto-test-generator\\\\dataset_repos\\\\pydriller\\\\venv\\\\Lib\\\\site-packages\\\\setuptools\\\\_distutils\\\\util.py', 'C:\\\\Users\\\\Ivan\\\\PycharmProjects\\\\auto-test-generator\\\\dataset_repos\\\\pydriller\\\\venv\\\\Lib\\\\site-packages\\\\setuptools\\\\_distutils\\\\version.py', 'C:\\\\Users\\\\Ivan\\\\PycharmProjects\\\\auto-test-generator\\\\dataset_repos\\\\pydriller\\\\venv\\\\Lib\\\\site-packages\\\\setuptools\\\\_distutils\\\\versionpredicate.py', 'C:\\\\Users\\\\Ivan\\\\PycharmProjects\\\\auto-test-generator\\\\dataset_repos\\\\pydriller\\\\venv\\\\Lib\\\\site-packages\\\\setuptools\\\\_distutils\\\\_msvccompiler.py', 'C:\\\\Users\\\\Ivan\\\\PycharmProjects\\\\auto-test-generator\\\\dataset_repos\\\\pydriller\\\\venv\\\\Lib\\\\site-packages\\\\setuptools\\\\_distutils\\\\__init__.py', 'C:\\\\Users\\\\Ivan\\\\PycharmProjects\\\\auto-test-generator\\\\dataset_repos\\\\pydriller\\\\venv\\\\Lib\\\\site-packages\\\\setuptools\\\\_distutils\\\\command\\\\bdist.py', 'C:\\\\Users\\\\Ivan\\\\PycharmProjects\\\\auto-test-generator\\\\dataset_repos\\\\pydriller\\\\venv\\\\Lib\\\\site-packages\\\\setuptools\\\\_distutils\\\\command\\\\bdist_dumb.py', 'C:\\\\Users\\\\Ivan\\\\PycharmProjects\\\\auto-test-generator\\\\dataset_repos\\\\pydriller\\\\venv\\\\Lib\\\\site-packages\\\\setuptools\\\\_distutils\\\\command\\\\bdist_msi.py', 'C:\\\\Users\\\\Ivan\\\\PycharmProjects\\\\auto-test-generator\\\\dataset_repos\\\\pydriller\\\\venv\\\\Lib\\\\site-packages\\\\setuptools\\\\_distutils\\\\command\\\\bdist_rpm.py', 'C:\\\\Users\\\\Ivan\\\\PycharmProjects\\\\auto-test-generator\\\\dataset_repos\\\\pydriller\\\\venv\\\\Lib\\\\site-packages\\\\setuptools\\\\_distutils\\\\command\\\\bdist_wininst.py', 'C:\\\\Users\\\\Ivan\\\\PycharmProjects\\\\auto-test-generator\\\\dataset_repos\\\\pydriller\\\\venv\\\\Lib\\\\site-packages\\\\setuptools\\\\_distutils\\\\command\\\\build.py', 'C:\\\\Users\\\\Ivan\\\\PycharmProjects\\\\auto-test-generator\\\\dataset_repos\\\\pydriller\\\\venv\\\\Lib\\\\site-packages\\\\setuptools\\\\_distutils\\\\command\\\\build_clib.py', 'C:\\\\Users\\\\Ivan\\\\PycharmProjects\\\\auto-test-generator\\\\dataset_repos\\\\pydriller\\\\venv\\\\Lib\\\\site-packages\\\\setuptools\\\\_distutils\\\\command\\\\build_ext.py', 'C:\\\\Users\\\\Ivan\\\\PycharmProjects\\\\auto-test-generator\\\\dataset_repos\\\\pydriller\\\\venv\\\\Lib\\\\site-packages\\\\setuptools\\\\_distutils\\\\command\\\\build_py.py', 'C:\\\\Users\\\\Ivan\\\\PycharmProjects\\\\auto-test-generator\\\\dataset_repos\\\\pydriller\\\\venv\\\\Lib\\\\site-packages\\\\setuptools\\\\_distutils\\\\command\\\\build_scripts.py', 'C:\\\\Users\\\\Ivan\\\\PycharmProjects\\\\auto-test-generator\\\\dataset_repos\\\\pydriller\\\\venv\\\\Lib\\\\site-packages\\\\setuptools\\\\_distutils\\\\command\\\\check.py', 'C:\\\\Users\\\\Ivan\\\\PycharmProjects\\\\auto-test-generator\\\\dataset_repos\\\\pydriller\\\\venv\\\\Lib\\\\site-packages\\\\setuptools\\\\_distutils\\\\command\\\\clean.py', 'C:\\\\Users\\\\Ivan\\\\PycharmProjects\\\\auto-test-generator\\\\dataset_repos\\\\pydriller\\\\venv\\\\Lib\\\\site-packages\\\\setuptools\\\\_distutils\\\\command\\\\config.py', 'C:\\\\Users\\\\Ivan\\\\PycharmProjects\\\\auto-test-generator\\\\dataset_repos\\\\pydriller\\\\venv\\\\Lib\\\\site-packages\\\\setuptools\\\\_distutils\\\\command\\\\install.py', 'C:\\\\Users\\\\Ivan\\\\PycharmProjects\\\\auto-test-generator\\\\dataset_repos\\\\pydriller\\\\venv\\\\Lib\\\\site-packages\\\\setuptools\\\\_distutils\\\\command\\\\install_data.py', 'C:\\\\Users\\\\Ivan\\\\PycharmProjects\\\\auto-test-generator\\\\dataset_repos\\\\pydriller\\\\venv\\\\Lib\\\\site-packages\\\\setuptools\\\\_distutils\\\\command\\\\install_egg_info.py', 'C:\\\\Users\\\\Ivan\\\\PycharmProjects\\\\auto-test-generator\\\\dataset_repos\\\\pydriller\\\\venv\\\\Lib\\\\site-packages\\\\setuptools\\\\_distutils\\\\command\\\\install_headers.py', 'C:\\\\Users\\\\Ivan\\\\PycharmProjects\\\\auto-test-generator\\\\dataset_repos\\\\pydriller\\\\venv\\\\Lib\\\\site-packages\\\\setuptools\\\\_distutils\\\\command\\\\install_lib.py', 'C:\\\\Users\\\\Ivan\\\\PycharmProjects\\\\auto-test-generator\\\\dataset_repos\\\\pydriller\\\\venv\\\\Lib\\\\site-packages\\\\setuptools\\\\_distutils\\\\command\\\\install_scripts.py', 'C:\\\\Users\\\\Ivan\\\\PycharmProjects\\\\auto-test-generator\\\\dataset_repos\\\\pydriller\\\\venv\\\\Lib\\\\site-packages\\\\setuptools\\\\_distutils\\\\command\\\\py37compat.py', 'C:\\\\Users\\\\Ivan\\\\PycharmProjects\\\\auto-test-generator\\\\dataset_repos\\\\pydriller\\\\venv\\\\Lib\\\\site-packages\\\\setuptools\\\\_distutils\\\\command\\\\register.py', 'C:\\\\Users\\\\Ivan\\\\PycharmProjects\\\\auto-test-generator\\\\dataset_repos\\\\pydriller\\\\venv\\\\Lib\\\\site-packages\\\\setuptools\\\\_distutils\\\\command\\\\sdist.py', 'C:\\\\Users\\\\Ivan\\\\PycharmProjects\\\\auto-test-generator\\\\dataset_repos\\\\pydriller\\\\venv\\\\Lib\\\\site-packages\\\\setuptools\\\\_distutils\\\\command\\\\upload.py', 'C:\\\\Users\\\\Ivan\\\\PycharmProjects\\\\auto-test-generator\\\\dataset_repos\\\\pydriller\\\\venv\\\\Lib\\\\site-packages\\\\setuptools\\\\_distutils\\\\command\\\\__init__.py', 'C:\\\\Users\\\\Ivan\\\\PycharmProjects\\\\auto-test-generator\\\\dataset_repos\\\\pydriller\\\\venv\\\\Lib\\\\site-packages\\\\setuptools\\\\_vendor\\\\ordered_set.py', 'C:\\\\Users\\\\Ivan\\\\PycharmProjects\\\\auto-test-generator\\\\dataset_repos\\\\pydriller\\\\venv\\\\Lib\\\\site-packages\\\\setuptools\\\\_vendor\\\\pyparsing.py', 'C:\\\\Users\\\\Ivan\\\\PycharmProjects\\\\auto-test-generator\\\\dataset_repos\\\\pydriller\\\\venv\\\\Lib\\\\site-packages\\\\setuptools\\\\_vendor\\\\__init__.py', 'C:\\\\Users\\\\Ivan\\\\PycharmProjects\\\\auto-test-generator\\\\dataset_repos\\\\pydriller\\\\venv\\\\Lib\\\\site-packages\\\\setuptools\\\\_vendor\\\\more_itertools\\\\more.py', 'C:\\\\Users\\\\Ivan\\\\PycharmProjects\\\\auto-test-generator\\\\dataset_repos\\\\pydriller\\\\venv\\\\Lib\\\\site-packages\\\\setuptools\\\\_vendor\\\\more_itertools\\\\recipes.py', 'C:\\\\Users\\\\Ivan\\\\PycharmProjects\\\\auto-test-generator\\\\dataset_repos\\\\pydriller\\\\venv\\\\Lib\\\\site-packages\\\\setuptools\\\\_vendor\\\\more_itertools\\\\__init__.py', 'C:\\\\Users\\\\Ivan\\\\PycharmProjects\\\\auto-test-generator\\\\dataset_repos\\\\pydriller\\\\venv\\\\Lib\\\\site-packages\\\\setuptools\\\\_vendor\\\\packaging\\\\markers.py', 'C:\\\\Users\\\\Ivan\\\\PycharmProjects\\\\auto-test-generator\\\\dataset_repos\\\\pydriller\\\\venv\\\\Lib\\\\site-packages\\\\setuptools\\\\_vendor\\\\packaging\\\\requirements.py', 'C:\\\\Users\\\\Ivan\\\\PycharmProjects\\\\auto-test-generator\\\\dataset_repos\\\\pydriller\\\\venv\\\\Lib\\\\site-packages\\\\setuptools\\\\_vendor\\\\packaging\\\\specifiers.py', 'C:\\\\Users\\\\Ivan\\\\PycharmProjects\\\\auto-test-generator\\\\dataset_repos\\\\pydriller\\\\venv\\\\Lib\\\\site-packages\\\\setuptools\\\\_vendor\\\\packaging\\\\tags.py', 'C:\\\\Users\\\\Ivan\\\\PycharmProjects\\\\auto-test-generator\\\\dataset_repos\\\\pydriller\\\\venv\\\\Lib\\\\site-packages\\\\setuptools\\\\_vendor\\\\packaging\\\\utils.py', 'C:\\\\Users\\\\Ivan\\\\PycharmProjects\\\\auto-test-generator\\\\dataset_repos\\\\pydriller\\\\venv\\\\Lib\\\\site-packages\\\\setuptools\\\\_vendor\\\\packaging\\\\version.py', 'C:\\\\Users\\\\Ivan\\\\PycharmProjects\\\\auto-test-generator\\\\dataset_repos\\\\pydriller\\\\venv\\\\Lib\\\\site-packages\\\\setuptools\\\\_vendor\\\\packaging\\\\_compat.py', 'C:\\\\Users\\\\Ivan\\\\PycharmProjects\\\\auto-test-generator\\\\dataset_repos\\\\pydriller\\\\venv\\\\Lib\\\\site-packages\\\\setuptools\\\\_vendor\\\\packaging\\\\_structures.py', 'C:\\\\Users\\\\Ivan\\\\PycharmProjects\\\\auto-test-generator\\\\dataset_repos\\\\pydriller\\\\venv\\\\Lib\\\\site-packages\\\\setuptools\\\\_vendor\\\\packaging\\\\_typing.py', 'C:\\\\Users\\\\Ivan\\\\PycharmProjects\\\\auto-test-generator\\\\dataset_repos\\\\pydriller\\\\venv\\\\Lib\\\\site-packages\\\\setuptools\\\\_vendor\\\\packaging\\\\__about__.py', 'C:\\\\Users\\\\Ivan\\\\PycharmProjects\\\\auto-test-generator\\\\dataset_repos\\\\pydriller\\\\venv\\\\Lib\\\\site-packages\\\\setuptools\\\\_vendor\\\\packaging\\\\__init__.py', 'C:\\\\Users\\\\Ivan\\\\PycharmProjects\\\\auto-test-generator\\\\dataset_repos\\\\pydriller\\\\venv\\\\Lib\\\\site-packages\\\\smmap\\\\buf.py', 'C:\\\\Users\\\\Ivan\\\\PycharmProjects\\\\auto-test-generator\\\\dataset_repos\\\\pydriller\\\\venv\\\\Lib\\\\site-packages\\\\smmap\\\\mman.py', 'C:\\\\Users\\\\Ivan\\\\PycharmProjects\\\\auto-test-generator\\\\dataset_repos\\\\pydriller\\\\venv\\\\Lib\\\\site-packages\\\\smmap\\\\util.py', 'C:\\\\Users\\\\Ivan\\\\PycharmProjects\\\\auto-test-generator\\\\dataset_repos\\\\pydriller\\\\venv\\\\Lib\\\\site-packages\\\\smmap\\\\__init__.py', 'C:\\\\Users\\\\Ivan\\\\PycharmProjects\\\\auto-test-generator\\\\dataset_repos\\\\pydriller\\\\venv\\\\Lib\\\\site-packages\\\\smmap\\\\test\\\\lib.py', 'C:\\\\Users\\\\Ivan\\\\PycharmProjects\\\\auto-test-generator\\\\dataset_repos\\\\pydriller\\\\venv\\\\Lib\\\\site-packages\\\\smmap\\\\test\\\\test_buf.py', 'C:\\\\Users\\\\Ivan\\\\PycharmProjects\\\\auto-test-generator\\\\dataset_repos\\\\pydriller\\\\venv\\\\Lib\\\\site-packages\\\\smmap\\\\test\\\\test_mman.py', 'C:\\\\Users\\\\Ivan\\\\PycharmProjects\\\\auto-test-generator\\\\dataset_repos\\\\pydriller\\\\venv\\\\Lib\\\\site-packages\\\\smmap\\\\test\\\\test_tutorial.py', 'C:\\\\Users\\\\Ivan\\\\PycharmProjects\\\\auto-test-generator\\\\dataset_repos\\\\pydriller\\\\venv\\\\Lib\\\\site-packages\\\\smmap\\\\test\\\\test_util.py', 'C:\\\\Users\\\\Ivan\\\\PycharmProjects\\\\auto-test-generator\\\\dataset_repos\\\\pydriller\\\\venv\\\\Lib\\\\site-packages\\\\smmap\\\\test\\\\__init__.py', 'C:\\\\Users\\\\Ivan\\\\PycharmProjects\\\\auto-test-generator\\\\dataset_repos\\\\pydriller\\\\venv\\\\Lib\\\\site-packages\\\\tomli\\\\_parser.py', 'C:\\\\Users\\\\Ivan\\\\PycharmProjects\\\\auto-test-generator\\\\dataset_repos\\\\pydriller\\\\venv\\\\Lib\\\\site-packages\\\\tomli\\\\_re.py', 'C:\\\\Users\\\\Ivan\\\\PycharmProjects\\\\auto-test-generator\\\\dataset_repos\\\\pydriller\\\\venv\\\\Lib\\\\site-packages\\\\tomli\\\\_types.py', 'C:\\\\Users\\\\Ivan\\\\PycharmProjects\\\\auto-test-generator\\\\dataset_repos\\\\pydriller\\\\venv\\\\Lib\\\\site-packages\\\\tomli\\\\__init__.py', 'C:\\\\Users\\\\Ivan\\\\PycharmProjects\\\\auto-test-generator\\\\dataset_repos\\\\pydriller\\\\venv\\\\Lib\\\\site-packages\\\\urllib3\\\\connection.py', 'C:\\\\Users\\\\Ivan\\\\PycharmProjects\\\\auto-test-generator\\\\dataset_repos\\\\pydriller\\\\venv\\\\Lib\\\\site-packages\\\\urllib3\\\\connectionpool.py', 'C:\\\\Users\\\\Ivan\\\\PycharmProjects\\\\auto-test-generator\\\\dataset_repos\\\\pydriller\\\\venv\\\\Lib\\\\site-packages\\\\urllib3\\\\exceptions.py', 'C:\\\\Users\\\\Ivan\\\\PycharmProjects\\\\auto-test-generator\\\\dataset_repos\\\\pydriller\\\\venv\\\\Lib\\\\site-packages\\\\urllib3\\\\fields.py', 'C:\\\\Users\\\\Ivan\\\\PycharmProjects\\\\auto-test-generator\\\\dataset_repos\\\\pydriller\\\\venv\\\\Lib\\\\site-packages\\\\urllib3\\\\filepost.py', 'C:\\\\Users\\\\Ivan\\\\PycharmProjects\\\\auto-test-generator\\\\dataset_repos\\\\pydriller\\\\venv\\\\Lib\\\\site-packages\\\\urllib3\\\\poolmanager.py', 'C:\\\\Users\\\\Ivan\\\\PycharmProjects\\\\auto-test-generator\\\\dataset_repos\\\\pydriller\\\\venv\\\\Lib\\\\site-packages\\\\urllib3\\\\request.py', 'C:\\\\Users\\\\Ivan\\\\PycharmProjects\\\\auto-test-generator\\\\dataset_repos\\\\pydriller\\\\venv\\\\Lib\\\\site-packages\\\\urllib3\\\\response.py', 'C:\\\\Users\\\\Ivan\\\\PycharmProjects\\\\auto-test-generator\\\\dataset_repos\\\\pydriller\\\\venv\\\\Lib\\\\site-packages\\\\urllib3\\\\_collections.py', 'C:\\\\Users\\\\Ivan\\\\PycharmProjects\\\\auto-test-generator\\\\dataset_repos\\\\pydriller\\\\venv\\\\Lib\\\\site-packages\\\\urllib3\\\\_version.py', 'C:\\\\Users\\\\Ivan\\\\PycharmProjects\\\\auto-test-generator\\\\dataset_repos\\\\pydriller\\\\venv\\\\Lib\\\\site-packages\\\\urllib3\\\\__init__.py', 'C:\\\\Users\\\\Ivan\\\\PycharmProjects\\\\auto-test-generator\\\\dataset_repos\\\\pydriller\\\\venv\\\\Lib\\\\site-packages\\\\urllib3\\\\contrib\\\\appengine.py', 'C:\\\\Users\\\\Ivan\\\\PycharmProjects\\\\auto-test-generator\\\\dataset_repos\\\\pydriller\\\\venv\\\\Lib\\\\site-packages\\\\urllib3\\\\contrib\\\\ntlmpool.py', 'C:\\\\Users\\\\Ivan\\\\PycharmProjects\\\\auto-test-generator\\\\dataset_repos\\\\pydriller\\\\venv\\\\Lib\\\\site-packages\\\\urllib3\\\\contrib\\\\pyopenssl.py', 'C:\\\\Users\\\\Ivan\\\\PycharmProjects\\\\auto-test-generator\\\\dataset_repos\\\\pydriller\\\\venv\\\\Lib\\\\site-packages\\\\urllib3\\\\contrib\\\\securetransport.py', 'C:\\\\Users\\\\Ivan\\\\PycharmProjects\\\\auto-test-generator\\\\dataset_repos\\\\pydriller\\\\venv\\\\Lib\\\\site-packages\\\\urllib3\\\\contrib\\\\socks.py', 'C:\\\\Users\\\\Ivan\\\\PycharmProjects\\\\auto-test-generator\\\\dataset_repos\\\\pydriller\\\\venv\\\\Lib\\\\site-packages\\\\urllib3\\\\contrib\\\\_appengine_environ.py', 'C:\\\\Users\\\\Ivan\\\\PycharmProjects\\\\auto-test-generator\\\\dataset_repos\\\\pydriller\\\\venv\\\\Lib\\\\site-packages\\\\urllib3\\\\contrib\\\\__init__.py', 'C:\\\\Users\\\\Ivan\\\\PycharmProjects\\\\auto-test-generator\\\\dataset_repos\\\\pydriller\\\\venv\\\\Lib\\\\site-packages\\\\urllib3\\\\contrib\\\\_securetransport\\\\bindings.py', 'C:\\\\Users\\\\Ivan\\\\PycharmProjects\\\\auto-test-generator\\\\dataset_repos\\\\pydriller\\\\venv\\\\Lib\\\\site-packages\\\\urllib3\\\\contrib\\\\_securetransport\\\\low_level.py', 'C:\\\\Users\\\\Ivan\\\\PycharmProjects\\\\auto-test-generator\\\\dataset_repos\\\\pydriller\\\\venv\\\\Lib\\\\site-packages\\\\urllib3\\\\contrib\\\\_securetransport\\\\__init__.py', 'C:\\\\Users\\\\Ivan\\\\PycharmProjects\\\\auto-test-generator\\\\dataset_repos\\\\pydriller\\\\venv\\\\Lib\\\\site-packages\\\\urllib3\\\\packages\\\\six.py', 'C:\\\\Users\\\\Ivan\\\\PycharmProjects\\\\auto-test-generator\\\\dataset_repos\\\\pydriller\\\\venv\\\\Lib\\\\site-packages\\\\urllib3\\\\packages\\\\__init__.py', 'C:\\\\Users\\\\Ivan\\\\PycharmProjects\\\\auto-test-generator\\\\dataset_repos\\\\pydriller\\\\venv\\\\Lib\\\\site-packages\\\\urllib3\\\\packages\\\\backports\\\\makefile.py', 'C:\\\\Users\\\\Ivan\\\\PycharmProjects\\\\auto-test-generator\\\\dataset_repos\\\\pydriller\\\\venv\\\\Lib\\\\site-packages\\\\urllib3\\\\packages\\\\backports\\\\__init__.py', 'C:\\\\Users\\\\Ivan\\\\PycharmProjects\\\\auto-test-generator\\\\dataset_repos\\\\pydriller\\\\venv\\\\Lib\\\\site-packages\\\\urllib3\\\\util\\\\connection.py', 'C:\\\\Users\\\\Ivan\\\\PycharmProjects\\\\auto-test-generator\\\\dataset_repos\\\\pydriller\\\\venv\\\\Lib\\\\site-packages\\\\urllib3\\\\util\\\\proxy.py', 'C:\\\\Users\\\\Ivan\\\\PycharmProjects\\\\auto-test-generator\\\\dataset_repos\\\\pydriller\\\\venv\\\\Lib\\\\site-packages\\\\urllib3\\\\util\\\\queue.py', 'C:\\\\Users\\\\Ivan\\\\PycharmProjects\\\\auto-test-generator\\\\dataset_repos\\\\pydriller\\\\venv\\\\Lib\\\\site-packages\\\\urllib3\\\\util\\\\request.py', 'C:\\\\Users\\\\Ivan\\\\PycharmProjects\\\\auto-test-generator\\\\dataset_repos\\\\pydriller\\\\venv\\\\Lib\\\\site-packages\\\\urllib3\\\\util\\\\response.py', 'C:\\\\Users\\\\Ivan\\\\PycharmProjects\\\\auto-test-generator\\\\dataset_repos\\\\pydriller\\\\venv\\\\Lib\\\\site-packages\\\\urllib3\\\\util\\\\retry.py', 'C:\\\\Users\\\\Ivan\\\\PycharmProjects\\\\auto-test-generator\\\\dataset_repos\\\\pydriller\\\\venv\\\\Lib\\\\site-packages\\\\urllib3\\\\util\\\\ssltransport.py', 'C:\\\\Users\\\\Ivan\\\\PycharmProjects\\\\auto-test-generator\\\\dataset_repos\\\\pydriller\\\\venv\\\\Lib\\\\site-packages\\\\urllib3\\\\util\\\\ssl_.py', 'C:\\\\Users\\\\Ivan\\\\PycharmProjects\\\\auto-test-generator\\\\dataset_repos\\\\pydriller\\\\venv\\\\Lib\\\\site-packages\\\\urllib3\\\\util\\\\ssl_match_hostname.py', 'C:\\\\Users\\\\Ivan\\\\PycharmProjects\\\\auto-test-generator\\\\dataset_repos\\\\pydriller\\\\venv\\\\Lib\\\\site-packages\\\\urllib3\\\\util\\\\timeout.py', 'C:\\\\Users\\\\Ivan\\\\PycharmProjects\\\\auto-test-generator\\\\dataset_repos\\\\pydriller\\\\venv\\\\Lib\\\\site-packages\\\\urllib3\\\\util\\\\url.py', 'C:\\\\Users\\\\Ivan\\\\PycharmProjects\\\\auto-test-generator\\\\dataset_repos\\\\pydriller\\\\venv\\\\Lib\\\\site-packages\\\\urllib3\\\\util\\\\wait.py', 'C:\\\\Users\\\\Ivan\\\\PycharmProjects\\\\auto-test-generator\\\\dataset_repos\\\\pydriller\\\\venv\\\\Lib\\\\site-packages\\\\urllib3\\\\util\\\\__init__.py', 'C:\\\\Users\\\\Ivan\\\\PycharmProjects\\\\auto-test-generator\\\\dataset_repos\\\\pydriller\\\\venv\\\\Lib\\\\site-packages\\\\_distutils_hack\\\\override.py', 'C:\\\\Users\\\\Ivan\\\\PycharmProjects\\\\auto-test-generator\\\\dataset_repos\\\\pydriller\\\\venv\\\\Lib\\\\site-packages\\\\_distutils_hack\\\\__init__.py', 'C:\\\\Users\\\\Ivan\\\\PycharmProjects\\\\auto-test-generator\\\\dataset_repos\\\\pydriller\\\\venv\\\\Lib\\\\site-packages\\\\_pytest\\\\cacheprovider.py', 'C:\\\\Users\\\\Ivan\\\\PycharmProjects\\\\auto-test-generator\\\\dataset_repos\\\\pydriller\\\\venv\\\\Lib\\\\site-packages\\\\_pytest\\\\capture.py', 'C:\\\\Users\\\\Ivan\\\\PycharmProjects\\\\auto-test-generator\\\\dataset_repos\\\\pydriller\\\\venv\\\\Lib\\\\site-packages\\\\_pytest\\\\compat.py', 'C:\\\\Users\\\\Ivan\\\\PycharmProjects\\\\auto-test-generator\\\\dataset_repos\\\\pydriller\\\\venv\\\\Lib\\\\site-packages\\\\_pytest\\\\debugging.py', 'C:\\\\Users\\\\Ivan\\\\PycharmProjects\\\\auto-test-generator\\\\dataset_repos\\\\pydriller\\\\venv\\\\Lib\\\\site-packages\\\\_pytest\\\\deprecated.py', 'C:\\\\Users\\\\Ivan\\\\PycharmProjects\\\\auto-test-generator\\\\dataset_repos\\\\pydriller\\\\venv\\\\Lib\\\\site-packages\\\\_pytest\\\\doctest.py', 'C:\\\\Users\\\\Ivan\\\\PycharmProjects\\\\auto-test-generator\\\\dataset_repos\\\\pydriller\\\\venv\\\\Lib\\\\site-packages\\\\_pytest\\\\faulthandler.py', 'C:\\\\Users\\\\Ivan\\\\PycharmProjects\\\\auto-test-generator\\\\dataset_repos\\\\pydriller\\\\venv\\\\Lib\\\\site-packages\\\\_pytest\\\\fixtures.py', 'C:\\\\Users\\\\Ivan\\\\PycharmProjects\\\\auto-test-generator\\\\dataset_repos\\\\pydriller\\\\venv\\\\Lib\\\\site-packages\\\\_pytest\\\\freeze_support.py', 'C:\\\\Users\\\\Ivan\\\\PycharmProjects\\\\auto-test-generator\\\\dataset_repos\\\\pydriller\\\\venv\\\\Lib\\\\site-packages\\\\_pytest\\\\helpconfig.py', 'C:\\\\Users\\\\Ivan\\\\PycharmProjects\\\\auto-test-generator\\\\dataset_repos\\\\pydriller\\\\venv\\\\Lib\\\\site-packages\\\\_pytest\\\\hookspec.py', 'C:\\\\Users\\\\Ivan\\\\PycharmProjects\\\\auto-test-generator\\\\dataset_repos\\\\pydriller\\\\venv\\\\Lib\\\\site-packages\\\\_pytest\\\\junitxml.py', 'C:\\\\Users\\\\Ivan\\\\PycharmProjects\\\\auto-test-generator\\\\dataset_repos\\\\pydriller\\\\venv\\\\Lib\\\\site-packages\\\\_pytest\\\\legacypath.py', 'C:\\\\Users\\\\Ivan\\\\PycharmProjects\\\\auto-test-generator\\\\dataset_repos\\\\pydriller\\\\venv\\\\Lib\\\\site-packages\\\\_pytest\\\\logging.py', 'C:\\\\Users\\\\Ivan\\\\PycharmProjects\\\\auto-test-generator\\\\dataset_repos\\\\pydriller\\\\venv\\\\Lib\\\\site-packages\\\\_pytest\\\\main.py', 'C:\\\\Users\\\\Ivan\\\\PycharmProjects\\\\auto-test-generator\\\\dataset_repos\\\\pydriller\\\\venv\\\\Lib\\\\site-packages\\\\_pytest\\\\monkeypatch.py', 'C:\\\\Users\\\\Ivan\\\\PycharmProjects\\\\auto-test-generator\\\\dataset_repos\\\\pydriller\\\\venv\\\\Lib\\\\site-packages\\\\_pytest\\\\nodes.py', 'C:\\\\Users\\\\Ivan\\\\PycharmProjects\\\\auto-test-generator\\\\dataset_repos\\\\pydriller\\\\venv\\\\Lib\\\\site-packages\\\\_pytest\\\\nose.py', 'C:\\\\Users\\\\Ivan\\\\PycharmProjects\\\\auto-test-generator\\\\dataset_repos\\\\pydriller\\\\venv\\\\Lib\\\\site-packages\\\\_pytest\\\\outcomes.py', 'C:\\\\Users\\\\Ivan\\\\PycharmProjects\\\\auto-test-generator\\\\dataset_repos\\\\pydriller\\\\venv\\\\Lib\\\\site-packages\\\\_pytest\\\\pastebin.py', 'C:\\\\Users\\\\Ivan\\\\PycharmProjects\\\\auto-test-generator\\\\dataset_repos\\\\pydriller\\\\venv\\\\Lib\\\\site-packages\\\\_pytest\\\\pathlib.py', 'C:\\\\Users\\\\Ivan\\\\PycharmProjects\\\\auto-test-generator\\\\dataset_repos\\\\pydriller\\\\venv\\\\Lib\\\\site-packages\\\\_pytest\\\\pytester.py', 'C:\\\\Users\\\\Ivan\\\\PycharmProjects\\\\auto-test-generator\\\\dataset_repos\\\\pydriller\\\\venv\\\\Lib\\\\site-packages\\\\_pytest\\\\pytester_assertions.py', 'C:\\\\Users\\\\Ivan\\\\PycharmProjects\\\\auto-test-generator\\\\dataset_repos\\\\pydriller\\\\venv\\\\Lib\\\\site-packages\\\\_pytest\\\\python.py', 'C:\\\\Users\\\\Ivan\\\\PycharmProjects\\\\auto-test-generator\\\\dataset_repos\\\\pydriller\\\\venv\\\\Lib\\\\site-packages\\\\_pytest\\\\python_api.py', 'C:\\\\Users\\\\Ivan\\\\PycharmProjects\\\\auto-test-generator\\\\dataset_repos\\\\pydriller\\\\venv\\\\Lib\\\\site-packages\\\\_pytest\\\\python_path.py', 'C:\\\\Users\\\\Ivan\\\\PycharmProjects\\\\auto-test-generator\\\\dataset_repos\\\\pydriller\\\\venv\\\\Lib\\\\site-packages\\\\_pytest\\\\recwarn.py', 'C:\\\\Users\\\\Ivan\\\\PycharmProjects\\\\auto-test-generator\\\\dataset_repos\\\\pydriller\\\\venv\\\\Lib\\\\site-packages\\\\_pytest\\\\reports.py', 'C:\\\\Users\\\\Ivan\\\\PycharmProjects\\\\auto-test-generator\\\\dataset_repos\\\\pydriller\\\\venv\\\\Lib\\\\site-packages\\\\_pytest\\\\runner.py', 'C:\\\\Users\\\\Ivan\\\\PycharmProjects\\\\auto-test-generator\\\\dataset_repos\\\\pydriller\\\\venv\\\\Lib\\\\site-packages\\\\_pytest\\\\scope.py', 'C:\\\\Users\\\\Ivan\\\\PycharmProjects\\\\auto-test-generator\\\\dataset_repos\\\\pydriller\\\\venv\\\\Lib\\\\site-packages\\\\_pytest\\\\setuponly.py', 'C:\\\\Users\\\\Ivan\\\\PycharmProjects\\\\auto-test-generator\\\\dataset_repos\\\\pydriller\\\\venv\\\\Lib\\\\site-packages\\\\_pytest\\\\setupplan.py', 'C:\\\\Users\\\\Ivan\\\\PycharmProjects\\\\auto-test-generator\\\\dataset_repos\\\\pydriller\\\\venv\\\\Lib\\\\site-packages\\\\_pytest\\\\skipping.py', 'C:\\\\Users\\\\Ivan\\\\PycharmProjects\\\\auto-test-generator\\\\dataset_repos\\\\pydriller\\\\venv\\\\Lib\\\\site-packages\\\\_pytest\\\\stash.py', 'C:\\\\Users\\\\Ivan\\\\PycharmProjects\\\\auto-test-generator\\\\dataset_repos\\\\pydriller\\\\venv\\\\Lib\\\\site-packages\\\\_pytest\\\\stepwise.py', 'C:\\\\Users\\\\Ivan\\\\PycharmProjects\\\\auto-test-generator\\\\dataset_repos\\\\pydriller\\\\venv\\\\Lib\\\\site-packages\\\\_pytest\\\\terminal.py', 'C:\\\\Users\\\\Ivan\\\\PycharmProjects\\\\auto-test-generator\\\\dataset_repos\\\\pydriller\\\\venv\\\\Lib\\\\site-packages\\\\_pytest\\\\threadexception.py', 'C:\\\\Users\\\\Ivan\\\\PycharmProjects\\\\auto-test-generator\\\\dataset_repos\\\\pydriller\\\\venv\\\\Lib\\\\site-packages\\\\_pytest\\\\timing.py', 'C:\\\\Users\\\\Ivan\\\\PycharmProjects\\\\auto-test-generator\\\\dataset_repos\\\\pydriller\\\\venv\\\\Lib\\\\site-packages\\\\_pytest\\\\tmpdir.py', 'C:\\\\Users\\\\Ivan\\\\PycharmProjects\\\\auto-test-generator\\\\dataset_repos\\\\pydriller\\\\venv\\\\Lib\\\\site-packages\\\\_pytest\\\\unittest.py', 'C:\\\\Users\\\\Ivan\\\\PycharmProjects\\\\auto-test-generator\\\\dataset_repos\\\\pydriller\\\\venv\\\\Lib\\\\site-packages\\\\_pytest\\\\unraisableexception.py', 'C:\\\\Users\\\\Ivan\\\\PycharmProjects\\\\auto-test-generator\\\\dataset_repos\\\\pydriller\\\\venv\\\\Lib\\\\site-packages\\\\_pytest\\\\warnings.py', 'C:\\\\Users\\\\Ivan\\\\PycharmProjects\\\\auto-test-generator\\\\dataset_repos\\\\pydriller\\\\venv\\\\Lib\\\\site-packages\\\\_pytest\\\\warning_types.py', 'C:\\\\Users\\\\Ivan\\\\PycharmProjects\\\\auto-test-generator\\\\dataset_repos\\\\pydriller\\\\venv\\\\Lib\\\\site-packages\\\\_pytest\\\\_argcomplete.py', 'C:\\\\Users\\\\Ivan\\\\PycharmProjects\\\\auto-test-generator\\\\dataset_repos\\\\pydriller\\\\venv\\\\Lib\\\\site-packages\\\\_pytest\\\\_version.py', 'C:\\\\Users\\\\Ivan\\\\PycharmProjects\\\\auto-test-generator\\\\dataset_repos\\\\pydriller\\\\venv\\\\Lib\\\\site-packages\\\\_pytest\\\\__init__.py', 'C:\\\\Users\\\\Ivan\\\\PycharmProjects\\\\auto-test-generator\\\\dataset_repos\\\\pydriller\\\\venv\\\\Lib\\\\site-packages\\\\_pytest\\\\assertion\\\\rewrite.py', 'C:\\\\Users\\\\Ivan\\\\PycharmProjects\\\\auto-test-generator\\\\dataset_repos\\\\pydriller\\\\venv\\\\Lib\\\\site-packages\\\\_pytest\\\\assertion\\\\truncate.py', 'C:\\\\Users\\\\Ivan\\\\PycharmProjects\\\\auto-test-generator\\\\dataset_repos\\\\pydriller\\\\venv\\\\Lib\\\\site-packages\\\\_pytest\\\\assertion\\\\util.py', 'C:\\\\Users\\\\Ivan\\\\PycharmProjects\\\\auto-test-generator\\\\dataset_repos\\\\pydriller\\\\venv\\\\Lib\\\\site-packages\\\\_pytest\\\\assertion\\\\__init__.py', 'C:\\\\Users\\\\Ivan\\\\PycharmProjects\\\\auto-test-generator\\\\dataset_repos\\\\pydriller\\\\venv\\\\Lib\\\\site-packages\\\\_pytest\\\\config\\\\argparsing.py', 'C:\\\\Users\\\\Ivan\\\\PycharmProjects\\\\auto-test-generator\\\\dataset_repos\\\\pydriller\\\\venv\\\\Lib\\\\site-packages\\\\_pytest\\\\config\\\\compat.py', 'C:\\\\Users\\\\Ivan\\\\PycharmProjects\\\\auto-test-generator\\\\dataset_repos\\\\pydriller\\\\venv\\\\Lib\\\\site-packages\\\\_pytest\\\\config\\\\exceptions.py', 'C:\\\\Users\\\\Ivan\\\\PycharmProjects\\\\auto-test-generator\\\\dataset_repos\\\\pydriller\\\\venv\\\\Lib\\\\site-packages\\\\_pytest\\\\config\\\\findpaths.py', 'C:\\\\Users\\\\Ivan\\\\PycharmProjects\\\\auto-test-generator\\\\dataset_repos\\\\pydriller\\\\venv\\\\Lib\\\\site-packages\\\\_pytest\\\\config\\\\__init__.py', 'C:\\\\Users\\\\Ivan\\\\PycharmProjects\\\\auto-test-generator\\\\dataset_repos\\\\pydriller\\\\venv\\\\Lib\\\\site-packages\\\\_pytest\\\\mark\\\\expression.py', 'C:\\\\Users\\\\Ivan\\\\PycharmProjects\\\\auto-test-generator\\\\dataset_repos\\\\pydriller\\\\venv\\\\Lib\\\\site-packages\\\\_pytest\\\\mark\\\\structures.py', 'C:\\\\Users\\\\Ivan\\\\PycharmProjects\\\\auto-test-generator\\\\dataset_repos\\\\pydriller\\\\venv\\\\Lib\\\\site-packages\\\\_pytest\\\\mark\\\\__init__.py', 'C:\\\\Users\\\\Ivan\\\\PycharmProjects\\\\auto-test-generator\\\\dataset_repos\\\\pydriller\\\\venv\\\\Lib\\\\site-packages\\\\_pytest\\\\_code\\\\code.py', 'C:\\\\Users\\\\Ivan\\\\PycharmProjects\\\\auto-test-generator\\\\dataset_repos\\\\pydriller\\\\venv\\\\Lib\\\\site-packages\\\\_pytest\\\\_code\\\\source.py', 'C:\\\\Users\\\\Ivan\\\\PycharmProjects\\\\auto-test-generator\\\\dataset_repos\\\\pydriller\\\\venv\\\\Lib\\\\site-packages\\\\_pytest\\\\_code\\\\__init__.py', 'C:\\\\Users\\\\Ivan\\\\PycharmProjects\\\\auto-test-generator\\\\dataset_repos\\\\pydriller\\\\venv\\\\Lib\\\\site-packages\\\\_pytest\\\\_io\\\\saferepr.py', 'C:\\\\Users\\\\Ivan\\\\PycharmProjects\\\\auto-test-generator\\\\dataset_repos\\\\pydriller\\\\venv\\\\Lib\\\\site-packages\\\\_pytest\\\\_io\\\\terminalwriter.py', 'C:\\\\Users\\\\Ivan\\\\PycharmProjects\\\\auto-test-generator\\\\dataset_repos\\\\pydriller\\\\venv\\\\Lib\\\\site-packages\\\\_pytest\\\\_io\\\\wcwidth.py', 'C:\\\\Users\\\\Ivan\\\\PycharmProjects\\\\auto-test-generator\\\\dataset_repos\\\\pydriller\\\\venv\\\\Lib\\\\site-packages\\\\_pytest\\\\_io\\\\__init__.py', 'C:\\\\Users\\\\Ivan\\\\PycharmProjects\\\\auto-test-generator\\\\dataset_repos\\\\pydriller\\\\__MACOSX\\\\test-repos\\\\files\\\\._tmp1.py', 'C:\\\\Users\\\\Ivan\\\\PycharmProjects\\\\auto-test-generator\\\\dataset_repos\\\\pydriller\\\\__MACOSX\\\\test-repos\\\\files\\\\._tmp2.py', 'C:\\\\Users\\\\Ivan\\\\PycharmProjects\\\\auto-test-generator\\\\dataset_repos\\\\pydriller\\\\__MACOSX\\\\test-repos\\\\files\\\\fold1\\\\._tmp3.py', 'C:\\\\Users\\\\Ivan\\\\PycharmProjects\\\\auto-test-generator\\\\dataset_repos\\\\pydriller\\\\__MACOSX\\\\test-repos\\\\files\\\\fold1\\\\._tmp4.py', 'C:\\\\Users\\\\Ivan\\\\PycharmProjects\\\\auto-test-generator\\\\dataset_repos\\\\pydriller\\\\__MACOSX\\\\test-repos\\\\files\\\\fold2\\\\._tmp5.py', 'C:\\\\Users\\\\Ivan\\\\PycharmProjects\\\\auto-test-generator\\\\dataset_repos\\\\pydriller\\\\__MACOSX\\\\test-repos\\\\files\\\\fold2\\\\._tmp6.py', 'C:\\\\Users\\\\Ivan\\\\PycharmProjects\\\\auto-test-generator\\\\dataset_repos\\\\pydriller\\\\__MACOSX\\\\test-repos\\\\files\\\\fold2\\\\fold3\\\\._tmp7.py', 'C:\\\\Users\\\\Ivan\\\\PycharmProjects\\\\auto-test-generator\\\\dataset_repos\\\\pydriller\\\\__MACOSX\\\\test-repos\\\\files\\\\fold2\\\\fold3\\\\._tmp8.py', 'C:\\\\Users\\\\Ivan\\\\PycharmProjects\\\\auto-test-generator\\\\dataset_repos\\\\pydriller\\\\__MACOSX\\\\test-repos\\\\lizard\\\\._git_repository.py', 'C:\\\\Users\\\\Ivan\\\\PycharmProjects\\\\auto-test-generator\\\\dataset_repos\\\\pydriller\\\\__MACOSX\\\\test-repos\\\\lizard\\\\._git_repo_added_method.py', 'C:\\\\Users\\\\Ivan\\\\PycharmProjects\\\\auto-test-generator\\\\dataset_repos\\\\pydriller\\\\__MACOSX\\\\test-repos\\\\lizard\\\\._git_repo_changed_method.py', 'C:\\\\Users\\\\Ivan\\\\PycharmProjects\\\\auto-test-generator\\\\dataset_repos\\\\pydriller\\\\__MACOSX\\\\test-repos\\\\lizard\\\\._git_repo_removed_method.py', 'C:\\\\Users\\\\Ivan\\\\PycharmProjects\\\\auto-test-generator\\\\dataset_repos\\\\pydriller\\\\__MACOSX\\\\test-repos\\\\lizard\\\\._lizard.py', 'C:\\\\Users\\\\Ivan\\\\PycharmProjects\\\\auto-test-generator\\\\dataset_repos\\\\pydriller\\\\__MACOSX\\\\test-repos\\\\order\\\\._git_repository.py', 'C:\\\\Users\\\\Ivan\\\\PycharmProjects\\\\auto-test-generator\\\\dataset_repos\\\\pydriller\\\\__MACOSX\\\\test-repos\\\\pydriller\\\\pydriller\\\\._git_repository.py', 'C:\\\\Users\\\\Ivan\\\\PycharmProjects\\\\auto-test-generator\\\\dataset_repos\\\\pydriller\\\\__MACOSX\\\\test-repos\\\\pydriller\\\\pydriller\\\\._repository_mining.py', 'C:\\\\Users\\\\Ivan\\\\PycharmProjects\\\\auto-test-generator\\\\dataset_repos\\\\pydriller\\\\__MACOSX\\\\test-repos\\\\pydriller\\\\pydriller\\\\.___init__.py', 'C:\\\\Users\\\\Ivan\\\\PycharmProjects\\\\auto-test-generator\\\\dataset_repos\\\\pydriller\\\\__MACOSX\\\\test-repos\\\\pydriller\\\\pydriller\\\\domain\\\\._commit.py', 'C:\\\\Users\\\\Ivan\\\\PycharmProjects\\\\auto-test-generator\\\\dataset_repos\\\\pydriller\\\\__MACOSX\\\\test-repos\\\\pydriller\\\\pydriller\\\\domain\\\\._developer.py', 'C:\\\\Users\\\\Ivan\\\\PycharmProjects\\\\auto-test-generator\\\\dataset_repos\\\\pydriller\\\\__MACOSX\\\\test-repos\\\\pydriller\\\\pydriller\\\\domain\\\\.___init__.py', 'C:\\\\Users\\\\Ivan\\\\PycharmProjects\\\\auto-test-generator\\\\dataset_repos\\\\pydriller\\\\__MACOSX\\\\test-repos\\\\pydriller\\\\pydriller\\\\metrics\\\\.___init__.py', 'C:\\\\Users\\\\Ivan\\\\PycharmProjects\\\\auto-test-generator\\\\dataset_repos\\\\pydriller\\\\__MACOSX\\\\test-repos\\\\pydriller\\\\pydriller\\\\metrics\\\\process\\\\._commits_count.py', 'C:\\\\Users\\\\Ivan\\\\PycharmProjects\\\\auto-test-generator\\\\dataset_repos\\\\pydriller\\\\__MACOSX\\\\test-repos\\\\pydriller\\\\pydriller\\\\metrics\\\\process\\\\._contributors_count.py', 'C:\\\\Users\\\\Ivan\\\\PycharmProjects\\\\auto-test-generator\\\\dataset_repos\\\\pydriller\\\\__MACOSX\\\\test-repos\\\\pydriller\\\\pydriller\\\\metrics\\\\process\\\\._contributors_experience.py', 'C:\\\\Users\\\\Ivan\\\\PycharmProjects\\\\auto-test-generator\\\\dataset_repos\\\\pydriller\\\\__MACOSX\\\\test-repos\\\\pydriller\\\\pydriller\\\\metrics\\\\process\\\\._history_complexity.py', 'C:\\\\Users\\\\Ivan\\\\PycharmProjects\\\\auto-test-generator\\\\dataset_repos\\\\pydriller\\\\__MACOSX\\\\test-repos\\\\pydriller\\\\pydriller\\\\metrics\\\\process\\\\._hunks_count.py', 'C:\\\\Users\\\\Ivan\\\\PycharmProjects\\\\auto-test-generator\\\\dataset_repos\\\\pydriller\\\\__MACOSX\\\\test-repos\\\\pydriller\\\\pydriller\\\\metrics\\\\process\\\\._lines_count.py', 'C:\\\\Users\\\\Ivan\\\\PycharmProjects\\\\auto-test-generator\\\\dataset_repos\\\\pydriller\\\\__MACOSX\\\\test-repos\\\\pydriller\\\\pydriller\\\\metrics\\\\process\\\\._metrics.py', 'C:\\\\Users\\\\Ivan\\\\PycharmProjects\\\\auto-test-generator\\\\dataset_repos\\\\pydriller\\\\__MACOSX\\\\test-repos\\\\pydriller\\\\pydriller\\\\metrics\\\\process\\\\._process_metric.py', 'C:\\\\Users\\\\Ivan\\\\PycharmProjects\\\\auto-test-generator\\\\dataset_repos\\\\pydriller\\\\__MACOSX\\\\test-repos\\\\pydriller\\\\pydriller\\\\metrics\\\\process\\\\.___init__.py', 'C:\\\\Users\\\\Ivan\\\\PycharmProjects\\\\auto-test-generator\\\\dataset_repos\\\\pydriller\\\\__MACOSX\\\\test-repos\\\\pydriller\\\\pydriller\\\\utils\\\\._conf.py', 'C:\\\\Users\\\\Ivan\\\\PycharmProjects\\\\auto-test-generator\\\\dataset_repos\\\\pydriller\\\\__MACOSX\\\\test-repos\\\\pydriller\\\\pydriller\\\\utils\\\\.___init__.py', 'C:\\\\Users\\\\Ivan\\\\PycharmProjects\\\\auto-test-generator\\\\dataset_repos\\\\pydriller\\\\__MACOSX\\\\test-repos\\\\pydriller\\\\tests\\\\._test_commit.py', 'C:\\\\Users\\\\Ivan\\\\PycharmProjects\\\\auto-test-generator\\\\dataset_repos\\\\pydriller\\\\__MACOSX\\\\test-repos\\\\pydriller\\\\tests\\\\._test_developer.py', 'C:\\\\Users\\\\Ivan\\\\PycharmProjects\\\\auto-test-generator\\\\dataset_repos\\\\pydriller\\\\__MACOSX\\\\test-repos\\\\pydriller\\\\tests\\\\._test_diff.py', 'C:\\\\Users\\\\Ivan\\\\PycharmProjects\\\\auto-test-generator\\\\dataset_repos\\\\pydriller\\\\__MACOSX\\\\test-repos\\\\pydriller\\\\tests\\\\._test_git_repository.py', 'C:\\\\Users\\\\Ivan\\\\PycharmProjects\\\\auto-test-generator\\\\dataset_repos\\\\pydriller\\\\__MACOSX\\\\test-repos\\\\pydriller\\\\tests\\\\._test_memory_consumption.py', 'C:\\\\Users\\\\Ivan\\\\PycharmProjects\\\\auto-test-generator\\\\dataset_repos\\\\pydriller\\\\__MACOSX\\\\test-repos\\\\pydriller\\\\tests\\\\._test_repository_mining.py', 'C:\\\\Users\\\\Ivan\\\\PycharmProjects\\\\auto-test-generator\\\\dataset_repos\\\\pydriller\\\\__MACOSX\\\\test-repos\\\\pydriller\\\\tests\\\\.___init__.py', 'C:\\\\Users\\\\Ivan\\\\PycharmProjects\\\\auto-test-generator\\\\dataset_repos\\\\pydriller\\\\__MACOSX\\\\test-repos\\\\pydriller\\\\tests\\\\integration\\\\._test_between_dates.py', 'C:\\\\Users\\\\Ivan\\\\PycharmProjects\\\\auto-test-generator\\\\dataset_repos\\\\pydriller\\\\__MACOSX\\\\test-repos\\\\pydriller\\\\tests\\\\integration\\\\._test_between_tags.py', 'C:\\\\Users\\\\Ivan\\\\PycharmProjects\\\\auto-test-generator\\\\dataset_repos\\\\pydriller\\\\__MACOSX\\\\test-repos\\\\pydriller\\\\tests\\\\integration\\\\._test_commit_filters.py', 'C:\\\\Users\\\\Ivan\\\\PycharmProjects\\\\auto-test-generator\\\\dataset_repos\\\\pydriller\\\\__MACOSX\\\\test-repos\\\\pydriller\\\\tests\\\\integration\\\\._test_dates_and_timezones.py', 'C:\\\\Users\\\\Ivan\\\\PycharmProjects\\\\auto-test-generator\\\\dataset_repos\\\\pydriller\\\\__MACOSX\\\\test-repos\\\\pydriller\\\\tests\\\\integration\\\\._test_ranges.py', 'C:\\\\Users\\\\Ivan\\\\PycharmProjects\\\\auto-test-generator\\\\dataset_repos\\\\pydriller\\\\__MACOSX\\\\test-repos\\\\pydriller\\\\tests\\\\integration\\\\._test_reverse_order.py', 'C:\\\\Users\\\\Ivan\\\\PycharmProjects\\\\auto-test-generator\\\\dataset_repos\\\\pydriller\\\\__MACOSX\\\\test-repos\\\\pydriller\\\\tests\\\\integration\\\\.___init__.py', 'C:\\\\Users\\\\Ivan\\\\PycharmProjects\\\\auto-test-generator\\\\dataset_repos\\\\pydriller\\\\__MACOSX\\\\test-repos\\\\pydriller\\\\tests\\\\metrics\\\\.___init__.py', 'C:\\\\Users\\\\Ivan\\\\PycharmProjects\\\\auto-test-generator\\\\dataset_repos\\\\pydriller\\\\__MACOSX\\\\test-repos\\\\pydriller\\\\tests\\\\metrics\\\\process\\\\._test_commits_count.py', 'C:\\\\Users\\\\Ivan\\\\PycharmProjects\\\\auto-test-generator\\\\dataset_repos\\\\pydriller\\\\__MACOSX\\\\test-repos\\\\pydriller\\\\tests\\\\metrics\\\\process\\\\._test_contributors_count.py', 'C:\\\\Users\\\\Ivan\\\\PycharmProjects\\\\auto-test-generator\\\\dataset_repos\\\\pydriller\\\\__MACOSX\\\\test-repos\\\\pydriller\\\\tests\\\\metrics\\\\process\\\\._test_contributors_experience_count.py', 'C:\\\\Users\\\\Ivan\\\\PycharmProjects\\\\auto-test-generator\\\\dataset_repos\\\\pydriller\\\\__MACOSX\\\\test-repos\\\\pydriller\\\\tests\\\\metrics\\\\process\\\\._test_history_complexity.py', 'C:\\\\Users\\\\Ivan\\\\PycharmProjects\\\\auto-test-generator\\\\dataset_repos\\\\pydriller\\\\__MACOSX\\\\test-repos\\\\pydriller\\\\tests\\\\metrics\\\\process\\\\._test_history_complexity_count.py', 'C:\\\\Users\\\\Ivan\\\\PycharmProjects\\\\auto-test-generator\\\\dataset_repos\\\\pydriller\\\\__MACOSX\\\\test-repos\\\\pydriller\\\\tests\\\\metrics\\\\process\\\\._test_hunks_count.py', 'C:\\\\Users\\\\Ivan\\\\PycharmProjects\\\\auto-test-generator\\\\dataset_repos\\\\pydriller\\\\__MACOSX\\\\test-repos\\\\pydriller\\\\tests\\\\metrics\\\\process\\\\._test_lines_count.py', 'C:\\\\Users\\\\Ivan\\\\PycharmProjects\\\\auto-test-generator\\\\dataset_repos\\\\pydriller\\\\__MACOSX\\\\test-repos\\\\pydriller\\\\tests\\\\metrics\\\\process\\\\._test_minor_contributors_count.py', 'C:\\\\Users\\\\Ivan\\\\PycharmProjects\\\\auto-test-generator\\\\dataset_repos\\\\pydriller\\\\__MACOSX\\\\test-repos\\\\pydriller\\\\tests\\\\metrics\\\\process\\\\.___init__.py']\n"
     ]
    }
   ],
   "source": [
    "listOfFiles = list()\n",
    "for (dirpath, dirnames, filenames) in os.walk(base_dir):\n",
    "    listOfFiles += [os.path.join(dirpath, file) for file in filenames if file.endswith(\".py\")]\n",
    "print(listOfFiles)"
   ],
   "metadata": {
    "collapsed": false,
    "pycharm": {
     "name": "#%%\n"
    }
   }
  },
  {
   "cell_type": "code",
   "execution_count": 167,
   "outputs": [],
   "source": [
    "def find_import(files, searched_entries):\n",
    "    for file in files:\n",
    "        with open(file, 'r') as f:\n",
    "            head = f.readlines()\n",
    "        for line in head:\n",
    "            found_strings = []\n",
    "            for s in searched_entries:\n",
    "                if f'import' in line and s in line:\n",
    "                    print(line)\n",
    "                    found_strings.append(s)\n",
    "            [searched_entries.remove(s) for s in found_strings]\n",
    "        if len(searched_entries) == 0:\n",
    "            break"
   ],
   "metadata": {
    "collapsed": false,
    "pycharm": {
     "name": "#%%\n"
    }
   }
  },
  {
   "cell_type": "code",
   "execution_count": 168,
   "outputs": [
    {
     "name": "stdout",
     "output_type": "stream",
     "text": [
      "from pydriller.metrics.process.process_metrics import ProcessMetrics\n",
      "\n"
     ]
    }
   ],
   "source": [
    "find_import(listOfFiles, set(matches))"
   ],
   "metadata": {
    "collapsed": false,
    "pycharm": {
     "name": "#%%\n"
    }
   }
  },
  {
   "cell_type": "markdown",
   "source": [
    "# Model improvements"
   ],
   "metadata": {
    "collapsed": false,
    "pycharm": {
     "name": "#%% md\n"
    }
   }
  },
  {
   "cell_type": "code",
   "execution_count": 35,
   "outputs": [],
   "source": [
    "prompt = '''\n",
    "# Copyright 2018 Davide Spadini\n",
    "#\n",
    "# Licensed under the Apache License, Version 2.0 (the \"License\");\n",
    "# you may not use this file except in compliance with the License.\n",
    "# You may obtain a copy of the License at\n",
    "#\n",
    "#    http://www.apache.org/licenses/LICENSE-2.0\n",
    "#\n",
    "# Unless required by applicable law or agreed to in writing, software\n",
    "# distributed under the License is distributed on an \"AS IS\" BASIS,\n",
    "# WITHOUT WARRANTIES OR CONDITIONS OF ANY KIND, either express or implied.\n",
    "# See the License for the specific language governing permissions and\n",
    "# limitations under the License.\n",
    "\n",
    "\"\"\"\n",
    "This module contains all the classes regarding a specific commit, such as\n",
    "Commit, Modification,\n",
    "ModificationType and Method.\n",
    "\"\"\"\n",
    "\n",
    "import logging\n",
    "from _datetime import datetime\n",
    "from enum import Enum\n",
    "from pathlib import Path\n",
    "from typing import List, Set, Dict\n",
    "\n",
    "import lizard\n",
    "from git import Repo, Diff, Git, Commit as GitCommit\n",
    "\n",
    "from pydriller.domain.developer import Developer\n",
    "\n",
    "logger = logging.getLogger(__name__)\n",
    "\n",
    "NULL_TREE = '4b825dc642cb6eb9a060e54bf8d69288fbee4904'\n",
    "\n",
    "\n",
    "class ModificationType(Enum):\n",
    "    \"\"\"\n",
    "    Type of Modification. Can be ADD, COPY, RENAME, DELETE, MODIFY or UNKNOWN.\n",
    "    \"\"\"\n",
    "\n",
    "    ADD = 1\n",
    "    COPY = 2\n",
    "    RENAME = 3\n",
    "    DELETE = 4\n",
    "    MODIFY = 5\n",
    "    UNKNOWN = 6\n",
    "\n",
    "\n",
    "class Method:  # pylint: disable=R0902\n",
    "    \"\"\"\n",
    "    This class represents a method in a class. Contains various information\n",
    "    extracted through Lizard.\n",
    "    \"\"\"\n",
    "\n",
    "    def __init__(self, func):\n",
    "        \"\"\"\n",
    "        Initialize a method object. This is calculated using Lizard: it parses\n",
    "        the source code of all the modifications in a commit, extracting\n",
    "        information of the methods contained in the file (if the file is a\n",
    "        source code written in one of the supported programming languages).\n",
    "        \"\"\"\n",
    "\n",
    "        self.name = func.name\n",
    "        self.long_name = func.long_name\n",
    "        self.filename = func.filename\n",
    "        self.nloc = func.nloc\n",
    "        self.complexity = func.cyclomatic_complexity\n",
    "        self.token_count = func.token_count\n",
    "        self.parameters = func.parameters\n",
    "        self.start_line = func.start_line\n",
    "        self.end_line = func.end_line\n",
    "        self.fan_in = func.fan_in\n",
    "        self.fan_out = func.fan_out\n",
    "        self.general_fan_out = func.general_fan_out\n",
    "        self.length = func.length\n",
    "        self.top_nesting_level = func.top_nesting_level\n",
    "\n",
    "\n",
    "class Modification:  # pylint: disable=R0902\n",
    "    \"\"\"\n",
    "    This class contains information regarding a modified file in a commit.\n",
    "    \"\"\"\n",
    "\n",
    "    def __init__(self, old_path: str, new_path: str,\n",
    "                 change_type: ModificationType,\n",
    "                 diff_and_sc: Dict[str, str]):\n",
    "        \"\"\"\n",
    "        Initialize a modification. A modification carries on information\n",
    "        regarding the changed file. Normally, you shouldn't initialize a new\n",
    "        one.\n",
    "        \"\"\"\n",
    "        self._old_path = Path(old_path) if old_path is not None else None\n",
    "        self._new_path = Path(new_path) if new_path is not None else None\n",
    "        self.change_type = change_type\n",
    "        self.diff = diff_and_sc['diff']\n",
    "        self.source_code = diff_and_sc['source_code']\n",
    "        self.source_code_before = diff_and_sc['source_code_before']\n",
    "\n",
    "        self._nloc = None\n",
    "        self._complexity = None\n",
    "        self._token_count = None\n",
    "        self._function_list = []\n",
    "\n",
    "    @property\n",
    "    def added(self) -> int:\n",
    "        \"\"\"\n",
    "        Return the total number of added lines in the file.\n",
    "\n",
    "        :return: int lines_added\n",
    "        \"\"\"\n",
    "        added = 0\n",
    "        for line in self.diff.replace('\\r', '').split(\"\\n\"):\n",
    "            if line.startswith('+') and not line.startswith('+++'):\n",
    "                added += 1\n",
    "        return added\n",
    "\n",
    "    @property\n",
    "    def removed(self):\n",
    "        \"\"\"\n",
    "        Return the total number of deleted lines in the file.\n",
    "\n",
    "        :return: int lines_deleted\n",
    "        \"\"\"\n",
    "        removed = 0\n",
    "        for line in self.diff.replace('\\r', '').split(\"\\n\"):\n",
    "            if line.startswith('-') and not line.startswith('---'):\n",
    "                removed += 1\n",
    "        return removed\n",
    "\n",
    "    @property\n",
    "    def old_path(self):\n",
    "        \"\"\"\n",
    "        Old path of the file. Can be None if the file is added.\n",
    "\n",
    "        :return: str old_path\n",
    "        \"\"\"\n",
    "        if self._old_path:\n",
    "            return str(self._old_path)\n",
    "        return self._old_path\n",
    "\n",
    "    @property\n",
    "    def new_path(self):\n",
    "        \"\"\"\n",
    "        New path of the file. Can be None if the file is deleted.\n",
    "\n",
    "        :return: str new_path\n",
    "        \"\"\"\n",
    "        if self._new_path:\n",
    "            return str(self._new_path)\n",
    "        return self._new_path\n",
    "\n",
    "    @property\n",
    "    def filename(self) -> str:\n",
    "        \"\"\"\n",
    "        Return the filename. Given a path-like-string (e.g.\n",
    "        \"/Users/dspadini/pydriller/myfile.py\") returns only the filename\n",
    "        (e.g. \"myfile.py\")\n",
    "\n",
    "        :return: str filename\n",
    "        \"\"\"\n",
    "        if self._new_path is not None and str(self._new_path) != \"/dev/null\":\n",
    "            path = self._new_path\n",
    "        else:\n",
    "            path = self._old_path\n",
    "\n",
    "        return path.name\n",
    "\n",
    "    @property\n",
    "    def nloc(self) -> int:\n",
    "        \"\"\"\n",
    "        Calculate the LOC of the file.\n",
    "\n",
    "        :return: LOC of the file\n",
    "        \"\"\"\n",
    "        self._calculate_metrics()\n",
    "        return self._nloc\n",
    "\n",
    "    @property\n",
    "    def complexity(self) -> int:\n",
    "        \"\"\"\n",
    "        Calculate the Cyclomatic Complexity of the file.\n",
    "\n",
    "        :return: Cyclomatic Complexity of the file\n",
    "        \"\"\"\n",
    "        self._calculate_metrics()\n",
    "        return self._complexity\n",
    "\n",
    "    @property\n",
    "    def token_count(self) -> int:\n",
    "        \"\"\"\n",
    "        Calculate the token count of functions.\n",
    "\n",
    "        :return: token count\n",
    "        \"\"\"\n",
    "        self._calculate_metrics()\n",
    "        return self._token_count\n",
    "\n",
    "    @property\n",
    "    def methods(self) -> List[Method]:\n",
    "        \"\"\"\n",
    "        Return the list of methods in the file. Every method\n",
    "        contains various information like complexity, loc, name,\n",
    "        number of parameters, etc.\n",
    "\n",
    "        :return: list of methods\n",
    "        \"\"\"\n",
    "        self._calculate_metrics()\n",
    "        return self._function_list\n",
    "\n",
    "    def _calculate_metrics(self):\n",
    "        if self.source_code and self._nloc is None:\n",
    "            l = lizard.analyze_file.analyze_source_code(self.filename,\n",
    "                                                        self.source_code)\n",
    "\n",
    "            self._nloc = l.nloc\n",
    "            self._complexity = l.CCN\n",
    "            self._token_count = l.token_count\n",
    "\n",
    "            for func in l.function_list:\n",
    "                self._function_list.append(Method(func))\n",
    "\n",
    "    def __eq__(self, other):\n",
    "        if not isinstance(other, Modification):\n",
    "            return NotImplemented\n",
    "        if self is other:\n",
    "            return True\n",
    "        return self.__dict__ == other.__dict__\n",
    "\n",
    "    def __str__(self): # pragma: no cover\n",
    "        return (\n",
    "            'MODIFICATION\\n' +\n",
    "            'Old Path: {}\\n'.format(self.old_path) +\n",
    "            'New Path: {}\\n'.format(self.new_path) +\n",
    "            'Type: {}\\n'.format(self.change_type.name) +\n",
    "            'Diff: {}\\n'.format(self.diff) +\n",
    "            'Source code before: {}\\n'.format(self.source_code_before) +\n",
    "            'Source code: {}\\n'.format(self.source_code)\n",
    "        )\n",
    "\n",
    "\n",
    "class Commit:\n",
    "    \"\"\"\n",
    "    Class representing a Commit. Contains all the important information such\n",
    "    as hash, author, dates, and modified files.\n",
    "    \"\"\"\n",
    "\n",
    "    def __init__(self, commit: GitCommit, project_path: Path,\n",
    "                 main_branch: str) -> None:\n",
    "        \"\"\"\n",
    "        Create a commit object.\n",
    "\n",
    "        :param commit: GitPython Commit object\n",
    "        :param project_path: path to the project (temporary folder in case\n",
    "            of a remote repository)\n",
    "        :param main_branch: main branch of the repo\n",
    "        \"\"\"\n",
    "        self._c_object = commit\n",
    "        self._main_branch = main_branch\n",
    "        self.project_path = project_path\n",
    "\n",
    "        self._modifications = None\n",
    "        self._branches = None\n",
    "\n",
    "    @property\n",
    "    def hash(self) -> str:\n",
    "        \"\"\"\n",
    "        Return the SHA of the commit.\n",
    "\n",
    "        :return: str hash\n",
    "        \"\"\"\n",
    "        return self._c_object.hexsha\n",
    "\n",
    "    @property\n",
    "    def author(self) -> Developer:\n",
    "        \"\"\"\n",
    "        Return the author of the commit as a Developer object.\n",
    "\n",
    "        :return: author\n",
    "        \"\"\"\n",
    "        return Developer(self._c_object.author.name,\n",
    "                         self._c_object.author.email)\n",
    "\n",
    "    @property\n",
    "    def committer(self) -> Developer:\n",
    "        \"\"\"\n",
    "        Return the committer of the commit as a Developer object.\n",
    "\n",
    "        :return: committer\n",
    "        \"\"\"\n",
    "        return Developer(self._c_object.committer.name,\n",
    "                         self._c_object.committer.email)\n",
    "\n",
    "    @property\n",
    "    def project_name(self) -> str:\n",
    "        \"\"\"\n",
    "        Return the project name.\n",
    "\n",
    "        :return: project name\n",
    "        \"\"\"\n",
    "        return self.project_path.name\n",
    "\n",
    "    @property\n",
    "    def author_date(self) -> datetime:\n",
    "        \"\"\"\n",
    "        Return the authored datetime.\n",
    "\n",
    "        :return: datetime author_datetime\n",
    "        \"\"\"\n",
    "        return self._c_object.authored_datetime\n",
    "\n",
    "    @property\n",
    "    def committer_date(self) -> datetime:\n",
    "        \"\"\"\n",
    "        Return the committed datetime.\n",
    "\n",
    "        :return: datetime committer_datetime\n",
    "        \"\"\"\n",
    "        return self._c_object.committed_datetime\n",
    "\n",
    "    @property\n",
    "    def author_timezone(self) -> int:\n",
    "        \"\"\"\n",
    "        Author timezone expressed in seconds from epoch.\n",
    "\n",
    "        :return: int timezone\n",
    "        \"\"\"\n",
    "        return self._c_object.author_tz_offset\n",
    "\n",
    "    @property\n",
    "    def committer_timezone(self) -> int:\n",
    "        \"\"\"\n",
    "        Author timezone expressed in seconds from epoch.\n",
    "\n",
    "        :return: int timezone\n",
    "        \"\"\"\n",
    "        return self._c_object.committer_tz_offset\n",
    "\n",
    "    @property\n",
    "    def msg(self) -> str:\n",
    "        \"\"\"\n",
    "        Return commit message.\n",
    "\n",
    "        :return: str commit_message\n",
    "        \"\"\"\n",
    "        return self._c_object.message.strip()\n",
    "\n",
    "    @property\n",
    "    def parents(self) -> List[str]:\n",
    "        \"\"\"\n",
    "        Return the list of parents SHAs.\n",
    "\n",
    "        :return: List[str] parents\n",
    "        \"\"\"\n",
    "        parents = []\n",
    "        for p in self._c_object.parents:\n",
    "            parents.append(p.hexsha)\n",
    "        return parents\n",
    "\n",
    "    @property\n",
    "    def merge(self) -> bool:\n",
    "        \"\"\"\n",
    "        Return True if the commit is a merge, False otherwise.\n",
    "\n",
    "        :return: bool merge\n",
    "        \"\"\"\n",
    "        return len(self._c_object.parents) > 1\n",
    "\n",
    "    @property\n",
    "    def modifications(self) -> List[Modification]:\n",
    "        \"\"\"\n",
    "        Return a list of modified files.\n",
    "\n",
    "        :return: List[Modification] modifications\n",
    "        \"\"\"\n",
    "        if self._modifications is None:\n",
    "            self._modifications = self._get_modifications()\n",
    "\n",
    "        return self._modifications\n",
    "\n",
    "    def _get_modifications(self):\n",
    "        repo = Repo(str(self.project_path))\n",
    "        commit = self._c_object\n",
    "\n",
    "        if len(self.parents) == 1:\n",
    "            # the commit has a parent\n",
    "            diff_index = self._c_object.parents[0].diff(commit,\n",
    "                                                        create_patch=True)\n",
    "        elif len(self.parents) > 1:\n",
    "            # if it's a merge commit, the modified files of the commit are the\n",
    "            # conflicts. This because if the file is not in conflict,\n",
    "            # pydriller will visit the modification in one of the previous\n",
    "            # commits. However, parsing the output of a combined diff (that\n",
    "            # returns the list of conflicts) is challenging: so, right now,\n",
    "            # I will return an empty array, in the meanwhile I will try to\n",
    "            # find a way to parse the output.\n",
    "            # c_git = Git(str(self.project_path))\n",
    "            # d = c_git.diff_tree(\"--cc\", commit.hexsha, '-r', '--abbrev=40',\n",
    "            #                     '--full-index', '-M', '-p', '--no-color')\n",
    "            diff_index = []\n",
    "        else:\n",
    "            # this is the first commit of the repo. Comparing it with git\n",
    "            # NULL TREE\n",
    "            parent = repo.tree(NULL_TREE)\n",
    "            diff_index = parent.diff(commit.tree, create_patch=True)\n",
    "\n",
    "        return self._parse_diff(diff_index)\n",
    "\n",
    "    def _parse_diff(self, diff_index) -> List[Modification]:\n",
    "        modifications_list = []\n",
    "        for diff in diff_index:\n",
    "            old_path = diff.a_path\n",
    "            new_path = diff.b_path\n",
    "            change_type = self._from_change_to_modification_type(diff)\n",
    "\n",
    "            diff_and_sc = {\n",
    "                'diff': self._get_decoded_str(diff.diff),\n",
    "                'source_code_before': self._get_decoded_sc_str(\n",
    "                    diff.a_blob),\n",
    "                'source_code': self._get_decoded_sc_str(\n",
    "                    diff.b_blob)\n",
    "            }\n",
    "\n",
    "            modifications_list.append(Modification(old_path, new_path,\n",
    "                                                   change_type, diff_and_sc))\n",
    "\n",
    "        return modifications_list\n",
    "\n",
    "    def _get_decoded_str(self, diff):\n",
    "        try:\n",
    "            return diff.decode('utf-8', 'ignore')\n",
    "        except (UnicodeDecodeError, AttributeError, ValueError):\n",
    "            logger.debug('Could not load the diff of a '\n",
    "                         'file in commit %s', self._c_object.hexsha)\n",
    "            return None\n",
    "\n",
    "    def _get_decoded_sc_str(self, diff):\n",
    "        try:\n",
    "            return diff.data_stream.read().decode('utf-8', 'ignore')\n",
    "        except (UnicodeDecodeError, AttributeError, ValueError):\n",
    "            logger.debug('Could not load source code of a '\n",
    "                         'file in commit %s', self._c_object.hexsha)\n",
    "            return None\n",
    "\n",
    "    @property\n",
    "    def in_main_branch(self) -> bool:\n",
    "        \"\"\"\n",
    "        Return True if the commit is in the main branch, False otherwise.\n",
    "\n",
    "        :return: bool in_main_branch\n",
    "        \"\"\"\n",
    "        return self._main_branch in self.branches\n",
    "\n",
    "    @property\n",
    "    def branches(self) -> Set[str]:\n",
    "        \"\"\"\n",
    "        Return the set of branches that contain the commit.\n",
    "\n",
    "        :return: set(str) branches\n",
    "        \"\"\"\n",
    "        if self._branches is None:\n",
    "            self._branches = self._get_branches()\n",
    "\n",
    "        return self._branches\n",
    "\n",
    "    def _get_branches(self):\n",
    "        c_git = Git(str(self.project_path))\n",
    "        branches = set()\n",
    "        for branch in set(c_git.branch('--contains', self.hash).split('\\n')):\n",
    "            branches.add(branch.strip().replace('* ', ''))\n",
    "        return branches\n",
    "\n",
    "    # pylint disable=R0902\n",
    "    def _from_change_to_modification_type(self, diff: Diff):\n",
    "        if diff.new_file:\n",
    "            return ModificationType.ADD\n",
    "        if diff.deleted_file:\n",
    "            return ModificationType.DELETE\n",
    "        if diff.renamed_file:\n",
    "            return ModificationType.RENAME\n",
    "        if diff.a_blob and diff.b_blob and diff.a_blob != diff.b_blob:\n",
    "            return ModificationType.MODIFY\n",
    "\n",
    "        return ModificationType.UNKNOWN\n",
    "\n",
    "    def __eq__(self, other):\n",
    "        if not isinstance(other, Commit):\n",
    "            return NotImplemented\n",
    "        if self is other:\n",
    "            return True\n",
    "\n",
    "        return self.__dict__ == other.__dict__\n",
    "\n",
    "    def __str__(self): # pragma: no cover\n",
    "        return (\n",
    "            'Hash: {}\\n'.format(self.hash) +\n",
    "            'Author: {}\\n'.format(self.author.name) +\n",
    "            'Author email: {}\\n'.format(self.author.email) +\n",
    "            'Committer: {}\\n'.format(self.committer.name) +\n",
    "            'Committer email: {}\\n'.format(self.committer.email) +\n",
    "            'Author date: {}\\n'.format(\n",
    "                self.author_date.strftime(\"%Y-%m-%d %H:%M:%S\")) +\n",
    "            'Committer date: {}\\n'.format(\n",
    "                self.committer_date.strftime(\"%Y-%m-%d %H:%M:%S\")) +\n",
    "            'Message: {}\\n'.format(self.msg) +\n",
    "            'Parent: {}\\n'.format(\"\\n\".join(map(str, self.parents))) +\n",
    "            'Merge: {}\\n'.format(self.merge) +\n",
    "            'Modifications: \\n{}'.format(\n",
    "                \"\\n\".join(map(str, self.modifications))) +\n",
    "            'Branches: \\n{}'.format(\"\\n\".join(map(str, self.branches))) +\n",
    "            'In main branch: {}\\n'.format(self.in_main_branch)\n",
    "        )\n",
    "\"\"\"\n",
    "Test which tests class Commit and dmm_unit_complexity. For the test use test-repos/dmm-test-repo. Assert the dmm_unit_complexity to be 1.0\n",
    "\"\"\"\n",
    "def test_\n",
    "'''"
   ],
   "metadata": {
    "collapsed": false,
    "pycharm": {
     "name": "#%%\n"
    }
   }
  },
  {
   "cell_type": "code",
   "execution_count": 36,
   "outputs": [],
   "source": [
    "import openai\n",
    "import os\n",
    "openai.api_key = os.getenv(\"OPENAI_API_KEY\")\n",
    "response = openai.Completion.create(\n",
    "                engine=\"code-davinci-002\",\n",
    "                prompt=prompt,\n",
    "                temperature=0,\n",
    "                max_tokens=256,\n",
    "                n=4,\n",
    "                frequency_penalty=0,\n",
    "                presence_penalty=0,\n",
    "                echo=True,\n",
    "                stop=[\"#\"]\n",
    ")\n",
    "print(response)"
   ],
   "metadata": {
    "collapsed": false,
    "pycharm": {
     "name": "#%%\n"
    }
   }
  },
  {
   "cell_type": "code",
   "execution_count": 228,
   "outputs": [],
   "source": [
    "import ast\n",
    "gen_code = response['choices'][3]['text']"
   ],
   "metadata": {
    "collapsed": false,
    "pycharm": {
     "name": "#%%\n"
    }
   }
  },
  {
   "cell_type": "code",
   "execution_count": 37,
   "outputs": [],
   "source": [
    "from generation.Model import Model\n",
    "\n",
    "m = Model()\n",
    "code = m.generate_test(prompt)"
   ],
   "metadata": {
    "collapsed": false,
    "pycharm": {
     "name": "#%%\n"
    }
   }
  },
  {
   "cell_type": "code",
   "execution_count": 38,
   "outputs": [],
   "source": [
    "res = m.complete(prompt)"
   ],
   "metadata": {
    "collapsed": false,
    "pycharm": {
     "name": "#%%\n"
    }
   }
  },
  {
   "cell_type": "code",
   "execution_count": 21,
   "outputs": [],
   "source": [
    "import re\n",
    "import ast\n",
    "def compile_code(code, depth=90):\n",
    "    if depth == 0:\n",
    "        print(\"Couldn't make compilable for code\")\n",
    "        return code\n",
    "    try:\n",
    "        ast.parse(code)\n",
    "        return code\n",
    "    except SyntaxError as e:\n",
    "        lines = code.split(\"\\n\")\n",
    "        line_number = re.findall(r\"line (\\d+)\", e.__str__())[0]\n",
    "        print(\"Syntax Error:\", line_number, e)\n",
    "        lines.pop(int(line_number) - 1)\n",
    "        return compile_code(\"\\n\".join(lines), depth - 1)\n",
    "    except NameError as e:\n",
    "        print(\"Name error: \", e)\n",
    "        return code"
   ],
   "metadata": {
    "collapsed": false,
    "pycharm": {
     "name": "#%%\n"
    }
   }
  },
  {
   "cell_type": "code",
   "execution_count": 39,
   "outputs": [
    {
     "name": "stdout",
     "output_type": "stream",
     "text": [
      "Syntax Error: 114 EOL while scanning string literal (<unknown>, line 114)\n",
      "Syntax Error: 114 EOL while scanning string literal (<unknown>, line 114)\n",
      "Syntax Error: 114 unexpected indent (<unknown>, line 114)\n",
      "Syntax Error: 114 unexpected indent (<unknown>, line 114)\n",
      "Syntax Error: 124 EOL while scanning string literal (<unknown>, line 124)\n",
      "Syntax Error: 124 EOL while scanning string literal (<unknown>, line 124)\n",
      "Syntax Error: 124 unexpected indent (<unknown>, line 124)\n",
      "Syntax Error: 124 unexpected indent (<unknown>, line 124)\n",
      "Syntax Error: 227 EOL while scanning string literal (<unknown>, line 227)\n",
      "Syntax Error: 227 EOL while scanning string literal (<unknown>, line 227)\n",
      "Syntax Error: 227 EOL while scanning string literal (<unknown>, line 227)\n",
      "Syntax Error: 227 EOL while scanning string literal (<unknown>, line 227)\n",
      "Syntax Error: 227 EOL while scanning string literal (<unknown>, line 227)\n",
      "Syntax Error: 227 EOL while scanning string literal (<unknown>, line 227)\n",
      "Syntax Error: 227 EOL while scanning string literal (<unknown>, line 227)\n",
      "Syntax Error: 227 EOL while scanning string literal (<unknown>, line 227)\n",
      "Syntax Error: 227 EOL while scanning string literal (<unknown>, line 227)\n",
      "Syntax Error: 227 EOL while scanning string literal (<unknown>, line 227)\n",
      "Syntax Error: 227 EOL while scanning string literal (<unknown>, line 227)\n",
      "Syntax Error: 227 EOL while scanning string literal (<unknown>, line 227)\n",
      "Syntax Error: 227 EOL while scanning string literal (<unknown>, line 227)\n",
      "Syntax Error: 227 EOL while scanning string literal (<unknown>, line 227)\n",
      "Syntax Error: 457 EOL while scanning string literal (<unknown>, line 457)\n",
      "Syntax Error: 457 EOL while scanning string literal (<unknown>, line 457)\n",
      "Syntax Error: 457 unexpected indent (<unknown>, line 457)\n",
      "Syntax Error: 482 EOL while scanning string literal (<unknown>, line 482)\n",
      "Syntax Error: 482 EOL while scanning string literal (<unknown>, line 482)\n",
      "Syntax Error: 482 EOL while scanning string literal (<unknown>, line 482)\n",
      "Syntax Error: 482 EOL while scanning string literal (<unknown>, line 482)\n",
      "Syntax Error: 482 EOL while scanning string literal (<unknown>, line 482)\n",
      "Syntax Error: 482 EOL while scanning string literal (<unknown>, line 482)\n",
      "Syntax Error: 482 EOL while scanning string literal (<unknown>, line 482)\n",
      "Syntax Error: 482 EOL while scanning string literal (<unknown>, line 482)\n",
      "Syntax Error: 482 EOL while scanning string literal (<unknown>, line 482)\n",
      "Syntax Error: 482 EOL while scanning string literal (<unknown>, line 482)\n",
      "Syntax Error: 482 EOL while scanning string literal (<unknown>, line 482)\n",
      "Syntax Error: 482 EOL while scanning string literal (<unknown>, line 482)\n",
      "Syntax Error: 482 invalid syntax (<unknown>, line 482)\n",
      "Syntax Error: 482 EOL while scanning string literal (<unknown>, line 482)\n",
      "Syntax Error: 482 EOL while scanning string literal (<unknown>, line 482)\n",
      "Syntax Error: 482 invalid syntax (<unknown>, line 482)\n",
      "Syntax Error: 482 EOL while scanning string literal (<unknown>, line 482)\n",
      "Syntax Error: 482 EOL while scanning string literal (<unknown>, line 482)\n",
      "Syntax Error: 482 EOL while scanning string literal (<unknown>, line 482)\n",
      "Syntax Error: 482 EOL while scanning string literal (<unknown>, line 482)\n",
      "Syntax Error: 482 EOL while scanning string literal (<unknown>, line 482)\n",
      "Syntax Error: 482 EOL while scanning string literal (<unknown>, line 482)\n",
      "Syntax Error: 482 EOL while scanning string literal (<unknown>, line 482)\n",
      "Syntax Error: 482 EOL while scanning string literal (<unknown>, line 482)\n",
      "Syntax Error: 482 EOL while scanning string literal (<unknown>, line 482)\n",
      "Syntax Error: 482 EOL while scanning string literal (<unknown>, line 482)\n",
      "Syntax Error: 482 EOL while scanning string literal (<unknown>, line 482)\n",
      "Syntax Error: 482 EOL while scanning string literal (<unknown>, line 482)\n",
      "Syntax Error: 482 EOL while scanning string literal (<unknown>, line 482)\n",
      "Syntax Error: 482 EOL while scanning string literal (<unknown>, line 482)\n",
      "Syntax Error: 482 EOL while scanning string literal (<unknown>, line 482)\n",
      "Syntax Error: 482 EOL while scanning string literal (<unknown>, line 482)\n",
      "Syntax Error: 486 invalid syntax (<unknown>, line 486)\n",
      "Syntax Error: 498 invalid syntax (<unknown>, line 498)\n"
     ]
    },
    {
     "data": {
      "text/plain": "'\\n# Copyright 2018 Davide Spadini\\n#\\n# Licensed under the Apache License, Version 2.0 (the \"License\");\\n# you may not use this file except in compliance with the License.\\n# You may obtain a copy of the License at\\n#\\n#    http://www.apache.org/licenses/LICENSE-2.0\\n#\\n# Unless required by applicable law or agreed to in writing, software\\n# distributed under the License is distributed on an \"AS IS\" BASIS,\\n# WITHOUT WARRANTIES OR CONDITIONS OF ANY KIND, either express or implied.\\n# See the License for the specific language governing permissions and\\n# limitations under the License.\\n\\n\"\"\"\\nThis module contains all the classes regarding a specific commit, such as\\nCommit, Modification,\\nModificationType and Method.\\n\"\"\"\\n\\nimport logging\\nfrom _datetime import datetime\\nfrom enum import Enum\\nfrom pathlib import Path\\nfrom typing import List, Set, Dict\\n\\nimport lizard\\nfrom git import Repo, Diff, Git, Commit as GitCommit\\n\\nfrom pydriller.domain.developer import Developer\\n\\nlogger = logging.getLogger(__name__)\\n\\nNULL_TREE = \\'4b825dc642cb6eb9a060e54bf8d69288fbee4904\\'\\n\\n\\nclass ModificationType(Enum):\\n    \"\"\"\\n    Type of Modification. Can be ADD, COPY, RENAME, DELETE, MODIFY or UNKNOWN.\\n    \"\"\"\\n\\n    ADD = 1\\n    COPY = 2\\n    RENAME = 3\\n    DELETE = 4\\n    MODIFY = 5\\n    UNKNOWN = 6\\n\\n\\nclass Method:  # pylint: disable=R0902\\n    \"\"\"\\n    This class represents a method in a class. Contains various information\\n    extracted through Lizard.\\n    \"\"\"\\n\\n    def __init__(self, func):\\n        \"\"\"\\n        Initialize a method object. This is calculated using Lizard: it parses\\n        the source code of all the modifications in a commit, extracting\\n        information of the methods contained in the file (if the file is a\\n        source code written in one of the supported programming languages).\\n        \"\"\"\\n\\n        self.name = func.name\\n        self.long_name = func.long_name\\n        self.filename = func.filename\\n        self.nloc = func.nloc\\n        self.complexity = func.cyclomatic_complexity\\n        self.token_count = func.token_count\\n        self.parameters = func.parameters\\n        self.start_line = func.start_line\\n        self.end_line = func.end_line\\n        self.fan_in = func.fan_in\\n        self.fan_out = func.fan_out\\n        self.general_fan_out = func.general_fan_out\\n        self.length = func.length\\n        self.top_nesting_level = func.top_nesting_level\\n\\n\\nclass Modification:  # pylint: disable=R0902\\n    \"\"\"\\n    This class contains information regarding a modified file in a commit.\\n    \"\"\"\\n\\n    def __init__(self, old_path: str, new_path: str,\\n                 change_type: ModificationType,\\n                 diff_and_sc: Dict[str, str]):\\n        \"\"\"\\n        Initialize a modification. A modification carries on information\\n        regarding the changed file. Normally, you shouldn\\'t initialize a new\\n        one.\\n        \"\"\"\\n        self._old_path = Path(old_path) if old_path is not None else None\\n        self._new_path = Path(new_path) if new_path is not None else None\\n        self.change_type = change_type\\n        self.diff = diff_and_sc[\\'diff\\']\\n        self.source_code = diff_and_sc[\\'source_code\\']\\n        self.source_code_before = diff_and_sc[\\'source_code_before\\']\\n\\n        self._nloc = None\\n        self._complexity = None\\n        self._token_count = None\\n        self._function_list = []\\n\\n    @property\\n    def added(self) -> int:\\n        \"\"\"\\n        Return the total number of added lines in the file.\\n\\n        :return: int lines_added\\n        \"\"\"\\n        added = 0\\n        return added\\n\\n    @property\\n    def removed(self):\\n        \"\"\"\\n        Return the total number of deleted lines in the file.\\n\\n        :return: int lines_deleted\\n        \"\"\"\\n        removed = 0\\n        return removed\\n\\n    @property\\n    def old_path(self):\\n        \"\"\"\\n        Old path of the file. Can be None if the file is added.\\n\\n        :return: str old_path\\n        \"\"\"\\n        if self._old_path:\\n            return str(self._old_path)\\n        return self._old_path\\n\\n    @property\\n    def new_path(self):\\n        \"\"\"\\n        New path of the file. Can be None if the file is deleted.\\n\\n        :return: str new_path\\n        \"\"\"\\n        if self._new_path:\\n            return str(self._new_path)\\n        return self._new_path\\n\\n    @property\\n    def filename(self) -> str:\\n        \"\"\"\\n        Return the filename. Given a path-like-string (e.g.\\n        \"/Users/dspadini/pydriller/myfile.py\") returns only the filename\\n        (e.g. \"myfile.py\")\\n\\n        :return: str filename\\n        \"\"\"\\n        if self._new_path is not None and str(self._new_path) != \"/dev/null\":\\n            path = self._new_path\\n        else:\\n            path = self._old_path\\n\\n        return path.name\\n\\n    @property\\n    def nloc(self) -> int:\\n        \"\"\"\\n        Calculate the LOC of the file.\\n\\n        :return: LOC of the file\\n        \"\"\"\\n        self._calculate_metrics()\\n        return self._nloc\\n\\n    @property\\n    def complexity(self) -> int:\\n        \"\"\"\\n        Calculate the Cyclomatic Complexity of the file.\\n\\n        :return: Cyclomatic Complexity of the file\\n        \"\"\"\\n        self._calculate_metrics()\\n        return self._complexity\\n\\n    @property\\n    def token_count(self) -> int:\\n        \"\"\"\\n        Calculate the token count of functions.\\n\\n        :return: token count\\n        \"\"\"\\n        self._calculate_metrics()\\n        return self._token_count\\n\\n    @property\\n    def methods(self) -> List[Method]:\\n        \"\"\"\\n        Return the list of methods in the file. Every method\\n        contains various information like complexity, loc, name,\\n        number of parameters, etc.\\n\\n        :return: list of methods\\n        \"\"\"\\n        self._calculate_metrics()\\n        return self._function_list\\n\\n    def _calculate_metrics(self):\\n        if self.source_code and self._nloc is None:\\n            l = lizard.analyze_file.analyze_source_code(self.filename,\\n                                                        self.source_code)\\n\\n            self._nloc = l.nloc\\n            self._complexity = l.CCN\\n            self._token_count = l.token_count\\n\\n            for func in l.function_list:\\n                self._function_list.append(Method(func))\\n\\n    def __eq__(self, other):\\n        if not isinstance(other, Modification):\\n            return NotImplemented\\n        if self is other:\\n            return True\\n        return self.__dict__ == other.__dict__\\n\\n    def __str__(self): # pragma: no cover\\n        return (\\n        )\\n\\n\\nclass Commit:\\n    \"\"\"\\n    Class representing a Commit. Contains all the important information such\\n    as hash, author, dates, and modified files.\\n    \"\"\"\\n\\n    def __init__(self, commit: GitCommit, project_path: Path,\\n                 main_branch: str) -> None:\\n        \"\"\"\\n        Create a commit object.\\n\\n        :param commit: GitPython Commit object\\n        :param project_path: path to the project (temporary folder in case\\n            of a remote repository)\\n        :param main_branch: main branch of the repo\\n        \"\"\"\\n        self._c_object = commit\\n        self._main_branch = main_branch\\n        self.project_path = project_path\\n\\n        self._modifications = None\\n        self._branches = None\\n\\n    @property\\n    def hash(self) -> str:\\n        \"\"\"\\n        Return the SHA of the commit.\\n\\n        :return: str hash\\n        \"\"\"\\n        return self._c_object.hexsha\\n\\n    @property\\n    def author(self) -> Developer:\\n        \"\"\"\\n        Return the author of the commit as a Developer object.\\n\\n        :return: author\\n        \"\"\"\\n        return Developer(self._c_object.author.name,\\n                         self._c_object.author.email)\\n\\n    @property\\n    def committer(self) -> Developer:\\n        \"\"\"\\n        Return the committer of the commit as a Developer object.\\n\\n        :return: committer\\n        \"\"\"\\n        return Developer(self._c_object.committer.name,\\n                         self._c_object.committer.email)\\n\\n    @property\\n    def project_name(self) -> str:\\n        \"\"\"\\n        Return the project name.\\n\\n        :return: project name\\n        \"\"\"\\n        return self.project_path.name\\n\\n    @property\\n    def author_date(self) -> datetime:\\n        \"\"\"\\n        Return the authored datetime.\\n\\n        :return: datetime author_datetime\\n        \"\"\"\\n        return self._c_object.authored_datetime\\n\\n    @property\\n    def committer_date(self) -> datetime:\\n        \"\"\"\\n        Return the committed datetime.\\n\\n        :return: datetime committer_datetime\\n        \"\"\"\\n        return self._c_object.committed_datetime\\n\\n    @property\\n    def author_timezone(self) -> int:\\n        \"\"\"\\n        Author timezone expressed in seconds from epoch.\\n\\n        :return: int timezone\\n        \"\"\"\\n        return self._c_object.author_tz_offset\\n\\n    @property\\n    def committer_timezone(self) -> int:\\n        \"\"\"\\n        Author timezone expressed in seconds from epoch.\\n\\n        :return: int timezone\\n        \"\"\"\\n        return self._c_object.committer_tz_offset\\n\\n    @property\\n    def msg(self) -> str:\\n        \"\"\"\\n        Return commit message.\\n\\n        :return: str commit_message\\n        \"\"\"\\n        return self._c_object.message.strip()\\n\\n    @property\\n    def parents(self) -> List[str]:\\n        \"\"\"\\n        Return the list of parents SHAs.\\n\\n        :return: List[str] parents\\n        \"\"\"\\n        parents = []\\n        for p in self._c_object.parents:\\n            parents.append(p.hexsha)\\n        return parents\\n\\n    @property\\n    def merge(self) -> bool:\\n        \"\"\"\\n        Return True if the commit is a merge, False otherwise.\\n\\n        :return: bool merge\\n        \"\"\"\\n        return len(self._c_object.parents) > 1\\n\\n    @property\\n    def modifications(self) -> List[Modification]:\\n        \"\"\"\\n        Return a list of modified files.\\n\\n        :return: List[Modification] modifications\\n        \"\"\"\\n        if self._modifications is None:\\n            self._modifications = self._get_modifications()\\n\\n        return self._modifications\\n\\n    def _get_modifications(self):\\n        repo = Repo(str(self.project_path))\\n        commit = self._c_object\\n\\n        if len(self.parents) == 1:\\n            # the commit has a parent\\n            diff_index = self._c_object.parents[0].diff(commit,\\n                                                        create_patch=True)\\n        elif len(self.parents) > 1:\\n            # if it\\'s a merge commit, the modified files of the commit are the\\n            # conflicts. This because if the file is not in conflict,\\n            # pydriller will visit the modification in one of the previous\\n            # commits. However, parsing the output of a combined diff (that\\n            # returns the list of conflicts) is challenging: so, right now,\\n            # I will return an empty array, in the meanwhile I will try to\\n            # find a way to parse the output.\\n            # c_git = Git(str(self.project_path))\\n            # d = c_git.diff_tree(\"--cc\", commit.hexsha, \\'-r\\', \\'--abbrev=40\\',\\n            #                     \\'--full-index\\', \\'-M\\', \\'-p\\', \\'--no-color\\')\\n            diff_index = []\\n        else:\\n            # this is the first commit of the repo. Comparing it with git\\n            # NULL TREE\\n            parent = repo.tree(NULL_TREE)\\n            diff_index = parent.diff(commit.tree, create_patch=True)\\n\\n        return self._parse_diff(diff_index)\\n\\n    def _parse_diff(self, diff_index) -> List[Modification]:\\n        modifications_list = []\\n        for diff in diff_index:\\n            old_path = diff.a_path\\n            new_path = diff.b_path\\n            change_type = self._from_change_to_modification_type(diff)\\n\\n            diff_and_sc = {\\n                \\'diff\\': self._get_decoded_str(diff.diff),\\n                \\'source_code_before\\': self._get_decoded_sc_str(\\n                    diff.a_blob),\\n                \\'source_code\\': self._get_decoded_sc_str(\\n                    diff.b_blob)\\n            }\\n\\n            modifications_list.append(Modification(old_path, new_path,\\n                                                   change_type, diff_and_sc))\\n\\n        return modifications_list\\n\\n    def _get_decoded_str(self, diff):\\n        try:\\n            return diff.decode(\\'utf-8\\', \\'ignore\\')\\n        except (UnicodeDecodeError, AttributeError, ValueError):\\n            logger.debug(\\'Could not load the diff of a \\'\\n                         \\'file in commit %s\\', self._c_object.hexsha)\\n            return None\\n\\n    def _get_decoded_sc_str(self, diff):\\n        try:\\n            return diff.data_stream.read().decode(\\'utf-8\\', \\'ignore\\')\\n        except (UnicodeDecodeError, AttributeError, ValueError):\\n            logger.debug(\\'Could not load source code of a \\'\\n                         \\'file in commit %s\\', self._c_object.hexsha)\\n            return None\\n\\n    @property\\n    def in_main_branch(self) -> bool:\\n        \"\"\"\\n        Return True if the commit is in the main branch, False otherwise.\\n\\n        :return: bool in_main_branch\\n        \"\"\"\\n        return self._main_branch in self.branches\\n\\n    @property\\n    def branches(self) -> Set[str]:\\n        \"\"\"\\n        Return the set of branches that contain the commit.\\n\\n        :return: set(str) branches\\n        \"\"\"\\n        if self._branches is None:\\n            self._branches = self._get_branches()\\n\\n        return self._branches\\n\\n    def _get_branches(self):\\n        c_git = Git(str(self.project_path))\\n        branches = set()\\n        return branches\\n\\n    # pylint disable=R0902\\n    def _from_change_to_modification_type(self, diff: Diff):\\n        if diff.new_file:\\n            return ModificationType.ADD\\n        if diff.deleted_file:\\n            return ModificationType.DELETE\\n        if diff.renamed_file:\\n            return ModificationType.RENAME\\n        if diff.a_blob and diff.b_blob and diff.a_blob != diff.b_blob:\\n            return ModificationType.MODIFY\\n\\n        return ModificationType.UNKNOWN\\n\\n    def __eq__(self, other):\\n        if not isinstance(other, Commit):\\n            return NotImplemented\\n        if self is other:\\n            return True\\n\\n        return self.__dict__ == other.__dict__\\n\\n    def __str__(self): # pragma: no cover\\n        return (\\n        )\\n\"\"\"\\nTest which tests class Commit and dmm_unit_complexity. For the test use test-repos/dmm-test-repo. Assert the dmm_unit_complexity to be 1.0\\n\"\"\"\\n\\nif __name__ == \\'__main__\\':\\n    from pydriller import RepositoryMining\\n    from pydriller.domain.commit import Commit\\n    from pydriller.metrics.process.dmm_unit_complexity import DMMUnitComplexity\\n    from pydriller.metrics.process.dmm_unit_complexity import DMMUnitComplexity\\n    from pydriller.metrics.process.dmm_unit_complexity import DMMUnitComplexity\\n    from pydriller.metrics.process.dmm_unit_complexity import DMMUnitComplexity\\n    from pydriller.metrics.process.dmm_unit_complexity import DMMUnitComplexity\\n    from pydriller.metrics.process.dmm_unit_complexity import DMMUnitComplexity\\n    from pydriller.metrics.process.dmm_unit_complexity import DMMUnitComplexity\\n    from pydriller.metrics.process.dmm_unit_complexity import DMMUnitComplexity'"
     },
     "execution_count": 39,
     "metadata": {},
     "output_type": "execute_result"
    }
   ],
   "source": [
    "compile_code(res[0])"
   ],
   "metadata": {
    "collapsed": false,
    "pycharm": {
     "name": "#%%\n"
    }
   }
  },
  {
   "cell_type": "code",
   "execution_count": 42,
   "outputs": [],
   "source": [
    "import openai\n",
    "openai.api_key = os.getenv(\"OPENAI_API_KEY\")\n",
    "response = openai.Edit.create(\n",
    "            model=\"code-davinci-edit-001\",\n",
    "            input='''\n",
    "###Python3\n",
    "import pytest\n",
    "\n",
    "def test_calculator_can_calculate_equation_with_plus_operator():\n",
    "\n",
    "    operators = [PlusOperator()]\n",
    "\n",
    "    calc = Calculator(operators)\n",
    "\n",
    "    assert calc.calculate(\"1 + 2 + 4 + 5\") == 12\n",
    "\n",
    "    assert calc.calculate(\"10+10+10\") == 30\n",
    "\n",
    "\"\"\"\n",
    "\n",
    "Added basic Calucator functionality.\n",
    "\n",
    "Calculator should be able to calculate equations with PlusOperator as follows:\n",
    "\n",
    "1+2+4+5=12\n",
    "\n",
    "10+10+10=30\n",
    "\n",
    "The tests are testing: class Calculator\n",
    "\n",
    "\"\"\"\n",
    "\n",
    "def test_calculator_can_calculate_equation_with_plus_operator():\n",
    "\n",
    "    operators = [PlusOperator()]\n",
    "\n",
    "    calc = Calculator(operators)\n",
    "\n",
    "    assert calc.calculate(\"1+2+4+5\") == 12\n",
    "\n",
    "    assert calc.calculate(\"10+10+10\n",
    "''',\n",
    "            instruction=\"Fix compilation\",\n",
    "            temperature=0,\n",
    "            top_p=1\n",
    "        )"
   ],
   "metadata": {
    "collapsed": false,
    "pycharm": {
     "name": "#%%\n"
    }
   }
  },
  {
   "cell_type": "code",
   "execution_count": 45,
   "outputs": [
    {
     "name": "stdout",
     "output_type": "stream",
     "text": [
      "\n",
      "###Python3\n",
      "import pytest\n",
      "\n",
      "def test_calculator_can_calculate_equation_with_plus_operator():\n",
      "\n",
      "    operators = [PlusOperator()]\n",
      "\n",
      "    calc = Calculator(operators)\n",
      "\n",
      "    assert calc.calculate(\"1 + 2 + 4 + 5\") == 12\n",
      "\n",
      "    assert calc.calculate(\"10+10+10\") == 30\n",
      "\n",
      "\"\"\"\n",
      "\n",
      "Added basic Calucator functionality.\n",
      "\n",
      "Calculator should be able to calculate equations with PlusOperator as follows:\n",
      "\n",
      "1+2+4+5=12\n",
      "\n",
      "10+10+10=30\n",
      "\n",
      "The tests are testing: class Calculator\n",
      "\n",
      "\"\"\"\n",
      "\n",
      "def test_calculator_can_calculate_equation_with_plus_operator():\n",
      "\n",
      "    operators = [PlusOperator()]\n",
      "\n",
      "    calc = Calculator(operators)\n",
      "\n",
      "    assert calc.calculate(\"1+2+4+5\") == 12\n",
      "\n",
      "    assert calc.calculate(\"10+10+10\")\n",
      "\n"
     ]
    }
   ],
   "source": [
    "print(response['choices'][0]['text'])"
   ],
   "metadata": {
    "collapsed": false,
    "pycharm": {
     "name": "#%%\n"
    }
   }
  }
 ],
 "metadata": {
  "kernelspec": {
   "display_name": "Python 3",
   "language": "python",
   "name": "python3"
  },
  "language_info": {
   "codemirror_mode": {
    "name": "ipython",
    "version": 2
   },
   "file_extension": ".py",
   "mimetype": "text/x-python",
   "name": "python",
   "nbconvert_exporter": "python",
   "pygments_lexer": "ipython2",
   "version": "2.7.6"
  }
 },
 "nbformat": 4,
 "nbformat_minor": 0
}